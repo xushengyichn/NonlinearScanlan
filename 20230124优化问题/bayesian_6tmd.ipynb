{
 "cells": [
  {
   "cell_type": "code",
   "execution_count": null,
   "metadata": {},
   "outputs": [],
   "source": [
    "'''\n",
    "Author: xushengyichn 54436848+xushengyichn@users.noreply.github.com\n",
    "Date: 2023-01-24 14:28:48\n",
    "LastEditors: xushengyichn 54436848+xushengyichn@users.noreply.github.com\n",
    "LastEditTime: 2023-01-25 18:51:17\n",
    "FilePath: \\20230124优化问题\\bayesian.ipynb\n",
    "Description: 创建贝叶斯优化，尝试优化6个TMD的问题\n",
    "\n",
    "Copyright (c) 2023 by xushengyichn 54436848+xushengyichn@users.noreply.github.com, All Rights Reserved. \n",
    "'''\n"
   ]
  },
  {
   "cell_type": "code",
   "execution_count": 2,
   "metadata": {},
   "outputs": [],
   "source": [
    "#%% 1. 导入库\n",
    "import time\n",
    "import matlab\n",
    "import matlab.engine\n",
    "from bayes_opt import BayesianOptimization\n",
    "from bayes_opt import UtilityFunction\n",
    "import numpy as np\n",
    "import matplotlib.pyplot as plt\n",
    "from matplotlib import gridspec\n",
    "from sklearn.gaussian_process.kernels import Matern\n",
    "from sklearn.gaussian_process import GaussianProcessRegressor\n",
    "from sklearn.model_selection import cross_val_score,KFold,cross_validate\n",
    "from sklearn.linear_model import LogisticRegression\n",
    "\n",
    "from bayes_opt.logger import JSONLogger\n",
    "from bayes_opt.event import Events\n",
    "from bayes_opt.util import load_logs"
   ]
  },
  {
   "cell_type": "code",
   "execution_count": 3,
   "metadata": {},
   "outputs": [],
   "source": [
    "#%% 2. 定义函数\n",
    "def black_box_function(mTMD1,mTMD2,mTMD3,mTMD4,mTMD5,fTMD1,fTMD2,fTMD3,fTMD4,fTMD5,fTMD6,dTMD1,dTMD2,dTMD3,dTMD4,dTMD5,dTMD6,xTMD1,xTMD2,xTMD3,xTMD4,xTMD5,xTMD6):\n",
    "    eng = matlab.engine.start_matlab()\n",
    "    total_tmd_mass_ratio = 0.02 # 总质量比 The total mass ratio\n",
    "    mass_six_span = 10007779.7 # 深中通道非通航桥六跨连续梁质量 The mass of 6-span continuous beam of the non-navigational bridge of the Zhenzhong-Link\n",
    "    total_tmd_mass = total_tmd_mass_ratio * mass_six_span # 总质量 The total mass\n",
    "    single_tmd_mass=total_tmd_mass/6 # 单个TMD质量 The mass of a single TMD\n",
    "    mTMD1=0.5*single_tmd_mass+mTMD1*0.5*single_tmd_mass # 质量 The mass mTMD1\n",
    "    mTMD2=0.5*single_tmd_mass+mTMD2*0.5*single_tmd_mass # 质量 The mass mTMD2\n",
    "    mTMD3=0.5*single_tmd_mass+mTMD3*0.5*single_tmd_mass # 质量 The mass mTMD3\n",
    "    mTMD4=0.5*single_tmd_mass+mTMD4*0.5*single_tmd_mass # 质量 The mass mTMD4\n",
    "    mTMD5=0.5*single_tmd_mass+mTMD5*0.5*single_tmd_mass # 质量 The mass mTMD5\n",
    "    mTMD6= total_tmd_mass - mTMD1 - mTMD2 - mTMD3 - mTMD4 - mTMD5 # 质量 The mass mTMD6\n",
    "    \n",
    "    fTMD1=0.7+fTMD1*1.3 # 频率 The frequency fTMD1\n",
    "    fTMD2=0.7+fTMD2*1.3 # 频率 The frequency fTMD2\n",
    "    fTMD3=0.7+fTMD3*1.3 # 频率 The frequency fTMD3\n",
    "    fTMD4=0.7+fTMD4*1.3 # 频率 The frequency fTMD4\n",
    "    fTMD5=0.7+fTMD5*1.3 # 频率 The frequency fTMD5\n",
    "    fTMD6=0.7+fTMD6*1.3 # 频率 The frequency fTMD6\n",
    "    \n",
    "    dTMD1=0.05+dTMD1*0.15 # 阻尼比 The damping ratio dTMD1\n",
    "    dTMD2=0.05+dTMD2*0.15 # 阻尼比 The damping ratio dTMD2\n",
    "    dTMD3=0.05+dTMD3*0.15 # 阻尼比 The damping ratio dTMD3\n",
    "    dTMD4=0.05+dTMD4*0.15 # 阻尼比 The damping ratio dTMD4\n",
    "    dTMD5=0.05+dTMD5*0.15 # 阻尼比 The damping ratio dTMD5\n",
    "    dTMD6=0.05+dTMD6*0.15 # 阻尼比 The damping ratio dTMD6\n",
    "    \n",
    "    \n",
    "    xTMD1=xTMD1*660 # TMD1的x坐标 The x-coordinate of TMD1\n",
    "    xTMD2=xTMD2*660 # TMD2的x坐标 The x-coordinate of TMD2\n",
    "    xTMD3=xTMD3*660 # TMD3的x坐标 The x-coordinate of TMD3\n",
    "    xTMD4=xTMD4*660 # TMD4的x坐标 The x-coordinate of TMD4\n",
    "    xTMD5=xTMD5*660 # TMD5的x坐标 The x-coordinate of TMD5\n",
    "    xTMD6=xTMD6*660 # TMD6的x坐标 The x-coordinate of TMD6\n",
    "    \n",
    "    \n",
    "    t_length=matlab.double(100) # 时间长度 The time length\n",
    "    number_of_modes_to_control=matlab.double([1,2,3,4,5,6]) # 控制模态 The controlled modes\n",
    "    number_of_modes_to_consider=10 # 考虑模态 The considered modes\n",
    "    number_of_tmds=6 # TMD数量 The number of TMDs\n",
    "    modal_damping_ratios=np.ones((1,number_of_modes_to_consider))*0.003 # 模态阻尼比 The modal damping ratios\n",
    "    \n",
    "    result = -eng.b_0_6_tmd(number_of_modes_to_control,number_of_modes_to_consider,number_of_tmds,modal_damping_ratios,t_length,mTMD1,mTMD2,mTMD3,mTMD4,mTMD5,fTMD1,fTMD2,fTMD3,fTMD4,fTMD5,fTMD6,dTMD1,dTMD2,dTMD3,dTMD4,dTMD5,dTMD6,xTMD1,xTMD2,xTMD3,xTMD4,xTMD5,xTMD6,total_tmd_mass)\n",
    "    return result"
   ]
  },
  {
   "cell_type": "code",
   "execution_count": 4,
   "metadata": {},
   "outputs": [],
   "source": [
    "#%% 3. 定义优化器\n",
    "optimizer = BayesianOptimization(\n",
    "    f=black_box_function,\n",
    "    pbounds={\"mTMD1\": (0,1), \n",
    "             \"mTMD2\": (0,1),\n",
    "             \"mTMD3\": (0,1),\n",
    "             \"mTMD4\": (0,1),\n",
    "             \"mTMD5\": (0,1),\n",
    "             \"fTMD1\": (0,1),\n",
    "             \"fTMD2\": (0,1),\n",
    "             \"fTMD3\": (0,1),\n",
    "             \"fTMD4\": (0,1),\n",
    "             \"fTMD5\": (0,1),\n",
    "             \"fTMD6\": (0,1),\n",
    "             \"dTMD1\": (0,1),\n",
    "             \"dTMD2\": (0,1),\n",
    "             \"dTMD3\": (0,1),\n",
    "             \"dTMD4\": (0,1),\n",
    "             \"dTMD5\": (0,1),\n",
    "             \"dTMD6\": (0,1),\n",
    "             \"xTMD1\": (0,1),\n",
    "             \"xTMD2\": (0,1),\n",
    "             \"xTMD3\": (0,1),\n",
    "             \"xTMD4\": (0,1),\n",
    "             \"xTMD5\": (0,1),\n",
    "             \"xTMD6\": (0,1),\n",
    "             },\n",
    "    verbose=2,  # verbose = 1 prints only when a maximum is observed, verbose = 0 is silent\n",
    "    random_state=1,\n",
    ")\n",
    "\n",
    "logger = JSONLogger(path=\"./logs.json\")\n",
    "optimizer.subscribe(Events.OPTIMIZATION_STEP, logger)\n",
    "\n",
    "optimizer.probe(\n",
    "    params={ \"mTMD1\": 1, \n",
    "             \"mTMD2\": 1,\n",
    "             \"mTMD3\": 1,\n",
    "             \"mTMD4\": 1,\n",
    "             \"mTMD5\": 1,\n",
    "             \"fTMD1\": 0.1,\n",
    "             \"fTMD2\": 0.153846,\n",
    "             \"fTMD3\": 0.276923,\n",
    "             \"fTMD4\": 0.446153,\n",
    "             \"fTMD5\": 0.623077,\n",
    "             \"fTMD6\": 0.769231,\n",
    "             \"dTMD1\": 0.2,\n",
    "             \"dTMD2\": 0.2,\n",
    "             \"dTMD3\": 0.2,\n",
    "             \"dTMD4\": 0.2,\n",
    "             \"dTMD5\": 0.2,\n",
    "             \"dTMD6\": 0.2,\n",
    "             \"xTMD1\": 0.4181818,\n",
    "             \"xTMD2\": 0.9181818,\n",
    "             \"xTMD3\": 0.9212121,\n",
    "             \"xTMD4\": 0.5969697,\n",
    "             \"xTMD5\": 0.2515152,\n",
    "             \"xTMD6\": 0.5848485,},\n",
    "    lazy=True,\n",
    ")\n",
    "\n"
   ]
  },
  {
   "cell_type": "code",
   "execution_count": 5,
   "metadata": {},
   "outputs": [],
   "source": [
    "optimizer.maximize(init_points=0, n_iter=0)\n"
   ]
  },
  {
   "cell_type": "code",
   "execution_count": 6,
   "metadata": {},
   "outputs": [],
   "source": [
    "optimizer.maximize(\n",
    "        init_points=0,\n",
    "        n_iter=500,\n",
    "        acq=\"ei\",  # Expected Improvement.\n",
    "        # kappa=7.2088954429132, #used for UCB\n",
    "        xi=0.00044469535894125985,\n",
    "        # What follows are GP regressor parameters\n",
    "        kernel=Matern(nu=0.5),\n",
    "        alpha=1.9218871281324735e-08,\n",
    "        normalize_y=True,\n",
    "        n_restarts_optimizer=5,\n",
    ")"
   ]
  },
  {
   "cell_type": "code",
   "execution_count": 7,
   "metadata": {},
   "outputs": [
    {
     "name": "stdout",
     "output_type": "stream",
     "text": [
      "{'target': -0.2432825494279443, 'params': {'dTMD1': 0.2, 'dTMD2': 0.2, 'dTMD3': 0.2, 'dTMD4': 0.2, 'dTMD5': 0.2, 'dTMD6': 0.2, 'fTMD1': 0.1, 'fTMD2': 0.153846, 'fTMD3': 0.276923, 'fTMD4': 0.446153, 'fTMD5': 0.623077, 'fTMD6': 0.769231, 'mTMD1': 1.0, 'mTMD2': 1.0, 'mTMD3': 1.0, 'mTMD4': 1.0, 'mTMD5': 1.0, 'xTMD1': 0.4181818, 'xTMD2': 0.9181818, 'xTMD3': 0.9212121, 'xTMD4': 0.5969697, 'xTMD5': 0.2515152, 'xTMD6': 0.5848485}}\n"
     ]
    }
   ],
   "source": [
    "optimizer.max['target']\n",
    "print(optimizer.max)"
   ]
  },
  {
   "cell_type": "code",
   "execution_count": null,
   "metadata": {},
   "outputs": [],
   "source": [
    "new_optimizer = BayesianOptimization(\n",
    "    f=black_box_function,\n",
    "    pbounds={\"mTMD1\": (0,1), \n",
    "             \"mTMD2\": (0,1),\n",
    "             \"mTMD3\": (0,1),\n",
    "             \"mTMD4\": (0,1),\n",
    "             \"mTMD5\": (0,1),\n",
    "             \"fTMD1\": (0,1),\n",
    "             \"fTMD2\": (0,1),\n",
    "             \"fTMD3\": (0,1),\n",
    "             \"fTMD4\": (0,1),\n",
    "             \"fTMD5\": (0,1),\n",
    "             \"fTMD6\": (0,1),\n",
    "             \"dTMD1\": (0,1),\n",
    "             \"dTMD2\": (0,1),\n",
    "             \"dTMD3\": (0,1),\n",
    "             \"dTMD4\": (0,1),\n",
    "             \"dTMD5\": (0,1),\n",
    "             \"dTMD6\": (0,1),\n",
    "             \"xTMD1\": (0,1),\n",
    "             \"xTMD2\": (0,1),\n",
    "             \"xTMD3\": (0,1),\n",
    "             \"xTMD4\": (0,1),\n",
    "             \"xTMD5\": (0,1),\n",
    "             \"xTMD6\": (0,1),\n",
    "             },\n",
    "    verbose=2,  # verbose = 1 prints only when a maximum is observed, verbose = 0 is silent\n",
    "    random_state=1,\n",
    ")"
   ]
  },
  {
   "cell_type": "code",
   "execution_count": null,
   "metadata": {},
   "outputs": [],
   "source": [
    "load_logs(new_optimizer, logs=[\"./logs.json\"]);"
   ]
  },
  {
   "cell_type": "code",
   "execution_count": null,
   "metadata": {},
   "outputs": [],
   "source": [
    "new_optimizer.max['target']\n",
    "print(new_optimizer.max)"
   ]
  },
  {
   "cell_type": "code",
   "execution_count": null,
   "metadata": {},
   "outputs": [],
   "source": [
    "# optimizer.probe(\n",
    "#     params={ \"mTMD1\": 1, \n",
    "#              \"mTMD2\": 1,\n",
    "#              \"mTMD3\": 1,\n",
    "#              \"mTMD4\": 1,\n",
    "#              \"mTMD5\": 1,\n",
    "#              \"fTMD1\": 0.1,\n",
    "#              \"fTMD2\": 0.153846,\n",
    "#              \"fTMD3\": 0.276923,\n",
    "#              \"fTMD4\": 0.446153,\n",
    "#              \"fTMD5\": 0.623077,\n",
    "#              \"fTMD6\": 0.769231,\n",
    "#              \"dTMD1\": 0.2,\n",
    "#              \"dTMD2\": 0.2,\n",
    "#              \"dTMD3\": 0.2,\n",
    "#              \"dTMD4\": 0.2,\n",
    "#              \"dTMD5\": 0.2,\n",
    "#              \"dTMD6\": 0.2,\n",
    "#              \"xTMD1\": 0.4181818,\n",
    "#              \"xTMD2\": 0.9181818,\n",
    "#              \"xTMD3\": 0.9212121,\n",
    "#              \"xTMD4\": 0.5969697,\n",
    "#              \"xTMD5\": 0.2515152,\n",
    "#              \"xTMD6\": 0.5848485,},\n",
    "#     lazy=True,\n",
    "# )"
   ]
  },
  {
   "cell_type": "code",
   "execution_count": null,
   "metadata": {},
   "outputs": [],
   "source": [
    "# optimizer.maximize(init_points=0, n_iter=0)"
   ]
  },
  {
   "cell_type": "code",
   "execution_count": null,
   "metadata": {},
   "outputs": [],
   "source": [
    "# optimizer.maximize(\n",
    "#         init_points=0,\n",
    "#         n_iter=100,\n",
    "#         acq=\"ei\",  # Expected Improvement.\n",
    "#         # kappa=7.2088954429132,\n",
    "#         xi=0.0012265019946638392,\n",
    "#         # What follows are GP regressor parameters\n",
    "#         kernel=Matern(nu=1.5),\n",
    "#         # alpha=1,\n",
    "#         # alpha=2.2492215663634233e-10,\n",
    "#         alpha=8.960456511761172e-06,\n",
    "#         normalize_y=True,\n",
    "#         n_restarts_optimizer=5,\n",
    "# )"
   ]
  },
  {
   "cell_type": "code",
   "execution_count": null,
   "metadata": {},
   "outputs": [],
   "source": [
    "# optimizer.max['target']\n",
    "# print(optimizer.max)"
   ]
  },
  {
   "cell_type": "code",
   "execution_count": null,
   "metadata": {},
   "outputs": [],
   "source": [
    "# optimizer.maximize(\n",
    "#         init_points=0,\n",
    "#         n_iter=500,\n",
    "#         acq=\"ei\",  # Expected Improvement.\n",
    "#         # kappa=7.2088954429132,\n",
    "#         xi=0.0012265019946638392,\n",
    "#         # What follows are GP regressor parameters\n",
    "#         kernel=Matern(nu=1.5),\n",
    "#         # alpha=1,\n",
    "#         # alpha=2.2492215663634233e-10,\n",
    "#         alpha=8.960456511761172e-06,\n",
    "#         normalize_y=True,\n",
    "#         n_restarts_optimizer=5,\n",
    "# )"
   ]
  }
 ],
 "metadata": {
  "kernelspec": {
   "display_name": "base",
   "language": "python",
   "name": "python3"
  },
  "language_info": {
   "codemirror_mode": {
    "name": "ipython",
    "version": 3
   },
   "file_extension": ".py",
   "mimetype": "text/x-python",
   "name": "python",
   "nbconvert_exporter": "python",
   "pygments_lexer": "ipython3",
   "version": "3.9.13"
  },
  "orig_nbformat": 4,
  "vscode": {
   "interpreter": {
    "hash": "34cd7c78411e28399e4de8eeefd5f70c22472795dece7d63a5362eac4c8c7767"
   }
  }
 },
 "nbformat": 4,
 "nbformat_minor": 2
}
