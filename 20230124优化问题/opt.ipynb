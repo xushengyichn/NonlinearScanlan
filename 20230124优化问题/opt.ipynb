{
 "cells": [
  {
   "cell_type": "code",
   "execution_count": 23,
   "metadata": {},
   "outputs": [
    {
     "data": {
      "text/plain": [
       "'\\nAuthor: xushengyichn 54436848+xushengyichn@users.noreply.github.com\\nDate: 2023-01-24 14:28:48\\nLastEditors: xushengyichn 54436848+xushengyichn@users.noreply.github.com\\nLastEditTime: 2023-01-25 18:51:17\\nFilePath: \\x8230124优化问题\\x08ayesian.ipynb\\nDescription: 创建贝叶斯优化\\n\\nCopyright (c) 2023 by xushengyichn 54436848+xushengyichn@users.noreply.github.com, All Rights Reserved. \\n'"
      ]
     },
     "execution_count": 23,
     "metadata": {},
     "output_type": "execute_result"
    }
   ],
   "source": [
    "'''\n",
    "Author: xushengyichn 54436848+xushengyichn@users.noreply.github.com\n",
    "Date: 2023-01-24 14:28:48\n",
    "LastEditors: xushengyichn 54436848+xushengyichn@users.noreply.github.com\n",
    "LastEditTime: 2023-01-25 18:51:17\n",
    "FilePath: \\20230124优化问题\\bayesian.ipynb\n",
    "Description: 创建optuna优化\n",
    "\n",
    "Copyright (c) 2023 by xushengyichn 54436848+xushengyichn@users.noreply.github.com, All Rights Reserved. \n",
    "'''\n"
   ]
  },
  {
   "cell_type": "code",
   "execution_count": 2,
   "metadata": {},
   "outputs": [],
   "source": [
    "#%% 1. 导入库\n",
    "import logging\n",
    "import sys\n",
    "import time\n",
    "import matlab\n",
    "import matlab.engine\n",
    "from bayes_opt import BayesianOptimization\n",
    "from bayes_opt import UtilityFunction\n",
    "import numpy as np\n",
    "import matplotlib.pyplot as plt\n",
    "from matplotlib import gridspec\n",
    "from sklearn.gaussian_process.kernels import Matern\n",
    "from sklearn.gaussian_process import GaussianProcessRegressor\n",
    "from sklearn.model_selection import cross_val_score,KFold,cross_validate\n",
    "from sklearn.metrics import r2_score\n",
    "from sklearn.linear_model import LogisticRegression\n",
    "import optuna\n",
    "\n",
    "# You can use Matplotlib instead of Plotly for visualization by simply replacing `optuna.visualization` with\n",
    "# `optuna.visualization.matplotlib` in the following examples.\n",
    "from optuna.visualization import plot_contour\n",
    "from optuna.visualization import plot_edf\n",
    "from optuna.visualization import plot_intermediate_values\n",
    "from optuna.visualization import plot_optimization_history\n",
    "from optuna.visualization import plot_parallel_coordinate\n",
    "from optuna.visualization import plot_param_importances\n",
    "from optuna.visualization import plot_slice\n",
    "import scipy.io"
   ]
  },
  {
   "cell_type": "code",
   "execution_count": 25,
   "metadata": {},
   "outputs": [],
   "source": [
    "def objective(mu,xi,alpha,init_points,n_iter):\n",
    "    eng = matlab.engine.start_matlab()\n",
    "    def black_box_function(mTMD1,mTMD2,fTMD1,fTMD2,fTMD3,dTMD1,dTMD2,dTMD3,xTMD1,xTMD2,xTMD3):\n",
    "        total_tmd_mass_ratio = 0.02 # 总质量比 The total mass ratio\n",
    "        mass_six_span = 10007779.7 # 深中通道非通航桥六跨连续梁质量 The mass of 6-span continuous beam of the non-navigational bridge of the Zhenzhong-Link\n",
    "        total_tmd_mass = total_tmd_mass_ratio * mass_six_span # 总质量 The total mass\n",
    "        \n",
    "        mTMD1=0.01*total_tmd_mass+mTMD1*total_tmd_mass*0.49 # 质量 The mass mTMD1\n",
    "        mTMD2=0.01*total_tmd_mass+mTMD2*total_tmd_mass*0.49 # 质量 The mass mTMD2\n",
    "        mTMD3=total_tmd_mass-mTMD1-mTMD2 # 质量 The mass mTMD3\n",
    "        fTMD1=0.7+fTMD1*1.1 # 频率 The frequency fTMD1\n",
    "        fTMD2=0.7+fTMD2*1.1 # 频率 The frequency fTMD2\n",
    "        fTMD3=0.7+fTMD3*1.1 # 频率 The frequency fTMD3\n",
    "        dTMD1=0.05+dTMD1*0.15 # 阻尼比 The damping ratio dTMD1\n",
    "        dTMD2=0.05+dTMD2*0.15 # 阻尼比 The damping ratio dTMD2\n",
    "        dTMD3=0.05+dTMD3*0.15 # 阻尼比 The damping ratio dTMD3\n",
    "        xTMD1=xTMD1*660 # TMD1的x坐标 The x-coordinate of TMD1\n",
    "        xTMD2=xTMD2*660 # TMD2的x坐标 The x-coordinate of TMD2\n",
    "        xTMD3=xTMD3*660 # TMD3的x坐标 The x-coordinate of TMD3\n",
    "        t_length=matlab.double(100) # 时间长度 The time length\n",
    "        number_of_modes_to_control=matlab.double([1,2,3,4,5,6]) # 控制模态 The controlled modes\n",
    "        number_of_modes_to_consider=10 # 考虑模态 The considered modes\n",
    "        number_of_tmds=3 # TMD数量 The number of TMDs\n",
    "        modal_damping_ratios=np.ones((1,number_of_modes_to_consider))*0.003 # 模态阻尼比 The modal damping ratios\n",
    "        \n",
    "        result = -eng.b_0_3_tmd(number_of_modes_to_control,number_of_modes_to_consider,number_of_tmds,modal_damping_ratios,t_length,mTMD1,mTMD2,fTMD1,fTMD2,fTMD3,dTMD1,dTMD2,dTMD3,xTMD1,xTMD2,xTMD3,total_tmd_mass)\n",
    "        return result\n",
    "    #%% 3. 定义优化器\n",
    "    optimizer = BayesianOptimization(\n",
    "        f=black_box_function,\n",
    "        pbounds={\"mTMD1\": (0,1), \n",
    "                \"mTMD2\": (0,1),\n",
    "                \"fTMD1\": (0,1),\n",
    "                \"fTMD2\": (0,1),\n",
    "                \"fTMD3\": (0,1),\n",
    "                \"dTMD1\": (0,1),\n",
    "                \"dTMD2\": (0,1),\n",
    "                \"dTMD3\": (0,1),\n",
    "                \"xTMD1\": (0,1),\n",
    "                \"xTMD2\": (0,1),\n",
    "                \"xTMD3\": (0,1),\n",
    "                },\n",
    "        verbose=2,  # verbose = 1 prints only when a maximum is observed, verbose = 0 is silent\n",
    "        random_state=1,\n",
    "    )\n",
    "\n",
    "    optimizer.maximize(\n",
    "        init_points=init_points,\n",
    "        n_iter=n_iter,\n",
    "        acq=\"ei\",  # Expected Improvement.\n",
    "        # kappa=7.2088954429132,\n",
    "        xi=xi,\n",
    "        # What follows are GP regressor parameters\n",
    "        kernel=Matern(nu=mu),\n",
    "        # alpha=1,\n",
    "        # alpha=2.2492215663634233e-10,\n",
    "        alpha=alpha,\n",
    "        normalize_y=True,\n",
    "        n_restarts_optimizer=5,\n",
    "    )\n",
    "    \n",
    "    loss=optimizer.max['target']\n",
    "    return loss\n",
    "\n",
    "    \n",
    "    \n",
    "    "
   ]
  },
  {
   "cell_type": "code",
   "execution_count": 1,
   "metadata": {},
   "outputs": [
    {
     "ename": "SyntaxError",
     "evalue": "invalid syntax (1839283090.py, line 18)",
     "output_type": "error",
     "traceback": [
      "\u001b[1;36m  File \u001b[1;32m\"C:\\Users\\xushe\\AppData\\Local\\Temp\\ipykernel_20812\\1839283090.py\"\u001b[1;36m, line \u001b[1;32m18\u001b[0m\n\u001b[1;33m    mu=\u001b[0m\n\u001b[1;37m       ^\u001b[0m\n\u001b[1;31mSyntaxError\u001b[0m\u001b[1;31m:\u001b[0m invalid syntax\n"
     ]
    }
   ],
   "source": [
    "#%% 2. 调用函数\n",
    "\n",
    "def obj(trial):\n",
    "    mu_ = trial.suggest_float('mu_', 0.0,3.0,step=1.0)\n",
    "    kappa = trial.suggest_float('xi', 1e-4, 1e-1,log=True)\n",
    "    alpha = trial.suggest_float('alpha', 1e-10, 1e-2,log=True)\n",
    "    init_points = 10\n",
    "    # init_points = trial.suggest_int('init_points', 10, 100)\n",
    "    n_iter = 1000\n",
    "    # n_iter = trial.suggest_int('n_iter', 10, 100)\n",
    "    if mu_==0:\n",
    "        mu=0.5\n",
    "    elif mu_==1:\n",
    "        mu=1.5\n",
    "    elif mu_==2:\n",
    "        mu=2.5\n",
    "    else:\n",
    "        mu=\"inf\"\n",
    "    loss = objective(mu,kappa,alpha,init_points,n_iter)\n",
    "    return loss\n",
    "\n",
    "\n",
    "optuna.logging.get_logger(\"optuna\").addHandler(logging.StreamHandler(sys.stdout))\n",
    "study_name = \"example-study\"  # Unique identifier of the study.\n",
    "storage_name = \"sqlite:///{}.db\".format(study_name)\n",
    "study = optuna.create_study(direction='maximize',study_name=study_name, storage=storage_name, load_if_exists=True)\n",
    "study.optimize(obj, n_trials=50)\n",
    "\n",
    "print(study.best_params)\n",
    "print(study.best_value)"
   ]
  },
  {
   "cell_type": "code",
   "execution_count": 10,
   "metadata": {},
   "outputs": [
    {
     "name": "stderr",
     "output_type": "stream",
     "text": [
      "\u001b[32m[I 2023-01-29 20:14:55,907]\u001b[0m Using an existing study with name 'example-study' instead of creating a new one.\u001b[0m\n"
     ]
    },
    {
     "name": "stdout",
     "output_type": "stream",
     "text": [
      "Using an existing study with name 'example-study' instead of creating a new one.\n",
      "Using an existing study with name 'example-study' instead of creating a new one.\n",
      "Using an existing study with name 'example-study' instead of creating a new one.\n",
      "Using an existing study with name 'example-study' instead of creating a new one.\n",
      "Using an existing study with name 'example-study' instead of creating a new one.\n",
      "Using an existing study with name 'example-study' instead of creating a new one.\n",
      "Using an existing study with name 'example-study' instead of creating a new one.\n",
      "Using an existing study with name 'example-study' instead of creating a new one.\n",
      "{'alpha': 3.111215877756275e-10, 'mu_': 3.0, 'xi': 0.0007436057646322665}\n",
      "-1.2407799510741289\n",
      "[<StudyDirection.MAXIMIZE: 2>]\n"
     ]
    }
   ],
   "source": [
    "optuna.logging.get_logger(\"optuna\").addHandler(logging.StreamHandler(sys.stdout))\n",
    "study_name = \"example-study\"  # Unique identifier of the study.\n",
    "storage_name = \"sqlite:///{}.db\".format(study_name)\n",
    "study = optuna.create_study(direction='maximize',study_name=study_name, storage=storage_name, load_if_exists=True)\n",
    "print(study.best_params)\n",
    "print(study.best_value)\n",
    "# print(study.trials)\n",
    "\n",
    "print(study.directions)\n"
   ]
  }
 ],
 "metadata": {
  "kernelspec": {
   "display_name": "Python 3.9.13 ('base')",
   "language": "python",
   "name": "python3"
  },
  "language_info": {
   "codemirror_mode": {
    "name": "ipython",
    "version": 3
   },
   "file_extension": ".py",
   "mimetype": "text/x-python",
   "name": "python",
   "nbconvert_exporter": "python",
   "pygments_lexer": "ipython3",
   "version": "3.9.13 (main, Aug 25 2022, 23:51:50) [MSC v.1916 64 bit (AMD64)]"
  },
  "orig_nbformat": 4,
  "vscode": {
   "interpreter": {
    "hash": "34cd7c78411e28399e4de8eeefd5f70c22472795dece7d63a5362eac4c8c7767"
   }
  }
 },
 "nbformat": 4,
 "nbformat_minor": 2
}
