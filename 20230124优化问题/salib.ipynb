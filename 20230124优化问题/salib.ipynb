{
 "cells": [
  {
   "cell_type": "code",
   "execution_count": 1,
   "metadata": {},
   "outputs": [
    {
     "name": "stderr",
     "output_type": "stream",
     "text": [
      "C:\\Users\\xushe\\AppData\\Local\\Temp\\ipykernel_13052\\3943916477.py:23: DeprecationWarning: `salib.sample.saltelli` will be removed in SALib 1.5. Please use `salib.sample.sobol`\n",
      "  param_values = saltelli.sample(problem, 1024)\n"
     ]
    }
   ],
   "source": [
    "from SALib.sample import saltelli\n",
    "from SALib.analyze import sobol\n",
    "from SALib.test_functions import Ishigami\n",
    "import numpy as np\n",
    "import matlab\n",
    "import matlab.engine\n",
    "\n",
    "from multiprocessing import Pool\n",
    "\n",
    "\n",
    "mass_six_span = 10007779.7; #% 深中通道非通航桥六跨连续梁质量 The mass of 6-span continuous beam of the non-navigational bridge of the Zhenzhong-Link\n",
    "\n",
    "\n",
    "problem = {\n",
    "    'num_vars': 4,\n",
    "    'names': ['TMD_mass', 'TMD_frequency', 'TMD_damping_ratio','TMD_location'],\n",
    "    'bounds': [[0.005*mass_six_span, 0.04*mass_six_span],\n",
    "               [0.7, 1.0],\n",
    "               [0.01, 0.2],\n",
    "               [0, 660]]\n",
    "}\n",
    "\n",
    "param_values = saltelli.sample(problem, 1024)\n",
    "\n",
    "param_values.shape\n",
    "\n",
    "\n",
    "np.savetxt(\"param_values.txt\", param_values)\n",
    "\n",
    "# Y = Ishigami.evaluate(param_values)\n",
    "\n",
    "# Si = sobol.analyze(problem, Y)\n",
    "\n",
    "# print(Si['S1'])\n",
    "# print(Si['ST'])\n",
    "\n",
    "# print(\"x1-x2:\", Si['S2'][0,1])\n",
    "# print(\"x1-x3:\", Si['S2'][0,2])\n",
    "# print(\"x2-x3:\", Si['S2'][1,2])\n",
    "\n",
    "# Si.plot()\n",
    "\n"
   ]
  },
  {
   "cell_type": "code",
   "execution_count": 2,
   "metadata": {},
   "outputs": [],
   "source": [
    "#%% 2. 定义函数\n",
    "eng = matlab.engine.start_matlab()"
   ]
  },
  {
   "cell_type": "code",
   "execution_count": 3,
   "metadata": {},
   "outputs": [
    {
     "name": "stdout",
     "output_type": "stream",
     "text": [
      "245185.71603881835\n",
      "0.8129394531249999\n",
      "0.09507324218749999\n",
      "321.298828125\n"
     ]
    }
   ],
   "source": [
    "mTMD = param_values[1,0]\n",
    "fTMD = param_values[1,1]\n",
    "TMD_damping_ratio = param_values[1,2]\n",
    "pTMD = param_values[1,3]\n",
    "\n",
    "print(mTMD)\n",
    "print(fTMD)\n",
    "print(TMD_damping_ratio)\n",
    "print(pTMD)"
   ]
  },
  {
   "cell_type": "code",
   "execution_count": 4,
   "metadata": {},
   "outputs": [],
   "source": [
    "# Y = np.zeros(10240)\n",
    "\n",
    "# # for i in range(10240):\n",
    "# #     mTMD = param_values[i,0]\n",
    "# #     fTMD = param_values[i,1]\n",
    "# #     TMD_damping_ratio = param_values[i,2]\n",
    "# #     pTMD = param_values[i,3]\n",
    "# #     test=eng.a_0_main(matlab.double([1,2,3,4,5,6]),10,1,matlab.double([0.003,0.003,0.003,0.003,0.003,0.003,0.003,0.003,0.003,0.003]),100,mTMD,fTMD,TMD_damping_ratio,pTMD)\n",
    "# #     Y[i]=test[\"dis_all_modes_sum\"]\n",
    "\n",
    "# def func(i):\n",
    "#     mTMD = param_values[i,0]\n",
    "#     fTMD = param_values[i,1]\n",
    "#     TMD_damping_ratio = param_values[i,2]\n",
    "#     pTMD = param_values[i,3]\n",
    "#     test=eng.a_0_main(matlab.double([1,2,3,4,5,6]),10,1,matlab.double([0.003,0.003,0.003,0.003,0.003,0.003,0.003,0.003,0.003,0.003]),100,mTMD,fTMD,TMD_damping_ratio,pTMD)\n",
    "#     return test\n",
    "\n",
    "# def my_parallel(func, args, n_jobs=4):\n",
    "#     pool = Pool(n_jobs)\n",
    "#     res = pool.map(func, args).get()\n",
    "#     pool.close()\n",
    "#     pool.join()\n",
    "#     return res\n",
    "\n",
    "# res=my_parallel(func, range(4))"
   ]
  },
  {
   "cell_type": "code",
   "execution_count": null,
   "metadata": {},
   "outputs": [
    {
     "name": "stdout",
     "output_type": "stream",
     "text": [
      "[0.00019541 0.00019541 0.00019541 0.00019541]\n",
      "[1.00048852 1.00048852 1.00048852 1.00048852]\n"
     ]
    }
   ],
   "source": [
    "# Si = sobol.analyze(problem, Y)\n",
    "\n",
    "# print(Si['S1'])\n",
    "# print(Si['ST'])"
   ]
  }
 ],
 "metadata": {
  "kernelspec": {
   "display_name": "base",
   "language": "python",
   "name": "python3"
  },
  "language_info": {
   "codemirror_mode": {
    "name": "ipython",
    "version": 3
   },
   "file_extension": ".py",
   "mimetype": "text/x-python",
   "name": "python",
   "nbconvert_exporter": "python",
   "pygments_lexer": "ipython3",
   "version": "3.9.13 (main, Aug 25 2022, 23:51:50) [MSC v.1916 64 bit (AMD64)]"
  },
  "orig_nbformat": 4,
  "vscode": {
   "interpreter": {
    "hash": "34cd7c78411e28399e4de8eeefd5f70c22472795dece7d63a5362eac4c8c7767"
   }
  }
 },
 "nbformat": 4,
 "nbformat_minor": 2
}
