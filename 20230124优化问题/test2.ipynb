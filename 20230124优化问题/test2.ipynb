{
 "cells": [
  {
   "cell_type": "code",
   "execution_count": 1,
   "metadata": {},
   "outputs": [
    {
     "name": "stderr",
     "output_type": "stream",
     "text": [
      "[INFO 11-06 16:04:36] ax.service.utils.instantiation: Inferred value type of ParameterType.FLOAT for parameter x1. If that is not the expected value type, you can explicity specify 'value_type' ('int', 'float', 'bool' or 'str') in parameter dict.\n",
      "[INFO 11-06 16:04:36] ax.service.utils.instantiation: Inferred value type of ParameterType.FLOAT for parameter x2. If that is not the expected value type, you can explicity specify 'value_type' ('int', 'float', 'bool' or 'str') in parameter dict.\n",
      "[INFO 11-06 16:04:36] ax.service.utils.instantiation: Created search space: SearchSpace(parameters=[RangeParameter(name='x1', parameter_type=FLOAT, range=[-10.0, 10.0]), RangeParameter(name='x2', parameter_type=FLOAT, range=[-10.0, 10.0])], parameter_constraints=[]).\n",
      "[INFO 11-06 16:04:36] ax.modelbridge.dispatch_utils: Using Bayesian optimization since there are more ordered parameters than there are categories for the unordered categorical parameters.\n",
      "[INFO 11-06 16:04:36] ax.modelbridge.dispatch_utils: Using Bayesian Optimization generation strategy: GenerationStrategy(name='Sobol+GPEI', steps=[Sobol for 5 trials, GPEI for subsequent trials]). Iterations after 5 will take longer to generate due to  model-fitting.\n",
      "[INFO 11-06 16:04:36] ax.service.managed_loop: Started full optimization with 20 steps.\n",
      "[INFO 11-06 16:04:36] ax.service.managed_loop: Running optimization trial 1...\n",
      "[INFO 11-06 16:04:36] ax.service.managed_loop: Running optimization trial 2...\n",
      "[INFO 11-06 16:04:36] ax.service.managed_loop: Running optimization trial 3...\n",
      "[INFO 11-06 16:04:36] ax.service.managed_loop: Running optimization trial 4...\n",
      "[INFO 11-06 16:04:36] ax.service.managed_loop: Running optimization trial 5...\n",
      "[INFO 11-06 16:04:36] ax.service.managed_loop: Running optimization trial 6...\n",
      "[INFO 11-06 16:04:37] ax.service.managed_loop: Running optimization trial 7...\n",
      "[INFO 11-06 16:04:37] ax.service.managed_loop: Running optimization trial 8...\n",
      "[INFO 11-06 16:04:38] ax.service.managed_loop: Running optimization trial 9...\n",
      "[INFO 11-06 16:04:38] ax.service.managed_loop: Running optimization trial 10...\n",
      "[INFO 11-06 16:04:39] ax.service.managed_loop: Running optimization trial 11...\n",
      "[INFO 11-06 16:04:40] ax.service.managed_loop: Running optimization trial 12...\n",
      "[INFO 11-06 16:04:40] ax.service.managed_loop: Running optimization trial 13...\n",
      "[INFO 11-06 16:04:41] ax.service.managed_loop: Running optimization trial 14...\n",
      "[INFO 11-06 16:04:42] ax.service.managed_loop: Running optimization trial 15...\n",
      "[INFO 11-06 16:04:43] ax.service.managed_loop: Running optimization trial 16...\n",
      "[INFO 11-06 16:04:44] ax.service.managed_loop: Running optimization trial 17...\n",
      "[INFO 11-06 16:04:45] ax.service.managed_loop: Running optimization trial 18...\n",
      "[INFO 11-06 16:04:46] ax.service.managed_loop: Running optimization trial 19...\n",
      "[INFO 11-06 16:04:47] ax.service.managed_loop: Running optimization trial 20...\n"
     ]
    },
    {
     "data": {
      "text/plain": [
       "{'x1': 0.9983583049016982, 'x2': 2.90792025460404}"
      ]
     },
     "execution_count": 1,
     "metadata": {},
     "output_type": "execute_result"
    }
   ],
   "source": [
    "from ax import optimize\n",
    "\n",
    "best_parameters, best_values, experiment, model = optimize(\n",
    "        parameters=[\n",
    "          {\n",
    "            \"name\": \"x1\",\n",
    "            \"type\": \"range\",\n",
    "            \"bounds\": [-10.0, 10.0],\n",
    "          },\n",
    "          {\n",
    "            \"name\": \"x2\",\n",
    "            \"type\": \"range\",\n",
    "            \"bounds\": [-10.0, 10.0],\n",
    "          },\n",
    "        ],\n",
    "        # Booth function\n",
    "        evaluation_function=lambda p: (p[\"x1\"] + 2*p[\"x2\"] - 7)**2 + (2*p[\"x1\"] + p[\"x2\"] - 5)**2,\n",
    "        minimize=True,\n",
    "    )\n",
    "\n",
    "best_parameters"
   ]
  }
 ],
 "metadata": {
  "kernelspec": {
   "display_name": "Python 3.9.13 ('base')",
   "language": "python",
   "name": "python3"
  },
  "language_info": {
   "codemirror_mode": {
    "name": "ipython",
    "version": 3
   },
   "file_extension": ".py",
   "mimetype": "text/x-python",
   "name": "python",
   "nbconvert_exporter": "python",
   "pygments_lexer": "ipython3",
   "version": "3.9.13"
  },
  "orig_nbformat": 4,
  "vscode": {
   "interpreter": {
    "hash": "34cd7c78411e28399e4de8eeefd5f70c22472795dece7d63a5362eac4c8c7767"
   }
  }
 },
 "nbformat": 4,
 "nbformat_minor": 2
}
