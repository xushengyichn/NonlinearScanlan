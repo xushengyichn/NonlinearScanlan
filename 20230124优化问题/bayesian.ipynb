{
 "cells": [
  {
   "cell_type": "code",
   "execution_count": 23,
   "metadata": {},
   "outputs": [
    {
     "data": {
      "text/plain": [
       "'\\nAuthor: xushengyichn 54436848+xushengyichn@users.noreply.github.com\\nDate: 2023-01-24 14:28:48\\nLastEditors: xushengyichn 54436848+xushengyichn@users.noreply.github.com\\nLastEditTime: 2023-01-25 18:51:17\\nFilePath: \\x8230124优化问题\\x08ayesian.ipynb\\nDescription: 创建贝叶斯优化\\n\\nCopyright (c) 2023 by xushengyichn 54436848+xushengyichn@users.noreply.github.com, All Rights Reserved. \\n'"
      ]
     },
     "execution_count": 23,
     "metadata": {},
     "output_type": "execute_result"
    }
   ],
   "source": [
    "'''\n",
    "Author: xushengyichn 54436848+xushengyichn@users.noreply.github.com\n",
    "Date: 2023-01-24 14:28:48\n",
    "LastEditors: xushengyichn 54436848+xushengyichn@users.noreply.github.com\n",
    "LastEditTime: 2023-01-25 18:51:17\n",
    "FilePath: \\20230124优化问题\\bayesian.ipynb\n",
    "Description: 创建贝叶斯优化\n",
    "\n",
    "Copyright (c) 2023 by xushengyichn 54436848+xushengyichn@users.noreply.github.com, All Rights Reserved. \n",
    "'''\n"
   ]
  },
  {
   "cell_type": "code",
   "execution_count": 24,
   "metadata": {},
   "outputs": [],
   "source": [
    "#%% 1. 导入库\n",
    "import time\n",
    "import matlab\n",
    "import matlab.engine\n",
    "from bayes_opt import BayesianOptimization\n",
    "from bayes_opt import UtilityFunction\n",
    "import numpy as np\n",
    "import matplotlib.pyplot as plt\n",
    "from matplotlib import gridspec\n",
    "from sklearn.gaussian_process.kernels import Matern\n",
    "from sklearn.gaussian_process import GaussianProcessRegressor\n",
    "from sklearn.model_selection import cross_val_score,KFold,cross_validate\n",
    "from sklearn.linear_model import LogisticRegression"
   ]
  },
  {
   "cell_type": "code",
   "execution_count": 25,
   "metadata": {},
   "outputs": [],
   "source": [
    "#%% 2. 定义函数\n",
    "eng = matlab.engine.start_matlab()\n",
    "def black_box_function(mTMD1,mTMD2,fTMD1,fTMD2,fTMD3,dTMD1,dTMD2,dTMD3,xTMD1,xTMD2,xTMD3):\n",
    "    total_tmd_mass_ratio = 0.0002 # 总质量比 The total mass ratio\n",
    "    mass_six_span = 10007779.7 # 深中通道非通航桥六跨连续梁质量 The mass of 6-span continuous beam of the non-navigational bridge of the Zhenzhong-Link\n",
    "    total_tmd_mass = total_tmd_mass_ratio * mass_six_span # 总质量 The total mass\n",
    "    \n",
    "    mTMD1=0.01*total_tmd_mass+mTMD1*total_tmd_mass*0.49 # 质量 The mass mTMD1\n",
    "    mTMD2=0.01*total_tmd_mass+mTMD2*total_tmd_mass*0.49 # 质量 The mass mTMD2\n",
    "    mTMD3=total_tmd_mass-mTMD1-mTMD2 # 质量 The mass mTMD3\n",
    "    fTMD1=0.7+fTMD1*0.3 # 频率 The frequency fTMD1\n",
    "    fTMD2=0.7+fTMD2*0.3 # 频率 The frequency fTMD2\n",
    "    fTMD3=0.7+fTMD3*0.3 # 频率 The frequency fTMD3\n",
    "    dTMD1=0.02+dTMD1*0.18 # 阻尼比 The damping ratio dTMD1\n",
    "    dTMD2=0.02+dTMD2*0.18 # 阻尼比 The damping ratio dTMD2\n",
    "    dTMD3=0.02+dTMD3*0.18 # 阻尼比 The damping ratio dTMD3\n",
    "    xTMD1=xTMD1*660 # TMD1的x坐标 The x-coordinate of TMD1\n",
    "    xTMD2=xTMD2*660 # TMD2的x坐标 The x-coordinate of TMD2\n",
    "    xTMD3=xTMD3*660 # TMD3的x坐标 The x-coordinate of TMD3\n",
    "    t_length=100 # 时间长度 The time length\n",
    "    number_of_modes_to_control=matlab.double([1,2,3,4,5,6]) # 控制模态 The controlled modes\n",
    "    number_of_modes_to_consider=10 # 考虑模态 The considered modes\n",
    "    number_of_tmds=3 # TMD数量 The number of TMDs\n",
    "    modal_damping_ratios=np.ones((1,number_of_modes_to_consider))*0.003 # 模态阻尼比 The modal damping ratios\n",
    "    \n",
    "    result = -eng.b_0_3_tmd(number_of_modes_to_control,number_of_modes_to_consider,number_of_tmds,modal_damping_ratios,t_length,mTMD1,mTMD2,fTMD1,fTMD2,fTMD3,dTMD1,dTMD2,dTMD3,xTMD1,xTMD2,xTMD3,total_tmd_mass)\n",
    "    return result"
   ]
  },
  {
   "cell_type": "code",
   "execution_count": 26,
   "metadata": {},
   "outputs": [
    {
     "name": "stdout",
     "output_type": "stream",
     "text": [
      "|   iter    |  target   |   dTMD1   |   dTMD2   |   dTMD3   |   fTMD1   |   fTMD2   |   fTMD3   |   mTMD1   |   mTMD2   |   xTMD1   |   xTMD2   |   xTMD3   |\n",
      "-------------------------------------------------------------------------------------------------------------------------------------------------------------\n",
      "| \u001b[0m1        \u001b[0m | \u001b[0m-1.298   \u001b[0m | \u001b[0m0.417    \u001b[0m | \u001b[0m0.7203   \u001b[0m | \u001b[0m0.0001144\u001b[0m | \u001b[0m0.3023   \u001b[0m | \u001b[0m0.1468   \u001b[0m | \u001b[0m0.09234  \u001b[0m | \u001b[0m0.1863   \u001b[0m | \u001b[0m0.3456   \u001b[0m | \u001b[0m0.3968   \u001b[0m | \u001b[0m0.5388   \u001b[0m | \u001b[0m0.4192   \u001b[0m |\n",
      "| \u001b[0m2        \u001b[0m | \u001b[0m-1.298   \u001b[0m | \u001b[0m0.6852   \u001b[0m | \u001b[0m0.2045   \u001b[0m | \u001b[0m0.8781   \u001b[0m | \u001b[0m0.02739  \u001b[0m | \u001b[0m0.6705   \u001b[0m | \u001b[0m0.4173   \u001b[0m | \u001b[0m0.5587   \u001b[0m | \u001b[0m0.1404   \u001b[0m | \u001b[0m0.1981   \u001b[0m | \u001b[0m0.8007   \u001b[0m | \u001b[0m0.9683   \u001b[0m |\n",
      "| \u001b[95m3        \u001b[0m | \u001b[95m-1.296   \u001b[0m | \u001b[95m0.3134   \u001b[0m | \u001b[95m0.6923   \u001b[0m | \u001b[95m0.8764   \u001b[0m | \u001b[95m0.8946   \u001b[0m | \u001b[95m0.08504  \u001b[0m | \u001b[95m0.03905  \u001b[0m | \u001b[95m0.1698   \u001b[0m | \u001b[95m0.8781   \u001b[0m | \u001b[95m0.09835  \u001b[0m | \u001b[95m0.4211   \u001b[0m | \u001b[95m0.9579   \u001b[0m |\n",
      "| \u001b[95m4        \u001b[0m | \u001b[95m-1.293   \u001b[0m | \u001b[95m0.5332   \u001b[0m | \u001b[95m0.6919   \u001b[0m | \u001b[95m0.3155   \u001b[0m | \u001b[95m0.6865   \u001b[0m | \u001b[95m0.8346   \u001b[0m | \u001b[95m0.01829  \u001b[0m | \u001b[95m0.7501   \u001b[0m | \u001b[95m0.9889   \u001b[0m | \u001b[95m0.7482   \u001b[0m | \u001b[95m0.2804   \u001b[0m | \u001b[95m0.7893   \u001b[0m |\n",
      "| \u001b[0m5        \u001b[0m | \u001b[0m-1.298   \u001b[0m | \u001b[0m0.1032   \u001b[0m | \u001b[0m0.4479   \u001b[0m | \u001b[0m0.9086   \u001b[0m | \u001b[0m0.2936   \u001b[0m | \u001b[0m0.2878   \u001b[0m | \u001b[0m0.13     \u001b[0m | \u001b[0m0.01937  \u001b[0m | \u001b[0m0.6788   \u001b[0m | \u001b[0m0.2116   \u001b[0m | \u001b[0m0.2655   \u001b[0m | \u001b[0m0.4916   \u001b[0m |\n",
      "| \u001b[0m6        \u001b[0m | \u001b[0m-1.296   \u001b[0m | \u001b[0m0.03469  \u001b[0m | \u001b[0m0.8941   \u001b[0m | \u001b[0m0.5821   \u001b[0m | \u001b[0m0.6488   \u001b[0m | \u001b[0m0.4464   \u001b[0m | \u001b[0m0.7734   \u001b[0m | \u001b[0m0.01169  \u001b[0m | \u001b[0m0.65     \u001b[0m | \u001b[0m0.3093   \u001b[0m | \u001b[0m0.3059   \u001b[0m | \u001b[0m0.877    \u001b[0m |\n",
      "| \u001b[0m7        \u001b[0m | \u001b[0m-1.3     \u001b[0m | \u001b[0m0.3339   \u001b[0m | \u001b[0m0.03304  \u001b[0m | \u001b[0m0.3314   \u001b[0m | \u001b[0m0.1971   \u001b[0m | \u001b[0m0.1569   \u001b[0m | \u001b[0m0.4952   \u001b[0m | \u001b[0m0.502    \u001b[0m | \u001b[0m0.02795  \u001b[0m | \u001b[0m0.3101   \u001b[0m | \u001b[0m0.7051   \u001b[0m | \u001b[0m0.6875   \u001b[0m |\n",
      "| \u001b[0m8        \u001b[0m | \u001b[0m-1.302   \u001b[0m | \u001b[0m0.8986   \u001b[0m | \u001b[0m1.0      \u001b[0m | \u001b[0m0.6817   \u001b[0m | \u001b[0m1.0      \u001b[0m | \u001b[0m1.0      \u001b[0m | \u001b[0m0.0      \u001b[0m | \u001b[0m0.848    \u001b[0m | \u001b[0m1.0      \u001b[0m | \u001b[0m0.8379   \u001b[0m | \u001b[0m0.0      \u001b[0m | \u001b[0m1.0      \u001b[0m |\n",
      "| \u001b[0m9        \u001b[0m | \u001b[0m-1.294   \u001b[0m | \u001b[0m0.3773   \u001b[0m | \u001b[0m0.448    \u001b[0m | \u001b[0m0.4168   \u001b[0m | \u001b[0m0.2531   \u001b[0m | \u001b[0m0.2621   \u001b[0m | \u001b[0m0.7643   \u001b[0m | \u001b[0m0.7979   \u001b[0m | \u001b[0m0.3199   \u001b[0m | \u001b[0m0.6582   \u001b[0m | \u001b[0m0.5573   \u001b[0m | \u001b[0m0.8964   \u001b[0m |\n",
      "| \u001b[0m10       \u001b[0m | \u001b[0m-1.299   \u001b[0m | \u001b[0m0.9904   \u001b[0m | \u001b[0m0.03931  \u001b[0m | \u001b[0m0.2165   \u001b[0m | \u001b[0m0.1713   \u001b[0m | \u001b[0m0.3133   \u001b[0m | \u001b[0m0.5797   \u001b[0m | \u001b[0m0.739    \u001b[0m | \u001b[0m0.1229   \u001b[0m | \u001b[0m0.4386   \u001b[0m | \u001b[0m0.8321   \u001b[0m | \u001b[0m0.3368   \u001b[0m |\n",
      "=============================================================================================================================================================\n"
     ]
    }
   ],
   "source": [
    "#%% 3. 定义优化器\n",
    "optimizer = BayesianOptimization(\n",
    "    f=black_box_function,\n",
    "    pbounds={\"mTMD1\": (0,1), \n",
    "             \"mTMD2\": (0,1),\n",
    "             \"fTMD1\": (0,1),\n",
    "             \"fTMD2\": (0,1),\n",
    "             \"fTMD3\": (0,1),\n",
    "             \"dTMD1\": (0,1),\n",
    "             \"dTMD2\": (0,1),\n",
    "             \"dTMD3\": (0,1),\n",
    "             \"xTMD1\": (0,1),\n",
    "             \"xTMD2\": (0,1),\n",
    "             \"xTMD3\": (0,1),\n",
    "             },\n",
    "    verbose=2,  # verbose = 1 prints only when a maximum is observed, verbose = 0 is silent\n",
    "    random_state=1,\n",
    ")\n",
    "\n",
    "optimizer.maximize(\n",
    "    init_points=5,\n",
    "    n_iter=1000,\n",
    "    # acq=\"ucb\", \n",
    "    # kappa=7.2088954429132,\n",
    "    # # What follows are GP regressor parameters\n",
    "    # kernel=Matern(nu=2.5),\n",
    "    # # alpha=1,\n",
    "    # alpha=2.2492215663634233e-10,\n",
    "    # normalize_y=True,\n",
    "    # n_restarts_optimizer=5,\n",
    ")"
   ]
  },
  {
   "cell_type": "code",
   "execution_count": 27,
   "metadata": {},
   "outputs": [
    {
     "name": "stdout",
     "output_type": "stream",
     "text": [
      "561.69864499814\n"
     ]
    }
   ],
   "source": [
    "total_tmd_mass_ratio = 0.0002 # 总质量比 The total mass ratio\n",
    "mass_six_span = 10007779.7 # 深中通道非通航桥六跨连续梁质量 The mass of 6-span continuous beam of the non-navigational bridge of the Zhenzhong-Link\n",
    "total_tmd_mass = total_tmd_mass_ratio * mass_six_span # 总质量 The total mass\n",
    "\n",
    "mTMD1=0.1863\n",
    "mTMD2=0.3456\n",
    "mTMD1=0.01*total_tmd_mass+mTMD1*total_tmd_mass*0.49 # 质量 The mass mTMD1\n",
    "mTMD2=0.01*total_tmd_mass+mTMD2*total_tmd_mass*0.49 # 质量 The mass mTMD2\n",
    "print(mTMD1+mTMD2)"
   ]
  }
 ],
 "metadata": {
  "kernelspec": {
   "display_name": "Python 3.9.13 ('base')",
   "language": "python",
   "name": "python3"
  },
  "language_info": {
   "codemirror_mode": {
    "name": "ipython",
    "version": 3
   },
   "file_extension": ".py",
   "mimetype": "text/x-python",
   "name": "python",
   "nbconvert_exporter": "python",
   "pygments_lexer": "ipython3",
   "version": "3.9.13 (main, Aug 25 2022, 23:51:50) [MSC v.1916 64 bit (AMD64)]"
  },
  "orig_nbformat": 4,
  "vscode": {
   "interpreter": {
    "hash": "34cd7c78411e28399e4de8eeefd5f70c22472795dece7d63a5362eac4c8c7767"
   }
  }
 },
 "nbformat": 4,
 "nbformat_minor": 2
}
