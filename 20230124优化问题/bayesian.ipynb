{
 "cells": [
  {
   "cell_type": "code",
   "execution_count": 14,
   "metadata": {},
   "outputs": [
    {
     "data": {
      "text/plain": [
       "'\\nAuthor: xushengyichn 54436848+xushengyichn@users.noreply.github.com\\nDate: 2023-01-24 14:28:48\\nLastEditors: xushengyichn 54436848+xushengyichn@users.noreply.github.com\\nLastEditTime: 2023-01-25 18:51:17\\nFilePath: \\x8230124优化问题\\x08ayesian.ipynb\\nDescription: 创建贝叶斯优化\\n\\nCopyright (c) 2023 by xushengyichn 54436848+xushengyichn@users.noreply.github.com, All Rights Reserved. \\n'"
      ]
     },
     "execution_count": 14,
     "metadata": {},
     "output_type": "execute_result"
    }
   ],
   "source": [
    "'''\n",
    "Author: xushengyichn 54436848+xushengyichn@users.noreply.github.com\n",
    "Date: 2023-01-24 14:28:48\n",
    "LastEditors: xushengyichn 54436848+xushengyichn@users.noreply.github.com\n",
    "LastEditTime: 2023-01-25 18:51:17\n",
    "FilePath: \\20230124优化问题\\bayesian.ipynb\n",
    "Description: 创建贝叶斯优化\n",
    "\n",
    "Copyright (c) 2023 by xushengyichn 54436848+xushengyichn@users.noreply.github.com, All Rights Reserved. \n",
    "'''\n"
   ]
  },
  {
   "cell_type": "code",
   "execution_count": 15,
   "metadata": {},
   "outputs": [],
   "source": [
    "#%% 1. 导入库\n",
    "import time\n",
    "import matlab\n",
    "import matlab.engine\n",
    "from bayes_opt import BayesianOptimization\n",
    "from bayes_opt import UtilityFunction\n",
    "import numpy as np\n",
    "import matplotlib.pyplot as plt\n",
    "from matplotlib import gridspec\n",
    "from sklearn.gaussian_process.kernels import Matern\n",
    "from sklearn.gaussian_process import GaussianProcessRegressor\n",
    "from sklearn.model_selection import cross_val_score,KFold,cross_validate\n",
    "from sklearn.linear_model import LogisticRegression"
   ]
  },
  {
   "cell_type": "code",
   "execution_count": 16,
   "metadata": {},
   "outputs": [],
   "source": [
    "#%% 2. 定义函数\n",
    "eng = matlab.engine.start_matlab()\n",
    "def black_box_function(mTMD1,mTMD2,fTMD1,fTMD2,fTMD3,dTMD1,dTMD2,dTMD3,xTMD1,xTMD2,xTMD3):\n",
    "    total_tmd_mass_ratio = 0.02 # 总质量比 The total mass ratio\n",
    "    mass_six_span = 10007779.7 # 深中通道非通航桥六跨连续梁质量 The mass of 6-span continuous beam of the non-navigational bridge of the Zhenzhong-Link\n",
    "    total_tmd_mass = total_tmd_mass_ratio * mass_six_span # 总质量 The total mass\n",
    "    \n",
    "    mTMD1=0.01*total_tmd_mass+mTMD1*total_tmd_mass*0.49 # 质量 The mass mTMD1\n",
    "    mTMD2=0.01*total_tmd_mass+mTMD2*total_tmd_mass*0.49 # 质量 The mass mTMD2\n",
    "    mTMD3=total_tmd_mass-mTMD1-mTMD2 # 质量 The mass mTMD3\n",
    "    fTMD1=0.7+fTMD1*0.3 # 频率 The frequency fTMD1\n",
    "    fTMD2=0.7+fTMD2*0.3 # 频率 The frequency fTMD2\n",
    "    fTMD3=0.7+fTMD3*0.3 # 频率 The frequency fTMD3\n",
    "    dTMD1=0.02+dTMD1*0.18 # 阻尼比 The damping ratio dTMD1\n",
    "    dTMD2=0.02+dTMD2*0.18 # 阻尼比 The damping ratio dTMD2\n",
    "    dTMD3=0.02+dTMD3*0.18 # 阻尼比 The damping ratio dTMD3\n",
    "    xTMD1=xTMD1*660 # TMD1的x坐标 The x-coordinate of TMD1\n",
    "    xTMD2=xTMD2*660 # TMD2的x坐标 The x-coordinate of TMD2\n",
    "    xTMD3=xTMD3*660 # TMD3的x坐标 The x-coordinate of TMD3\n",
    "    t_length=matlab.double(100) # 时间长度 The time length\n",
    "    number_of_modes_to_control=matlab.double([1,2,3,4,5,6]) # 控制模态 The controlled modes\n",
    "    number_of_modes_to_consider=10 # 考虑模态 The considered modes\n",
    "    number_of_tmds=3 # TMD数量 The number of TMDs\n",
    "    modal_damping_ratios=np.ones((1,number_of_modes_to_consider))*0.003 # 模态阻尼比 The modal damping ratios\n",
    "    \n",
    "    result = -eng.b_0_3_tmd(number_of_modes_to_control,number_of_modes_to_consider,number_of_tmds,modal_damping_ratios,t_length,mTMD1,mTMD2,fTMD1,fTMD2,fTMD3,dTMD1,dTMD2,dTMD3,xTMD1,xTMD2,xTMD3,total_tmd_mass)\n",
    "    return result"
   ]
  },
  {
   "cell_type": "code",
   "execution_count": 17,
   "metadata": {},
   "outputs": [
    {
     "name": "stdout",
     "output_type": "stream",
     "text": [
      "|   iter    |  target   |   dTMD1   |   dTMD2   |   dTMD3   |   fTMD1   |   fTMD2   |   fTMD3   |   mTMD1   |   mTMD2   |   xTMD1   |   xTMD2   |   xTMD3   |\n",
      "-------------------------------------------------------------------------------------------------------------------------------------------------------------\n",
      "| \u001b[95m2        \u001b[0m | \u001b[95m-0.8711  \u001b[0m | \u001b[95m0.6852   \u001b[0m | \u001b[95m0.2045   \u001b[0m | \u001b[95m0.8781   \u001b[0m | \u001b[95m0.02739  \u001b[0m | \u001b[95m0.6705   \u001b[0m | \u001b[95m0.4173   \u001b[0m | \u001b[95m0.5587   \u001b[0m | \u001b[95m0.1404   \u001b[0m | \u001b[95m0.1981   \u001b[0m | \u001b[95m0.8007   \u001b[0m | \u001b[95m0.9683   \u001b[0m |\n",
      "| \u001b[95m3        \u001b[0m | \u001b[95m-0.76    \u001b[0m | \u001b[95m0.3134   \u001b[0m | \u001b[95m0.6923   \u001b[0m | \u001b[95m0.8764   \u001b[0m | \u001b[95m0.8946   \u001b[0m | \u001b[95m0.08504  \u001b[0m | \u001b[95m0.03905  \u001b[0m | \u001b[95m0.1698   \u001b[0m | \u001b[95m0.8781   \u001b[0m | \u001b[95m0.09835  \u001b[0m | \u001b[95m0.4211   \u001b[0m | \u001b[95m0.9579   \u001b[0m |\n",
      "| \u001b[95m4        \u001b[0m | \u001b[95m-0.6844  \u001b[0m | \u001b[95m0.5332   \u001b[0m | \u001b[95m0.6919   \u001b[0m | \u001b[95m0.3155   \u001b[0m | \u001b[95m0.6865   \u001b[0m | \u001b[95m0.8346   \u001b[0m | \u001b[95m0.01829  \u001b[0m | \u001b[95m0.7501   \u001b[0m | \u001b[95m0.9889   \u001b[0m | \u001b[95m0.7482   \u001b[0m | \u001b[95m0.2804   \u001b[0m | \u001b[95m0.7893   \u001b[0m |\n",
      "| \u001b[95m8        \u001b[0m | \u001b[95m-0.6552  \u001b[0m | \u001b[95m0.3478   \u001b[0m | \u001b[95m0.7508   \u001b[0m | \u001b[95m0.726    \u001b[0m | \u001b[95m0.8833   \u001b[0m | \u001b[95m0.6237   \u001b[0m | \u001b[95m0.7509   \u001b[0m | \u001b[95m0.3489   \u001b[0m | \u001b[95m0.2699   \u001b[0m | \u001b[95m0.8959   \u001b[0m | \u001b[95m0.4281   \u001b[0m | \u001b[95m0.9648   \u001b[0m |\n",
      "| \u001b[95m20       \u001b[0m | \u001b[95m-0.6101  \u001b[0m | \u001b[95m0.2896   \u001b[0m | \u001b[95m0.8197   \u001b[0m | \u001b[95m0.7868   \u001b[0m | \u001b[95m0.9137   \u001b[0m | \u001b[95m0.6337   \u001b[0m | \u001b[95m0.7879   \u001b[0m | \u001b[95m0.2173   \u001b[0m | \u001b[95m0.195    \u001b[0m | \u001b[95m0.9055   \u001b[0m | \u001b[95m0.4123   \u001b[0m | \u001b[95m0.9606   \u001b[0m |\n",
      "| \u001b[95m26       \u001b[0m | \u001b[95m-0.5113  \u001b[0m | \u001b[95m0.9567   \u001b[0m | \u001b[95m0.8265   \u001b[0m | \u001b[95m0.9921   \u001b[0m | \u001b[95m0.66     \u001b[0m | \u001b[95m0.443    \u001b[0m | \u001b[95m0.8799   \u001b[0m | \u001b[95m0.6829   \u001b[0m | \u001b[95m0.5785   \u001b[0m | \u001b[95m0.951    \u001b[0m | \u001b[95m0.9129   \u001b[0m | \u001b[95m0.4273   \u001b[0m |\n",
      "=============================================================================================================================================================\n"
     ]
    }
   ],
   "source": [
    "#%% 3. 定义优化器\n",
    "optimizer = BayesianOptimization(\n",
    "    f=black_box_function,\n",
    "    pbounds={\"mTMD1\": (0,1), \n",
    "             \"mTMD2\": (0,1),\n",
    "             \"fTMD1\": (0,1),\n",
    "             \"fTMD2\": (0,1),\n",
    "             \"fTMD3\": (0,1),\n",
    "             \"dTMD1\": (0,1),\n",
    "             \"dTMD2\": (0,1),\n",
    "             \"dTMD3\": (0,1),\n",
    "             \"xTMD1\": (0,1),\n",
    "             \"xTMD2\": (0,1),\n",
    "             \"xTMD3\": (0,1),\n",
    "             },\n",
    "    verbose=1,  # verbose = 1 prints only when a maximum is observed, verbose = 0 is silent\n",
    "    random_state=1,\n",
    ")\n",
    "\n",
    "optimizer.maximize(\n",
    "        init_points=10,\n",
    "        n_iter=100,\n",
    "        acq=\"ei\",  # Expected Improvement.\n",
    "        # kappa=7.2088954429132,\n",
    "        xi=0.0012265019946638392,\n",
    "        # What follows are GP regressor parameters\n",
    "        kernel=Matern(nu=1.5),\n",
    "        # alpha=1,\n",
    "        # alpha=2.2492215663634233e-10,\n",
    "        alpha=8.960456511761172e-06,\n",
    "        normalize_y=True,\n",
    "        n_restarts_optimizer=5,\n",
    ")"
   ]
  }
 ],
 "metadata": {
  "kernelspec": {
   "display_name": "Python 3.9.13 ('base')",
   "language": "python",
   "name": "python3"
  },
  "language_info": {
   "codemirror_mode": {
    "name": "ipython",
    "version": 3
   },
   "file_extension": ".py",
   "mimetype": "text/x-python",
   "name": "python",
   "nbconvert_exporter": "python",
   "pygments_lexer": "ipython3",
   "version": "3.9.13"
  },
  "orig_nbformat": 4,
  "vscode": {
   "interpreter": {
    "hash": "34cd7c78411e28399e4de8eeefd5f70c22472795dece7d63a5362eac4c8c7767"
   }
  }
 },
 "nbformat": 4,
 "nbformat_minor": 2
}
