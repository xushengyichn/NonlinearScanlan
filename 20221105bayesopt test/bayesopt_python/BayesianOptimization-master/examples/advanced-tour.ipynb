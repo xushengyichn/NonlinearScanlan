{
 "cells": [
  {
   "cell_type": "markdown",
   "metadata": {},
   "source": [
    "# Advanced tour of the Bayesian Optimization package"
   ]
  },
  {
   "cell_type": "code",
   "execution_count": 1,
   "metadata": {},
   "outputs": [],
   "source": [
    "from bayes_opt import BayesianOptimization"
   ]
  },
  {
   "cell_type": "markdown",
   "metadata": {},
   "source": [
    "## 1. Suggest-Evaluate-Register Paradigm\n",
    "\n",
    "Internally the `maximize` method is simply a wrapper around the methods `suggest`, `probe`, and `register`. If you need more control over your optimization loops the Suggest-Evaluate-Register paradigm should give you that extra flexibility.\n",
    "\n",
    "For an example of running the `BayesianOptimization` in a distributed fashion (where the function being optimized is evaluated concurrently in different cores/machines/servers), checkout the `async_optimization.py` script in the examples folder."
   ]
  },
  {
   "cell_type": "code",
   "execution_count": 2,
   "metadata": {},
   "outputs": [],
   "source": [
    "# Let's start by defining our function, bounds, and instanciating an optimization object.\n",
    "def black_box_function(x, y):\n",
    "    return -x ** 2 - (y - 1) ** 2 + 1"
   ]
  },
  {
   "cell_type": "markdown",
   "metadata": {},
   "source": [
    "Notice that the evaluation of the blackbox function will NOT be carried out by the optimizer object. We are simulating a situation where this function could be being executed in a different machine, maybe it is written in another language, or it could even be the result of a chemistry experiment. Whatever the case may be, you can take charge of it and as long as you don't invoke the `probe` or `maximize` methods directly, the optimizer object will ignore the blackbox function."
   ]
  },
  {
   "cell_type": "code",
   "execution_count": 3,
   "metadata": {},
   "outputs": [],
   "source": [
    "optimizer = BayesianOptimization(\n",
    "    f=None,\n",
    "    pbounds={'x': (-2, 2), 'y': (-3, 3)},\n",
    "    verbose=2,\n",
    "    random_state=1,\n",
    ")"
   ]
  },
  {
   "cell_type": "markdown",
   "metadata": {},
   "source": [
    "One extra ingredient we will need is an `UtilityFunction` instance. In case it is not clear why, take a look at the literature to understand better how this method works."
   ]
  },
  {
   "cell_type": "code",
   "execution_count": 4,
   "metadata": {},
   "outputs": [],
   "source": [
    "from bayes_opt import UtilityFunction\n",
    "\n",
    "utility = UtilityFunction(kind=\"ucb\", kappa=2.5, xi=0.0)"
   ]
  },
  {
   "cell_type": "markdown",
   "metadata": {},
   "source": [
    "The `suggest` method of our optimizer can be called at any time. What you get back is a suggestion for the next parameter combination the optimizer wants to probe.\n",
    "\n",
    "Notice that while the optimizer hasn't observed any points, the suggestions will be random. However, they will stop being random and improve in quality the more points are observed."
   ]
  },
  {
   "cell_type": "code",
   "execution_count": 5,
   "metadata": {},
   "outputs": [
    {
     "name": "stdout",
     "output_type": "stream",
     "text": [
      "Next point to probe is: {'x': -0.331911981189704, 'y': 1.3219469606529488}\n"
     ]
    }
   ],
   "source": [
    "next_point_to_probe = optimizer.suggest(utility)\n",
    "print(\"Next point to probe is:\", next_point_to_probe)"
   ]
  },
  {
   "cell_type": "markdown",
   "metadata": {},
   "source": [
    "You are now free to evaluate your function at the suggested point however/whenever you like."
   ]
  },
  {
   "cell_type": "code",
   "execution_count": 6,
   "metadata": {},
   "outputs": [
    {
     "name": "stdout",
     "output_type": "stream",
     "text": [
      "Found the target value to be: 0.7861845912690542\n"
     ]
    }
   ],
   "source": [
    "target = black_box_function(**next_point_to_probe)\n",
    "print(\"Found the target value to be:\", target)"
   ]
  },
  {
   "cell_type": "markdown",
   "metadata": {},
   "source": [
    "Last thing left to do is to tell the optimizer what target value was observed."
   ]
  },
  {
   "cell_type": "code",
   "execution_count": 7,
   "metadata": {},
   "outputs": [],
   "source": [
    "optimizer.register(\n",
    "    params=next_point_to_probe,\n",
    "    target=target,\n",
    ")"
   ]
  },
  {
   "cell_type": "markdown",
   "metadata": {},
   "source": [
    "### 1.1 The maximize loop\n",
    "\n",
    "And that's it. By repeating the steps above you recreate the internals of the `maximize` method. This should give you all the flexibility you need to log progress, hault execution, perform concurrent evaluations, etc."
   ]
  },
  {
   "cell_type": "code",
   "execution_count": 8,
   "metadata": {},
   "outputs": [
    {
     "name": "stdout",
     "output_type": "stream",
     "text": [
      "-18.49187152919165 {'x': 1.8861546000771092, 'y': -2.9917780942581977}\n",
      "0.7911494590443674 {'x': -0.31764604716962586, 'y': 1.3285597809731806}\n",
      "-7.0 {'x': -2.0, 'y': 3.0}\n",
      "-7.0 {'x': 2.0, 'y': 3.0}\n",
      "-7.5038692656971016 {'x': -2.0, 'y': -1.1222321422731076}\n",
      "{'target': 0.7911494590443674, 'params': {'x': -0.31764604716962586, 'y': 1.3285597809731806}}\n"
     ]
    }
   ],
   "source": [
    "for _ in range(5):\n",
    "    next_point = optimizer.suggest(utility)\n",
    "    target = black_box_function(**next_point)\n",
    "    optimizer.register(params=next_point, target=target)\n",
    "    \n",
    "    print(target, next_point)\n",
    "print(optimizer.max)"
   ]
  },
  {
   "cell_type": "markdown",
   "metadata": {},
   "source": [
    "## 2. Dealing with discrete parameters\n",
    "\n",
    "**There is no principled way of dealing with discrete parameters using this package.**\n",
    "\n",
    "Ok, now that we got that out of the way, how do you do it? You're bound to be in a situation where some of your function's parameters may only take on discrete values. Unfortunately, the nature of bayesian optimization with gaussian processes doesn't allow for an easy/intuitive way of dealing with discrete parameters - but that doesn't mean it is impossible. The example below showcases a simple, yet reasonably adequate, way to dealing with discrete parameters."
   ]
  },
  {
   "cell_type": "code",
   "execution_count": 9,
   "metadata": {},
   "outputs": [],
   "source": [
    "def func_with_discrete_params(x, y, d):\n",
    "    # Simulate necessity of having d being discrete.\n",
    "    assert type(d) == int\n",
    "    \n",
    "    return ((x + y + d) // (1 + d)) / (1 + (x + y) ** 2)"
   ]
  },
  {
   "cell_type": "code",
   "execution_count": 10,
   "metadata": {},
   "outputs": [],
   "source": [
    "def function_to_be_optimized(x, y, w):\n",
    "    d = int(w)\n",
    "    return func_with_discrete_params(x, y, d)"
   ]
  },
  {
   "cell_type": "code",
   "execution_count": 11,
   "metadata": {},
   "outputs": [],
   "source": [
    "optimizer = BayesianOptimization(\n",
    "    f=function_to_be_optimized,\n",
    "    pbounds={'x': (-10, 10), 'y': (-10, 10), 'w': (0, 5)},\n",
    "    verbose=2,\n",
    "    random_state=1,\n",
    ")"
   ]
  },
  {
   "cell_type": "code",
   "execution_count": 12,
   "metadata": {},
   "outputs": [
    {
     "name": "stdout",
     "output_type": "stream",
     "text": [
      "|   iter    |  target   |     w     |     x     |     y     |\n",
      "-------------------------------------------------------------\n",
      "| \u001b[0m1        \u001b[0m | \u001b[0m-0.06199 \u001b[0m | \u001b[0m2.085    \u001b[0m | \u001b[0m4.406    \u001b[0m | \u001b[0m-9.998   \u001b[0m |\n",
      "| \u001b[95m2        \u001b[0m | \u001b[95m-0.0344  \u001b[0m | \u001b[95m1.512    \u001b[0m | \u001b[95m-7.065   \u001b[0m | \u001b[95m-8.153   \u001b[0m |\n",
      "| \u001b[0m3        \u001b[0m | \u001b[0m-0.2177  \u001b[0m | \u001b[0m0.9313   \u001b[0m | \u001b[0m-3.089   \u001b[0m | \u001b[0m-2.065   \u001b[0m |\n",
      "| \u001b[95m4        \u001b[0m | \u001b[95m0.1865   \u001b[0m | \u001b[95m2.694    \u001b[0m | \u001b[95m-1.616   \u001b[0m | \u001b[95m3.704    \u001b[0m |\n",
      "| \u001b[0m5        \u001b[0m | \u001b[0m-0.2187  \u001b[0m | \u001b[0m1.022    \u001b[0m | \u001b[0m7.562    \u001b[0m | \u001b[0m-9.452   \u001b[0m |\n",
      "| \u001b[95m6        \u001b[0m | \u001b[95m0.1868   \u001b[0m | \u001b[95m2.533    \u001b[0m | \u001b[95m-1.728   \u001b[0m | \u001b[95m3.815    \u001b[0m |\n",
      "| \u001b[0m7        \u001b[0m | \u001b[0m0.05119  \u001b[0m | \u001b[0m3.957    \u001b[0m | \u001b[0m-0.6155  \u001b[0m | \u001b[0m6.786    \u001b[0m |\n",
      "| \u001b[0m8        \u001b[0m | \u001b[0m0.176    \u001b[0m | \u001b[0m0.5803   \u001b[0m | \u001b[0m1.181    \u001b[0m | \u001b[0m4.054    \u001b[0m |\n",
      "| \u001b[0m9        \u001b[0m | \u001b[0m0.04046  \u001b[0m | \u001b[0m4.006    \u001b[0m | \u001b[0m4.304    \u001b[0m | \u001b[0m2.656    \u001b[0m |\n",
      "| \u001b[0m10       \u001b[0m | \u001b[0m0.07507  \u001b[0m | \u001b[0m0.0      \u001b[0m | \u001b[0m4.844    \u001b[0m | \u001b[0m7.76     \u001b[0m |\n",
      "| \u001b[95m11       \u001b[0m | \u001b[95m0.3512   \u001b[0m | \u001b[95m0.0      \u001b[0m | \u001b[95m-5.713   \u001b[0m | \u001b[95m7.072    \u001b[0m |\n",
      "| \u001b[0m12       \u001b[0m | \u001b[0m-0.8067  \u001b[0m | \u001b[0m0.0      \u001b[0m | \u001b[0m-9.09    \u001b[0m | \u001b[0m8.6      \u001b[0m |\n",
      "| \u001b[95m13       \u001b[0m | \u001b[95m0.3773   \u001b[0m | \u001b[95m0.3974   \u001b[0m | \u001b[95m-4.19    \u001b[0m | \u001b[95m6.263    \u001b[0m |\n",
      "| \u001b[0m14       \u001b[0m | \u001b[0m0.157    \u001b[0m | \u001b[0m0.0      \u001b[0m | \u001b[0m-3.587   \u001b[0m | \u001b[0m8.534    \u001b[0m |\n",
      "| \u001b[0m15       \u001b[0m | \u001b[0m-0.7891  \u001b[0m | \u001b[0m0.4794   \u001b[0m | \u001b[0m-5.536   \u001b[0m | \u001b[0m4.298    \u001b[0m |\n",
      "| \u001b[0m16       \u001b[0m | \u001b[0m0.1176   \u001b[0m | \u001b[0m1.038    \u001b[0m | \u001b[0m-4.671   \u001b[0m | \u001b[0m7.41     \u001b[0m |\n",
      "| \u001b[0m17       \u001b[0m | \u001b[0m0.2072   \u001b[0m | \u001b[0m0.0      \u001b[0m | \u001b[0m-3.028   \u001b[0m | \u001b[0m6.699    \u001b[0m |\n",
      "| \u001b[0m18       \u001b[0m | \u001b[0m0.08569  \u001b[0m | \u001b[0m1.983    \u001b[0m | \u001b[0m-0.1065  \u001b[0m | \u001b[0m4.833    \u001b[0m |\n",
      "| \u001b[0m19       \u001b[0m | \u001b[0m0.1987   \u001b[0m | \u001b[0m1.686    \u001b[0m | \u001b[0m-2.989   \u001b[0m | \u001b[0m6.001    \u001b[0m |\n",
      "| \u001b[0m20       \u001b[0m | \u001b[0m0.1866   \u001b[0m | \u001b[0m1.091    \u001b[0m | \u001b[0m-0.4443  \u001b[0m | \u001b[0m2.532    \u001b[0m |\n",
      "| \u001b[0m21       \u001b[0m | \u001b[0m0.06262  \u001b[0m | \u001b[0m2.331    \u001b[0m | \u001b[0m1.365    \u001b[0m | \u001b[0m2.503    \u001b[0m |\n",
      "| \u001b[0m22       \u001b[0m | \u001b[0m0.3114   \u001b[0m | \u001b[0m0.1003   \u001b[0m | \u001b[0m-1.766   \u001b[0m | \u001b[0m4.094    \u001b[0m |\n",
      "| \u001b[0m23       \u001b[0m | \u001b[0m0.1702   \u001b[0m | \u001b[0m0.0      \u001b[0m | \u001b[0m-0.7416  \u001b[0m | \u001b[0m5.485    \u001b[0m |\n",
      "| \u001b[0m24       \u001b[0m | \u001b[0m0.1177   \u001b[0m | \u001b[0m0.0      \u001b[0m | \u001b[0m3.705    \u001b[0m | \u001b[0m4.478    \u001b[0m |\n",
      "| \u001b[0m25       \u001b[0m | \u001b[0m-0.9697  \u001b[0m | \u001b[0m0.1454   \u001b[0m | \u001b[0m-1.943   \u001b[0m | \u001b[0m1.767    \u001b[0m |\n",
      "| \u001b[0m26       \u001b[0m | \u001b[0m0.3536   \u001b[0m | \u001b[0m0.3906   \u001b[0m | \u001b[0m-2.968   \u001b[0m | \u001b[0m5.126    \u001b[0m |\n",
      "| \u001b[0m27       \u001b[0m | \u001b[0m0.1719   \u001b[0m | \u001b[0m0.07798  \u001b[0m | \u001b[0m2.445    \u001b[0m | \u001b[0m2.274    \u001b[0m |\n",
      "| \u001b[0m28       \u001b[0m | \u001b[0m0.1243   \u001b[0m | \u001b[0m0.3552   \u001b[0m | \u001b[0m4.818    \u001b[0m | \u001b[0m2.057    \u001b[0m |\n",
      "| \u001b[0m29       \u001b[0m | \u001b[0m0.176    \u001b[0m | \u001b[0m1.053    \u001b[0m | \u001b[0m-1.8     \u001b[0m | \u001b[0m5.019    \u001b[0m |\n",
      "| \u001b[0m30       \u001b[0m | \u001b[0m0.2679   \u001b[0m | \u001b[0m0.0      \u001b[0m | \u001b[0m3.296    \u001b[0m | \u001b[0m-0.1027  \u001b[0m |\n",
      "=============================================================\n"
     ]
    }
   ],
   "source": [
    "optimizer.maximize(alpha=1e-3)"
   ]
  },
  {
   "cell_type": "markdown",
   "metadata": {},
   "source": [
    "## 3. Tuning the underlying Gaussian Process\n",
    "\n",
    "The bayesian optimization algorithm works by performing a gaussian process regression of the observed combination of parameters and their associated target values. The predicted parameter$\\rightarrow$target hyper-surface (and its uncertainty) is then used to guide the next best point to probe."
   ]
  },
  {
   "cell_type": "markdown",
   "metadata": {},
   "source": [
    "### 3.1 Passing parameter to the GP\n",
    "\n",
    "Depending on the problem it could be beneficial to change the default parameters of the underlying GP. You can simply pass GP parameters to the maximize method directly as you can see below:"
   ]
  },
  {
   "cell_type": "code",
   "execution_count": 13,
   "metadata": {},
   "outputs": [
    {
     "name": "stdout",
     "output_type": "stream",
     "text": [
      "|   iter    |  target   |     x     |     y     |\n",
      "-------------------------------------------------\n",
      "| \u001b[0m1        \u001b[0m | \u001b[0m0.7862   \u001b[0m | \u001b[0m-0.3319  \u001b[0m | \u001b[0m1.322    \u001b[0m |\n",
      "| \u001b[0m2        \u001b[0m | \u001b[0m-18.49   \u001b[0m | \u001b[0m1.886    \u001b[0m | \u001b[0m-2.992   \u001b[0m |\n",
      "| \u001b[95m3        \u001b[0m | \u001b[95m0.7911   \u001b[0m | \u001b[95m-0.3176  \u001b[0m | \u001b[95m1.329    \u001b[0m |\n",
      "| \u001b[0m4        \u001b[0m | \u001b[0m-6.11    \u001b[0m | \u001b[0m-1.763   \u001b[0m | \u001b[0m3.0      \u001b[0m |\n",
      "| \u001b[0m5        \u001b[0m | \u001b[0m-2.895   \u001b[0m | \u001b[0m1.533    \u001b[0m | \u001b[0m2.243    \u001b[0m |\n",
      "| \u001b[0m6        \u001b[0m | \u001b[0m-4.806   \u001b[0m | \u001b[0m-2.0     \u001b[0m | \u001b[0m-0.3439  \u001b[0m |\n",
      "=================================================\n"
     ]
    }
   ],
   "source": [
    "optimizer = BayesianOptimization(\n",
    "    f=black_box_function,\n",
    "    pbounds={'x': (-2, 2), 'y': (-3, 3)},\n",
    "    verbose=2,\n",
    "    random_state=1,\n",
    ")\n",
    "optimizer.maximize(\n",
    "    init_points=1,\n",
    "    n_iter=5,\n",
    "    # What follows are GP regressor parameters\n",
    "    alpha=1e-3,\n",
    "    n_restarts_optimizer=5\n",
    ")"
   ]
  },
  {
   "cell_type": "markdown",
   "metadata": {},
   "source": [
    "Another alternative, specially useful if you're calling `maximize` multiple times or optimizing outside the `maximize` loop, is to call the `set_gp_params` method."
   ]
  },
  {
   "cell_type": "code",
   "execution_count": 14,
   "metadata": {},
   "outputs": [],
   "source": [
    "optimizer.set_gp_params(normalize_y=True)"
   ]
  },
  {
   "cell_type": "markdown",
   "metadata": {},
   "source": [
    "### 3.2 Tuning the `alpha` parameter\n",
    "\n",
    "When dealing with functions with discrete parameters,or particularly erratic target space it might be beneficial to increase the value of the `alpha` parameter. This parameters controls how much noise the GP can handle, so increase it whenever you think that extra flexibility is needed."
   ]
  },
  {
   "cell_type": "markdown",
   "metadata": {},
   "source": [
    "### 3.3 Changing kernels\n",
    "\n",
    "By default this package uses the Mattern 2.5 kernel. Depending on your use case you may find that tunning the GP kernel could be beneficial. You're on your own here since these are very specific solutions to very specific problems."
   ]
  },
  {
   "cell_type": "markdown",
   "metadata": {},
   "source": [
    "## Observers Continued\n",
    "\n",
    "Observers are objects that subscribe and listen to particular events fired by the `BayesianOptimization` object. \n",
    "\n",
    "When an event gets fired a callback function is called with the event and the `BayesianOptimization` instance passed as parameters. The callback can be specified at the time of subscription. If none is given it will look for an `update` method from the observer."
   ]
  },
  {
   "cell_type": "code",
   "execution_count": 15,
   "metadata": {},
   "outputs": [],
   "source": [
    "from bayes_opt.event import DEFAULT_EVENTS, Events"
   ]
  },
  {
   "cell_type": "code",
   "execution_count": 16,
   "metadata": {},
   "outputs": [],
   "source": [
    "optimizer = BayesianOptimization(\n",
    "    f=black_box_function,\n",
    "    pbounds={'x': (-2, 2), 'y': (-3, 3)},\n",
    "    verbose=2,\n",
    "    random_state=1,\n",
    ")"
   ]
  },
  {
   "cell_type": "code",
   "execution_count": 17,
   "metadata": {},
   "outputs": [],
   "source": [
    "class BasicObserver:\n",
    "    def update(self, event, instance):\n",
    "        \"\"\"Does whatever you want with the event and `BayesianOptimization` instance.\"\"\"\n",
    "        print(\"Event `{}` was observed\".format(event))"
   ]
  },
  {
   "cell_type": "code",
   "execution_count": 18,
   "metadata": {},
   "outputs": [],
   "source": [
    "my_observer = BasicObserver()\n",
    "\n",
    "optimizer.subscribe(\n",
    "    event=Events.OPTIMIZATION_STEP,\n",
    "    subscriber=my_observer,\n",
    "    callback=None, # Will use the `update` method as callback\n",
    ")"
   ]
  },
  {
   "cell_type": "markdown",
   "metadata": {},
   "source": [
    "Alternatively you have the option to pass a completely different callback."
   ]
  },
  {
   "cell_type": "code",
   "execution_count": 19,
   "metadata": {},
   "outputs": [],
   "source": [
    "def my_callback(event, instance):\n",
    "    print(\"Go nuts here!\")\n",
    "\n",
    "optimizer.subscribe(\n",
    "    event=Events.OPTIMIZATION_START,\n",
    "    subscriber=\"Any hashable object\",\n",
    "    callback=my_callback,\n",
    ")"
   ]
  },
  {
   "cell_type": "code",
   "execution_count": 20,
   "metadata": {},
   "outputs": [
    {
     "name": "stdout",
     "output_type": "stream",
     "text": [
      "Go nuts here!\n",
      "Event `optimization:step` was observed\n",
      "Event `optimization:step` was observed\n",
      "Event `optimization:step` was observed\n"
     ]
    }
   ],
   "source": [
    "optimizer.maximize(init_points=1, n_iter=2)"
   ]
  },
  {
   "cell_type": "markdown",
   "metadata": {},
   "source": [
    "For a list of all default events you can checkout `DEFAULT_EVENTS`"
   ]
  },
  {
   "cell_type": "code",
   "execution_count": 21,
   "metadata": {},
   "outputs": [
    {
     "data": {
      "text/plain": [
       "['optimization:start', 'optimization:step', 'optimization:end']"
      ]
     },
     "execution_count": 21,
     "metadata": {},
     "output_type": "execute_result"
    }
   ],
   "source": [
    "DEFAULT_EVENTS"
   ]
  }
 ],
 "metadata": {
  "kernelspec": {
   "display_name": "Python 3.9.13 ('base')",
   "language": "python",
   "name": "python3"
  },
  "language_info": {
   "codemirror_mode": {
    "name": "ipython",
    "version": 3
   },
   "file_extension": ".py",
   "mimetype": "text/x-python",
   "name": "python",
   "nbconvert_exporter": "python",
   "pygments_lexer": "ipython3",
   "version": "3.9.13"
  },
  "vscode": {
   "interpreter": {
    "hash": "34cd7c78411e28399e4de8eeefd5f70c22472795dece7d63a5362eac4c8c7767"
   }
  }
 },
 "nbformat": 4,
 "nbformat_minor": 2
}
