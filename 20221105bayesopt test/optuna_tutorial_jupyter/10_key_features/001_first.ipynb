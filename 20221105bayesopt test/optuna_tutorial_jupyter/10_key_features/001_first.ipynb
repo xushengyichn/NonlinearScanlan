{
  "cells": [
    {
      "cell_type": "markdown",
      "metadata": {},
      "source": [
        "\n",
        "\n",
        "# 1. Lightweight, versatile, and platform agnostic architecture\n",
        "\n",
        "Optuna is entirely written in Python and has few dependencies.\n",
        "This means that we can quickly move to the real example once you get interested in Optuna.\n",
        "\n",
        "\n",
        "## Quadratic Function Example\n",
        "\n",
        "Usually, Optuna is used to optimize hyperparameters, but as an example,\n",
        "let's optimize a simple quadratic function: $(x - 2)^2$.\n"
      ]
    },
    {
      "cell_type": "markdown",
      "metadata": {},
      "source": [
        "First of all, import :mod:`optuna`.\n",
        "\n"
      ]
    },
    {
      "cell_type": "code",
      "execution_count": 2,
      "metadata": {
        "collapsed": false
      },
      "outputs": [],
      "source": [
        "import optuna"
      ]
    },
    {
      "cell_type": "markdown",
      "metadata": {},
      "source": [
        "In optuna, conventionally functions to be optimized are named `objective`.\n",
        "\n"
      ]
    },
    {
      "cell_type": "code",
      "execution_count": 1,
      "metadata": {
        "collapsed": false
      },
      "outputs": [],
      "source": [
        "def objective(trial):\n",
        "    x = trial.suggest_float(\"x\", -10, 10)\n",
        "    return (x - 2) ** 2"
      ]
    },
    {
      "cell_type": "markdown",
      "metadata": {},
      "source": [
        "This function returns the value of $(x - 2)^2$. Our goal is to find the value of ``x``\n",
        "that minimizes the output of the ``objective`` function. This is the \"optimization.\"\n",
        "During the optimization, Optuna repeatedly calls and evaluates the objective function with\n",
        "different values of ``x``.\n",
        "\n",
        "A :class:`~optuna.trial.Trial` object corresponds to a single execution of the objective\n",
        "function and is internally instantiated upon each invocation of the function.\n",
        "\n",
        "The `suggest` APIs (for example, :func:`~optuna.trial.Trial.suggest_float`) are called\n",
        "inside the objective function to obtain parameters for a trial.\n",
        ":func:`~optuna.trial.Trial.suggest_float` selects parameters uniformly within the range\n",
        "provided. In our example, from $-10$ to $10$.\n",
        "\n",
        "To start the optimization, we create a study object and pass the objective function to method\n",
        ":func:`~optuna.study.Study.optimize` as follows.\n",
        "\n"
      ]
    },
    {
      "cell_type": "code",
      "execution_count": 3,
      "metadata": {
        "collapsed": false
      },
      "outputs": [
        {
          "name": "stderr",
          "output_type": "stream",
          "text": [
            "\u001b[32m[I 2022-11-06 17:22:33,159]\u001b[0m A new study created in memory with name: no-name-6ea7aeae-e9d6-4262-a129-b31842151a04\u001b[0m\n",
            "\u001b[32m[I 2022-11-06 17:22:33,163]\u001b[0m Trial 0 finished with value: 0.029028124949426727 and parameters: {'x': 2.170376421342352}. Best is trial 0 with value: 0.029028124949426727.\u001b[0m\n",
            "\u001b[32m[I 2022-11-06 17:22:33,165]\u001b[0m Trial 1 finished with value: 80.49598329140777 and parameters: {'x': -6.971955377252373}. Best is trial 0 with value: 0.029028124949426727.\u001b[0m\n",
            "\u001b[32m[I 2022-11-06 17:22:33,166]\u001b[0m Trial 2 finished with value: 0.7783374315022215 and parameters: {'x': 2.8822343404686883}. Best is trial 0 with value: 0.029028124949426727.\u001b[0m\n",
            "\u001b[32m[I 2022-11-06 17:22:33,167]\u001b[0m Trial 3 finished with value: 106.2526388127818 and parameters: {'x': -8.307892064470883}. Best is trial 0 with value: 0.029028124949426727.\u001b[0m\n",
            "\u001b[32m[I 2022-11-06 17:22:33,168]\u001b[0m Trial 4 finished with value: 34.85442561506653 and parameters: {'x': -3.9037636821833015}. Best is trial 0 with value: 0.029028124949426727.\u001b[0m\n",
            "\u001b[32m[I 2022-11-06 17:22:33,170]\u001b[0m Trial 5 finished with value: 9.919181851655868 and parameters: {'x': 5.149473265747126}. Best is trial 0 with value: 0.029028124949426727.\u001b[0m\n",
            "\u001b[32m[I 2022-11-06 17:22:33,171]\u001b[0m Trial 6 finished with value: 7.082239727555287 and parameters: {'x': 4.661247776430313}. Best is trial 0 with value: 0.029028124949426727.\u001b[0m\n",
            "\u001b[32m[I 2022-11-06 17:22:33,173]\u001b[0m Trial 7 finished with value: 47.70617622811696 and parameters: {'x': -4.906965775803219}. Best is trial 0 with value: 0.029028124949426727.\u001b[0m\n",
            "\u001b[32m[I 2022-11-06 17:22:33,174]\u001b[0m Trial 8 finished with value: 0.23864788821442978 and parameters: {'x': 1.5114839939015}. Best is trial 0 with value: 0.029028124949426727.\u001b[0m\n",
            "\u001b[32m[I 2022-11-06 17:22:33,175]\u001b[0m Trial 9 finished with value: 47.469788358590364 and parameters: {'x': 8.889832244589876}. Best is trial 0 with value: 0.029028124949426727.\u001b[0m\n",
            "\u001b[32m[I 2022-11-06 17:22:33,741]\u001b[0m Trial 10 finished with value: 12.91920309585876 and parameters: {'x': -1.5943292970815512}. Best is trial 0 with value: 0.029028124949426727.\u001b[0m\n",
            "\u001b[32m[I 2022-11-06 17:22:33,745]\u001b[0m Trial 11 finished with value: 0.8515869904090522 and parameters: {'x': 1.07718528923242}. Best is trial 0 with value: 0.029028124949426727.\u001b[0m\n",
            "\u001b[32m[I 2022-11-06 17:22:33,748]\u001b[0m Trial 12 finished with value: 7.851647374585379 and parameters: {'x': -0.8020791164036355}. Best is trial 0 with value: 0.029028124949426727.\u001b[0m\n",
            "\u001b[32m[I 2022-11-06 17:22:33,752]\u001b[0m Trial 13 finished with value: 32.96800381853301 and parameters: {'x': 7.7417770610267524}. Best is trial 0 with value: 0.029028124949426727.\u001b[0m\n",
            "\u001b[32m[I 2022-11-06 17:22:33,756]\u001b[0m Trial 14 finished with value: 0.38105527206702006 and parameters: {'x': 1.3827032544496771}. Best is trial 0 with value: 0.029028124949426727.\u001b[0m\n",
            "\u001b[32m[I 2022-11-06 17:22:33,760]\u001b[0m Trial 15 finished with value: 12.798482794090221 and parameters: {'x': 5.577496721744161}. Best is trial 0 with value: 0.029028124949426727.\u001b[0m\n",
            "\u001b[32m[I 2022-11-06 17:22:33,765]\u001b[0m Trial 16 finished with value: 21.25332826502896 and parameters: {'x': -2.61013321554041}. Best is trial 0 with value: 0.029028124949426727.\u001b[0m\n",
            "\u001b[32m[I 2022-11-06 17:22:33,771]\u001b[0m Trial 17 finished with value: 0.8208182466358462 and parameters: {'x': 2.905990202284686}. Best is trial 0 with value: 0.029028124949426727.\u001b[0m\n",
            "\u001b[32m[I 2022-11-06 17:22:33,776]\u001b[0m Trial 18 finished with value: 2.2250873950785026 and parameters: {'x': 0.5083273163731588}. Best is trial 0 with value: 0.029028124949426727.\u001b[0m\n",
            "\u001b[32m[I 2022-11-06 17:22:33,780]\u001b[0m Trial 19 finished with value: 25.927721908738537 and parameters: {'x': 7.091927131130073}. Best is trial 0 with value: 0.029028124949426727.\u001b[0m\n",
            "\u001b[32m[I 2022-11-06 17:22:33,785]\u001b[0m Trial 20 finished with value: 0.4178999598671095 and parameters: {'x': 2.646451823314862}. Best is trial 0 with value: 0.029028124949426727.\u001b[0m\n",
            "\u001b[32m[I 2022-11-06 17:22:33,792]\u001b[0m Trial 21 finished with value: 0.8739020950003294 and parameters: {'x': 1.0651726924183647}. Best is trial 0 with value: 0.029028124949426727.\u001b[0m\n",
            "\u001b[32m[I 2022-11-06 17:22:33,796]\u001b[0m Trial 22 finished with value: 1.7974041412707156 and parameters: {'x': 3.3406730180288986}. Best is trial 0 with value: 0.029028124949426727.\u001b[0m\n",
            "\u001b[32m[I 2022-11-06 17:22:33,801]\u001b[0m Trial 23 finished with value: 5.0172978644480954 and parameters: {'x': -0.23993255801331997}. Best is trial 0 with value: 0.029028124949426727.\u001b[0m\n",
            "\u001b[32m[I 2022-11-06 17:22:33,805]\u001b[0m Trial 24 finished with value: 17.497714449688186 and parameters: {'x': -2.183026948238343}. Best is trial 0 with value: 0.029028124949426727.\u001b[0m\n",
            "\u001b[32m[I 2022-11-06 17:22:33,809]\u001b[0m Trial 25 finished with value: 0.17530569374896557 and parameters: {'x': 1.581304772240039}. Best is trial 0 with value: 0.029028124949426727.\u001b[0m\n",
            "\u001b[32m[I 2022-11-06 17:22:33,813]\u001b[0m Trial 26 finished with value: 4.891966735053389 and parameters: {'x': 4.211779088212335}. Best is trial 0 with value: 0.029028124949426727.\u001b[0m\n",
            "\u001b[32m[I 2022-11-06 17:22:33,817]\u001b[0m Trial 27 finished with value: 19.01414898580792 and parameters: {'x': 6.360521641479139}. Best is trial 0 with value: 0.029028124949426727.\u001b[0m\n",
            "\u001b[32m[I 2022-11-06 17:22:33,823]\u001b[0m Trial 28 finished with value: 0.03841005026006192 and parameters: {'x': 1.8040151784957266}. Best is trial 0 with value: 0.029028124949426727.\u001b[0m\n",
            "\u001b[32m[I 2022-11-06 17:22:33,827]\u001b[0m Trial 29 finished with value: 58.235322823952394 and parameters: {'x': -5.63120716688732}. Best is trial 0 with value: 0.029028124949426727.\u001b[0m\n",
            "\u001b[32m[I 2022-11-06 17:22:33,831]\u001b[0m Trial 30 finished with value: 31.475079555570844 and parameters: {'x': -3.610265551252529}. Best is trial 0 with value: 0.029028124949426727.\u001b[0m\n",
            "\u001b[32m[I 2022-11-06 17:22:33,837]\u001b[0m Trial 31 finished with value: 0.052126569737444645 and parameters: {'x': 1.771687561141657}. Best is trial 0 with value: 0.029028124949426727.\u001b[0m\n",
            "\u001b[32m[I 2022-11-06 17:22:33,841]\u001b[0m Trial 32 finished with value: 5.6768214114290805 and parameters: {'x': -0.3826081111733588}. Best is trial 0 with value: 0.029028124949426727.\u001b[0m\n",
            "\u001b[32m[I 2022-11-06 17:22:33,846]\u001b[0m Trial 33 finished with value: 0.03557575191037033 and parameters: {'x': 2.188615354386567}. Best is trial 0 with value: 0.029028124949426727.\u001b[0m\n",
            "\u001b[32m[I 2022-11-06 17:22:33,851]\u001b[0m Trial 34 finished with value: 3.4108519000510182 and parameters: {'x': 3.8468491817284427}. Best is trial 0 with value: 0.029028124949426727.\u001b[0m\n",
            "\u001b[32m[I 2022-11-06 17:22:33,855]\u001b[0m Trial 35 finished with value: 0.3500733486478182 and parameters: {'x': 2.5916699659842624}. Best is trial 0 with value: 0.029028124949426727.\u001b[0m\n",
            "\u001b[32m[I 2022-11-06 17:22:33,859]\u001b[0m Trial 36 finished with value: 12.723033923678928 and parameters: {'x': 5.566936209645321}. Best is trial 0 with value: 0.029028124949426727.\u001b[0m\n",
            "\u001b[32m[I 2022-11-06 17:22:33,864]\u001b[0m Trial 37 finished with value: 110.90679608043101 and parameters: {'x': -8.531229561662352}. Best is trial 0 with value: 0.029028124949426727.\u001b[0m\n",
            "\u001b[32m[I 2022-11-06 17:22:33,868]\u001b[0m Trial 38 finished with value: 0.043187650156875236 and parameters: {'x': 2.207816385679463}. Best is trial 0 with value: 0.029028124949426727.\u001b[0m\n",
            "\u001b[32m[I 2022-11-06 17:22:33,872]\u001b[0m Trial 39 finished with value: 10.462322652884442 and parameters: {'x': -1.2345513835591546}. Best is trial 0 with value: 0.029028124949426727.\u001b[0m\n",
            "\u001b[32m[I 2022-11-06 17:22:33,877]\u001b[0m Trial 40 finished with value: 6.3693978150274955 and parameters: {'x': 4.5237665928186575}. Best is trial 0 with value: 0.029028124949426727.\u001b[0m\n",
            "\u001b[32m[I 2022-11-06 17:22:33,881]\u001b[0m Trial 41 finished with value: 0.012556702603248133 and parameters: {'x': 2.112056693701216}. Best is trial 41 with value: 0.012556702603248133.\u001b[0m\n",
            "\u001b[32m[I 2022-11-06 17:22:33,885]\u001b[0m Trial 42 finished with value: 0.13653885749787453 and parameters: {'x': 2.3695116473101687}. Best is trial 41 with value: 0.012556702603248133.\u001b[0m\n",
            "\u001b[32m[I 2022-11-06 17:22:33,889]\u001b[0m Trial 43 finished with value: 2.734687709669478 and parameters: {'x': 0.34631087877150324}. Best is trial 41 with value: 0.012556702603248133.\u001b[0m\n",
            "\u001b[32m[I 2022-11-06 17:22:33,894]\u001b[0m Trial 44 finished with value: 2.6931625620848156 and parameters: {'x': 3.641085787545799}. Best is trial 41 with value: 0.012556702603248133.\u001b[0m\n",
            "\u001b[32m[I 2022-11-06 17:22:33,898]\u001b[0m Trial 45 finished with value: 2.237165419220772 and parameters: {'x': 0.5042843120362841}. Best is trial 41 with value: 0.012556702603248133.\u001b[0m\n",
            "\u001b[32m[I 2022-11-06 17:22:33,901]\u001b[0m Trial 46 finished with value: 0.011373077985011453 and parameters: {'x': 2.1066446341126053}. Best is trial 46 with value: 0.011373077985011453.\u001b[0m\n",
            "\u001b[32m[I 2022-11-06 17:22:33,908]\u001b[0m Trial 47 finished with value: 7.416343075355444 and parameters: {'x': 4.7232963620134045}. Best is trial 46 with value: 0.011373077985011453.\u001b[0m\n",
            "\u001b[32m[I 2022-11-06 17:22:33,912]\u001b[0m Trial 48 finished with value: 53.91235533627351 and parameters: {'x': 9.342503342612348}. Best is trial 46 with value: 0.011373077985011453.\u001b[0m\n",
            "\u001b[32m[I 2022-11-06 17:22:33,916]\u001b[0m Trial 49 finished with value: 1.9422025454354976 and parameters: {'x': 3.3936292711605542}. Best is trial 46 with value: 0.011373077985011453.\u001b[0m\n",
            "\u001b[32m[I 2022-11-06 17:22:33,921]\u001b[0m Trial 50 finished with value: 20.867728415321942 and parameters: {'x': 6.568120884490902}. Best is trial 46 with value: 0.011373077985011453.\u001b[0m\n",
            "\u001b[32m[I 2022-11-06 17:22:33,926]\u001b[0m Trial 51 finished with value: 0.028681724544954396 and parameters: {'x': 1.8306432034285178}. Best is trial 46 with value: 0.011373077985011453.\u001b[0m\n",
            "\u001b[32m[I 2022-11-06 17:22:33,931]\u001b[0m Trial 52 finished with value: 1.9907273545089696 and parameters: {'x': 0.5890686216158598}. Best is trial 46 with value: 0.011373077985011453.\u001b[0m\n",
            "\u001b[32m[I 2022-11-06 17:22:33,935]\u001b[0m Trial 53 finished with value: 7.700952623422701 and parameters: {'x': -0.775059030619475}. Best is trial 46 with value: 0.011373077985011453.\u001b[0m\n",
            "\u001b[32m[I 2022-11-06 17:22:33,938]\u001b[0m Trial 54 finished with value: 0.7473789262036596 and parameters: {'x': 1.1354891983302582}. Best is trial 46 with value: 0.011373077985011453.\u001b[0m\n",
            "\u001b[32m[I 2022-11-06 17:22:33,944]\u001b[0m Trial 55 finished with value: 2.0281072048316855e-05 and parameters: {'x': 2.0045034511264492}. Best is trial 55 with value: 2.0281072048316855e-05.\u001b[0m\n",
            "\u001b[32m[I 2022-11-06 17:22:33,948]\u001b[0m Trial 56 finished with value: 0.9891253868994216 and parameters: {'x': 2.9945478303728894}. Best is trial 55 with value: 2.0281072048316855e-05.\u001b[0m\n",
            "\u001b[32m[I 2022-11-06 17:22:33,953]\u001b[0m Trial 57 finished with value: 14.011181469043946 and parameters: {'x': -1.7431512752016776}. Best is trial 55 with value: 2.0281072048316855e-05.\u001b[0m\n",
            "\u001b[32m[I 2022-11-06 17:22:33,960]\u001b[0m Trial 58 finished with value: 10.404410127923153 and parameters: {'x': 5.225586788155475}. Best is trial 55 with value: 2.0281072048316855e-05.\u001b[0m\n",
            "\u001b[32m[I 2022-11-06 17:22:33,963]\u001b[0m Trial 59 finished with value: 4.287019175992895 and parameters: {'x': -0.07051181498510051}. Best is trial 55 with value: 2.0281072048316855e-05.\u001b[0m\n",
            "\u001b[32m[I 2022-11-06 17:22:33,967]\u001b[0m Trial 60 finished with value: 0.07419267098193173 and parameters: {'x': 2.272383316269429}. Best is trial 55 with value: 2.0281072048316855e-05.\u001b[0m\n",
            "\u001b[32m[I 2022-11-06 17:22:33,971]\u001b[0m Trial 61 finished with value: 0.18386879141148915 and parameters: {'x': 1.5712007562839119}. Best is trial 55 with value: 2.0281072048316855e-05.\u001b[0m\n",
            "\u001b[32m[I 2022-11-06 17:22:33,979]\u001b[0m Trial 62 finished with value: 128.84607392456505 and parameters: {'x': -9.351038451373736}. Best is trial 55 with value: 2.0281072048316855e-05.\u001b[0m\n",
            "\u001b[32m[I 2022-11-06 17:22:33,983]\u001b[0m Trial 63 finished with value: 1.137838689330986 and parameters: {'x': 0.9333047814248974}. Best is trial 55 with value: 2.0281072048316855e-05.\u001b[0m\n",
            "\u001b[32m[I 2022-11-06 17:22:33,988]\u001b[0m Trial 64 finished with value: 0.06207119707149502 and parameters: {'x': 1.7508590819004333}. Best is trial 55 with value: 2.0281072048316855e-05.\u001b[0m\n",
            "\u001b[32m[I 2022-11-06 17:22:33,991]\u001b[0m Trial 65 finished with value: 1.3976440112430557 and parameters: {'x': 3.1822199504504463}. Best is trial 55 with value: 2.0281072048316855e-05.\u001b[0m\n",
            "\u001b[32m[I 2022-11-06 17:22:33,996]\u001b[0m Trial 66 finished with value: 4.744908080076386 and parameters: {'x': 4.178280991992628}. Best is trial 55 with value: 2.0281072048316855e-05.\u001b[0m\n",
            "\u001b[32m[I 2022-11-06 17:22:34,001]\u001b[0m Trial 67 finished with value: 0.007486350194499699 and parameters: {'x': 2.0865236973002177}. Best is trial 55 with value: 2.0281072048316855e-05.\u001b[0m\n",
            "\u001b[32m[I 2022-11-06 17:22:34,006]\u001b[0m Trial 68 finished with value: 0.3935167667480584 and parameters: {'x': 2.6273091476680843}. Best is trial 55 with value: 2.0281072048316855e-05.\u001b[0m\n",
            "\u001b[32m[I 2022-11-06 17:22:34,010]\u001b[0m Trial 69 finished with value: 3.6213040559007634 and parameters: {'x': 3.9029724264688554}. Best is trial 55 with value: 2.0281072048316855e-05.\u001b[0m\n",
            "\u001b[32m[I 2022-11-06 17:22:34,017]\u001b[0m Trial 70 finished with value: 0.0014404030947378634 and parameters: {'x': 2.0379526427899015}. Best is trial 55 with value: 2.0281072048316855e-05.\u001b[0m\n",
            "\u001b[32m[I 2022-11-06 17:22:34,023]\u001b[0m Trial 71 finished with value: 0.02280263890266082 and parameters: {'x': 2.151005426732488}. Best is trial 55 with value: 2.0281072048316855e-05.\u001b[0m\n",
            "\u001b[32m[I 2022-11-06 17:22:34,027]\u001b[0m Trial 72 finished with value: 0.9870019082183555 and parameters: {'x': 1.0065203030668641}. Best is trial 55 with value: 2.0281072048316855e-05.\u001b[0m\n",
            "\u001b[32m[I 2022-11-06 17:22:34,031]\u001b[0m Trial 73 finished with value: 1.1407714677393088 and parameters: {'x': 3.0680690369724744}. Best is trial 55 with value: 2.0281072048316855e-05.\u001b[0m\n",
            "\u001b[32m[I 2022-11-06 17:22:34,036]\u001b[0m Trial 74 finished with value: 4.001163876772954 and parameters: {'x': -0.0002909480305492984}. Best is trial 55 with value: 2.0281072048316855e-05.\u001b[0m\n",
            "\u001b[32m[I 2022-11-06 17:22:34,041]\u001b[0m Trial 75 finished with value: 9.760935233811668e-05 and parameters: {'x': 1.9901202554517783}. Best is trial 55 with value: 2.0281072048316855e-05.\u001b[0m\n",
            "\u001b[32m[I 2022-11-06 17:22:34,045]\u001b[0m Trial 76 finished with value: 0.00037681248198481027 and parameters: {'x': 1.980588341596226}. Best is trial 55 with value: 2.0281072048316855e-05.\u001b[0m\n",
            "\u001b[32m[I 2022-11-06 17:22:34,050]\u001b[0m Trial 77 finished with value: 8.277908445997221 and parameters: {'x': -0.8771354584025448}. Best is trial 55 with value: 2.0281072048316855e-05.\u001b[0m\n",
            "\u001b[32m[I 2022-11-06 17:22:34,054]\u001b[0m Trial 78 finished with value: 0.5025642577146706 and parameters: {'x': 1.2910823336136483}. Best is trial 55 with value: 2.0281072048316855e-05.\u001b[0m\n",
            "\u001b[32m[I 2022-11-06 17:22:34,060]\u001b[0m Trial 79 finished with value: 0.5873961561786852 and parameters: {'x': 2.7664177426043093}. Best is trial 55 with value: 2.0281072048316855e-05.\u001b[0m\n",
            "\u001b[32m[I 2022-11-06 17:22:34,064]\u001b[0m Trial 80 finished with value: 2.517086443373808 and parameters: {'x': 3.5865328371558554}. Best is trial 55 with value: 2.0281072048316855e-05.\u001b[0m\n",
            "\u001b[32m[I 2022-11-06 17:22:34,068]\u001b[0m Trial 81 finished with value: 0.002131688404176178 and parameters: {'x': 1.9538297887791687}. Best is trial 55 with value: 2.0281072048316855e-05.\u001b[0m\n",
            "\u001b[32m[I 2022-11-06 17:22:34,072]\u001b[0m Trial 82 finished with value: 0.004513859680914946 and parameters: {'x': 2.067185263867272}. Best is trial 55 with value: 2.0281072048316855e-05.\u001b[0m\n",
            "\u001b[32m[I 2022-11-06 17:22:34,076]\u001b[0m Trial 83 finished with value: 0.0007854200585341454 and parameters: {'x': 1.9719746532843188}. Best is trial 55 with value: 2.0281072048316855e-05.\u001b[0m\n",
            "\u001b[32m[I 2022-11-06 17:22:34,081]\u001b[0m Trial 84 finished with value: 2.2207324786378133 and parameters: {'x': 0.5097877739604291}. Best is trial 55 with value: 2.0281072048316855e-05.\u001b[0m\n",
            "\u001b[32m[I 2022-11-06 17:22:34,085]\u001b[0m Trial 85 finished with value: 7.4358076731856935 and parameters: {'x': 4.726867740317761}. Best is trial 55 with value: 2.0281072048316855e-05.\u001b[0m\n",
            "\u001b[32m[I 2022-11-06 17:22:34,089]\u001b[0m Trial 86 finished with value: 0.34254319541285944 and parameters: {'x': 1.4147281012957658}. Best is trial 55 with value: 2.0281072048316855e-05.\u001b[0m\n",
            "\u001b[32m[I 2022-11-06 17:22:34,094]\u001b[0m Trial 87 finished with value: 1.6016418729348678 and parameters: {'x': 0.7344400950824699}. Best is trial 55 with value: 2.0281072048316855e-05.\u001b[0m\n",
            "\u001b[32m[I 2022-11-06 17:22:34,099]\u001b[0m Trial 88 finished with value: 3.459813338399105 and parameters: {'x': 0.13994265185207122}. Best is trial 55 with value: 2.0281072048316855e-05.\u001b[0m\n",
            "\u001b[32m[I 2022-11-06 17:22:34,105]\u001b[0m Trial 89 finished with value: 0.6760334634047921 and parameters: {'x': 2.8222125415029815}. Best is trial 55 with value: 2.0281072048316855e-05.\u001b[0m\n",
            "\u001b[32m[I 2022-11-06 17:22:34,111]\u001b[0m Trial 90 finished with value: 6.670874204329165 and parameters: {'x': -0.5828035551178035}. Best is trial 55 with value: 2.0281072048316855e-05.\u001b[0m\n",
            "\u001b[32m[I 2022-11-06 17:22:34,117]\u001b[0m Trial 91 finished with value: 0.0032951935584087243 and parameters: {'x': 2.057403776516957}. Best is trial 55 with value: 2.0281072048316855e-05.\u001b[0m\n",
            "\u001b[32m[I 2022-11-06 17:22:34,123]\u001b[0m Trial 92 finished with value: 0.0007487999008085927 and parameters: {'x': 2.0273642083899497}. Best is trial 55 with value: 2.0281072048316855e-05.\u001b[0m\n",
            "\u001b[32m[I 2022-11-06 17:22:34,130]\u001b[0m Trial 93 finished with value: 0.07431161679611217 and parameters: {'x': 1.7273984284782786}. Best is trial 55 with value: 2.0281072048316855e-05.\u001b[0m\n",
            "\u001b[32m[I 2022-11-06 17:22:34,135]\u001b[0m Trial 94 finished with value: 1.9316747917737493 and parameters: {'x': 3.389847038984416}. Best is trial 55 with value: 2.0281072048316855e-05.\u001b[0m\n",
            "\u001b[32m[I 2022-11-06 17:22:34,142]\u001b[0m Trial 95 finished with value: 4.151513889090922 and parameters: {'x': 4.037526414329621}. Best is trial 55 with value: 2.0281072048316855e-05.\u001b[0m\n",
            "\u001b[32m[I 2022-11-06 17:22:34,146]\u001b[0m Trial 96 finished with value: 0.291794944304424 and parameters: {'x': 2.5401804738274274}. Best is trial 55 with value: 2.0281072048316855e-05.\u001b[0m\n",
            "\u001b[32m[I 2022-11-06 17:22:34,153]\u001b[0m Trial 97 finished with value: 0.4633631600863056 and parameters: {'x': 1.319292162461526}. Best is trial 55 with value: 2.0281072048316855e-05.\u001b[0m\n",
            "\u001b[32m[I 2022-11-06 17:22:34,157]\u001b[0m Trial 98 finished with value: 0.021559868668582248 and parameters: {'x': 1.8531672084696942}. Best is trial 55 with value: 2.0281072048316855e-05.\u001b[0m\n",
            "\u001b[32m[I 2022-11-06 17:22:34,163]\u001b[0m Trial 99 finished with value: 1.2953359661983848 and parameters: {'x': 0.8618717268258447}. Best is trial 55 with value: 2.0281072048316855e-05.\u001b[0m\n"
          ]
        }
      ],
      "source": [
        "study = optuna.create_study()\n",
        "study.optimize(objective, n_trials=100)"
      ]
    },
    {
      "cell_type": "markdown",
      "metadata": {},
      "source": [
        "You can get the best parameter as follows.\n",
        "\n"
      ]
    },
    {
      "cell_type": "code",
      "execution_count": 4,
      "metadata": {
        "collapsed": false
      },
      "outputs": [
        {
          "name": "stdout",
          "output_type": "stream",
          "text": [
            "Found x: 2.0045034511264492, (x - 2)^2: 2.0281072048316855e-05\n"
          ]
        }
      ],
      "source": [
        "best_params = study.best_params\n",
        "found_x = best_params[\"x\"]\n",
        "print(\"Found x: {}, (x - 2)^2: {}\".format(found_x, (found_x - 2) ** 2))"
      ]
    },
    {
      "cell_type": "markdown",
      "metadata": {},
      "source": [
        "We can see that the ``x`` value found by Optuna is close to the optimal value of ``2``.\n",
        "\n"
      ]
    },
    {
      "cell_type": "markdown",
      "metadata": {},
      "source": [
        "<div class=\"alert alert-info\"><h4>Note</h4><p>When used to search for hyperparameters in machine learning,\n",
        "    usually the objective function would return the loss or accuracy\n",
        "    of the model.</p></div>\n",
        "\n"
      ]
    },
    {
      "cell_type": "markdown",
      "metadata": {},
      "source": [
        "## Study Object\n",
        "\n",
        "Let us clarify the terminology in Optuna as follows:\n",
        "\n",
        "* **Trial**: A single call of the objective function\n",
        "* **Study**: An optimization session, which is a set of trials\n",
        "* **Parameter**: A variable whose value is to be optimized, such as ``x`` in the above example\n",
        "\n",
        "In Optuna, we use the study object to manage optimization.\n",
        "Method :func:`~optuna.study.create_study` returns a study object.\n",
        "A study object has useful properties for analyzing the optimization outcome.\n",
        "\n"
      ]
    },
    {
      "cell_type": "markdown",
      "metadata": {},
      "source": [
        "To get the dictionary of parameter name and parameter values:\n",
        "\n"
      ]
    },
    {
      "cell_type": "code",
      "execution_count": 5,
      "metadata": {
        "collapsed": false
      },
      "outputs": [
        {
          "data": {
            "text/plain": [
              "{'x': 2.0045034511264492}"
            ]
          },
          "execution_count": 5,
          "metadata": {},
          "output_type": "execute_result"
        }
      ],
      "source": [
        "study.best_params"
      ]
    },
    {
      "cell_type": "markdown",
      "metadata": {},
      "source": [
        "To get the best observed value of the objective function:\n",
        "\n"
      ]
    },
    {
      "cell_type": "code",
      "execution_count": 6,
      "metadata": {
        "collapsed": false
      },
      "outputs": [
        {
          "data": {
            "text/plain": [
              "2.0281072048316855e-05"
            ]
          },
          "execution_count": 6,
          "metadata": {},
          "output_type": "execute_result"
        }
      ],
      "source": [
        "study.best_value"
      ]
    },
    {
      "cell_type": "markdown",
      "metadata": {},
      "source": [
        "To get the best trial:\n",
        "\n"
      ]
    },
    {
      "cell_type": "code",
      "execution_count": 7,
      "metadata": {
        "collapsed": false
      },
      "outputs": [
        {
          "data": {
            "text/plain": [
              "FrozenTrial(number=55, values=[2.0281072048316855e-05], datetime_start=datetime.datetime(2022, 11, 6, 17, 22, 33, 940964), datetime_complete=datetime.datetime(2022, 11, 6, 17, 22, 33, 943513), params={'x': 2.0045034511264492}, distributions={'x': FloatDistribution(high=10.0, log=False, low=-10.0, step=None)}, user_attrs={}, system_attrs={}, intermediate_values={}, trial_id=55, state=TrialState.COMPLETE, value=None)"
            ]
          },
          "execution_count": 7,
          "metadata": {},
          "output_type": "execute_result"
        }
      ],
      "source": [
        "study.best_trial"
      ]
    },
    {
      "cell_type": "markdown",
      "metadata": {},
      "source": [
        "To get all trials:\n",
        "\n"
      ]
    },
    {
      "cell_type": "code",
      "execution_count": 8,
      "metadata": {
        "collapsed": false
      },
      "outputs": [
        {
          "data": {
            "text/plain": [
              "[FrozenTrial(number=0, values=[0.029028124949426727], datetime_start=datetime.datetime(2022, 11, 6, 17, 22, 33, 161789), datetime_complete=datetime.datetime(2022, 11, 6, 17, 22, 33, 162787), params={'x': 2.170376421342352}, distributions={'x': FloatDistribution(high=10.0, log=False, low=-10.0, step=None)}, user_attrs={}, system_attrs={}, intermediate_values={}, trial_id=0, state=TrialState.COMPLETE, value=None),\n",
              " FrozenTrial(number=1, values=[80.49598329140777], datetime_start=datetime.datetime(2022, 11, 6, 17, 22, 33, 164788), datetime_complete=datetime.datetime(2022, 11, 6, 17, 22, 33, 165789), params={'x': -6.971955377252373}, distributions={'x': FloatDistribution(high=10.0, log=False, low=-10.0, step=None)}, user_attrs={}, system_attrs={}, intermediate_values={}, trial_id=1, state=TrialState.COMPLETE, value=None),\n",
              " FrozenTrial(number=2, values=[0.7783374315022215], datetime_start=datetime.datetime(2022, 11, 6, 17, 22, 33, 166787), datetime_complete=datetime.datetime(2022, 11, 6, 17, 22, 33, 166787), params={'x': 2.8822343404686883}, distributions={'x': FloatDistribution(high=10.0, log=False, low=-10.0, step=None)}, user_attrs={}, system_attrs={}, intermediate_values={}, trial_id=2, state=TrialState.COMPLETE, value=None),\n",
              " FrozenTrial(number=3, values=[106.2526388127818], datetime_start=datetime.datetime(2022, 11, 6, 17, 22, 33, 167789), datetime_complete=datetime.datetime(2022, 11, 6, 17, 22, 33, 167789), params={'x': -8.307892064470883}, distributions={'x': FloatDistribution(high=10.0, log=False, low=-10.0, step=None)}, user_attrs={}, system_attrs={}, intermediate_values={}, trial_id=3, state=TrialState.COMPLETE, value=None),\n",
              " FrozenTrial(number=4, values=[34.85442561506653], datetime_start=datetime.datetime(2022, 11, 6, 17, 22, 33, 168788), datetime_complete=datetime.datetime(2022, 11, 6, 17, 22, 33, 168788), params={'x': -3.9037636821833015}, distributions={'x': FloatDistribution(high=10.0, log=False, low=-10.0, step=None)}, user_attrs={}, system_attrs={}, intermediate_values={}, trial_id=4, state=TrialState.COMPLETE, value=None),\n",
              " FrozenTrial(number=5, values=[9.919181851655868], datetime_start=datetime.datetime(2022, 11, 6, 17, 22, 33, 169787), datetime_complete=datetime.datetime(2022, 11, 6, 17, 22, 33, 170788), params={'x': 5.149473265747126}, distributions={'x': FloatDistribution(high=10.0, log=False, low=-10.0, step=None)}, user_attrs={}, system_attrs={}, intermediate_values={}, trial_id=5, state=TrialState.COMPLETE, value=None),\n",
              " FrozenTrial(number=6, values=[7.082239727555287], datetime_start=datetime.datetime(2022, 11, 6, 17, 22, 33, 171620), datetime_complete=datetime.datetime(2022, 11, 6, 17, 22, 33, 171620), params={'x': 4.661247776430313}, distributions={'x': FloatDistribution(high=10.0, log=False, low=-10.0, step=None)}, user_attrs={}, system_attrs={}, intermediate_values={}, trial_id=6, state=TrialState.COMPLETE, value=None),\n",
              " FrozenTrial(number=7, values=[47.70617622811696], datetime_start=datetime.datetime(2022, 11, 6, 17, 22, 33, 172627), datetime_complete=datetime.datetime(2022, 11, 6, 17, 22, 33, 173627), params={'x': -4.906965775803219}, distributions={'x': FloatDistribution(high=10.0, log=False, low=-10.0, step=None)}, user_attrs={}, system_attrs={}, intermediate_values={}, trial_id=7, state=TrialState.COMPLETE, value=None),\n",
              " FrozenTrial(number=8, values=[0.23864788821442978], datetime_start=datetime.datetime(2022, 11, 6, 17, 22, 33, 174628), datetime_complete=datetime.datetime(2022, 11, 6, 17, 22, 33, 174628), params={'x': 1.5114839939015}, distributions={'x': FloatDistribution(high=10.0, log=False, low=-10.0, step=None)}, user_attrs={}, system_attrs={}, intermediate_values={}, trial_id=8, state=TrialState.COMPLETE, value=None),\n",
              " FrozenTrial(number=9, values=[47.469788358590364], datetime_start=datetime.datetime(2022, 11, 6, 17, 22, 33, 175626), datetime_complete=datetime.datetime(2022, 11, 6, 17, 22, 33, 175626), params={'x': 8.889832244589876}, distributions={'x': FloatDistribution(high=10.0, log=False, low=-10.0, step=None)}, user_attrs={}, system_attrs={}, intermediate_values={}, trial_id=9, state=TrialState.COMPLETE, value=None),\n",
              " FrozenTrial(number=10, values=[12.91920309585876], datetime_start=datetime.datetime(2022, 11, 6, 17, 22, 33, 176627), datetime_complete=datetime.datetime(2022, 11, 6, 17, 22, 33, 741116), params={'x': -1.5943292970815512}, distributions={'x': FloatDistribution(high=10.0, log=False, low=-10.0, step=None)}, user_attrs={}, system_attrs={}, intermediate_values={}, trial_id=10, state=TrialState.COMPLETE, value=None),\n",
              " FrozenTrial(number=11, values=[0.8515869904090522], datetime_start=datetime.datetime(2022, 11, 6, 17, 22, 33, 742117), datetime_complete=datetime.datetime(2022, 11, 6, 17, 22, 33, 745114), params={'x': 1.07718528923242}, distributions={'x': FloatDistribution(high=10.0, log=False, low=-10.0, step=None)}, user_attrs={}, system_attrs={}, intermediate_values={}, trial_id=11, state=TrialState.COMPLETE, value=None),\n",
              " FrozenTrial(number=12, values=[7.851647374585379], datetime_start=datetime.datetime(2022, 11, 6, 17, 22, 33, 746115), datetime_complete=datetime.datetime(2022, 11, 6, 17, 22, 33, 748114), params={'x': -0.8020791164036355}, distributions={'x': FloatDistribution(high=10.0, log=False, low=-10.0, step=None)}, user_attrs={}, system_attrs={}, intermediate_values={}, trial_id=12, state=TrialState.COMPLETE, value=None),\n",
              " FrozenTrial(number=13, values=[32.96800381853301], datetime_start=datetime.datetime(2022, 11, 6, 17, 22, 33, 749115), datetime_complete=datetime.datetime(2022, 11, 6, 17, 22, 33, 752115), params={'x': 7.7417770610267524}, distributions={'x': FloatDistribution(high=10.0, log=False, low=-10.0, step=None)}, user_attrs={}, system_attrs={}, intermediate_values={}, trial_id=13, state=TrialState.COMPLETE, value=None),\n",
              " FrozenTrial(number=14, values=[0.38105527206702006], datetime_start=datetime.datetime(2022, 11, 6, 17, 22, 33, 753149), datetime_complete=datetime.datetime(2022, 11, 6, 17, 22, 33, 756146), params={'x': 1.3827032544496771}, distributions={'x': FloatDistribution(high=10.0, log=False, low=-10.0, step=None)}, user_attrs={}, system_attrs={}, intermediate_values={}, trial_id=14, state=TrialState.COMPLETE, value=None),\n",
              " FrozenTrial(number=15, values=[12.798482794090221], datetime_start=datetime.datetime(2022, 11, 6, 17, 22, 33, 757116), datetime_complete=datetime.datetime(2022, 11, 6, 17, 22, 33, 760117), params={'x': 5.577496721744161}, distributions={'x': FloatDistribution(high=10.0, log=False, low=-10.0, step=None)}, user_attrs={}, system_attrs={}, intermediate_values={}, trial_id=15, state=TrialState.COMPLETE, value=None),\n",
              " FrozenTrial(number=16, values=[21.25332826502896], datetime_start=datetime.datetime(2022, 11, 6, 17, 22, 33, 761114), datetime_complete=datetime.datetime(2022, 11, 6, 17, 22, 33, 765116), params={'x': -2.61013321554041}, distributions={'x': FloatDistribution(high=10.0, log=False, low=-10.0, step=None)}, user_attrs={}, system_attrs={}, intermediate_values={}, trial_id=16, state=TrialState.COMPLETE, value=None),\n",
              " FrozenTrial(number=17, values=[0.8208182466358462], datetime_start=datetime.datetime(2022, 11, 6, 17, 22, 33, 766115), datetime_complete=datetime.datetime(2022, 11, 6, 17, 22, 33, 771924), params={'x': 2.905990202284686}, distributions={'x': FloatDistribution(high=10.0, log=False, low=-10.0, step=None)}, user_attrs={}, system_attrs={}, intermediate_values={}, trial_id=17, state=TrialState.COMPLETE, value=None),\n",
              " FrozenTrial(number=18, values=[2.2250873950785026], datetime_start=datetime.datetime(2022, 11, 6, 17, 22, 33, 772921), datetime_complete=datetime.datetime(2022, 11, 6, 17, 22, 33, 776316), params={'x': 0.5083273163731588}, distributions={'x': FloatDistribution(high=10.0, log=False, low=-10.0, step=None)}, user_attrs={}, system_attrs={}, intermediate_values={}, trial_id=18, state=TrialState.COMPLETE, value=None),\n",
              " FrozenTrial(number=19, values=[25.927721908738537], datetime_start=datetime.datetime(2022, 11, 6, 17, 22, 33, 777322), datetime_complete=datetime.datetime(2022, 11, 6, 17, 22, 33, 779323), params={'x': 7.091927131130073}, distributions={'x': FloatDistribution(high=10.0, log=False, low=-10.0, step=None)}, user_attrs={}, system_attrs={}, intermediate_values={}, trial_id=19, state=TrialState.COMPLETE, value=None),\n",
              " FrozenTrial(number=20, values=[0.4178999598671095], datetime_start=datetime.datetime(2022, 11, 6, 17, 22, 33, 780322), datetime_complete=datetime.datetime(2022, 11, 6, 17, 22, 33, 785326), params={'x': 2.646451823314862}, distributions={'x': FloatDistribution(high=10.0, log=False, low=-10.0, step=None)}, user_attrs={}, system_attrs={}, intermediate_values={}, trial_id=20, state=TrialState.COMPLETE, value=None),\n",
              " FrozenTrial(number=21, values=[0.8739020950003294], datetime_start=datetime.datetime(2022, 11, 6, 17, 22, 33, 787324), datetime_complete=datetime.datetime(2022, 11, 6, 17, 22, 33, 792323), params={'x': 1.0651726924183647}, distributions={'x': FloatDistribution(high=10.0, log=False, low=-10.0, step=None)}, user_attrs={}, system_attrs={}, intermediate_values={}, trial_id=21, state=TrialState.COMPLETE, value=None),\n",
              " FrozenTrial(number=22, values=[1.7974041412707156], datetime_start=datetime.datetime(2022, 11, 6, 17, 22, 33, 793324), datetime_complete=datetime.datetime(2022, 11, 6, 17, 22, 33, 796323), params={'x': 3.3406730180288986}, distributions={'x': FloatDistribution(high=10.0, log=False, low=-10.0, step=None)}, user_attrs={}, system_attrs={}, intermediate_values={}, trial_id=22, state=TrialState.COMPLETE, value=None),\n",
              " FrozenTrial(number=23, values=[5.0172978644480954], datetime_start=datetime.datetime(2022, 11, 6, 17, 22, 33, 797477), datetime_complete=datetime.datetime(2022, 11, 6, 17, 22, 33, 800483), params={'x': -0.23993255801331997}, distributions={'x': FloatDistribution(high=10.0, log=False, low=-10.0, step=None)}, user_attrs={}, system_attrs={}, intermediate_values={}, trial_id=23, state=TrialState.COMPLETE, value=None),\n",
              " FrozenTrial(number=24, values=[17.497714449688186], datetime_start=datetime.datetime(2022, 11, 6, 17, 22, 33, 802483), datetime_complete=datetime.datetime(2022, 11, 6, 17, 22, 33, 805513), params={'x': -2.183026948238343}, distributions={'x': FloatDistribution(high=10.0, log=False, low=-10.0, step=None)}, user_attrs={}, system_attrs={}, intermediate_values={}, trial_id=24, state=TrialState.COMPLETE, value=None),\n",
              " FrozenTrial(number=25, values=[0.17530569374896557], datetime_start=datetime.datetime(2022, 11, 6, 17, 22, 33, 806482), datetime_complete=datetime.datetime(2022, 11, 6, 17, 22, 33, 809488), params={'x': 1.581304772240039}, distributions={'x': FloatDistribution(high=10.0, log=False, low=-10.0, step=None)}, user_attrs={}, system_attrs={}, intermediate_values={}, trial_id=25, state=TrialState.COMPLETE, value=None),\n",
              " FrozenTrial(number=26, values=[4.891966735053389], datetime_start=datetime.datetime(2022, 11, 6, 17, 22, 33, 809488), datetime_complete=datetime.datetime(2022, 11, 6, 17, 22, 33, 813490), params={'x': 4.211779088212335}, distributions={'x': FloatDistribution(high=10.0, log=False, low=-10.0, step=None)}, user_attrs={}, system_attrs={}, intermediate_values={}, trial_id=26, state=TrialState.COMPLETE, value=None),\n",
              " FrozenTrial(number=27, values=[19.01414898580792], datetime_start=datetime.datetime(2022, 11, 6, 17, 22, 33, 815490), datetime_complete=datetime.datetime(2022, 11, 6, 17, 22, 33, 817488), params={'x': 6.360521641479139}, distributions={'x': FloatDistribution(high=10.0, log=False, low=-10.0, step=None)}, user_attrs={}, system_attrs={}, intermediate_values={}, trial_id=27, state=TrialState.COMPLETE, value=None),\n",
              " FrozenTrial(number=28, values=[0.03841005026006192], datetime_start=datetime.datetime(2022, 11, 6, 17, 22, 33, 818488), datetime_complete=datetime.datetime(2022, 11, 6, 17, 22, 33, 823770), params={'x': 1.8040151784957266}, distributions={'x': FloatDistribution(high=10.0, log=False, low=-10.0, step=None)}, user_attrs={}, system_attrs={}, intermediate_values={}, trial_id=28, state=TrialState.COMPLETE, value=None),\n",
              " FrozenTrial(number=29, values=[58.235322823952394], datetime_start=datetime.datetime(2022, 11, 6, 17, 22, 33, 824768), datetime_complete=datetime.datetime(2022, 11, 6, 17, 22, 33, 827771), params={'x': -5.63120716688732}, distributions={'x': FloatDistribution(high=10.0, log=False, low=-10.0, step=None)}, user_attrs={}, system_attrs={}, intermediate_values={}, trial_id=29, state=TrialState.COMPLETE, value=None),\n",
              " FrozenTrial(number=30, values=[31.475079555570844], datetime_start=datetime.datetime(2022, 11, 6, 17, 22, 33, 828770), datetime_complete=datetime.datetime(2022, 11, 6, 17, 22, 33, 831770), params={'x': -3.610265551252529}, distributions={'x': FloatDistribution(high=10.0, log=False, low=-10.0, step=None)}, user_attrs={}, system_attrs={}, intermediate_values={}, trial_id=30, state=TrialState.COMPLETE, value=None),\n",
              " FrozenTrial(number=31, values=[0.052126569737444645], datetime_start=datetime.datetime(2022, 11, 6, 17, 22, 33, 832768), datetime_complete=datetime.datetime(2022, 11, 6, 17, 22, 33, 836769), params={'x': 1.771687561141657}, distributions={'x': FloatDistribution(high=10.0, log=False, low=-10.0, step=None)}, user_attrs={}, system_attrs={}, intermediate_values={}, trial_id=31, state=TrialState.COMPLETE, value=None),\n",
              " FrozenTrial(number=32, values=[5.6768214114290805], datetime_start=datetime.datetime(2022, 11, 6, 17, 22, 33, 837769), datetime_complete=datetime.datetime(2022, 11, 6, 17, 22, 33, 841769), params={'x': -0.3826081111733588}, distributions={'x': FloatDistribution(high=10.0, log=False, low=-10.0, step=None)}, user_attrs={}, system_attrs={}, intermediate_values={}, trial_id=32, state=TrialState.COMPLETE, value=None),\n",
              " FrozenTrial(number=33, values=[0.03557575191037033], datetime_start=datetime.datetime(2022, 11, 6, 17, 22, 33, 842770), datetime_complete=datetime.datetime(2022, 11, 6, 17, 22, 33, 845768), params={'x': 2.188615354386567}, distributions={'x': FloatDistribution(high=10.0, log=False, low=-10.0, step=None)}, user_attrs={}, system_attrs={}, intermediate_values={}, trial_id=33, state=TrialState.COMPLETE, value=None),\n",
              " FrozenTrial(number=34, values=[3.4108519000510182], datetime_start=datetime.datetime(2022, 11, 6, 17, 22, 33, 846770), datetime_complete=datetime.datetime(2022, 11, 6, 17, 22, 33, 850773), params={'x': 3.8468491817284427}, distributions={'x': FloatDistribution(high=10.0, log=False, low=-10.0, step=None)}, user_attrs={}, system_attrs={}, intermediate_values={}, trial_id=34, state=TrialState.COMPLETE, value=None),\n",
              " FrozenTrial(number=35, values=[0.3500733486478182], datetime_start=datetime.datetime(2022, 11, 6, 17, 22, 33, 851775), datetime_complete=datetime.datetime(2022, 11, 6, 17, 22, 33, 854771), params={'x': 2.5916699659842624}, distributions={'x': FloatDistribution(high=10.0, log=False, low=-10.0, step=None)}, user_attrs={}, system_attrs={}, intermediate_values={}, trial_id=35, state=TrialState.COMPLETE, value=None),\n",
              " FrozenTrial(number=36, values=[12.723033923678928], datetime_start=datetime.datetime(2022, 11, 6, 17, 22, 33, 856770), datetime_complete=datetime.datetime(2022, 11, 6, 17, 22, 33, 859770), params={'x': 5.566936209645321}, distributions={'x': FloatDistribution(high=10.0, log=False, low=-10.0, step=None)}, user_attrs={}, system_attrs={}, intermediate_values={}, trial_id=36, state=TrialState.COMPLETE, value=None),\n",
              " FrozenTrial(number=37, values=[110.90679608043101], datetime_start=datetime.datetime(2022, 11, 6, 17, 22, 33, 861770), datetime_complete=datetime.datetime(2022, 11, 6, 17, 22, 33, 863770), params={'x': -8.531229561662352}, distributions={'x': FloatDistribution(high=10.0, log=False, low=-10.0, step=None)}, user_attrs={}, system_attrs={}, intermediate_values={}, trial_id=37, state=TrialState.COMPLETE, value=None),\n",
              " FrozenTrial(number=38, values=[0.043187650156875236], datetime_start=datetime.datetime(2022, 11, 6, 17, 22, 33, 864770), datetime_complete=datetime.datetime(2022, 11, 6, 17, 22, 33, 867770), params={'x': 2.207816385679463}, distributions={'x': FloatDistribution(high=10.0, log=False, low=-10.0, step=None)}, user_attrs={}, system_attrs={}, intermediate_values={}, trial_id=38, state=TrialState.COMPLETE, value=None),\n",
              " FrozenTrial(number=39, values=[10.462322652884442], datetime_start=datetime.datetime(2022, 11, 6, 17, 22, 33, 868769), datetime_complete=datetime.datetime(2022, 11, 6, 17, 22, 33, 872823), params={'x': -1.2345513835591546}, distributions={'x': FloatDistribution(high=10.0, log=False, low=-10.0, step=None)}, user_attrs={}, system_attrs={}, intermediate_values={}, trial_id=39, state=TrialState.COMPLETE, value=None),\n",
              " FrozenTrial(number=40, values=[6.3693978150274955], datetime_start=datetime.datetime(2022, 11, 6, 17, 22, 33, 873830), datetime_complete=datetime.datetime(2022, 11, 6, 17, 22, 33, 877830), params={'x': 4.5237665928186575}, distributions={'x': FloatDistribution(high=10.0, log=False, low=-10.0, step=None)}, user_attrs={}, system_attrs={}, intermediate_values={}, trial_id=40, state=TrialState.COMPLETE, value=None),\n",
              " FrozenTrial(number=41, values=[0.012556702603248133], datetime_start=datetime.datetime(2022, 11, 6, 17, 22, 33, 878829), datetime_complete=datetime.datetime(2022, 11, 6, 17, 22, 33, 881834), params={'x': 2.112056693701216}, distributions={'x': FloatDistribution(high=10.0, log=False, low=-10.0, step=None)}, user_attrs={}, system_attrs={}, intermediate_values={}, trial_id=41, state=TrialState.COMPLETE, value=None),\n",
              " FrozenTrial(number=42, values=[0.13653885749787453], datetime_start=datetime.datetime(2022, 11, 6, 17, 22, 33, 882828), datetime_complete=datetime.datetime(2022, 11, 6, 17, 22, 33, 884827), params={'x': 2.3695116473101687}, distributions={'x': FloatDistribution(high=10.0, log=False, low=-10.0, step=None)}, user_attrs={}, system_attrs={}, intermediate_values={}, trial_id=42, state=TrialState.COMPLETE, value=None),\n",
              " FrozenTrial(number=43, values=[2.734687709669478], datetime_start=datetime.datetime(2022, 11, 6, 17, 22, 33, 885827), datetime_complete=datetime.datetime(2022, 11, 6, 17, 22, 33, 889828), params={'x': 0.34631087877150324}, distributions={'x': FloatDistribution(high=10.0, log=False, low=-10.0, step=None)}, user_attrs={}, system_attrs={}, intermediate_values={}, trial_id=43, state=TrialState.COMPLETE, value=None),\n",
              " FrozenTrial(number=44, values=[2.6931625620848156], datetime_start=datetime.datetime(2022, 11, 6, 17, 22, 33, 889828), datetime_complete=datetime.datetime(2022, 11, 6, 17, 22, 33, 894833), params={'x': 3.641085787545799}, distributions={'x': FloatDistribution(high=10.0, log=False, low=-10.0, step=None)}, user_attrs={}, system_attrs={}, intermediate_values={}, trial_id=44, state=TrialState.COMPLETE, value=None),\n",
              " FrozenTrial(number=45, values=[2.237165419220772], datetime_start=datetime.datetime(2022, 11, 6, 17, 22, 33, 894833), datetime_complete=datetime.datetime(2022, 11, 6, 17, 22, 33, 898832), params={'x': 0.5042843120362841}, distributions={'x': FloatDistribution(high=10.0, log=False, low=-10.0, step=None)}, user_attrs={}, system_attrs={}, intermediate_values={}, trial_id=45, state=TrialState.COMPLETE, value=None),\n",
              " FrozenTrial(number=46, values=[0.011373077985011453], datetime_start=datetime.datetime(2022, 11, 6, 17, 22, 33, 899832), datetime_complete=datetime.datetime(2022, 11, 6, 17, 22, 33, 901828), params={'x': 2.1066446341126053}, distributions={'x': FloatDistribution(high=10.0, log=False, low=-10.0, step=None)}, user_attrs={}, system_attrs={}, intermediate_values={}, trial_id=46, state=TrialState.COMPLETE, value=None),\n",
              " FrozenTrial(number=47, values=[7.416343075355444], datetime_start=datetime.datetime(2022, 11, 6, 17, 22, 33, 903831), datetime_complete=datetime.datetime(2022, 11, 6, 17, 22, 33, 908830), params={'x': 4.7232963620134045}, distributions={'x': FloatDistribution(high=10.0, log=False, low=-10.0, step=None)}, user_attrs={}, system_attrs={}, intermediate_values={}, trial_id=47, state=TrialState.COMPLETE, value=None),\n",
              " FrozenTrial(number=48, values=[53.91235533627351], datetime_start=datetime.datetime(2022, 11, 6, 17, 22, 33, 909833), datetime_complete=datetime.datetime(2022, 11, 6, 17, 22, 33, 912831), params={'x': 9.342503342612348}, distributions={'x': FloatDistribution(high=10.0, log=False, low=-10.0, step=None)}, user_attrs={}, system_attrs={}, intermediate_values={}, trial_id=48, state=TrialState.COMPLETE, value=None),\n",
              " FrozenTrial(number=49, values=[1.9422025454354976], datetime_start=datetime.datetime(2022, 11, 6, 17, 22, 33, 913834), datetime_complete=datetime.datetime(2022, 11, 6, 17, 22, 33, 916831), params={'x': 3.3936292711605542}, distributions={'x': FloatDistribution(high=10.0, log=False, low=-10.0, step=None)}, user_attrs={}, system_attrs={}, intermediate_values={}, trial_id=49, state=TrialState.COMPLETE, value=None),\n",
              " FrozenTrial(number=50, values=[20.867728415321942], datetime_start=datetime.datetime(2022, 11, 6, 17, 22, 33, 917836), datetime_complete=datetime.datetime(2022, 11, 6, 17, 22, 33, 920833), params={'x': 6.568120884490902}, distributions={'x': FloatDistribution(high=10.0, log=False, low=-10.0, step=None)}, user_attrs={}, system_attrs={}, intermediate_values={}, trial_id=50, state=TrialState.COMPLETE, value=None),\n",
              " FrozenTrial(number=51, values=[0.028681724544954396], datetime_start=datetime.datetime(2022, 11, 6, 17, 22, 33, 921833), datetime_complete=datetime.datetime(2022, 11, 6, 17, 22, 33, 926964), params={'x': 1.8306432034285178}, distributions={'x': FloatDistribution(high=10.0, log=False, low=-10.0, step=None)}, user_attrs={}, system_attrs={}, intermediate_values={}, trial_id=51, state=TrialState.COMPLETE, value=None),\n",
              " FrozenTrial(number=52, values=[1.9907273545089696], datetime_start=datetime.datetime(2022, 11, 6, 17, 22, 33, 927964), datetime_complete=datetime.datetime(2022, 11, 6, 17, 22, 33, 931963), params={'x': 0.5890686216158598}, distributions={'x': FloatDistribution(high=10.0, log=False, low=-10.0, step=None)}, user_attrs={}, system_attrs={}, intermediate_values={}, trial_id=52, state=TrialState.COMPLETE, value=None),\n",
              " FrozenTrial(number=53, values=[7.700952623422701], datetime_start=datetime.datetime(2022, 11, 6, 17, 22, 33, 932963), datetime_complete=datetime.datetime(2022, 11, 6, 17, 22, 33, 935962), params={'x': -0.775059030619475}, distributions={'x': FloatDistribution(high=10.0, log=False, low=-10.0, step=None)}, user_attrs={}, system_attrs={}, intermediate_values={}, trial_id=53, state=TrialState.COMPLETE, value=None),\n",
              " FrozenTrial(number=54, values=[0.7473789262036596], datetime_start=datetime.datetime(2022, 11, 6, 17, 22, 33, 936962), datetime_complete=datetime.datetime(2022, 11, 6, 17, 22, 33, 938964), params={'x': 1.1354891983302582}, distributions={'x': FloatDistribution(high=10.0, log=False, low=-10.0, step=None)}, user_attrs={}, system_attrs={}, intermediate_values={}, trial_id=54, state=TrialState.COMPLETE, value=None),\n",
              " FrozenTrial(number=55, values=[2.0281072048316855e-05], datetime_start=datetime.datetime(2022, 11, 6, 17, 22, 33, 940964), datetime_complete=datetime.datetime(2022, 11, 6, 17, 22, 33, 943513), params={'x': 2.0045034511264492}, distributions={'x': FloatDistribution(high=10.0, log=False, low=-10.0, step=None)}, user_attrs={}, system_attrs={}, intermediate_values={}, trial_id=55, state=TrialState.COMPLETE, value=None),\n",
              " FrozenTrial(number=56, values=[0.9891253868994216], datetime_start=datetime.datetime(2022, 11, 6, 17, 22, 33, 944514), datetime_complete=datetime.datetime(2022, 11, 6, 17, 22, 33, 948515), params={'x': 2.9945478303728894}, distributions={'x': FloatDistribution(high=10.0, log=False, low=-10.0, step=None)}, user_attrs={}, system_attrs={}, intermediate_values={}, trial_id=56, state=TrialState.COMPLETE, value=None),\n",
              " FrozenTrial(number=57, values=[14.011181469043946], datetime_start=datetime.datetime(2022, 11, 6, 17, 22, 33, 949771), datetime_complete=datetime.datetime(2022, 11, 6, 17, 22, 33, 953287), params={'x': -1.7431512752016776}, distributions={'x': FloatDistribution(high=10.0, log=False, low=-10.0, step=None)}, user_attrs={}, system_attrs={}, intermediate_values={}, trial_id=57, state=TrialState.COMPLETE, value=None),\n",
              " FrozenTrial(number=58, values=[10.404410127923153], datetime_start=datetime.datetime(2022, 11, 6, 17, 22, 33, 953287), datetime_complete=datetime.datetime(2022, 11, 6, 17, 22, 33, 960285), params={'x': 5.225586788155475}, distributions={'x': FloatDistribution(high=10.0, log=False, low=-10.0, step=None)}, user_attrs={}, system_attrs={}, intermediate_values={}, trial_id=58, state=TrialState.COMPLETE, value=None),\n",
              " FrozenTrial(number=59, values=[4.287019175992895], datetime_start=datetime.datetime(2022, 11, 6, 17, 22, 33, 961284), datetime_complete=datetime.datetime(2022, 11, 6, 17, 22, 33, 963283), params={'x': -0.07051181498510051}, distributions={'x': FloatDistribution(high=10.0, log=False, low=-10.0, step=None)}, user_attrs={}, system_attrs={}, intermediate_values={}, trial_id=59, state=TrialState.COMPLETE, value=None),\n",
              " FrozenTrial(number=60, values=[0.07419267098193173], datetime_start=datetime.datetime(2022, 11, 6, 17, 22, 33, 964283), datetime_complete=datetime.datetime(2022, 11, 6, 17, 22, 33, 967285), params={'x': 2.272383316269429}, distributions={'x': FloatDistribution(high=10.0, log=False, low=-10.0, step=None)}, user_attrs={}, system_attrs={}, intermediate_values={}, trial_id=60, state=TrialState.COMPLETE, value=None),\n",
              " FrozenTrial(number=61, values=[0.18386879141148915], datetime_start=datetime.datetime(2022, 11, 6, 17, 22, 33, 968284), datetime_complete=datetime.datetime(2022, 11, 6, 17, 22, 33, 971284), params={'x': 1.5712007562839119}, distributions={'x': FloatDistribution(high=10.0, log=False, low=-10.0, step=None)}, user_attrs={}, system_attrs={}, intermediate_values={}, trial_id=61, state=TrialState.COMPLETE, value=None),\n",
              " FrozenTrial(number=62, values=[128.84607392456505], datetime_start=datetime.datetime(2022, 11, 6, 17, 22, 33, 972283), datetime_complete=datetime.datetime(2022, 11, 6, 17, 22, 33, 978720), params={'x': -9.351038451373736}, distributions={'x': FloatDistribution(high=10.0, log=False, low=-10.0, step=None)}, user_attrs={}, system_attrs={}, intermediate_values={}, trial_id=62, state=TrialState.COMPLETE, value=None),\n",
              " FrozenTrial(number=63, values=[1.137838689330986], datetime_start=datetime.datetime(2022, 11, 6, 17, 22, 33, 980722), datetime_complete=datetime.datetime(2022, 11, 6, 17, 22, 33, 983723), params={'x': 0.9333047814248974}, distributions={'x': FloatDistribution(high=10.0, log=False, low=-10.0, step=None)}, user_attrs={}, system_attrs={}, intermediate_values={}, trial_id=63, state=TrialState.COMPLETE, value=None),\n",
              " FrozenTrial(number=64, values=[0.06207119707149502], datetime_start=datetime.datetime(2022, 11, 6, 17, 22, 33, 984720), datetime_complete=datetime.datetime(2022, 11, 6, 17, 22, 33, 987528), params={'x': 1.7508590819004333}, distributions={'x': FloatDistribution(high=10.0, log=False, low=-10.0, step=None)}, user_attrs={}, system_attrs={}, intermediate_values={}, trial_id=64, state=TrialState.COMPLETE, value=None),\n",
              " FrozenTrial(number=65, values=[1.3976440112430557], datetime_start=datetime.datetime(2022, 11, 6, 17, 22, 33, 988526), datetime_complete=datetime.datetime(2022, 11, 6, 17, 22, 33, 991524), params={'x': 3.1822199504504463}, distributions={'x': FloatDistribution(high=10.0, log=False, low=-10.0, step=None)}, user_attrs={}, system_attrs={}, intermediate_values={}, trial_id=65, state=TrialState.COMPLETE, value=None),\n",
              " FrozenTrial(number=66, values=[4.744908080076386], datetime_start=datetime.datetime(2022, 11, 6, 17, 22, 33, 992524), datetime_complete=datetime.datetime(2022, 11, 6, 17, 22, 33, 996528), params={'x': 4.178280991992628}, distributions={'x': FloatDistribution(high=10.0, log=False, low=-10.0, step=None)}, user_attrs={}, system_attrs={}, intermediate_values={}, trial_id=66, state=TrialState.COMPLETE, value=None),\n",
              " FrozenTrial(number=67, values=[0.007486350194499699], datetime_start=datetime.datetime(2022, 11, 6, 17, 22, 33, 997526), datetime_complete=datetime.datetime(2022, 11, 6, 17, 22, 34, 524), params={'x': 2.0865236973002177}, distributions={'x': FloatDistribution(high=10.0, log=False, low=-10.0, step=None)}, user_attrs={}, system_attrs={}, intermediate_values={}, trial_id=67, state=TrialState.COMPLETE, value=None),\n",
              " FrozenTrial(number=68, values=[0.3935167667480584], datetime_start=datetime.datetime(2022, 11, 6, 17, 22, 34, 2526), datetime_complete=datetime.datetime(2022, 11, 6, 17, 22, 34, 5523), params={'x': 2.6273091476680843}, distributions={'x': FloatDistribution(high=10.0, log=False, low=-10.0, step=None)}, user_attrs={}, system_attrs={}, intermediate_values={}, trial_id=68, state=TrialState.COMPLETE, value=None),\n",
              " FrozenTrial(number=69, values=[3.6213040559007634], datetime_start=datetime.datetime(2022, 11, 6, 17, 22, 34, 6523), datetime_complete=datetime.datetime(2022, 11, 6, 17, 22, 34, 10529), params={'x': 3.9029724264688554}, distributions={'x': FloatDistribution(high=10.0, log=False, low=-10.0, step=None)}, user_attrs={}, system_attrs={}, intermediate_values={}, trial_id=69, state=TrialState.COMPLETE, value=None),\n",
              " FrozenTrial(number=70, values=[0.0014404030947378634], datetime_start=datetime.datetime(2022, 11, 6, 17, 22, 34, 11530), datetime_complete=datetime.datetime(2022, 11, 6, 17, 22, 34, 17533), params={'x': 2.0379526427899015}, distributions={'x': FloatDistribution(high=10.0, log=False, low=-10.0, step=None)}, user_attrs={}, system_attrs={}, intermediate_values={}, trial_id=70, state=TrialState.COMPLETE, value=None),\n",
              " FrozenTrial(number=71, values=[0.02280263890266082], datetime_start=datetime.datetime(2022, 11, 6, 17, 22, 34, 18534), datetime_complete=datetime.datetime(2022, 11, 6, 17, 22, 34, 21533), params={'x': 2.151005426732488}, distributions={'x': FloatDistribution(high=10.0, log=False, low=-10.0, step=None)}, user_attrs={}, system_attrs={}, intermediate_values={}, trial_id=71, state=TrialState.COMPLETE, value=None),\n",
              " FrozenTrial(number=72, values=[0.9870019082183555], datetime_start=datetime.datetime(2022, 11, 6, 17, 22, 34, 23037), datetime_complete=datetime.datetime(2022, 11, 6, 17, 22, 34, 26042), params={'x': 1.0065203030668641}, distributions={'x': FloatDistribution(high=10.0, log=False, low=-10.0, step=None)}, user_attrs={}, system_attrs={}, intermediate_values={}, trial_id=72, state=TrialState.COMPLETE, value=None),\n",
              " FrozenTrial(number=73, values=[1.1407714677393088], datetime_start=datetime.datetime(2022, 11, 6, 17, 22, 34, 28044), datetime_complete=datetime.datetime(2022, 11, 6, 17, 22, 34, 31042), params={'x': 3.0680690369724744}, distributions={'x': FloatDistribution(high=10.0, log=False, low=-10.0, step=None)}, user_attrs={}, system_attrs={}, intermediate_values={}, trial_id=73, state=TrialState.COMPLETE, value=None),\n",
              " FrozenTrial(number=74, values=[4.001163876772954], datetime_start=datetime.datetime(2022, 11, 6, 17, 22, 34, 32045), datetime_complete=datetime.datetime(2022, 11, 6, 17, 22, 34, 36044), params={'x': -0.0002909480305492984}, distributions={'x': FloatDistribution(high=10.0, log=False, low=-10.0, step=None)}, user_attrs={}, system_attrs={}, intermediate_values={}, trial_id=74, state=TrialState.COMPLETE, value=None),\n",
              " FrozenTrial(number=75, values=[9.760935233811668e-05], datetime_start=datetime.datetime(2022, 11, 6, 17, 22, 34, 37045), datetime_complete=datetime.datetime(2022, 11, 6, 17, 22, 34, 41044), params={'x': 1.9901202554517783}, distributions={'x': FloatDistribution(high=10.0, log=False, low=-10.0, step=None)}, user_attrs={}, system_attrs={}, intermediate_values={}, trial_id=75, state=TrialState.COMPLETE, value=None),\n",
              " FrozenTrial(number=76, values=[0.00037681248198481027], datetime_start=datetime.datetime(2022, 11, 6, 17, 22, 34, 41044), datetime_complete=datetime.datetime(2022, 11, 6, 17, 22, 34, 45043), params={'x': 1.980588341596226}, distributions={'x': FloatDistribution(high=10.0, log=False, low=-10.0, step=None)}, user_attrs={}, system_attrs={}, intermediate_values={}, trial_id=76, state=TrialState.COMPLETE, value=None),\n",
              " FrozenTrial(number=77, values=[8.277908445997221], datetime_start=datetime.datetime(2022, 11, 6, 17, 22, 34, 45043), datetime_complete=datetime.datetime(2022, 11, 6, 17, 22, 34, 50044), params={'x': -0.8771354584025448}, distributions={'x': FloatDistribution(high=10.0, log=False, low=-10.0, step=None)}, user_attrs={}, system_attrs={}, intermediate_values={}, trial_id=77, state=TrialState.COMPLETE, value=None),\n",
              " FrozenTrial(number=78, values=[0.5025642577146706], datetime_start=datetime.datetime(2022, 11, 6, 17, 22, 34, 51047), datetime_complete=datetime.datetime(2022, 11, 6, 17, 22, 34, 54044), params={'x': 1.2910823336136483}, distributions={'x': FloatDistribution(high=10.0, log=False, low=-10.0, step=None)}, user_attrs={}, system_attrs={}, intermediate_values={}, trial_id=78, state=TrialState.COMPLETE, value=None),\n",
              " FrozenTrial(number=79, values=[0.5873961561786852], datetime_start=datetime.datetime(2022, 11, 6, 17, 22, 34, 55043), datetime_complete=datetime.datetime(2022, 11, 6, 17, 22, 34, 59044), params={'x': 2.7664177426043093}, distributions={'x': FloatDistribution(high=10.0, log=False, low=-10.0, step=None)}, user_attrs={}, system_attrs={}, intermediate_values={}, trial_id=79, state=TrialState.COMPLETE, value=None),\n",
              " FrozenTrial(number=80, values=[2.517086443373808], datetime_start=datetime.datetime(2022, 11, 6, 17, 22, 34, 60044), datetime_complete=datetime.datetime(2022, 11, 6, 17, 22, 34, 64044), params={'x': 3.5865328371558554}, distributions={'x': FloatDistribution(high=10.0, log=False, low=-10.0, step=None)}, user_attrs={}, system_attrs={}, intermediate_values={}, trial_id=80, state=TrialState.COMPLETE, value=None),\n",
              " FrozenTrial(number=81, values=[0.002131688404176178], datetime_start=datetime.datetime(2022, 11, 6, 17, 22, 34, 65043), datetime_complete=datetime.datetime(2022, 11, 6, 17, 22, 34, 68042), params={'x': 1.9538297887791687}, distributions={'x': FloatDistribution(high=10.0, log=False, low=-10.0, step=None)}, user_attrs={}, system_attrs={}, intermediate_values={}, trial_id=81, state=TrialState.COMPLETE, value=None),\n",
              " FrozenTrial(number=82, values=[0.004513859680914946], datetime_start=datetime.datetime(2022, 11, 6, 17, 22, 34, 68042), datetime_complete=datetime.datetime(2022, 11, 6, 17, 22, 34, 72044), params={'x': 2.067185263867272}, distributions={'x': FloatDistribution(high=10.0, log=False, low=-10.0, step=None)}, user_attrs={}, system_attrs={}, intermediate_values={}, trial_id=82, state=TrialState.COMPLETE, value=None),\n",
              " FrozenTrial(number=83, values=[0.0007854200585341454], datetime_start=datetime.datetime(2022, 11, 6, 17, 22, 34, 72044), datetime_complete=datetime.datetime(2022, 11, 6, 17, 22, 34, 76156), params={'x': 1.9719746532843188}, distributions={'x': FloatDistribution(high=10.0, log=False, low=-10.0, step=None)}, user_attrs={}, system_attrs={}, intermediate_values={}, trial_id=83, state=TrialState.COMPLETE, value=None),\n",
              " FrozenTrial(number=84, values=[2.2207324786378133], datetime_start=datetime.datetime(2022, 11, 6, 17, 22, 34, 77153), datetime_complete=datetime.datetime(2022, 11, 6, 17, 22, 34, 80156), params={'x': 0.5097877739604291}, distributions={'x': FloatDistribution(high=10.0, log=False, low=-10.0, step=None)}, user_attrs={}, system_attrs={}, intermediate_values={}, trial_id=84, state=TrialState.COMPLETE, value=None),\n",
              " FrozenTrial(number=85, values=[7.4358076731856935], datetime_start=datetime.datetime(2022, 11, 6, 17, 22, 34, 81155), datetime_complete=datetime.datetime(2022, 11, 6, 17, 22, 34, 85155), params={'x': 4.726867740317761}, distributions={'x': FloatDistribution(high=10.0, log=False, low=-10.0, step=None)}, user_attrs={}, system_attrs={}, intermediate_values={}, trial_id=85, state=TrialState.COMPLETE, value=None),\n",
              " FrozenTrial(number=86, values=[0.34254319541285944], datetime_start=datetime.datetime(2022, 11, 6, 17, 22, 34, 86320), datetime_complete=datetime.datetime(2022, 11, 6, 17, 22, 34, 89324), params={'x': 1.4147281012957658}, distributions={'x': FloatDistribution(high=10.0, log=False, low=-10.0, step=None)}, user_attrs={}, system_attrs={}, intermediate_values={}, trial_id=86, state=TrialState.COMPLETE, value=None),\n",
              " FrozenTrial(number=87, values=[1.6016418729348678], datetime_start=datetime.datetime(2022, 11, 6, 17, 22, 34, 90326), datetime_complete=datetime.datetime(2022, 11, 6, 17, 22, 34, 94326), params={'x': 0.7344400950824699}, distributions={'x': FloatDistribution(high=10.0, log=False, low=-10.0, step=None)}, user_attrs={}, system_attrs={}, intermediate_values={}, trial_id=87, state=TrialState.COMPLETE, value=None),\n",
              " FrozenTrial(number=88, values=[3.459813338399105], datetime_start=datetime.datetime(2022, 11, 6, 17, 22, 34, 95328), datetime_complete=datetime.datetime(2022, 11, 6, 17, 22, 34, 99330), params={'x': 0.13994265185207122}, distributions={'x': FloatDistribution(high=10.0, log=False, low=-10.0, step=None)}, user_attrs={}, system_attrs={}, intermediate_values={}, trial_id=88, state=TrialState.COMPLETE, value=None),\n",
              " FrozenTrial(number=89, values=[0.6760334634047921], datetime_start=datetime.datetime(2022, 11, 6, 17, 22, 34, 100327), datetime_complete=datetime.datetime(2022, 11, 6, 17, 22, 34, 104326), params={'x': 2.8222125415029815}, distributions={'x': FloatDistribution(high=10.0, log=False, low=-10.0, step=None)}, user_attrs={}, system_attrs={}, intermediate_values={}, trial_id=89, state=TrialState.COMPLETE, value=None),\n",
              " FrozenTrial(number=90, values=[6.670874204329165], datetime_start=datetime.datetime(2022, 11, 6, 17, 22, 34, 106328), datetime_complete=datetime.datetime(2022, 11, 6, 17, 22, 34, 111333), params={'x': -0.5828035551178035}, distributions={'x': FloatDistribution(high=10.0, log=False, low=-10.0, step=None)}, user_attrs={}, system_attrs={}, intermediate_values={}, trial_id=90, state=TrialState.COMPLETE, value=None),\n",
              " FrozenTrial(number=91, values=[0.0032951935584087243], datetime_start=datetime.datetime(2022, 11, 6, 17, 22, 34, 112334), datetime_complete=datetime.datetime(2022, 11, 6, 17, 22, 34, 116337), params={'x': 2.057403776516957}, distributions={'x': FloatDistribution(high=10.0, log=False, low=-10.0, step=None)}, user_attrs={}, system_attrs={}, intermediate_values={}, trial_id=91, state=TrialState.COMPLETE, value=None),\n",
              " FrozenTrial(number=92, values=[0.0007487999008085927], datetime_start=datetime.datetime(2022, 11, 6, 17, 22, 34, 118334), datetime_complete=datetime.datetime(2022, 11, 6, 17, 22, 34, 123839), params={'x': 2.0273642083899497}, distributions={'x': FloatDistribution(high=10.0, log=False, low=-10.0, step=None)}, user_attrs={}, system_attrs={}, intermediate_values={}, trial_id=92, state=TrialState.COMPLETE, value=None),\n",
              " FrozenTrial(number=93, values=[0.07431161679611217], datetime_start=datetime.datetime(2022, 11, 6, 17, 22, 34, 124847), datetime_complete=datetime.datetime(2022, 11, 6, 17, 22, 34, 129847), params={'x': 1.7273984284782786}, distributions={'x': FloatDistribution(high=10.0, log=False, low=-10.0, step=None)}, user_attrs={}, system_attrs={}, intermediate_values={}, trial_id=93, state=TrialState.COMPLETE, value=None),\n",
              " FrozenTrial(number=94, values=[1.9316747917737493], datetime_start=datetime.datetime(2022, 11, 6, 17, 22, 34, 131846), datetime_complete=datetime.datetime(2022, 11, 6, 17, 22, 34, 135847), params={'x': 3.389847038984416}, distributions={'x': FloatDistribution(high=10.0, log=False, low=-10.0, step=None)}, user_attrs={}, system_attrs={}, intermediate_values={}, trial_id=94, state=TrialState.COMPLETE, value=None),\n",
              " FrozenTrial(number=95, values=[4.151513889090922], datetime_start=datetime.datetime(2022, 11, 6, 17, 22, 34, 137848), datetime_complete=datetime.datetime(2022, 11, 6, 17, 22, 34, 142844), params={'x': 4.037526414329621}, distributions={'x': FloatDistribution(high=10.0, log=False, low=-10.0, step=None)}, user_attrs={}, system_attrs={}, intermediate_values={}, trial_id=95, state=TrialState.COMPLETE, value=None),\n",
              " FrozenTrial(number=96, values=[0.291794944304424], datetime_start=datetime.datetime(2022, 11, 6, 17, 22, 34, 143844), datetime_complete=datetime.datetime(2022, 11, 6, 17, 22, 34, 146845), params={'x': 2.5401804738274274}, distributions={'x': FloatDistribution(high=10.0, log=False, low=-10.0, step=None)}, user_attrs={}, system_attrs={}, intermediate_values={}, trial_id=96, state=TrialState.COMPLETE, value=None),\n",
              " FrozenTrial(number=97, values=[0.4633631600863056], datetime_start=datetime.datetime(2022, 11, 6, 17, 22, 34, 147846), datetime_complete=datetime.datetime(2022, 11, 6, 17, 22, 34, 152848), params={'x': 1.319292162461526}, distributions={'x': FloatDistribution(high=10.0, log=False, low=-10.0, step=None)}, user_attrs={}, system_attrs={}, intermediate_values={}, trial_id=97, state=TrialState.COMPLETE, value=None),\n",
              " FrozenTrial(number=98, values=[0.021559868668582248], datetime_start=datetime.datetime(2022, 11, 6, 17, 22, 34, 154847), datetime_complete=datetime.datetime(2022, 11, 6, 17, 22, 34, 157845), params={'x': 1.8531672084696942}, distributions={'x': FloatDistribution(high=10.0, log=False, low=-10.0, step=None)}, user_attrs={}, system_attrs={}, intermediate_values={}, trial_id=98, state=TrialState.COMPLETE, value=None),\n",
              " FrozenTrial(number=99, values=[1.2953359661983848], datetime_start=datetime.datetime(2022, 11, 6, 17, 22, 34, 158849), datetime_complete=datetime.datetime(2022, 11, 6, 17, 22, 34, 163846), params={'x': 0.8618717268258447}, distributions={'x': FloatDistribution(high=10.0, log=False, low=-10.0, step=None)}, user_attrs={}, system_attrs={}, intermediate_values={}, trial_id=99, state=TrialState.COMPLETE, value=None)]"
            ]
          },
          "execution_count": 8,
          "metadata": {},
          "output_type": "execute_result"
        }
      ],
      "source": [
        "study.trials"
      ]
    },
    {
      "cell_type": "markdown",
      "metadata": {},
      "source": [
        "To get the number of trials:\n",
        "\n"
      ]
    },
    {
      "cell_type": "code",
      "execution_count": 9,
      "metadata": {
        "collapsed": false
      },
      "outputs": [
        {
          "data": {
            "text/plain": [
              "100"
            ]
          },
          "execution_count": 9,
          "metadata": {},
          "output_type": "execute_result"
        }
      ],
      "source": [
        "len(study.trials)"
      ]
    },
    {
      "cell_type": "markdown",
      "metadata": {},
      "source": [
        "By executing :func:`~optuna.study.Study.optimize` again, we can continue the optimization.\n",
        "\n"
      ]
    },
    {
      "cell_type": "code",
      "execution_count": 10,
      "metadata": {
        "collapsed": false
      },
      "outputs": [
        {
          "name": "stderr",
          "output_type": "stream",
          "text": [
            "\u001b[32m[I 2022-11-06 17:25:27,741]\u001b[0m Trial 100 finished with value: 0.07488466528325058 and parameters: {'x': 2.2736506263162037}. Best is trial 55 with value: 2.0281072048316855e-05.\u001b[0m\n",
            "\u001b[32m[I 2022-11-06 17:25:27,747]\u001b[0m Trial 101 finished with value: 1.4229752189195564 and parameters: {'x': 3.192885249686472}. Best is trial 55 with value: 2.0281072048316855e-05.\u001b[0m\n",
            "\u001b[32m[I 2022-11-06 17:25:27,755]\u001b[0m Trial 102 finished with value: 0.0017869095161299191 and parameters: {'x': 1.9577281474722255}. Best is trial 55 with value: 2.0281072048316855e-05.\u001b[0m\n",
            "\u001b[32m[I 2022-11-06 17:25:27,759]\u001b[0m Trial 103 finished with value: 0.307664871181002 and parameters: {'x': 2.5546754647368153}. Best is trial 55 with value: 2.0281072048316855e-05.\u001b[0m\n",
            "\u001b[32m[I 2022-11-06 17:25:27,764]\u001b[0m Trial 104 finished with value: 0.3233861236413463 and parameters: {'x': 1.431329512246902}. Best is trial 55 with value: 2.0281072048316855e-05.\u001b[0m\n",
            "\u001b[32m[I 2022-11-06 17:25:27,768]\u001b[0m Trial 105 finished with value: 0.0034367449154800635 and parameters: {'x': 1.9413762427382886}. Best is trial 55 with value: 2.0281072048316855e-05.\u001b[0m\n",
            "\u001b[32m[I 2022-11-06 17:25:27,773]\u001b[0m Trial 106 finished with value: 2.6624313773782777 and parameters: {'x': 0.36830414066276496}. Best is trial 55 with value: 2.0281072048316855e-05.\u001b[0m\n",
            "\u001b[32m[I 2022-11-06 17:25:27,780]\u001b[0m Trial 107 finished with value: 2.7059945970191066 and parameters: {'x': 3.6449907589464163}. Best is trial 55 with value: 2.0281072048316855e-05.\u001b[0m\n",
            "\u001b[32m[I 2022-11-06 17:25:27,785]\u001b[0m Trial 108 finished with value: 0.9241411601943221 and parameters: {'x': 2.961322609842462}. Best is trial 55 with value: 2.0281072048316855e-05.\u001b[0m\n",
            "\u001b[32m[I 2022-11-06 17:25:27,789]\u001b[0m Trial 109 finished with value: 0.9055949961519347 and parameters: {'x': 1.0483724488267825}. Best is trial 55 with value: 2.0281072048316855e-05.\u001b[0m\n",
            "\u001b[32m[I 2022-11-06 17:25:27,797]\u001b[0m Trial 110 finished with value: 0.03136582389254805 and parameters: {'x': 1.8228960082534895}. Best is trial 55 with value: 2.0281072048316855e-05.\u001b[0m\n",
            "\u001b[32m[I 2022-11-06 17:25:27,802]\u001b[0m Trial 111 finished with value: 0.003825599819208927 and parameters: {'x': 2.061851433445062}. Best is trial 55 with value: 2.0281072048316855e-05.\u001b[0m\n",
            "\u001b[32m[I 2022-11-06 17:25:27,806]\u001b[0m Trial 112 finished with value: 0.2181665354909163 and parameters: {'x': 2.4670830070671768}. Best is trial 55 with value: 2.0281072048316855e-05.\u001b[0m\n",
            "\u001b[32m[I 2022-11-06 17:25:27,811]\u001b[0m Trial 113 finished with value: 0.2586086985561637 and parameters: {'x': 1.4914641619746316}. Best is trial 55 with value: 2.0281072048316855e-05.\u001b[0m\n",
            "\u001b[32m[I 2022-11-06 17:25:27,818]\u001b[0m Trial 114 finished with value: 0.0002877056664806166 and parameters: {'x': 2.016961888647218}. Best is trial 55 with value: 2.0281072048316855e-05.\u001b[0m\n",
            "\u001b[32m[I 2022-11-06 17:25:27,822]\u001b[0m Trial 115 finished with value: 5.460250238739037 and parameters: {'x': 4.336717834643078}. Best is trial 55 with value: 2.0281072048316855e-05.\u001b[0m\n",
            "\u001b[32m[I 2022-11-06 17:25:27,826]\u001b[0m Trial 116 finished with value: 65.70857447856518 and parameters: {'x': -6.1060825605569296}. Best is trial 55 with value: 2.0281072048316855e-05.\u001b[0m\n",
            "\u001b[32m[I 2022-11-06 17:25:27,834]\u001b[0m Trial 117 finished with value: 1.6537461668823166 and parameters: {'x': 0.7140193753861155}. Best is trial 55 with value: 2.0281072048316855e-05.\u001b[0m\n",
            "\u001b[32m[I 2022-11-06 17:25:27,839]\u001b[0m Trial 118 finished with value: 5.080603198834479 and parameters: {'x': -0.2540193430479867}. Best is trial 55 with value: 2.0281072048316855e-05.\u001b[0m\n",
            "\u001b[32m[I 2022-11-06 17:25:27,844]\u001b[0m Trial 119 finished with value: 1.1051062292403409 and parameters: {'x': 3.051240328964001}. Best is trial 55 with value: 2.0281072048316855e-05.\u001b[0m\n",
            "\u001b[32m[I 2022-11-06 17:25:27,849]\u001b[0m Trial 120 finished with value: 0.632050975389325 and parameters: {'x': 2.795016336554995}. Best is trial 55 with value: 2.0281072048316855e-05.\u001b[0m\n",
            "\u001b[32m[I 2022-11-06 17:25:27,856]\u001b[0m Trial 121 finished with value: 0.0008234445157326614 and parameters: {'x': 1.971304277048092}. Best is trial 55 with value: 2.0281072048316855e-05.\u001b[0m\n",
            "\u001b[32m[I 2022-11-06 17:25:27,860]\u001b[0m Trial 122 finished with value: 0.6708227575588093 and parameters: {'x': 1.1809622978404417}. Best is trial 55 with value: 2.0281072048316855e-05.\u001b[0m\n",
            "\u001b[32m[I 2022-11-06 17:25:27,864]\u001b[0m Trial 123 finished with value: 3.939299475907869e-05 and parameters: {'x': 2.006276383891946}. Best is trial 55 with value: 2.0281072048316855e-05.\u001b[0m\n",
            "\u001b[32m[I 2022-11-06 17:25:27,869]\u001b[0m Trial 124 finished with value: 0.10233189207694796 and parameters: {'x': 1.6801064363308509}. Best is trial 55 with value: 2.0281072048316855e-05.\u001b[0m\n",
            "\u001b[32m[I 2022-11-06 17:25:27,874]\u001b[0m Trial 125 finished with value: 2.251374954891556 and parameters: {'x': 3.500458248300017}. Best is trial 55 with value: 2.0281072048316855e-05.\u001b[0m\n",
            "\u001b[32m[I 2022-11-06 17:25:27,884]\u001b[0m Trial 126 finished with value: 0.14867132362263866 and parameters: {'x': 2.3855792053815126}. Best is trial 55 with value: 2.0281072048316855e-05.\u001b[0m\n",
            "\u001b[32m[I 2022-11-06 17:25:27,892]\u001b[0m Trial 127 finished with value: 1.03023292925612 and parameters: {'x': 0.9849960939700181}. Best is trial 55 with value: 2.0281072048316855e-05.\u001b[0m\n",
            "\u001b[32m[I 2022-11-06 17:25:27,903]\u001b[0m Trial 128 finished with value: 3.3507435145463598 and parameters: {'x': 0.16949637680053753}. Best is trial 55 with value: 2.0281072048316855e-05.\u001b[0m\n",
            "\u001b[32m[I 2022-11-06 17:25:27,910]\u001b[0m Trial 129 finished with value: 0.270728408919171 and parameters: {'x': 1.4796843180153312}. Best is trial 55 with value: 2.0281072048316855e-05.\u001b[0m\n",
            "\u001b[32m[I 2022-11-06 17:25:27,918]\u001b[0m Trial 130 finished with value: 0.3322356954704341 and parameters: {'x': 2.5763989030787915}. Best is trial 55 with value: 2.0281072048316855e-05.\u001b[0m\n",
            "\u001b[32m[I 2022-11-06 17:25:27,924]\u001b[0m Trial 131 finished with value: 0.01090183196220284 and parameters: {'x': 2.104411838228253}. Best is trial 55 with value: 2.0281072048316855e-05.\u001b[0m\n",
            "\u001b[32m[I 2022-11-06 17:25:27,929]\u001b[0m Trial 132 finished with value: 0.003829919807550826 and parameters: {'x': 1.9381136541105324}. Best is trial 55 with value: 2.0281072048316855e-05.\u001b[0m\n",
            "\u001b[32m[I 2022-11-06 17:25:27,936]\u001b[0m Trial 133 finished with value: 0.0024147092546802744 and parameters: {'x': 1.950860308764907}. Best is trial 55 with value: 2.0281072048316855e-05.\u001b[0m\n",
            "\u001b[32m[I 2022-11-06 17:25:27,943]\u001b[0m Trial 134 finished with value: 0.7322328622117183 and parameters: {'x': 2.8557060606374822}. Best is trial 55 with value: 2.0281072048316855e-05.\u001b[0m\n",
            "\u001b[32m[I 2022-11-06 17:25:27,949]\u001b[0m Trial 135 finished with value: 0.4561440467733677 and parameters: {'x': 1.3246156303456766}. Best is trial 55 with value: 2.0281072048316855e-05.\u001b[0m\n",
            "\u001b[32m[I 2022-11-06 17:25:27,954]\u001b[0m Trial 136 finished with value: 1.6967015404673722 and parameters: {'x': 0.6974250346074617}. Best is trial 55 with value: 2.0281072048316855e-05.\u001b[0m\n",
            "\u001b[32m[I 2022-11-06 17:25:27,961]\u001b[0m Trial 137 finished with value: 1.6681034674427928 and parameters: {'x': 3.291550799404651}. Best is trial 55 with value: 2.0281072048316855e-05.\u001b[0m\n",
            "\u001b[32m[I 2022-11-06 17:25:27,966]\u001b[0m Trial 138 finished with value: 0.14421618635613587 and parameters: {'x': 2.379758062924457}. Best is trial 55 with value: 2.0281072048316855e-05.\u001b[0m\n",
            "\u001b[32m[I 2022-11-06 17:25:27,970]\u001b[0m Trial 139 finished with value: 0.11688277879330998 and parameters: {'x': 1.6581187650757796}. Best is trial 55 with value: 2.0281072048316855e-05.\u001b[0m\n",
            "\u001b[32m[I 2022-11-06 17:25:27,975]\u001b[0m Trial 140 finished with value: 3.5246398041162186 and parameters: {'x': 3.877402408679668}. Best is trial 55 with value: 2.0281072048316855e-05.\u001b[0m\n",
            "\u001b[32m[I 2022-11-06 17:25:27,982]\u001b[0m Trial 141 finished with value: 0.00024022131431749707 and parameters: {'x': 2.01549907462778}. Best is trial 55 with value: 2.0281072048316855e-05.\u001b[0m\n",
            "\u001b[32m[I 2022-11-06 17:25:27,991]\u001b[0m Trial 142 finished with value: 0.04075958218497077 and parameters: {'x': 1.7981099750236016}. Best is trial 55 with value: 2.0281072048316855e-05.\u001b[0m\n",
            "\u001b[32m[I 2022-11-06 17:25:27,998]\u001b[0m Trial 143 finished with value: 0.6878970006590215 and parameters: {'x': 1.1706044365569457}. Best is trial 55 with value: 2.0281072048316855e-05.\u001b[0m\n",
            "\u001b[32m[I 2022-11-06 17:25:28,003]\u001b[0m Trial 144 finished with value: 0.39576224546753097 and parameters: {'x': 2.6290963721621123}. Best is trial 55 with value: 2.0281072048316855e-05.\u001b[0m\n",
            "\u001b[32m[I 2022-11-06 17:25:28,008]\u001b[0m Trial 145 finished with value: 0.0033283888529449593 and parameters: {'x': 2.057692190571558}. Best is trial 55 with value: 2.0281072048316855e-05.\u001b[0m\n",
            "\u001b[32m[I 2022-11-06 17:25:28,012]\u001b[0m Trial 146 finished with value: 1.2207566169735673 and parameters: {'x': 3.104878553042626}. Best is trial 55 with value: 2.0281072048316855e-05.\u001b[0m\n",
            "\u001b[32m[I 2022-11-06 17:25:28,019]\u001b[0m Trial 147 finished with value: 0.15865154944593038 and parameters: {'x': 2.3983108703587317}. Best is trial 55 with value: 2.0281072048316855e-05.\u001b[0m\n",
            "\u001b[32m[I 2022-11-06 17:25:28,024]\u001b[0m Trial 148 finished with value: 0.25291709665599754 and parameters: {'x': 1.497091363510232}. Best is trial 55 with value: 2.0281072048316855e-05.\u001b[0m\n",
            "\u001b[32m[I 2022-11-06 17:25:28,028]\u001b[0m Trial 149 finished with value: 1.6730533207404634 and parameters: {'x': 0.7065343758953377}. Best is trial 55 with value: 2.0281072048316855e-05.\u001b[0m\n",
            "\u001b[32m[I 2022-11-06 17:25:28,033]\u001b[0m Trial 150 finished with value: 0.03197627223753412 and parameters: {'x': 2.1788191047889853}. Best is trial 55 with value: 2.0281072048316855e-05.\u001b[0m\n",
            "\u001b[32m[I 2022-11-06 17:25:28,037]\u001b[0m Trial 151 finished with value: 0.01259136149765261 and parameters: {'x': 1.8877887639420516}. Best is trial 55 with value: 2.0281072048316855e-05.\u001b[0m\n",
            "\u001b[32m[I 2022-11-06 17:25:28,044]\u001b[0m Trial 152 finished with value: 2.3209941812912716e-06 and parameters: {'x': 1.9984765190577853}. Best is trial 152 with value: 2.3209941812912716e-06.\u001b[0m\n",
            "\u001b[32m[I 2022-11-06 17:25:28,048]\u001b[0m Trial 153 finished with value: 0.6319901000583399 and parameters: {'x': 2.794978050048138}. Best is trial 152 with value: 2.3209941812912716e-06.\u001b[0m\n",
            "\u001b[32m[I 2022-11-06 17:25:28,052]\u001b[0m Trial 154 finished with value: 0.5482311290667722 and parameters: {'x': 1.2595736842421306}. Best is trial 152 with value: 2.3209941812912716e-06.\u001b[0m\n",
            "\u001b[32m[I 2022-11-06 17:25:28,058]\u001b[0m Trial 155 finished with value: 0.07664530770416023 and parameters: {'x': 2.2768488896567227}. Best is trial 152 with value: 2.3209941812912716e-06.\u001b[0m\n",
            "\u001b[32m[I 2022-11-06 17:25:28,063]\u001b[0m Trial 156 finished with value: 0.10188178879836003 and parameters: {'x': 1.6808107320125565}. Best is trial 152 with value: 2.3209941812912716e-06.\u001b[0m\n",
            "\u001b[32m[I 2022-11-06 17:25:28,069]\u001b[0m Trial 157 finished with value: 0.9119703822798518 and parameters: {'x': 1.0450285960931334}. Best is trial 152 with value: 2.3209941812912716e-06.\u001b[0m\n",
            "\u001b[32m[I 2022-11-06 17:25:28,077]\u001b[0m Trial 158 finished with value: 28.893929322651896 and parameters: {'x': -3.375307370062841}. Best is trial 152 with value: 2.3209941812912716e-06.\u001b[0m\n",
            "\u001b[32m[I 2022-11-06 17:25:28,082]\u001b[0m Trial 159 finished with value: 2.0865371054358604 and parameters: {'x': 3.4444850658403707}. Best is trial 152 with value: 2.3209941812912716e-06.\u001b[0m\n",
            "\u001b[32m[I 2022-11-06 17:25:28,086]\u001b[0m Trial 160 finished with value: 2.4299156973012006 and parameters: {'x': 0.4411813135257838}. Best is trial 152 with value: 2.3209941812912716e-06.\u001b[0m\n",
            "\u001b[32m[I 2022-11-06 17:25:28,091]\u001b[0m Trial 161 finished with value: 7.906496404458747e-05 and parameters: {'x': 2.0088918481793487}. Best is trial 152 with value: 2.3209941812912716e-06.\u001b[0m\n",
            "\u001b[32m[I 2022-11-06 17:25:28,096]\u001b[0m Trial 162 finished with value: 0.002711315052821939 and parameters: {'x': 2.052070289540408}. Best is trial 152 with value: 2.3209941812912716e-06.\u001b[0m\n",
            "\u001b[32m[I 2022-11-06 17:25:28,100]\u001b[0m Trial 163 finished with value: 0.3776448073217269 and parameters: {'x': 2.614528117600592}. Best is trial 152 with value: 2.3209941812912716e-06.\u001b[0m\n",
            "\u001b[32m[I 2022-11-06 17:25:28,105]\u001b[0m Trial 164 finished with value: 0.23051348490807336 and parameters: {'x': 1.5198818011071926}. Best is trial 152 with value: 2.3209941812912716e-06.\u001b[0m\n",
            "\u001b[32m[I 2022-11-06 17:25:28,108]\u001b[0m Trial 165 finished with value: 0.74039911325235 and parameters: {'x': 2.8604644752994455}. Best is trial 152 with value: 2.3209941812912716e-06.\u001b[0m\n",
            "\u001b[32m[I 2022-11-06 17:25:28,113]\u001b[0m Trial 166 finished with value: 0.04802899110774233 and parameters: {'x': 2.219155175863456}. Best is trial 152 with value: 2.3209941812912716e-06.\u001b[0m\n",
            "\u001b[32m[I 2022-11-06 17:25:28,118]\u001b[0m Trial 167 finished with value: 0.08519367588708796 and parameters: {'x': 1.7081204428414214}. Best is trial 152 with value: 2.3209941812912716e-06.\u001b[0m\n",
            "\u001b[32m[I 2022-11-06 17:25:28,122]\u001b[0m Trial 168 finished with value: 0.9878582190857393 and parameters: {'x': 1.00608943104234}. Best is trial 152 with value: 2.3209941812912716e-06.\u001b[0m\n",
            "\u001b[32m[I 2022-11-06 17:25:28,126]\u001b[0m Trial 169 finished with value: 0.20852357920362505 and parameters: {'x': 2.4566438209410317}. Best is trial 152 with value: 2.3209941812912716e-06.\u001b[0m\n",
            "\u001b[32m[I 2022-11-06 17:25:28,132]\u001b[0m Trial 170 finished with value: 1.2699609147585467 and parameters: {'x': 3.1269254255533268}. Best is trial 152 with value: 2.3209941812912716e-06.\u001b[0m\n",
            "\u001b[32m[I 2022-11-06 17:25:28,138]\u001b[0m Trial 171 finished with value: 0.01430440674815935 and parameters: {'x': 1.8803989684485984}. Best is trial 152 with value: 2.3209941812912716e-06.\u001b[0m\n",
            "\u001b[32m[I 2022-11-06 17:25:28,143]\u001b[0m Trial 172 finished with value: 0.0038045325514690018 and parameters: {'x': 2.0616808929204904}. Best is trial 152 with value: 2.3209941812912716e-06.\u001b[0m\n",
            "\u001b[32m[I 2022-11-06 17:25:28,148]\u001b[0m Trial 173 finished with value: 37.8804030534012 and parameters: {'x': 8.154705764973757}. Best is trial 152 with value: 2.3209941812912716e-06.\u001b[0m\n",
            "\u001b[32m[I 2022-11-06 17:25:28,153]\u001b[0m Trial 174 finished with value: 0.38716900127847953 and parameters: {'x': 1.3777709414705228}. Best is trial 152 with value: 2.3209941812912716e-06.\u001b[0m\n",
            "\u001b[32m[I 2022-11-06 17:25:28,159]\u001b[0m Trial 175 finished with value: 0.01944318687600364 and parameters: {'x': 2.139438828437432}. Best is trial 152 with value: 2.3209941812912716e-06.\u001b[0m\n",
            "\u001b[32m[I 2022-11-06 17:25:28,165]\u001b[0m Trial 176 finished with value: 0.4987070781027514 and parameters: {'x': 2.706191955563607}. Best is trial 152 with value: 2.3209941812912716e-06.\u001b[0m\n",
            "\u001b[32m[I 2022-11-06 17:25:28,171]\u001b[0m Trial 177 finished with value: 0.019324380207316944 and parameters: {'x': 1.8609878415126326}. Best is trial 152 with value: 2.3209941812912716e-06.\u001b[0m\n",
            "\u001b[32m[I 2022-11-06 17:25:28,178]\u001b[0m Trial 178 finished with value: 0.15509111879829607 and parameters: {'x': 2.3938160976881164}. Best is trial 152 with value: 2.3209941812912716e-06.\u001b[0m\n",
            "\u001b[32m[I 2022-11-06 17:25:28,182]\u001b[0m Trial 179 finished with value: 0.39162142937286903 and parameters: {'x': 1.3742033642045772}. Best is trial 152 with value: 2.3209941812912716e-06.\u001b[0m\n",
            "\u001b[32m[I 2022-11-06 17:25:28,187]\u001b[0m Trial 180 finished with value: 1.3958927615792671 and parameters: {'x': 0.8185209432329039}. Best is trial 152 with value: 2.3209941812912716e-06.\u001b[0m\n",
            "\u001b[32m[I 2022-11-06 17:25:28,193]\u001b[0m Trial 181 finished with value: 0.00019277861652009713 and parameters: {'x': 1.9861155260625367}. Best is trial 152 with value: 2.3209941812912716e-06.\u001b[0m\n",
            "\u001b[32m[I 2022-11-06 17:25:28,197]\u001b[0m Trial 182 finished with value: 0.030148292926780382 and parameters: {'x': 2.1736326378500896}. Best is trial 152 with value: 2.3209941812912716e-06.\u001b[0m\n",
            "\u001b[32m[I 2022-11-06 17:25:28,201]\u001b[0m Trial 183 finished with value: 0.12224291924728616 and parameters: {'x': 1.6503674511043256}. Best is trial 152 with value: 2.3209941812912716e-06.\u001b[0m\n",
            "\u001b[32m[I 2022-11-06 17:25:28,206]\u001b[0m Trial 184 finished with value: 0.8066324077620781 and parameters: {'x': 2.8981271668099557}. Best is trial 152 with value: 2.3209941812912716e-06.\u001b[0m\n",
            "\u001b[32m[I 2022-11-06 17:25:28,210]\u001b[0m Trial 185 finished with value: 0.2455091807249253 and parameters: {'x': 2.495488830070795}. Best is trial 152 with value: 2.3209941812912716e-06.\u001b[0m\n",
            "\u001b[32m[I 2022-11-06 17:25:28,215]\u001b[0m Trial 186 finished with value: 0.0013443226908784803 and parameters: {'x': 1.9633349936468234}. Best is trial 152 with value: 2.3209941812912716e-06.\u001b[0m\n",
            "\u001b[32m[I 2022-11-06 17:25:28,220]\u001b[0m Trial 187 finished with value: 0.561023465922747 and parameters: {'x': 1.2509850028719405}. Best is trial 152 with value: 2.3209941812912716e-06.\u001b[0m\n",
            "\u001b[32m[I 2022-11-06 17:25:28,225]\u001b[0m Trial 188 finished with value: 0.08705430907810888 and parameters: {'x': 1.7049503277783402}. Best is trial 152 with value: 2.3209941812912716e-06.\u001b[0m\n",
            "\u001b[32m[I 2022-11-06 17:25:28,230]\u001b[0m Trial 189 finished with value: 1.4824572143028119 and parameters: {'x': 3.217561996081847}. Best is trial 152 with value: 2.3209941812912716e-06.\u001b[0m\n",
            "\u001b[32m[I 2022-11-06 17:25:28,236]\u001b[0m Trial 190 finished with value: 0.25709868823725035 and parameters: {'x': 2.507048999838527}. Best is trial 152 with value: 2.3209941812912716e-06.\u001b[0m\n",
            "\u001b[32m[I 2022-11-06 17:25:28,241]\u001b[0m Trial 191 finished with value: 0.000589479426708302 and parameters: {'x': 1.9757208025934072}. Best is trial 152 with value: 2.3209941812912716e-06.\u001b[0m\n",
            "\u001b[32m[I 2022-11-06 17:25:28,246]\u001b[0m Trial 192 finished with value: 0.00046467178012884715 and parameters: {'x': 2.0215562468933914}. Best is trial 152 with value: 2.3209941812912716e-06.\u001b[0m\n",
            "\u001b[32m[I 2022-11-06 17:25:28,251]\u001b[0m Trial 193 finished with value: 0.023825614955632304 and parameters: {'x': 1.8456445175718326}. Best is trial 152 with value: 2.3209941812912716e-06.\u001b[0m\n",
            "\u001b[32m[I 2022-11-06 17:25:28,255]\u001b[0m Trial 194 finished with value: 0.3266363476148888 and parameters: {'x': 1.4284789176111796}. Best is trial 152 with value: 2.3209941812912716e-06.\u001b[0m\n",
            "\u001b[32m[I 2022-11-06 17:25:28,260]\u001b[0m Trial 195 finished with value: 1.0370299020103528 and parameters: {'x': 0.9816533487999517}. Best is trial 152 with value: 2.3209941812912716e-06.\u001b[0m\n",
            "\u001b[32m[I 2022-11-06 17:25:28,265]\u001b[0m Trial 196 finished with value: 0.048322300689048824 and parameters: {'x': 2.2198233397277205}. Best is trial 152 with value: 2.3209941812912716e-06.\u001b[0m\n",
            "\u001b[32m[I 2022-11-06 17:25:28,271]\u001b[0m Trial 197 finished with value: 0.7365565208838224 and parameters: {'x': 2.858228711290774}. Best is trial 152 with value: 2.3209941812912716e-06.\u001b[0m\n",
            "\u001b[32m[I 2022-11-06 17:25:28,276]\u001b[0m Trial 198 finished with value: 0.16868892550714906 and parameters: {'x': 1.5892824261038383}. Best is trial 152 with value: 2.3209941812912716e-06.\u001b[0m\n",
            "\u001b[32m[I 2022-11-06 17:25:28,282]\u001b[0m Trial 199 finished with value: 3.866174964368786e-05 and parameters: {'x': 1.9937821426806586}. Best is trial 152 with value: 2.3209941812912716e-06.\u001b[0m\n"
          ]
        }
      ],
      "source": [
        "study.optimize(objective, n_trials=100)"
      ]
    },
    {
      "cell_type": "markdown",
      "metadata": {},
      "source": [
        "To get the updated number of trials:\n",
        "\n"
      ]
    },
    {
      "cell_type": "code",
      "execution_count": 11,
      "metadata": {
        "collapsed": false
      },
      "outputs": [
        {
          "data": {
            "text/plain": [
              "200"
            ]
          },
          "execution_count": 11,
          "metadata": {},
          "output_type": "execute_result"
        }
      ],
      "source": [
        "len(study.trials)"
      ]
    },
    {
      "cell_type": "markdown",
      "metadata": {},
      "source": [
        "As the objective function is so easy that the last 100 trials don't improve the result.\n",
        "However, we can check the result again:\n",
        "\n"
      ]
    },
    {
      "cell_type": "code",
      "execution_count": 12,
      "metadata": {
        "collapsed": false
      },
      "outputs": [
        {
          "name": "stdout",
          "output_type": "stream",
          "text": [
            "Found x: 1.9984765190577853, (x - 2)^2: 2.3209941812912716e-06\n"
          ]
        }
      ],
      "source": [
        "best_params = study.best_params\n",
        "found_x = best_params[\"x\"]\n",
        "print(\"Found x: {}, (x - 2)^2: {}\".format(found_x, (found_x - 2) ** 2))"
      ]
    }
  ],
  "metadata": {
    "kernelspec": {
      "display_name": "Python 3.9.13 ('base')",
      "language": "python",
      "name": "python3"
    },
    "language_info": {
      "codemirror_mode": {
        "name": "ipython",
        "version": 3
      },
      "file_extension": ".py",
      "mimetype": "text/x-python",
      "name": "python",
      "nbconvert_exporter": "python",
      "pygments_lexer": "ipython3",
      "version": "3.9.13"
    },
    "vscode": {
      "interpreter": {
        "hash": "34cd7c78411e28399e4de8eeefd5f70c22472795dece7d63a5362eac4c8c7767"
      }
    }
  },
  "nbformat": 4,
  "nbformat_minor": 0
}
