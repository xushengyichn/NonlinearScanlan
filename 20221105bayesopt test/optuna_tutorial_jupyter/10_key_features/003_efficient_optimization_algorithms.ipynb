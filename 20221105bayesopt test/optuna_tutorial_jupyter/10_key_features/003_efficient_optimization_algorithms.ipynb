{
  "cells": [
    {
      "cell_type": "markdown",
      "metadata": {},
      "source": [
        "\n",
        "\n",
        "# 3. Efficient Optimization Algorithms\n",
        "\n",
        "Optuna enables efficient hyperparameter optimization by\n",
        "adopting state-of-the-art algorithms for sampling hyperparameters and\n",
        "pruning efficiently unpromising trials.\n",
        "\n",
        "## Sampling Algorithms\n",
        "\n",
        "Samplers basically continually narrow down the search space using the records of suggested parameter values and evaluated objective values,\n",
        "leading to an optimal search space which giving off parameters leading to better objective values.\n",
        "More detailed explanation of how samplers suggest parameters is in :class:`~optuna.samplers.BaseSampler`.\n",
        "\n",
        "Optuna provides the following sampling algorithms:\n",
        "\n",
        "- Grid Search implemented in :class:`~optuna.samplers.GridSampler`\n",
        "\n",
        "- Random Search implemented in :class:`~optuna.samplers.RandomSampler`\n",
        "\n",
        "- Tree-structured Parzen Estimator algorithm implemented in :class:`~optuna.samplers.TPESampler`\n",
        "\n",
        "- CMA-ES based algorithm implemented in :class:`~optuna.samplers.CmaEsSampler`\n",
        "\n",
        "- Algorithm to enable partial fixed parameters implemented in :class:`~optuna.samplers.PartialFixedSampler`\n",
        "\n",
        "- Nondominated Sorting Genetic Algorithm II implemented in :class:`~optuna.samplers.NSGAIISampler`\n",
        "\n",
        "- A Quasi Monte Carlo sampling algorithm implemented in :class:`~optuna.samplers.QMCSampler`\n",
        "\n",
        "The default sampler is :class:`~optuna.samplers.TPESampler`.\n",
        "\n",
        "## Switching Samplers\n"
      ]
    },
    {
      "cell_type": "code",
      "execution_count": 1,
      "metadata": {
        "collapsed": false
      },
      "outputs": [],
      "source": [
        "import optuna"
      ]
    },
    {
      "cell_type": "markdown",
      "metadata": {},
      "source": [
        "By default, Optuna uses :class:`~optuna.samplers.TPESampler` as follows.\n",
        "\n"
      ]
    },
    {
      "cell_type": "code",
      "execution_count": 2,
      "metadata": {
        "collapsed": false
      },
      "outputs": [
        {
          "name": "stderr",
          "output_type": "stream",
          "text": [
            "\u001b[32m[I 2022-11-06 17:30:06,108]\u001b[0m A new study created in memory with name: no-name-27b39c89-65ad-4651-b45f-690083efe78e\u001b[0m\n"
          ]
        },
        {
          "name": "stdout",
          "output_type": "stream",
          "text": [
            "Sampler is TPESampler\n"
          ]
        }
      ],
      "source": [
        "study = optuna.create_study()\n",
        "print(f\"Sampler is {study.sampler.__class__.__name__}\")"
      ]
    },
    {
      "cell_type": "markdown",
      "metadata": {},
      "source": [
        "If you want to use different samplers for example :class:`~optuna.samplers.RandomSampler`\n",
        "and :class:`~optuna.samplers.CmaEsSampler`,\n",
        "\n"
      ]
    },
    {
      "cell_type": "code",
      "execution_count": 3,
      "metadata": {
        "collapsed": false
      },
      "outputs": [
        {
          "name": "stderr",
          "output_type": "stream",
          "text": [
            "\u001b[32m[I 2022-11-06 17:30:33,173]\u001b[0m A new study created in memory with name: no-name-a88aa1e9-c7a9-4598-a5ee-0ebf31792fcf\u001b[0m\n",
            "\u001b[32m[I 2022-11-06 17:30:33,175]\u001b[0m A new study created in memory with name: no-name-16eecb63-7fb9-4831-b9e1-7209a8e38c43\u001b[0m\n"
          ]
        },
        {
          "name": "stdout",
          "output_type": "stream",
          "text": [
            "Sampler is RandomSampler\n",
            "Sampler is CmaEsSampler\n"
          ]
        }
      ],
      "source": [
        "study = optuna.create_study(sampler=optuna.samplers.RandomSampler())\n",
        "print(f\"Sampler is {study.sampler.__class__.__name__}\")\n",
        "\n",
        "study = optuna.create_study(sampler=optuna.samplers.CmaEsSampler())\n",
        "print(f\"Sampler is {study.sampler.__class__.__name__}\")"
      ]
    },
    {
      "cell_type": "markdown",
      "metadata": {},
      "source": [
        "## Pruning Algorithms\n",
        "\n",
        "``Pruners`` automatically stop unpromising trials at the early stages of the training (a.k.a., automated early-stopping).\n",
        "\n",
        "Optuna provides the following pruning algorithms:\n",
        "\n",
        "- Median pruning algorithm implemented in :class:`~optuna.pruners.MedianPruner`\n",
        "\n",
        "- Non-pruning algorithm implemented in :class:`~optuna.pruners.NopPruner`\n",
        "\n",
        "- Algorithm to operate pruner with tolerance implemented in :class:`~optuna.pruners.PatientPruner`\n",
        "\n",
        "- Algorithm to prune specified percentile of trials implemented in :class:`~optuna.pruners.PercentilePruner`\n",
        "\n",
        "- Asynchronous Successive Halving algorithm implemented in :class:`~optuna.pruners.SuccessiveHalvingPruner`\n",
        "\n",
        "- Hyperband algorithm implemented in :class:`~optuna.pruners.HyperbandPruner`\n",
        "\n",
        "- Threshold pruning algorithm implemented in :class:`~optuna.pruners.ThresholdPruner`\n",
        "\n",
        "We use :class:`~optuna.pruners.MedianPruner` in most examples,\n",
        "though basically it is outperformed by :class:`~optuna.pruners.SuccessiveHalvingPruner` and\n",
        ":class:`~optuna.pruners.HyperbandPruner` as in [this benchmark result](https://github.com/optuna/optuna/wiki/Benchmarks-with-Kurobako).\n",
        "\n",
        "\n",
        "## Activating Pruners\n",
        "To turn on the pruning feature, you need to call :func:`~optuna.trial.Trial.report` and :func:`~optuna.trial.Trial.should_prune` after each step of the iterative training.\n",
        ":func:`~optuna.trial.Trial.report` periodically monitors the intermediate objective values.\n",
        ":func:`~optuna.trial.Trial.should_prune` decides termination of the trial that does not meet a predefined condition.\n",
        "\n",
        "We would recommend using integration modules for major machine learning frameworks.\n",
        "Exclusive list is :mod:`~optuna.integration` and usecases are available in [~optuna/examples](https://github.com/optuna/optuna-examples/).\n",
        "\n"
      ]
    },
    {
      "cell_type": "code",
      "execution_count": 4,
      "metadata": {
        "collapsed": false
      },
      "outputs": [],
      "source": [
        "import logging\n",
        "import sys\n",
        "\n",
        "import sklearn.datasets\n",
        "import sklearn.linear_model\n",
        "import sklearn.model_selection\n",
        "\n",
        "\n",
        "def objective(trial):\n",
        "    iris = sklearn.datasets.load_iris()\n",
        "    classes = list(set(iris.target))\n",
        "    train_x, valid_x, train_y, valid_y = sklearn.model_selection.train_test_split(\n",
        "        iris.data, iris.target, test_size=0.25, random_state=0\n",
        "    )\n",
        "\n",
        "    alpha = trial.suggest_float(\"alpha\", 1e-5, 1e-1, log=True)\n",
        "    clf = sklearn.linear_model.SGDClassifier(alpha=alpha)\n",
        "\n",
        "    for step in range(100):\n",
        "        clf.partial_fit(train_x, train_y, classes=classes)\n",
        "\n",
        "        # Report intermediate objective value.\n",
        "        intermediate_value = 1.0 - clf.score(valid_x, valid_y)\n",
        "        trial.report(intermediate_value, step)\n",
        "\n",
        "        # Handle pruning based on the intermediate value.\n",
        "        if trial.should_prune():\n",
        "            raise optuna.TrialPruned()\n",
        "\n",
        "    return 1.0 - clf.score(valid_x, valid_y)"
      ]
    },
    {
      "cell_type": "markdown",
      "metadata": {},
      "source": [
        "Set up the median stopping rule as the pruning condition.\n",
        "\n"
      ]
    },
    {
      "cell_type": "code",
      "execution_count": 5,
      "metadata": {
        "collapsed": false
      },
      "outputs": [
        {
          "name": "stderr",
          "output_type": "stream",
          "text": [
            "\u001b[32m[I 2022-11-06 17:32:50,240]\u001b[0m A new study created in memory with name: no-name-dd001ae6-b653-449f-9afc-282dc5ef4113\u001b[0m\n"
          ]
        },
        {
          "name": "stdout",
          "output_type": "stream",
          "text": [
            "A new study created in memory with name: no-name-dd001ae6-b653-449f-9afc-282dc5ef4113\n"
          ]
        },
        {
          "name": "stderr",
          "output_type": "stream",
          "text": [
            "\u001b[32m[I 2022-11-06 17:32:50,395]\u001b[0m Trial 0 finished with value: 0.3157894736842105 and parameters: {'alpha': 4.9918130738650875e-05}. Best is trial 0 with value: 0.3157894736842105.\u001b[0m\n"
          ]
        },
        {
          "name": "stdout",
          "output_type": "stream",
          "text": [
            "Trial 0 finished with value: 0.3157894736842105 and parameters: {'alpha': 4.9918130738650875e-05}. Best is trial 0 with value: 0.3157894736842105.\n"
          ]
        },
        {
          "name": "stderr",
          "output_type": "stream",
          "text": [
            "\u001b[32m[I 2022-11-06 17:32:50,563]\u001b[0m Trial 1 finished with value: 0.23684210526315785 and parameters: {'alpha': 0.07701159043466924}. Best is trial 1 with value: 0.23684210526315785.\u001b[0m\n"
          ]
        },
        {
          "name": "stdout",
          "output_type": "stream",
          "text": [
            "Trial 1 finished with value: 0.23684210526315785 and parameters: {'alpha': 0.07701159043466924}. Best is trial 1 with value: 0.23684210526315785.\n"
          ]
        },
        {
          "name": "stderr",
          "output_type": "stream",
          "text": [
            "\u001b[32m[I 2022-11-06 17:32:50,699]\u001b[0m Trial 2 finished with value: 0.42105263157894735 and parameters: {'alpha': 0.00014511887061157845}. Best is trial 1 with value: 0.23684210526315785.\u001b[0m\n"
          ]
        },
        {
          "name": "stdout",
          "output_type": "stream",
          "text": [
            "Trial 2 finished with value: 0.42105263157894735 and parameters: {'alpha': 0.00014511887061157845}. Best is trial 1 with value: 0.23684210526315785.\n"
          ]
        },
        {
          "name": "stderr",
          "output_type": "stream",
          "text": [
            "\u001b[32m[I 2022-11-06 17:32:50,840]\u001b[0m Trial 3 finished with value: 0.13157894736842102 and parameters: {'alpha': 0.0041408968662081155}. Best is trial 3 with value: 0.13157894736842102.\u001b[0m\n"
          ]
        },
        {
          "name": "stdout",
          "output_type": "stream",
          "text": [
            "Trial 3 finished with value: 0.13157894736842102 and parameters: {'alpha': 0.0041408968662081155}. Best is trial 3 with value: 0.13157894736842102.\n"
          ]
        },
        {
          "name": "stderr",
          "output_type": "stream",
          "text": [
            "\u001b[32m[I 2022-11-06 17:32:50,990]\u001b[0m Trial 4 finished with value: 0.368421052631579 and parameters: {'alpha': 0.0005914918867043381}. Best is trial 3 with value: 0.13157894736842102.\u001b[0m\n"
          ]
        },
        {
          "name": "stdout",
          "output_type": "stream",
          "text": [
            "Trial 4 finished with value: 0.368421052631579 and parameters: {'alpha': 0.0005914918867043381}. Best is trial 3 with value: 0.13157894736842102.\n"
          ]
        },
        {
          "name": "stderr",
          "output_type": "stream",
          "text": [
            "\u001b[32m[I 2022-11-06 17:32:51,002]\u001b[0m Trial 5 pruned. \u001b[0m\n"
          ]
        },
        {
          "name": "stdout",
          "output_type": "stream",
          "text": [
            "Trial 5 pruned. \n"
          ]
        },
        {
          "name": "stderr",
          "output_type": "stream",
          "text": [
            "\u001b[32m[I 2022-11-06 17:32:51,161]\u001b[0m Trial 6 finished with value: 0.02631578947368418 and parameters: {'alpha': 0.013953132806535106}. Best is trial 6 with value: 0.02631578947368418.\u001b[0m\n"
          ]
        },
        {
          "name": "stdout",
          "output_type": "stream",
          "text": [
            "Trial 6 finished with value: 0.02631578947368418 and parameters: {'alpha': 0.013953132806535106}. Best is trial 6 with value: 0.02631578947368418.\n"
          ]
        },
        {
          "name": "stderr",
          "output_type": "stream",
          "text": [
            "\u001b[32m[I 2022-11-06 17:32:51,179]\u001b[0m Trial 7 pruned. \u001b[0m\n"
          ]
        },
        {
          "name": "stdout",
          "output_type": "stream",
          "text": [
            "Trial 7 pruned. \n"
          ]
        },
        {
          "name": "stderr",
          "output_type": "stream",
          "text": [
            "\u001b[32m[I 2022-11-06 17:32:51,185]\u001b[0m Trial 8 pruned. \u001b[0m\n"
          ]
        },
        {
          "name": "stdout",
          "output_type": "stream",
          "text": [
            "Trial 8 pruned. \n"
          ]
        },
        {
          "name": "stderr",
          "output_type": "stream",
          "text": [
            "\u001b[32m[I 2022-11-06 17:32:51,339]\u001b[0m Trial 9 finished with value: 0.1842105263157895 and parameters: {'alpha': 0.019001040387487473}. Best is trial 6 with value: 0.02631578947368418.\u001b[0m\n"
          ]
        },
        {
          "name": "stdout",
          "output_type": "stream",
          "text": [
            "Trial 9 finished with value: 0.1842105263157895 and parameters: {'alpha': 0.019001040387487473}. Best is trial 6 with value: 0.02631578947368418.\n"
          ]
        },
        {
          "name": "stderr",
          "output_type": "stream",
          "text": [
            "\u001b[32m[I 2022-11-06 17:32:51,513]\u001b[0m Trial 10 finished with value: 0.02631578947368418 and parameters: {'alpha': 0.0037783183634425956}. Best is trial 6 with value: 0.02631578947368418.\u001b[0m\n"
          ]
        },
        {
          "name": "stdout",
          "output_type": "stream",
          "text": [
            "Trial 10 finished with value: 0.02631578947368418 and parameters: {'alpha': 0.0037783183634425956}. Best is trial 6 with value: 0.02631578947368418.\n"
          ]
        },
        {
          "name": "stderr",
          "output_type": "stream",
          "text": [
            "\u001b[32m[I 2022-11-06 17:32:51,522]\u001b[0m Trial 11 pruned. \u001b[0m\n"
          ]
        },
        {
          "name": "stdout",
          "output_type": "stream",
          "text": [
            "Trial 11 pruned. \n"
          ]
        },
        {
          "name": "stderr",
          "output_type": "stream",
          "text": [
            "\u001b[32m[I 2022-11-06 17:32:51,531]\u001b[0m Trial 12 pruned. \u001b[0m\n"
          ]
        },
        {
          "name": "stdout",
          "output_type": "stream",
          "text": [
            "Trial 12 pruned. \n"
          ]
        },
        {
          "name": "stderr",
          "output_type": "stream",
          "text": [
            "\u001b[32m[I 2022-11-06 17:32:51,539]\u001b[0m Trial 13 pruned. \u001b[0m\n"
          ]
        },
        {
          "name": "stdout",
          "output_type": "stream",
          "text": [
            "Trial 13 pruned. \n"
          ]
        },
        {
          "name": "stderr",
          "output_type": "stream",
          "text": [
            "\u001b[32m[I 2022-11-06 17:32:51,696]\u001b[0m Trial 14 finished with value: 0.3157894736842105 and parameters: {'alpha': 0.0005725570573014121}. Best is trial 6 with value: 0.02631578947368418.\u001b[0m\n"
          ]
        },
        {
          "name": "stdout",
          "output_type": "stream",
          "text": [
            "Trial 14 finished with value: 0.3157894736842105 and parameters: {'alpha': 0.0005725570573014121}. Best is trial 6 with value: 0.02631578947368418.\n"
          ]
        },
        {
          "name": "stderr",
          "output_type": "stream",
          "text": [
            "\u001b[32m[I 2022-11-06 17:32:51,862]\u001b[0m Trial 15 finished with value: 0.3421052631578947 and parameters: {'alpha': 1.1876470672216945e-05}. Best is trial 6 with value: 0.02631578947368418.\u001b[0m\n"
          ]
        },
        {
          "name": "stdout",
          "output_type": "stream",
          "text": [
            "Trial 15 finished with value: 0.3421052631578947 and parameters: {'alpha': 1.1876470672216945e-05}. Best is trial 6 with value: 0.02631578947368418.\n"
          ]
        },
        {
          "name": "stderr",
          "output_type": "stream",
          "text": [
            "\u001b[32m[I 2022-11-06 17:32:52,026]\u001b[0m Trial 16 finished with value: 0.07894736842105265 and parameters: {'alpha': 0.016553541987523977}. Best is trial 6 with value: 0.02631578947368418.\u001b[0m\n"
          ]
        },
        {
          "name": "stdout",
          "output_type": "stream",
          "text": [
            "Trial 16 finished with value: 0.07894736842105265 and parameters: {'alpha': 0.016553541987523977}. Best is trial 6 with value: 0.02631578947368418.\n"
          ]
        },
        {
          "name": "stderr",
          "output_type": "stream",
          "text": [
            "\u001b[32m[I 2022-11-06 17:32:52,196]\u001b[0m Trial 17 finished with value: 0.1842105263157895 and parameters: {'alpha': 0.0017251815754935412}. Best is trial 6 with value: 0.02631578947368418.\u001b[0m\n"
          ]
        },
        {
          "name": "stdout",
          "output_type": "stream",
          "text": [
            "Trial 17 finished with value: 0.1842105263157895 and parameters: {'alpha': 0.0017251815754935412}. Best is trial 6 with value: 0.02631578947368418.\n"
          ]
        },
        {
          "name": "stderr",
          "output_type": "stream",
          "text": [
            "\u001b[32m[I 2022-11-06 17:32:52,206]\u001b[0m Trial 18 pruned. \u001b[0m\n"
          ]
        },
        {
          "name": "stdout",
          "output_type": "stream",
          "text": [
            "Trial 18 pruned. \n"
          ]
        },
        {
          "name": "stderr",
          "output_type": "stream",
          "text": [
            "\u001b[32m[I 2022-11-06 17:32:52,222]\u001b[0m Trial 19 pruned. \u001b[0m\n"
          ]
        },
        {
          "name": "stdout",
          "output_type": "stream",
          "text": [
            "Trial 19 pruned. \n"
          ]
        }
      ],
      "source": [
        "# Add stream handler of stdout to show the messages\n",
        "optuna.logging.get_logger(\"optuna\").addHandler(logging.StreamHandler(sys.stdout))\n",
        "study = optuna.create_study(pruner=optuna.pruners.MedianPruner())\n",
        "study.optimize(objective, n_trials=20)"
      ]
    },
    {
      "cell_type": "markdown",
      "metadata": {},
      "source": [
        "As you can see, several trials were pruned (stopped) before they finished all of the iterations.\n",
        "The format of message is ``\"Trial <Trial Number> pruned.\"``.\n",
        "\n"
      ]
    },
    {
      "cell_type": "markdown",
      "metadata": {},
      "source": [
        "## Which Sampler and Pruner Should be Used?\n",
        "\n",
        "From the benchmark results which are available at [optuna/optuna - wiki \"Benchmarks with Kurobako\"](https://github.com/optuna/optuna/wiki/Benchmarks-with-Kurobako), at least for not deep learning tasks, we would say that\n",
        "\n",
        "* For :class:`~optuna.samplers.RandomSampler`, :class:`~optuna.pruners.MedianPruner` is the best.\n",
        "* For :class:`~optuna.samplers.TPESampler`, :class:`~optuna.pruners.Hyperband` is the best.\n",
        "\n",
        "However, note that the benchmark is not deep learning.\n",
        "For deep learning tasks,\n",
        "consult the below table.\n",
        "This table is from the [Ozaki et al., Hyperparameter Optimization Methods: Overview and Characteristics, in IEICE Trans, Vol.J103-D No.9 pp.615-631, 2020](https://doi.org/10.14923/transinfj.2019JDR0003) paper,\n",
        "which is written in Japanese.\n",
        "\n",
        "+---------------------------+-----------------------------------------+---------------------------------------------------------------+\n",
        "| Parallel Compute Resource | Categorical/Conditional Hyperparameters | Recommended Algorithms                                        |\n",
        "+===========================+=========================================+===============================================================+\n",
        "| Limited                   | No                                      | TPE. GP-EI if search space is low-dimensional and continuous. |\n",
        "+                           +-----------------------------------------+---------------------------------------------------------------+\n",
        "|                           | Yes                                     | TPE. GP-EI if search space is low-dimensional and continuous  |\n",
        "+---------------------------+-----------------------------------------+---------------------------------------------------------------+\n",
        "| Sufficient                | No                                      | CMA-ES, Random Search                                         |\n",
        "+                           +-----------------------------------------+---------------------------------------------------------------+\n",
        "|                           | Yes                                     | Random Search or Genetic Algorithm                            |\n",
        "+---------------------------+-----------------------------------------+---------------------------------------------------------------+\n",
        "\n",
        "\n"
      ]
    },
    {
      "cell_type": "markdown",
      "metadata": {},
      "source": [
        "## Integration Modules for Pruning\n",
        "To implement pruning mechanism in much simpler forms, Optuna provides integration modules for the following libraries.\n",
        "\n",
        "For the complete list of Optuna's integration modules, see :mod:`~optuna.integration`.\n",
        "\n",
        "For example, :class:`~optuna.integration.XGBoostPruningCallback` introduces pruning without directly changing the logic of training iteration.\n",
        "(See also [example](https://github.com/optuna/optuna-examples/tree/main/xgboost/xgboost_integration.py) for the entire script.)\n",
        "\n",
        "```python\n",
        "pruning_callback = optuna.integration.XGBoostPruningCallback(trial, 'validation-error')\n",
        "bst = xgb.train(param, dtrain, evals=[(dvalid, 'validation')], callbacks=[pruning_callback])\n",
        "```\n"
      ]
    }
  ],
  "metadata": {
    "kernelspec": {
      "display_name": "Python 3.9.13 ('base')",
      "language": "python",
      "name": "python3"
    },
    "language_info": {
      "codemirror_mode": {
        "name": "ipython",
        "version": 3
      },
      "file_extension": ".py",
      "mimetype": "text/x-python",
      "name": "python",
      "nbconvert_exporter": "python",
      "pygments_lexer": "ipython3",
      "version": "3.9.13 (main, Aug 25 2022, 23:51:50) [MSC v.1916 64 bit (AMD64)]"
    },
    "vscode": {
      "interpreter": {
        "hash": "34cd7c78411e28399e4de8eeefd5f70c22472795dece7d63a5362eac4c8c7767"
      }
    }
  },
  "nbformat": 4,
  "nbformat_minor": 0
}
