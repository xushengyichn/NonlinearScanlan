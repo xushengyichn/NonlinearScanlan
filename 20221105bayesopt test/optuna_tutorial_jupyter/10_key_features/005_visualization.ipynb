{
  "cells": [
    {
      "cell_type": "markdown",
      "metadata": {},
      "source": [
        "\n",
        "\n",
        "# 5. Quick Visualization for Hyperparameter Optimization Analysis\n",
        "\n",
        "Optuna provides various visualization features in :mod:`optuna.visualization` to analyze optimization results visually.\n",
        "\n",
        "This tutorial walks you through this module by visualizing the history of lightgbm model for breast cancer dataset.\n",
        "\n",
        "For visualizing multi-objective optimization (i.e., the usage of :func:`optuna.visualization.plot_pareto_front`),\n",
        "please refer to the tutorial of `multi_objective`.\n"
      ]
    },
    {
      "cell_type": "code",
      "execution_count": 2,
      "metadata": {
        "collapsed": false
      },
      "outputs": [],
      "source": [
        "import lightgbm as lgb\n",
        "import numpy as np\n",
        "import sklearn.datasets\n",
        "import sklearn.metrics\n",
        "from sklearn.model_selection import train_test_split\n",
        "\n",
        "import optuna\n",
        "\n",
        "# You can use Matplotlib instead of Plotly for visualization by simply replacing `optuna.visualization` with\n",
        "# `optuna.visualization.matplotlib` in the following examples.\n",
        "from optuna.visualization import plot_contour\n",
        "from optuna.visualization import plot_edf\n",
        "from optuna.visualization import plot_intermediate_values\n",
        "from optuna.visualization import plot_optimization_history\n",
        "from optuna.visualization import plot_parallel_coordinate\n",
        "from optuna.visualization import plot_param_importances\n",
        "from optuna.visualization import plot_slice\n",
        "\n",
        "SEED = 42\n",
        "\n",
        "np.random.seed(SEED)"
      ]
    },
    {
      "cell_type": "markdown",
      "metadata": {},
      "source": [
        "Define the objective function.\n",
        "\n"
      ]
    },
    {
      "cell_type": "code",
      "execution_count": 3,
      "metadata": {
        "collapsed": false
      },
      "outputs": [],
      "source": [
        "def objective(trial):\n",
        "    data, target = sklearn.datasets.load_breast_cancer(return_X_y=True)\n",
        "    train_x, valid_x, train_y, valid_y = train_test_split(data, target, test_size=0.25)\n",
        "    dtrain = lgb.Dataset(train_x, label=train_y)\n",
        "    dvalid = lgb.Dataset(valid_x, label=valid_y)\n",
        "\n",
        "    param = {\n",
        "        \"objective\": \"binary\",\n",
        "        \"metric\": \"auc\",\n",
        "        \"verbosity\": -1,\n",
        "        \"boosting_type\": \"gbdt\",\n",
        "        \"bagging_fraction\": trial.suggest_float(\"bagging_fraction\", 0.4, 1.0),\n",
        "        \"bagging_freq\": trial.suggest_int(\"bagging_freq\", 1, 7),\n",
        "        \"min_child_samples\": trial.suggest_int(\"min_child_samples\", 5, 100),\n",
        "    }\n",
        "\n",
        "    # Add a callback for pruning.\n",
        "    pruning_callback = optuna.integration.LightGBMPruningCallback(trial, \"auc\")\n",
        "    gbm = lgb.train(\n",
        "        param, dtrain, valid_sets=[dvalid], verbose_eval=False, callbacks=[pruning_callback]\n",
        "    )\n",
        "\n",
        "    preds = gbm.predict(valid_x)\n",
        "    pred_labels = np.rint(preds)\n",
        "    accuracy = sklearn.metrics.accuracy_score(valid_y, pred_labels)\n",
        "    return accuracy"
      ]
    },
    {
      "cell_type": "code",
      "execution_count": 4,
      "metadata": {
        "collapsed": false
      },
      "outputs": [
        {
          "name": "stderr",
          "output_type": "stream",
          "text": [
            "\u001b[32m[I 2022-11-06 17:40:47,448]\u001b[0m A new study created in memory with name: no-name-e7493cd4-6d2c-4cb1-ae00-26f99cb767b4\u001b[0m\n",
            "c:\\Users\\xushe\\anaconda3\\lib\\site-packages\\lightgbm\\engine.py:239: UserWarning: 'verbose_eval' argument is deprecated and will be removed in a future release of LightGBM. Pass 'log_evaluation()' callback via 'callbacks' argument instead.\n",
            "  _log_warning(\"'verbose_eval' argument is deprecated and will be removed in a future release of LightGBM. \"\n",
            "\u001b[32m[I 2022-11-06 17:40:47,523]\u001b[0m Trial 0 finished with value: 0.972027972027972 and parameters: {'bagging_fraction': 0.6247240713084175, 'bagging_freq': 7, 'min_child_samples': 75}. Best is trial 0 with value: 0.972027972027972.\u001b[0m\n",
            "c:\\Users\\xushe\\anaconda3\\lib\\site-packages\\lightgbm\\engine.py:239: UserWarning: 'verbose_eval' argument is deprecated and will be removed in a future release of LightGBM. Pass 'log_evaluation()' callback via 'callbacks' argument instead.\n",
            "  _log_warning(\"'verbose_eval' argument is deprecated and will be removed in a future release of LightGBM. \"\n",
            "\u001b[32m[I 2022-11-06 17:40:47,845]\u001b[0m Trial 1 finished with value: 0.972027972027972 and parameters: {'bagging_fraction': 0.759195090518222, 'bagging_freq': 2, 'min_child_samples': 19}. Best is trial 0 with value: 0.972027972027972.\u001b[0m\n",
            "c:\\Users\\xushe\\anaconda3\\lib\\site-packages\\lightgbm\\engine.py:239: UserWarning: 'verbose_eval' argument is deprecated and will be removed in a future release of LightGBM. Pass 'log_evaluation()' callback via 'callbacks' argument instead.\n",
            "  _log_warning(\"'verbose_eval' argument is deprecated and will be removed in a future release of LightGBM. \"\n",
            "\u001b[32m[I 2022-11-06 17:40:47,912]\u001b[0m Trial 2 finished with value: 0.958041958041958 and parameters: {'bagging_fraction': 0.4348501673009197, 'bagging_freq': 7, 'min_child_samples': 62}. Best is trial 0 with value: 0.972027972027972.\u001b[0m\n",
            "c:\\Users\\xushe\\anaconda3\\lib\\site-packages\\lightgbm\\engine.py:239: UserWarning: 'verbose_eval' argument is deprecated and will be removed in a future release of LightGBM. Pass 'log_evaluation()' callback via 'callbacks' argument instead.\n",
            "  _log_warning(\"'verbose_eval' argument is deprecated and will be removed in a future release of LightGBM. \"\n",
            "\u001b[32m[I 2022-11-06 17:40:47,988]\u001b[0m Trial 3 finished with value: 0.9790209790209791 and parameters: {'bagging_fraction': 0.8248435466776274, 'bagging_freq': 1, 'min_child_samples': 98}. Best is trial 3 with value: 0.9790209790209791.\u001b[0m\n",
            "c:\\Users\\xushe\\anaconda3\\lib\\site-packages\\lightgbm\\engine.py:239: UserWarning: 'verbose_eval' argument is deprecated and will be removed in a future release of LightGBM. Pass 'log_evaluation()' callback via 'callbacks' argument instead.\n",
            "  _log_warning(\"'verbose_eval' argument is deprecated and will be removed in a future release of LightGBM. \"\n",
            "\u001b[32m[I 2022-11-06 17:40:48,152]\u001b[0m Trial 4 finished with value: 0.958041958041958 and parameters: {'bagging_fraction': 0.899465584480253, 'bagging_freq': 2, 'min_child_samples': 22}. Best is trial 3 with value: 0.9790209790209791.\u001b[0m\n",
            "c:\\Users\\xushe\\anaconda3\\lib\\site-packages\\lightgbm\\engine.py:239: UserWarning: 'verbose_eval' argument is deprecated and will be removed in a future release of LightGBM. Pass 'log_evaluation()' callback via 'callbacks' argument instead.\n",
            "  _log_warning(\"'verbose_eval' argument is deprecated and will be removed in a future release of LightGBM. \"\n",
            "\u001b[32m[I 2022-11-06 17:40:48,248]\u001b[0m Trial 5 finished with value: 0.993006993006993 and parameters: {'bagging_fraction': 0.5100427059120604, 'bagging_freq': 3, 'min_child_samples': 55}. Best is trial 5 with value: 0.993006993006993.\u001b[0m\n",
            "c:\\Users\\xushe\\anaconda3\\lib\\site-packages\\lightgbm\\engine.py:239: UserWarning: 'verbose_eval' argument is deprecated and will be removed in a future release of LightGBM. Pass 'log_evaluation()' callback via 'callbacks' argument instead.\n",
            "  _log_warning(\"'verbose_eval' argument is deprecated and will be removed in a future release of LightGBM. \"\n",
            "\u001b[32m[I 2022-11-06 17:40:48,278]\u001b[0m Trial 6 pruned. Trial was pruned at iteration 10.\u001b[0m\n",
            "\u001b[32m[I 2022-11-06 17:40:48,313]\u001b[0m Trial 7 pruned. Trial was pruned at iteration 10.\u001b[0m\n",
            "\u001b[32m[I 2022-11-06 17:40:48,352]\u001b[0m Trial 8 pruned. Trial was pruned at iteration 14.\u001b[0m\n",
            "\u001b[32m[I 2022-11-06 17:40:48,419]\u001b[0m Trial 9 pruned. Trial was pruned at iteration 18.\u001b[0m\n",
            "\u001b[32m[I 2022-11-06 17:40:48,474]\u001b[0m Trial 10 pruned. Trial was pruned at iteration 28.\u001b[0m\n",
            "\u001b[32m[I 2022-11-06 17:40:48,523]\u001b[0m Trial 11 pruned. Trial was pruned at iteration 10.\u001b[0m\n",
            "\u001b[32m[I 2022-11-06 17:40:48,640]\u001b[0m Trial 12 finished with value: 0.986013986013986 and parameters: {'bagging_fraction': 0.9733907188988407, 'bagging_freq': 1, 'min_child_samples': 98}. Best is trial 5 with value: 0.993006993006993.\u001b[0m\n",
            "c:\\Users\\xushe\\anaconda3\\lib\\site-packages\\lightgbm\\engine.py:239: UserWarning: 'verbose_eval' argument is deprecated and will be removed in a future release of LightGBM. Pass 'log_evaluation()' callback via 'callbacks' argument instead.\n",
            "  _log_warning(\"'verbose_eval' argument is deprecated and will be removed in a future release of LightGBM. \"\n",
            "\u001b[32m[I 2022-11-06 17:40:48,689]\u001b[0m Trial 13 pruned. Trial was pruned at iteration 10.\u001b[0m\n",
            "\u001b[32m[I 2022-11-06 17:40:48,740]\u001b[0m Trial 14 pruned. Trial was pruned at iteration 10.\u001b[0m\n",
            "\u001b[32m[I 2022-11-06 17:40:48,786]\u001b[0m Trial 15 pruned. Trial was pruned at iteration 10.\u001b[0m\n",
            "\u001b[32m[I 2022-11-06 17:40:48,830]\u001b[0m Trial 16 pruned. Trial was pruned at iteration 10.\u001b[0m\n",
            "\u001b[32m[I 2022-11-06 17:40:48,879]\u001b[0m Trial 17 pruned. Trial was pruned at iteration 10.\u001b[0m\n",
            "\u001b[32m[I 2022-11-06 17:40:49,004]\u001b[0m Trial 18 finished with value: 0.9790209790209791 and parameters: {'bagging_fraction': 0.5995200470737633, 'bagging_freq': 2, 'min_child_samples': 54}. Best is trial 5 with value: 0.993006993006993.\u001b[0m\n",
            "c:\\Users\\xushe\\anaconda3\\lib\\site-packages\\lightgbm\\engine.py:239: UserWarning: 'verbose_eval' argument is deprecated and will be removed in a future release of LightGBM. Pass 'log_evaluation()' callback via 'callbacks' argument instead.\n",
            "  _log_warning(\"'verbose_eval' argument is deprecated and will be removed in a future release of LightGBM. \"\n",
            "\u001b[32m[I 2022-11-06 17:40:49,053]\u001b[0m Trial 19 pruned. Trial was pruned at iteration 10.\u001b[0m\n",
            "\u001b[32m[I 2022-11-06 17:40:49,100]\u001b[0m Trial 20 pruned. Trial was pruned at iteration 10.\u001b[0m\n",
            "\u001b[32m[I 2022-11-06 17:40:49,148]\u001b[0m Trial 21 pruned. Trial was pruned at iteration 10.\u001b[0m\n",
            "\u001b[32m[I 2022-11-06 17:40:49,198]\u001b[0m Trial 22 pruned. Trial was pruned at iteration 10.\u001b[0m\n",
            "\u001b[32m[I 2022-11-06 17:40:49,247]\u001b[0m Trial 23 pruned. Trial was pruned at iteration 10.\u001b[0m\n",
            "\u001b[32m[I 2022-11-06 17:40:49,295]\u001b[0m Trial 24 pruned. Trial was pruned at iteration 10.\u001b[0m\n",
            "\u001b[32m[I 2022-11-06 17:40:49,415]\u001b[0m Trial 25 finished with value: 0.993006993006993 and parameters: {'bagging_fraction': 0.4770792095519505, 'bagging_freq': 3, 'min_child_samples': 70}. Best is trial 5 with value: 0.993006993006993.\u001b[0m\n",
            "c:\\Users\\xushe\\anaconda3\\lib\\site-packages\\lightgbm\\engine.py:239: UserWarning: 'verbose_eval' argument is deprecated and will be removed in a future release of LightGBM. Pass 'log_evaluation()' callback via 'callbacks' argument instead.\n",
            "  _log_warning(\"'verbose_eval' argument is deprecated and will be removed in a future release of LightGBM. \"\n",
            "\u001b[32m[I 2022-11-06 17:40:49,470]\u001b[0m Trial 26 pruned. Trial was pruned at iteration 10.\u001b[0m\n",
            "\u001b[32m[I 2022-11-06 17:40:49,517]\u001b[0m Trial 27 pruned. Trial was pruned at iteration 10.\u001b[0m\n",
            "\u001b[32m[I 2022-11-06 17:40:49,564]\u001b[0m Trial 28 pruned. Trial was pruned at iteration 10.\u001b[0m\n",
            "\u001b[32m[I 2022-11-06 17:40:49,612]\u001b[0m Trial 29 pruned. Trial was pruned at iteration 10.\u001b[0m\n",
            "\u001b[32m[I 2022-11-06 17:40:49,662]\u001b[0m Trial 30 pruned. Trial was pruned at iteration 10.\u001b[0m\n",
            "\u001b[32m[I 2022-11-06 17:40:49,708]\u001b[0m Trial 31 pruned. Trial was pruned at iteration 10.\u001b[0m\n",
            "\u001b[32m[I 2022-11-06 17:40:49,859]\u001b[0m Trial 32 finished with value: 0.986013986013986 and parameters: {'bagging_fraction': 0.5996977861150512, 'bagging_freq': 2, 'min_child_samples': 31}. Best is trial 5 with value: 0.993006993006993.\u001b[0m\n",
            "c:\\Users\\xushe\\anaconda3\\lib\\site-packages\\lightgbm\\engine.py:239: UserWarning: 'verbose_eval' argument is deprecated and will be removed in a future release of LightGBM. Pass 'log_evaluation()' callback via 'callbacks' argument instead.\n",
            "  _log_warning(\"'verbose_eval' argument is deprecated and will be removed in a future release of LightGBM. \"\n",
            "\u001b[32m[I 2022-11-06 17:40:49,914]\u001b[0m Trial 33 pruned. Trial was pruned at iteration 10.\u001b[0m\n",
            "\u001b[32m[I 2022-11-06 17:40:49,961]\u001b[0m Trial 34 pruned. Trial was pruned at iteration 10.\u001b[0m\n",
            "\u001b[32m[I 2022-11-06 17:40:50,020]\u001b[0m Trial 35 pruned. Trial was pruned at iteration 10.\u001b[0m\n",
            "\u001b[32m[I 2022-11-06 17:40:50,067]\u001b[0m Trial 36 pruned. Trial was pruned at iteration 10.\u001b[0m\n",
            "\u001b[32m[I 2022-11-06 17:40:50,124]\u001b[0m Trial 37 pruned. Trial was pruned at iteration 10.\u001b[0m\n",
            "\u001b[32m[I 2022-11-06 17:40:50,171]\u001b[0m Trial 38 pruned. Trial was pruned at iteration 10.\u001b[0m\n",
            "\u001b[32m[I 2022-11-06 17:40:50,221]\u001b[0m Trial 39 pruned. Trial was pruned at iteration 10.\u001b[0m\n",
            "\u001b[32m[I 2022-11-06 17:40:50,276]\u001b[0m Trial 40 pruned. Trial was pruned at iteration 10.\u001b[0m\n",
            "\u001b[32m[I 2022-11-06 17:40:50,326]\u001b[0m Trial 41 pruned. Trial was pruned at iteration 10.\u001b[0m\n",
            "\u001b[32m[I 2022-11-06 17:40:50,371]\u001b[0m Trial 42 pruned. Trial was pruned at iteration 10.\u001b[0m\n",
            "\u001b[32m[I 2022-11-06 17:40:50,418]\u001b[0m Trial 43 pruned. Trial was pruned at iteration 10.\u001b[0m\n",
            "\u001b[32m[I 2022-11-06 17:40:50,478]\u001b[0m Trial 44 pruned. Trial was pruned at iteration 10.\u001b[0m\n",
            "\u001b[32m[I 2022-11-06 17:40:50,528]\u001b[0m Trial 45 pruned. Trial was pruned at iteration 10.\u001b[0m\n",
            "\u001b[32m[I 2022-11-06 17:40:50,583]\u001b[0m Trial 46 pruned. Trial was pruned at iteration 10.\u001b[0m\n",
            "\u001b[32m[I 2022-11-06 17:40:50,631]\u001b[0m Trial 47 pruned. Trial was pruned at iteration 10.\u001b[0m\n",
            "\u001b[32m[I 2022-11-06 17:40:50,682]\u001b[0m Trial 48 pruned. Trial was pruned at iteration 10.\u001b[0m\n",
            "\u001b[32m[I 2022-11-06 17:40:50,750]\u001b[0m Trial 49 pruned. Trial was pruned at iteration 10.\u001b[0m\n",
            "\u001b[32m[I 2022-11-06 17:40:50,820]\u001b[0m Trial 50 pruned. Trial was pruned at iteration 10.\u001b[0m\n",
            "\u001b[32m[I 2022-11-06 17:40:50,871]\u001b[0m Trial 51 pruned. Trial was pruned at iteration 10.\u001b[0m\n",
            "\u001b[32m[I 2022-11-06 17:40:50,923]\u001b[0m Trial 52 pruned. Trial was pruned at iteration 10.\u001b[0m\n",
            "\u001b[32m[I 2022-11-06 17:40:50,977]\u001b[0m Trial 53 pruned. Trial was pruned at iteration 10.\u001b[0m\n",
            "\u001b[32m[I 2022-11-06 17:40:51,028]\u001b[0m Trial 54 pruned. Trial was pruned at iteration 10.\u001b[0m\n",
            "\u001b[32m[I 2022-11-06 17:40:51,171]\u001b[0m Trial 55 finished with value: 0.986013986013986 and parameters: {'bagging_fraction': 0.5903343863841894, 'bagging_freq': 1, 'min_child_samples': 39}. Best is trial 5 with value: 0.993006993006993.\u001b[0m\n",
            "c:\\Users\\xushe\\anaconda3\\lib\\site-packages\\lightgbm\\engine.py:239: UserWarning: 'verbose_eval' argument is deprecated and will be removed in a future release of LightGBM. Pass 'log_evaluation()' callback via 'callbacks' argument instead.\n",
            "  _log_warning(\"'verbose_eval' argument is deprecated and will be removed in a future release of LightGBM. \"\n",
            "\u001b[32m[I 2022-11-06 17:40:51,237]\u001b[0m Trial 56 pruned. Trial was pruned at iteration 10.\u001b[0m\n",
            "\u001b[32m[I 2022-11-06 17:40:51,293]\u001b[0m Trial 57 pruned. Trial was pruned at iteration 10.\u001b[0m\n",
            "\u001b[32m[I 2022-11-06 17:40:51,345]\u001b[0m Trial 58 pruned. Trial was pruned at iteration 10.\u001b[0m\n",
            "\u001b[32m[I 2022-11-06 17:40:51,396]\u001b[0m Trial 59 pruned. Trial was pruned at iteration 10.\u001b[0m\n",
            "\u001b[32m[I 2022-11-06 17:40:51,448]\u001b[0m Trial 60 pruned. Trial was pruned at iteration 10.\u001b[0m\n",
            "\u001b[32m[I 2022-11-06 17:40:51,500]\u001b[0m Trial 61 pruned. Trial was pruned at iteration 10.\u001b[0m\n",
            "\u001b[32m[I 2022-11-06 17:40:51,560]\u001b[0m Trial 62 pruned. Trial was pruned at iteration 10.\u001b[0m\n",
            "\u001b[32m[I 2022-11-06 17:40:51,606]\u001b[0m Trial 63 pruned. Trial was pruned at iteration 10.\u001b[0m\n",
            "\u001b[32m[I 2022-11-06 17:40:51,659]\u001b[0m Trial 64 pruned. Trial was pruned at iteration 10.\u001b[0m\n",
            "\u001b[32m[I 2022-11-06 17:40:51,707]\u001b[0m Trial 65 pruned. Trial was pruned at iteration 10.\u001b[0m\n",
            "\u001b[32m[I 2022-11-06 17:40:51,755]\u001b[0m Trial 66 pruned. Trial was pruned at iteration 10.\u001b[0m\n",
            "\u001b[32m[I 2022-11-06 17:40:51,808]\u001b[0m Trial 67 pruned. Trial was pruned at iteration 10.\u001b[0m\n",
            "\u001b[32m[I 2022-11-06 17:40:51,859]\u001b[0m Trial 68 pruned. Trial was pruned at iteration 10.\u001b[0m\n",
            "\u001b[32m[I 2022-11-06 17:40:51,921]\u001b[0m Trial 69 pruned. Trial was pruned at iteration 11.\u001b[0m\n",
            "\u001b[32m[I 2022-11-06 17:40:51,969]\u001b[0m Trial 70 pruned. Trial was pruned at iteration 10.\u001b[0m\n",
            "\u001b[32m[I 2022-11-06 17:40:52,019]\u001b[0m Trial 71 pruned. Trial was pruned at iteration 10.\u001b[0m\n",
            "\u001b[32m[I 2022-11-06 17:40:52,071]\u001b[0m Trial 72 pruned. Trial was pruned at iteration 10.\u001b[0m\n",
            "\u001b[32m[I 2022-11-06 17:40:52,122]\u001b[0m Trial 73 pruned. Trial was pruned at iteration 10.\u001b[0m\n",
            "\u001b[32m[I 2022-11-06 17:40:52,176]\u001b[0m Trial 74 pruned. Trial was pruned at iteration 10.\u001b[0m\n",
            "\u001b[32m[I 2022-11-06 17:40:52,229]\u001b[0m Trial 75 pruned. Trial was pruned at iteration 10.\u001b[0m\n",
            "\u001b[32m[I 2022-11-06 17:40:52,281]\u001b[0m Trial 76 pruned. Trial was pruned at iteration 10.\u001b[0m\n",
            "\u001b[32m[I 2022-11-06 17:40:52,335]\u001b[0m Trial 77 pruned. Trial was pruned at iteration 10.\u001b[0m\n",
            "\u001b[32m[I 2022-11-06 17:40:52,390]\u001b[0m Trial 78 pruned. Trial was pruned at iteration 10.\u001b[0m\n",
            "\u001b[32m[I 2022-11-06 17:40:52,444]\u001b[0m Trial 79 pruned. Trial was pruned at iteration 12.\u001b[0m\n",
            "\u001b[32m[I 2022-11-06 17:40:52,496]\u001b[0m Trial 80 pruned. Trial was pruned at iteration 10.\u001b[0m\n",
            "\u001b[32m[I 2022-11-06 17:40:52,566]\u001b[0m Trial 81 pruned. Trial was pruned at iteration 12.\u001b[0m\n",
            "\u001b[32m[I 2022-11-06 17:40:52,797]\u001b[0m Trial 82 finished with value: 0.972027972027972 and parameters: {'bagging_fraction': 0.6922588822682393, 'bagging_freq': 1, 'min_child_samples': 20}. Best is trial 5 with value: 0.993006993006993.\u001b[0m\n",
            "c:\\Users\\xushe\\anaconda3\\lib\\site-packages\\lightgbm\\engine.py:239: UserWarning: 'verbose_eval' argument is deprecated and will be removed in a future release of LightGBM. Pass 'log_evaluation()' callback via 'callbacks' argument instead.\n",
            "  _log_warning(\"'verbose_eval' argument is deprecated and will be removed in a future release of LightGBM. \"\n",
            "\u001b[32m[I 2022-11-06 17:40:53,030]\u001b[0m Trial 83 finished with value: 1.0 and parameters: {'bagging_fraction': 0.6971856013290972, 'bagging_freq': 1, 'min_child_samples': 18}. Best is trial 83 with value: 1.0.\u001b[0m\n",
            "c:\\Users\\xushe\\anaconda3\\lib\\site-packages\\lightgbm\\engine.py:239: UserWarning: 'verbose_eval' argument is deprecated and will be removed in a future release of LightGBM. Pass 'log_evaluation()' callback via 'callbacks' argument instead.\n",
            "  _log_warning(\"'verbose_eval' argument is deprecated and will be removed in a future release of LightGBM. \"\n",
            "\u001b[32m[I 2022-11-06 17:40:53,096]\u001b[0m Trial 84 pruned. Trial was pruned at iteration 10.\u001b[0m\n",
            "\u001b[32m[I 2022-11-06 17:40:53,166]\u001b[0m Trial 85 pruned. Trial was pruned at iteration 10.\u001b[0m\n",
            "\u001b[32m[I 2022-11-06 17:40:53,228]\u001b[0m Trial 86 pruned. Trial was pruned at iteration 10.\u001b[0m\n",
            "\u001b[32m[I 2022-11-06 17:40:53,295]\u001b[0m Trial 87 pruned. Trial was pruned at iteration 24.\u001b[0m\n",
            "\u001b[32m[I 2022-11-06 17:40:53,347]\u001b[0m Trial 88 pruned. Trial was pruned at iteration 10.\u001b[0m\n",
            "\u001b[32m[I 2022-11-06 17:40:53,398]\u001b[0m Trial 89 pruned. Trial was pruned at iteration 10.\u001b[0m\n",
            "\u001b[32m[I 2022-11-06 17:40:53,587]\u001b[0m Trial 90 finished with value: 0.993006993006993 and parameters: {'bagging_fraction': 0.7773548684322235, 'bagging_freq': 1, 'min_child_samples': 24}. Best is trial 83 with value: 1.0.\u001b[0m\n",
            "c:\\Users\\xushe\\anaconda3\\lib\\site-packages\\lightgbm\\engine.py:239: UserWarning: 'verbose_eval' argument is deprecated and will be removed in a future release of LightGBM. Pass 'log_evaluation()' callback via 'callbacks' argument instead.\n",
            "  _log_warning(\"'verbose_eval' argument is deprecated and will be removed in a future release of LightGBM. \"\n",
            "\u001b[32m[I 2022-11-06 17:40:53,647]\u001b[0m Trial 91 pruned. Trial was pruned at iteration 10.\u001b[0m\n",
            "\u001b[32m[I 2022-11-06 17:40:53,706]\u001b[0m Trial 92 pruned. Trial was pruned at iteration 10.\u001b[0m\n",
            "\u001b[32m[I 2022-11-06 17:40:53,768]\u001b[0m Trial 93 pruned. Trial was pruned at iteration 10.\u001b[0m\n",
            "\u001b[32m[I 2022-11-06 17:40:53,826]\u001b[0m Trial 94 pruned. Trial was pruned at iteration 10.\u001b[0m\n",
            "\u001b[32m[I 2022-11-06 17:40:53,884]\u001b[0m Trial 95 pruned. Trial was pruned at iteration 10.\u001b[0m\n",
            "\u001b[32m[I 2022-11-06 17:40:53,955]\u001b[0m Trial 96 pruned. Trial was pruned at iteration 10.\u001b[0m\n",
            "\u001b[32m[I 2022-11-06 17:40:54,019]\u001b[0m Trial 97 pruned. Trial was pruned at iteration 10.\u001b[0m\n",
            "\u001b[32m[I 2022-11-06 17:40:54,081]\u001b[0m Trial 98 pruned. Trial was pruned at iteration 10.\u001b[0m\n",
            "\u001b[32m[I 2022-11-06 17:40:54,135]\u001b[0m Trial 99 pruned. Trial was pruned at iteration 10.\u001b[0m\n"
          ]
        }
      ],
      "source": [
        "study = optuna.create_study(\n",
        "    direction=\"maximize\",\n",
        "    sampler=optuna.samplers.TPESampler(seed=SEED),\n",
        "    pruner=optuna.pruners.MedianPruner(n_warmup_steps=10),\n",
        ")\n",
        "study.optimize(objective, n_trials=100, timeout=600)"
      ]
    },
    {
      "cell_type": "markdown",
      "metadata": {},
      "source": [
        "## Plot functions\n",
        "Visualize the optimization history. See :func:`~optuna.visualization.plot_optimization_history` for the details.\n",
        "\n"
      ]
    },
    {
      "cell_type": "code",
      "execution_count": 5,
      "metadata": {
        "collapsed": false
      },
      "outputs": [
        {
          "data": {
            "application/vnd.plotly.v1+json": {
              "config": {
                "plotlyServerURL": "https://plot.ly"
              },
              "data": [
                {
                  "mode": "markers",
                  "name": "Objective Value",
                  "type": "scatter",
                  "x": [
                    0,
                    1,
                    2,
                    3,
                    4,
                    5,
                    12,
                    18,
                    25,
                    32,
                    55,
                    82,
                    83,
                    90
                  ],
                  "y": [
                    0.972027972027972,
                    0.972027972027972,
                    0.958041958041958,
                    0.9790209790209791,
                    0.958041958041958,
                    0.993006993006993,
                    0.986013986013986,
                    0.9790209790209791,
                    0.993006993006993,
                    0.986013986013986,
                    0.986013986013986,
                    0.972027972027972,
                    1,
                    0.993006993006993
                  ]
                },
                {
                  "name": "Best Value",
                  "type": "scatter",
                  "x": [
                    0,
                    1,
                    2,
                    3,
                    4,
                    5,
                    12,
                    18,
                    25,
                    32,
                    55,
                    82,
                    83,
                    90
                  ],
                  "y": [
                    0.972027972027972,
                    0.972027972027972,
                    0.972027972027972,
                    0.9790209790209791,
                    0.9790209790209791,
                    0.993006993006993,
                    0.993006993006993,
                    0.993006993006993,
                    0.993006993006993,
                    0.993006993006993,
                    0.993006993006993,
                    0.993006993006993,
                    1,
                    1
                  ]
                }
              ],
              "layout": {
                "template": {
                  "data": {
                    "bar": [
                      {
                        "error_x": {
                          "color": "#2a3f5f"
                        },
                        "error_y": {
                          "color": "#2a3f5f"
                        },
                        "marker": {
                          "line": {
                            "color": "#E5ECF6",
                            "width": 0.5
                          },
                          "pattern": {
                            "fillmode": "overlay",
                            "size": 10,
                            "solidity": 0.2
                          }
                        },
                        "type": "bar"
                      }
                    ],
                    "barpolar": [
                      {
                        "marker": {
                          "line": {
                            "color": "#E5ECF6",
                            "width": 0.5
                          },
                          "pattern": {
                            "fillmode": "overlay",
                            "size": 10,
                            "solidity": 0.2
                          }
                        },
                        "type": "barpolar"
                      }
                    ],
                    "carpet": [
                      {
                        "aaxis": {
                          "endlinecolor": "#2a3f5f",
                          "gridcolor": "white",
                          "linecolor": "white",
                          "minorgridcolor": "white",
                          "startlinecolor": "#2a3f5f"
                        },
                        "baxis": {
                          "endlinecolor": "#2a3f5f",
                          "gridcolor": "white",
                          "linecolor": "white",
                          "minorgridcolor": "white",
                          "startlinecolor": "#2a3f5f"
                        },
                        "type": "carpet"
                      }
                    ],
                    "choropleth": [
                      {
                        "colorbar": {
                          "outlinewidth": 0,
                          "ticks": ""
                        },
                        "type": "choropleth"
                      }
                    ],
                    "contour": [
                      {
                        "colorbar": {
                          "outlinewidth": 0,
                          "ticks": ""
                        },
                        "colorscale": [
                          [
                            0,
                            "#0d0887"
                          ],
                          [
                            0.1111111111111111,
                            "#46039f"
                          ],
                          [
                            0.2222222222222222,
                            "#7201a8"
                          ],
                          [
                            0.3333333333333333,
                            "#9c179e"
                          ],
                          [
                            0.4444444444444444,
                            "#bd3786"
                          ],
                          [
                            0.5555555555555556,
                            "#d8576b"
                          ],
                          [
                            0.6666666666666666,
                            "#ed7953"
                          ],
                          [
                            0.7777777777777778,
                            "#fb9f3a"
                          ],
                          [
                            0.8888888888888888,
                            "#fdca26"
                          ],
                          [
                            1,
                            "#f0f921"
                          ]
                        ],
                        "type": "contour"
                      }
                    ],
                    "contourcarpet": [
                      {
                        "colorbar": {
                          "outlinewidth": 0,
                          "ticks": ""
                        },
                        "type": "contourcarpet"
                      }
                    ],
                    "heatmap": [
                      {
                        "colorbar": {
                          "outlinewidth": 0,
                          "ticks": ""
                        },
                        "colorscale": [
                          [
                            0,
                            "#0d0887"
                          ],
                          [
                            0.1111111111111111,
                            "#46039f"
                          ],
                          [
                            0.2222222222222222,
                            "#7201a8"
                          ],
                          [
                            0.3333333333333333,
                            "#9c179e"
                          ],
                          [
                            0.4444444444444444,
                            "#bd3786"
                          ],
                          [
                            0.5555555555555556,
                            "#d8576b"
                          ],
                          [
                            0.6666666666666666,
                            "#ed7953"
                          ],
                          [
                            0.7777777777777778,
                            "#fb9f3a"
                          ],
                          [
                            0.8888888888888888,
                            "#fdca26"
                          ],
                          [
                            1,
                            "#f0f921"
                          ]
                        ],
                        "type": "heatmap"
                      }
                    ],
                    "heatmapgl": [
                      {
                        "colorbar": {
                          "outlinewidth": 0,
                          "ticks": ""
                        },
                        "colorscale": [
                          [
                            0,
                            "#0d0887"
                          ],
                          [
                            0.1111111111111111,
                            "#46039f"
                          ],
                          [
                            0.2222222222222222,
                            "#7201a8"
                          ],
                          [
                            0.3333333333333333,
                            "#9c179e"
                          ],
                          [
                            0.4444444444444444,
                            "#bd3786"
                          ],
                          [
                            0.5555555555555556,
                            "#d8576b"
                          ],
                          [
                            0.6666666666666666,
                            "#ed7953"
                          ],
                          [
                            0.7777777777777778,
                            "#fb9f3a"
                          ],
                          [
                            0.8888888888888888,
                            "#fdca26"
                          ],
                          [
                            1,
                            "#f0f921"
                          ]
                        ],
                        "type": "heatmapgl"
                      }
                    ],
                    "histogram": [
                      {
                        "marker": {
                          "pattern": {
                            "fillmode": "overlay",
                            "size": 10,
                            "solidity": 0.2
                          }
                        },
                        "type": "histogram"
                      }
                    ],
                    "histogram2d": [
                      {
                        "colorbar": {
                          "outlinewidth": 0,
                          "ticks": ""
                        },
                        "colorscale": [
                          [
                            0,
                            "#0d0887"
                          ],
                          [
                            0.1111111111111111,
                            "#46039f"
                          ],
                          [
                            0.2222222222222222,
                            "#7201a8"
                          ],
                          [
                            0.3333333333333333,
                            "#9c179e"
                          ],
                          [
                            0.4444444444444444,
                            "#bd3786"
                          ],
                          [
                            0.5555555555555556,
                            "#d8576b"
                          ],
                          [
                            0.6666666666666666,
                            "#ed7953"
                          ],
                          [
                            0.7777777777777778,
                            "#fb9f3a"
                          ],
                          [
                            0.8888888888888888,
                            "#fdca26"
                          ],
                          [
                            1,
                            "#f0f921"
                          ]
                        ],
                        "type": "histogram2d"
                      }
                    ],
                    "histogram2dcontour": [
                      {
                        "colorbar": {
                          "outlinewidth": 0,
                          "ticks": ""
                        },
                        "colorscale": [
                          [
                            0,
                            "#0d0887"
                          ],
                          [
                            0.1111111111111111,
                            "#46039f"
                          ],
                          [
                            0.2222222222222222,
                            "#7201a8"
                          ],
                          [
                            0.3333333333333333,
                            "#9c179e"
                          ],
                          [
                            0.4444444444444444,
                            "#bd3786"
                          ],
                          [
                            0.5555555555555556,
                            "#d8576b"
                          ],
                          [
                            0.6666666666666666,
                            "#ed7953"
                          ],
                          [
                            0.7777777777777778,
                            "#fb9f3a"
                          ],
                          [
                            0.8888888888888888,
                            "#fdca26"
                          ],
                          [
                            1,
                            "#f0f921"
                          ]
                        ],
                        "type": "histogram2dcontour"
                      }
                    ],
                    "mesh3d": [
                      {
                        "colorbar": {
                          "outlinewidth": 0,
                          "ticks": ""
                        },
                        "type": "mesh3d"
                      }
                    ],
                    "parcoords": [
                      {
                        "line": {
                          "colorbar": {
                            "outlinewidth": 0,
                            "ticks": ""
                          }
                        },
                        "type": "parcoords"
                      }
                    ],
                    "pie": [
                      {
                        "automargin": true,
                        "type": "pie"
                      }
                    ],
                    "scatter": [
                      {
                        "fillpattern": {
                          "fillmode": "overlay",
                          "size": 10,
                          "solidity": 0.2
                        },
                        "type": "scatter"
                      }
                    ],
                    "scatter3d": [
                      {
                        "line": {
                          "colorbar": {
                            "outlinewidth": 0,
                            "ticks": ""
                          }
                        },
                        "marker": {
                          "colorbar": {
                            "outlinewidth": 0,
                            "ticks": ""
                          }
                        },
                        "type": "scatter3d"
                      }
                    ],
                    "scattercarpet": [
                      {
                        "marker": {
                          "colorbar": {
                            "outlinewidth": 0,
                            "ticks": ""
                          }
                        },
                        "type": "scattercarpet"
                      }
                    ],
                    "scattergeo": [
                      {
                        "marker": {
                          "colorbar": {
                            "outlinewidth": 0,
                            "ticks": ""
                          }
                        },
                        "type": "scattergeo"
                      }
                    ],
                    "scattergl": [
                      {
                        "marker": {
                          "colorbar": {
                            "outlinewidth": 0,
                            "ticks": ""
                          }
                        },
                        "type": "scattergl"
                      }
                    ],
                    "scattermapbox": [
                      {
                        "marker": {
                          "colorbar": {
                            "outlinewidth": 0,
                            "ticks": ""
                          }
                        },
                        "type": "scattermapbox"
                      }
                    ],
                    "scatterpolar": [
                      {
                        "marker": {
                          "colorbar": {
                            "outlinewidth": 0,
                            "ticks": ""
                          }
                        },
                        "type": "scatterpolar"
                      }
                    ],
                    "scatterpolargl": [
                      {
                        "marker": {
                          "colorbar": {
                            "outlinewidth": 0,
                            "ticks": ""
                          }
                        },
                        "type": "scatterpolargl"
                      }
                    ],
                    "scatterternary": [
                      {
                        "marker": {
                          "colorbar": {
                            "outlinewidth": 0,
                            "ticks": ""
                          }
                        },
                        "type": "scatterternary"
                      }
                    ],
                    "surface": [
                      {
                        "colorbar": {
                          "outlinewidth": 0,
                          "ticks": ""
                        },
                        "colorscale": [
                          [
                            0,
                            "#0d0887"
                          ],
                          [
                            0.1111111111111111,
                            "#46039f"
                          ],
                          [
                            0.2222222222222222,
                            "#7201a8"
                          ],
                          [
                            0.3333333333333333,
                            "#9c179e"
                          ],
                          [
                            0.4444444444444444,
                            "#bd3786"
                          ],
                          [
                            0.5555555555555556,
                            "#d8576b"
                          ],
                          [
                            0.6666666666666666,
                            "#ed7953"
                          ],
                          [
                            0.7777777777777778,
                            "#fb9f3a"
                          ],
                          [
                            0.8888888888888888,
                            "#fdca26"
                          ],
                          [
                            1,
                            "#f0f921"
                          ]
                        ],
                        "type": "surface"
                      }
                    ],
                    "table": [
                      {
                        "cells": {
                          "fill": {
                            "color": "#EBF0F8"
                          },
                          "line": {
                            "color": "white"
                          }
                        },
                        "header": {
                          "fill": {
                            "color": "#C8D4E3"
                          },
                          "line": {
                            "color": "white"
                          }
                        },
                        "type": "table"
                      }
                    ]
                  },
                  "layout": {
                    "annotationdefaults": {
                      "arrowcolor": "#2a3f5f",
                      "arrowhead": 0,
                      "arrowwidth": 1
                    },
                    "autotypenumbers": "strict",
                    "coloraxis": {
                      "colorbar": {
                        "outlinewidth": 0,
                        "ticks": ""
                      }
                    },
                    "colorscale": {
                      "diverging": [
                        [
                          0,
                          "#8e0152"
                        ],
                        [
                          0.1,
                          "#c51b7d"
                        ],
                        [
                          0.2,
                          "#de77ae"
                        ],
                        [
                          0.3,
                          "#f1b6da"
                        ],
                        [
                          0.4,
                          "#fde0ef"
                        ],
                        [
                          0.5,
                          "#f7f7f7"
                        ],
                        [
                          0.6,
                          "#e6f5d0"
                        ],
                        [
                          0.7,
                          "#b8e186"
                        ],
                        [
                          0.8,
                          "#7fbc41"
                        ],
                        [
                          0.9,
                          "#4d9221"
                        ],
                        [
                          1,
                          "#276419"
                        ]
                      ],
                      "sequential": [
                        [
                          0,
                          "#0d0887"
                        ],
                        [
                          0.1111111111111111,
                          "#46039f"
                        ],
                        [
                          0.2222222222222222,
                          "#7201a8"
                        ],
                        [
                          0.3333333333333333,
                          "#9c179e"
                        ],
                        [
                          0.4444444444444444,
                          "#bd3786"
                        ],
                        [
                          0.5555555555555556,
                          "#d8576b"
                        ],
                        [
                          0.6666666666666666,
                          "#ed7953"
                        ],
                        [
                          0.7777777777777778,
                          "#fb9f3a"
                        ],
                        [
                          0.8888888888888888,
                          "#fdca26"
                        ],
                        [
                          1,
                          "#f0f921"
                        ]
                      ],
                      "sequentialminus": [
                        [
                          0,
                          "#0d0887"
                        ],
                        [
                          0.1111111111111111,
                          "#46039f"
                        ],
                        [
                          0.2222222222222222,
                          "#7201a8"
                        ],
                        [
                          0.3333333333333333,
                          "#9c179e"
                        ],
                        [
                          0.4444444444444444,
                          "#bd3786"
                        ],
                        [
                          0.5555555555555556,
                          "#d8576b"
                        ],
                        [
                          0.6666666666666666,
                          "#ed7953"
                        ],
                        [
                          0.7777777777777778,
                          "#fb9f3a"
                        ],
                        [
                          0.8888888888888888,
                          "#fdca26"
                        ],
                        [
                          1,
                          "#f0f921"
                        ]
                      ]
                    },
                    "colorway": [
                      "#636efa",
                      "#EF553B",
                      "#00cc96",
                      "#ab63fa",
                      "#FFA15A",
                      "#19d3f3",
                      "#FF6692",
                      "#B6E880",
                      "#FF97FF",
                      "#FECB52"
                    ],
                    "font": {
                      "color": "#2a3f5f"
                    },
                    "geo": {
                      "bgcolor": "white",
                      "lakecolor": "white",
                      "landcolor": "#E5ECF6",
                      "showlakes": true,
                      "showland": true,
                      "subunitcolor": "white"
                    },
                    "hoverlabel": {
                      "align": "left"
                    },
                    "hovermode": "closest",
                    "mapbox": {
                      "style": "light"
                    },
                    "paper_bgcolor": "white",
                    "plot_bgcolor": "#E5ECF6",
                    "polar": {
                      "angularaxis": {
                        "gridcolor": "white",
                        "linecolor": "white",
                        "ticks": ""
                      },
                      "bgcolor": "#E5ECF6",
                      "radialaxis": {
                        "gridcolor": "white",
                        "linecolor": "white",
                        "ticks": ""
                      }
                    },
                    "scene": {
                      "xaxis": {
                        "backgroundcolor": "#E5ECF6",
                        "gridcolor": "white",
                        "gridwidth": 2,
                        "linecolor": "white",
                        "showbackground": true,
                        "ticks": "",
                        "zerolinecolor": "white"
                      },
                      "yaxis": {
                        "backgroundcolor": "#E5ECF6",
                        "gridcolor": "white",
                        "gridwidth": 2,
                        "linecolor": "white",
                        "showbackground": true,
                        "ticks": "",
                        "zerolinecolor": "white"
                      },
                      "zaxis": {
                        "backgroundcolor": "#E5ECF6",
                        "gridcolor": "white",
                        "gridwidth": 2,
                        "linecolor": "white",
                        "showbackground": true,
                        "ticks": "",
                        "zerolinecolor": "white"
                      }
                    },
                    "shapedefaults": {
                      "line": {
                        "color": "#2a3f5f"
                      }
                    },
                    "ternary": {
                      "aaxis": {
                        "gridcolor": "white",
                        "linecolor": "white",
                        "ticks": ""
                      },
                      "baxis": {
                        "gridcolor": "white",
                        "linecolor": "white",
                        "ticks": ""
                      },
                      "bgcolor": "#E5ECF6",
                      "caxis": {
                        "gridcolor": "white",
                        "linecolor": "white",
                        "ticks": ""
                      }
                    },
                    "title": {
                      "x": 0.05
                    },
                    "xaxis": {
                      "automargin": true,
                      "gridcolor": "white",
                      "linecolor": "white",
                      "ticks": "",
                      "title": {
                        "standoff": 15
                      },
                      "zerolinecolor": "white",
                      "zerolinewidth": 2
                    },
                    "yaxis": {
                      "automargin": true,
                      "gridcolor": "white",
                      "linecolor": "white",
                      "ticks": "",
                      "title": {
                        "standoff": 15
                      },
                      "zerolinecolor": "white",
                      "zerolinewidth": 2
                    }
                  }
                },
                "title": {
                  "text": "Optimization History Plot"
                },
                "xaxis": {
                  "title": {
                    "text": "Trial"
                  }
                },
                "yaxis": {
                  "title": {
                    "text": "Objective Value"
                  }
                }
              }
            }
          },
          "metadata": {},
          "output_type": "display_data"
        }
      ],
      "source": [
        "plot_optimization_history(study)"
      ]
    },
    {
      "cell_type": "markdown",
      "metadata": {},
      "source": [
        "Visualize the learning curves of the trials. See :func:`~optuna.visualization.plot_intermediate_values` for the details.\n",
        "\n"
      ]
    },
    {
      "cell_type": "code",
      "execution_count": 6,
      "metadata": {
        "collapsed": false
      },
      "outputs": [
        {
          "data": {
            "application/vnd.plotly.v1+json": {
              "config": {
                "plotlyServerURL": "https://plot.ly"
              },
              "data": [
                {
                  "marker": {
                    "maxdisplayed": 10
                  },
                  "mode": "lines+markers",
                  "name": "Trial0",
                  "type": "scatter",
                  "x": [
                    0,
                    1,
                    2,
                    3,
                    4,
                    5,
                    6,
                    7,
                    8,
                    9,
                    10,
                    11,
                    12,
                    13,
                    14,
                    15,
                    16,
                    17,
                    18,
                    19,
                    20,
                    21,
                    22,
                    23,
                    24,
                    25,
                    26,
                    27,
                    28,
                    29,
                    30,
                    31,
                    32,
                    33,
                    34,
                    35,
                    36,
                    37,
                    38,
                    39,
                    40,
                    41,
                    42,
                    43,
                    44,
                    45,
                    46,
                    47,
                    48,
                    49,
                    50,
                    51,
                    52,
                    53,
                    54,
                    55,
                    56,
                    57,
                    58,
                    59,
                    60,
                    61,
                    62,
                    63,
                    64,
                    65,
                    66,
                    67,
                    68,
                    69,
                    70,
                    71,
                    72,
                    73,
                    74,
                    75,
                    76,
                    77,
                    78,
                    79,
                    80,
                    81,
                    82,
                    83,
                    84,
                    85,
                    86,
                    87,
                    88,
                    89,
                    90,
                    91,
                    92,
                    93,
                    94,
                    95,
                    96,
                    97,
                    98,
                    99
                  ],
                  "y": [
                    0.9527673741156887,
                    0.9534956304619226,
                    0.9534956304619226,
                    0.9675405742821473,
                    0.9675405742821473,
                    0.9882438618393674,
                    0.9863712026633374,
                    0.9884519350811486,
                    0.9901165210153974,
                    0.9888680815647107,
                    0.990220557636288,
                    0.9891801914273824,
                    0.990220557636288,
                    0.9906367041198502,
                    0.9916770703287557,
                    0.992093216812318,
                    0.9924053266749896,
                    0.993237619642114,
                    0.993237619642114,
                    0.993237619642114,
                    0.9931335830212235,
                    0.9937578027465668,
                    0.994173949230129,
                    0.9937578027465668,
                    0.9943820224719101,
                    0.9937578027465668,
                    0.9943820224719101,
                    0.9952143154390345,
                    0.9956304619225967,
                    0.9956304619225967,
                    0.9958385351643778,
                    0.9958385351643778,
                    0.996046608406159,
                    0.996046608406159,
                    0.996046608406159,
                    0.9962546816479401,
                    0.9958385351643778,
                    0.9958385351643778,
                    0.9958385351643778,
                    0.9956304619225967,
                    0.9956304619225967,
                    0.9956304619225967,
                    0.9958385351643778,
                    0.996046608406159,
                    0.9958385351643778,
                    0.9956304619225967,
                    0.996046608406159,
                    0.9958385351643778,
                    0.9956304619225967,
                    0.996046608406159,
                    0.9958385351643778,
                    0.9958385351643778,
                    0.9958385351643778,
                    0.996046608406159,
                    0.996046608406159,
                    0.996046608406159,
                    0.996046608406159,
                    0.9962546816479401,
                    0.9962546816479401,
                    0.9956304619225967,
                    0.9956304619225967,
                    0.996046608406159,
                    0.996046608406159,
                    0.9964627548897211,
                    0.9964627548897211,
                    0.9966708281315023,
                    0.9964627548897211,
                    0.9970869746150645,
                    0.9970869746150645,
                    0.9970869746150645,
                    0.9970869746150645,
                    0.9970869746150645,
                    0.9970869746150645,
                    0.9970869746150645,
                    0.9970869746150645,
                    0.9970869746150645,
                    0.9970869746150645,
                    0.9970869746150645,
                    0.9970869746150645,
                    0.9970869746150645,
                    0.9970869746150645,
                    0.9968789013732834,
                    0.9968789013732834,
                    0.9966708281315023,
                    0.9964627548897211,
                    0.996046608406159,
                    0.996046608406159,
                    0.9956304619225967,
                    0.9956304619225967,
                    0.9958385351643778,
                    0.9956304619225967,
                    0.9952143154390345,
                    0.9950062421972534,
                    0.9952143154390345,
                    0.9956304619225967,
                    0.9950062421972534,
                    0.9954223886808157,
                    0.9950062421972534,
                    0.9954223886808157,
                    0.9954223886808157
                  ]
                },
                {
                  "marker": {
                    "maxdisplayed": 10
                  },
                  "mode": "lines+markers",
                  "name": "Trial1",
                  "type": "scatter",
                  "x": [
                    0,
                    1,
                    2,
                    3,
                    4,
                    5,
                    6,
                    7,
                    8,
                    9,
                    10,
                    11,
                    12,
                    13,
                    14,
                    15,
                    16,
                    17,
                    18,
                    19,
                    20,
                    21,
                    22,
                    23,
                    24,
                    25,
                    26,
                    27,
                    28,
                    29,
                    30,
                    31,
                    32,
                    33,
                    34,
                    35,
                    36,
                    37,
                    38,
                    39,
                    40,
                    41,
                    42,
                    43,
                    44,
                    45,
                    46,
                    47,
                    48,
                    49,
                    50,
                    51,
                    52,
                    53,
                    54,
                    55,
                    56,
                    57,
                    58,
                    59,
                    60,
                    61,
                    62,
                    63,
                    64,
                    65,
                    66,
                    67,
                    68,
                    69,
                    70,
                    71,
                    72,
                    73,
                    74,
                    75,
                    76,
                    77,
                    78,
                    79,
                    80,
                    81,
                    82,
                    83,
                    84,
                    85,
                    86,
                    87,
                    88,
                    89,
                    90,
                    91,
                    92,
                    93,
                    94,
                    95,
                    96,
                    97,
                    98,
                    99
                  ],
                  "y": [
                    0.9746376811594203,
                    0.9822037510656436,
                    0.985080988917306,
                    0.9860400682011935,
                    0.9888107416879796,
                    0.9905157715260017,
                    0.9921142369991475,
                    0.9928601875532822,
                    0.9928601875532822,
                    0.993925831202046,
                    0.994458653026428,
                    0.9946717817561808,
                    0.9946717817561808,
                    0.9948849104859335,
                    0.9948849104859335,
                    0.9953111679454391,
                    0.9953111679454391,
                    0.9955242966751918,
                    0.9961636828644501,
                    0.9961636828644501,
                    0.9957374254049446,
                    0.9955242966751918,
                    0.9955242966751918,
                    0.9959505541346974,
                    0.9963768115942029,
                    0.9961636828644501,
                    0.9963768115942029,
                    0.9968030690537084,
                    0.9970161977834612,
                    0.9974424552429667,
                    0.9974424552429667,
                    0.9968030690537084,
                    0.9972293265132139,
                    0.9974424552429667,
                    0.9972293265132139,
                    0.9972293265132139,
                    0.9974424552429667,
                    0.9976555839727195,
                    0.9976555839727195,
                    0.9976555839727195,
                    0.9976555839727195,
                    0.9972293265132139,
                    0.9974424552429667,
                    0.9974424552429667,
                    0.9974424552429667,
                    0.9972293265132139,
                    0.9970161977834612,
                    0.9972293265132139,
                    0.9970161977834612,
                    0.9970161977834612,
                    0.9974424552429667,
                    0.9972293265132139,
                    0.9968030690537084,
                    0.9968030690537084,
                    0.9968030690537084,
                    0.9974424552429667,
                    0.9970161977834612,
                    0.9972293265132139,
                    0.9974424552429667,
                    0.9974424552429667,
                    0.9974424552429667,
                    0.9974424552429667,
                    0.9972293265132139,
                    0.9972293265132139,
                    0.9972293265132139,
                    0.9972293265132139,
                    0.9972293265132139,
                    0.9970161977834612,
                    0.9974424552429667,
                    0.9974424552429667,
                    0.9978687127024722,
                    0.9978687127024722,
                    0.9978687127024722,
                    0.9978687127024722,
                    0.9978687127024722,
                    0.9980818414322251,
                    0.9978687127024722,
                    0.9978687127024722,
                    0.9978687127024722,
                    0.9980818414322251,
                    0.9978687127024722,
                    0.9978687127024722,
                    0.9978687127024722,
                    0.9978687127024722,
                    0.9978687127024722,
                    0.9976555839727195,
                    0.9974424552429667,
                    0.9978687127024722,
                    0.9980818414322251,
                    0.9982949701619779,
                    0.9980818414322251,
                    0.9980818414322251,
                    0.9982949701619779,
                    0.9980818414322251,
                    0.9980818414322251,
                    0.9980818414322251,
                    0.9978687127024722,
                    0.9978687127024722,
                    0.9978687127024722,
                    0.9978687127024722
                  ]
                },
                {
                  "marker": {
                    "maxdisplayed": 10
                  },
                  "mode": "lines+markers",
                  "name": "Trial2",
                  "type": "scatter",
                  "x": [
                    0,
                    1,
                    2,
                    3,
                    4,
                    5,
                    6,
                    7,
                    8,
                    9,
                    10,
                    11,
                    12,
                    13,
                    14,
                    15,
                    16,
                    17,
                    18,
                    19,
                    20,
                    21,
                    22,
                    23,
                    24,
                    25,
                    26,
                    27,
                    28,
                    29,
                    30,
                    31,
                    32,
                    33,
                    34,
                    35,
                    36,
                    37,
                    38,
                    39,
                    40,
                    41,
                    42,
                    43,
                    44,
                    45,
                    46,
                    47,
                    48,
                    49,
                    50,
                    51,
                    52,
                    53,
                    54,
                    55,
                    56,
                    57,
                    58,
                    59,
                    60,
                    61,
                    62,
                    63,
                    64,
                    65,
                    66,
                    67,
                    68,
                    69,
                    70,
                    71,
                    72,
                    73,
                    74,
                    75,
                    76,
                    77,
                    78,
                    79,
                    80,
                    81,
                    82,
                    83,
                    84,
                    85,
                    86,
                    87,
                    88,
                    89,
                    90,
                    91,
                    92,
                    93,
                    94,
                    95,
                    96,
                    97,
                    98,
                    99
                  ],
                  "y": [
                    0.8978858784893268,
                    0.9536124794745484,
                    0.9613095238095238,
                    0.9727011494252874,
                    0.972495894909688,
                    0.9770114942528736,
                    0.9778325123152709,
                    0.9762931034482759,
                    0.9767036124794746,
                    0.9779351395730707,
                    0.979371921182266,
                    0.9811165845648604,
                    0.9819376026272578,
                    0.9828612479474549,
                    0.9846059113300493,
                    0.9835796387520526,
                    0.9848111658456487,
                    0.9846059113300493,
                    0.986863711001642,
                    0.9866584564860427,
                    0.9863505747126436,
                    0.9847085385878489,
                    0.9838875205254516,
                    0.9836822660098522,
                    0.9834770114942529,
                    0.9824507389162561,
                    0.9818349753694581,
                    0.9818349753694581,
                    0.9818349753694581,
                    0.9816297208538588,
                    0.9814244663382594,
                    0.9812192118226601,
                    0.9814244663382594,
                    0.9820402298850575,
                    0.9823481116584565,
                    0.9823481116584565,
                    0.9821428571428571,
                    0.9821428571428571,
                    0.9813218390804598,
                    0.9809113300492611,
                    0.9809113300492611,
                    0.9809113300492611,
                    0.9800903119868637,
                    0.9800903119868637,
                    0.9805008210180624,
                    0.9800903119868637,
                    0.9802955665024631,
                    0.9805008210180624,
                    0.979679802955665,
                    0.9798850574712644,
                    0.979679802955665,
                    0.9798850574712644,
                    0.9802955665024631,
                    0.9802955665024631,
                    0.9802955665024631,
                    0.9813218390804598,
                    0.9819376026272578,
                    0.9823481116584565,
                    0.9825533661740559,
                    0.9833743842364532,
                    0.9831691297208539,
                    0.9835796387520526,
                    0.9841954022988506,
                    0.9837848932676518,
                    0.9835796387520526,
                    0.9829638752052545,
                    0.9831691297208539,
                    0.9829638752052545,
                    0.9825533661740559,
                    0.9821428571428571,
                    0.9827586206896551,
                    0.9823481116584565,
                    0.9829638752052545,
                    0.9831691297208539,
                    0.9829638752052545,
                    0.9829638752052545,
                    0.9831691297208539,
                    0.9835796387520526,
                    0.9844006568144499,
                    0.9850164203612479,
                    0.9844006568144499,
                    0.9844006568144499,
                    0.9837848932676518,
                    0.9835796387520526,
                    0.9835796387520526,
                    0.9837848932676518,
                    0.9837848932676518,
                    0.9833743842364532,
                    0.9837848932676518,
                    0.9839901477832512,
                    0.9833743842364532,
                    0.9827586206896551,
                    0.9827586206896551,
                    0.9827586206896551,
                    0.9823481116584565,
                    0.9823481116584565,
                    0.9829638752052545,
                    0.9829638752052545,
                    0.9829638752052545,
                    0.9829638752052545
                  ]
                },
                {
                  "marker": {
                    "maxdisplayed": 10
                  },
                  "mode": "lines+markers",
                  "name": "Trial3",
                  "type": "scatter",
                  "x": [
                    0,
                    1,
                    2,
                    3,
                    4,
                    5,
                    6,
                    7,
                    8,
                    9,
                    10,
                    11,
                    12,
                    13,
                    14,
                    15,
                    16,
                    17,
                    18,
                    19,
                    20,
                    21,
                    22,
                    23,
                    24,
                    25,
                    26,
                    27,
                    28,
                    29,
                    30,
                    31,
                    32,
                    33,
                    34,
                    35,
                    36,
                    37,
                    38,
                    39,
                    40,
                    41,
                    42,
                    43,
                    44,
                    45,
                    46,
                    47,
                    48,
                    49,
                    50,
                    51,
                    52,
                    53,
                    54,
                    55,
                    56,
                    57,
                    58,
                    59,
                    60,
                    61,
                    62,
                    63,
                    64,
                    65,
                    66,
                    67,
                    68,
                    69,
                    70,
                    71,
                    72,
                    73,
                    74,
                    75,
                    76,
                    77,
                    78,
                    79,
                    80,
                    81,
                    82,
                    83,
                    84,
                    85,
                    86,
                    87,
                    88,
                    89,
                    90,
                    91,
                    92,
                    93,
                    94,
                    95,
                    96,
                    97,
                    98,
                    99
                  ],
                  "y": [
                    0.9180191427382438,
                    0.9369538077403246,
                    0.9660840615896795,
                    0.9683728672492717,
                    0.9682688306283812,
                    0.9771119434040783,
                    0.9812734082397003,
                    0.9827299209321682,
                    0.9850187265917603,
                    0.9857469829379941,
                    0.9842904702455264,
                    0.9846025801081981,
                    0.9860590928006658,
                    0.9868913857677902,
                    0.9885559717020391,
                    0.9881398252184769,
                    0.9875156054931336,
                    0.9864752392842281,
                    0.9887640449438202,
                    0.9893882646691635,
                    0.9900124843945068,
                    0.990220557636288,
                    0.9906367041198502,
                    0.9910528506034124,
                    0.9912609238451935,
                    0.9918851435705368,
                    0.992093216812318,
                    0.9931335830212235,
                    0.9939658759883478,
                    0.9939658759883478,
                    0.9939658759883478,
                    0.9947981689554724,
                    0.9947981689554724,
                    0.9952143154390345,
                    0.9954223886808157,
                    0.9962546816479401,
                    0.9962546816479401,
                    0.996046608406159,
                    0.9958385351643778,
                    0.9962546816479401,
                    0.9958385351643778,
                    0.9958385351643778,
                    0.9958385351643778,
                    0.9964627548897211,
                    0.9962546816479401,
                    0.9964627548897211,
                    0.9968789013732834,
                    0.9970869746150645,
                    0.9972950478568456,
                    0.9968789013732834,
                    0.9972950478568456,
                    0.9970869746150645,
                    0.9968789013732834,
                    0.9970869746150645,
                    0.9966708281315023,
                    0.9970869746150645,
                    0.9972950478568456,
                    0.9972950478568456,
                    0.9975031210986267,
                    0.9975031210986267,
                    0.9975031210986267,
                    0.9977111943404078,
                    0.9977111943404078,
                    0.99812734082397,
                    0.99812734082397,
                    0.9983354140657511,
                    0.9983354140657511,
                    0.9983354140657511,
                    0.9983354140657511,
                    0.9983354140657511,
                    0.9983354140657511,
                    0.99812734082397,
                    0.99812734082397,
                    0.99812734082397,
                    0.99812734082397,
                    0.99812734082397,
                    0.99812734082397,
                    0.99812734082397,
                    0.99812734082397,
                    0.997919267582189,
                    0.997919267582189,
                    0.997919267582189,
                    0.997919267582189,
                    0.99812734082397,
                    0.99812734082397,
                    0.99812734082397,
                    0.9983354140657511,
                    0.9983354140657511,
                    0.99812734082397,
                    0.99812734082397,
                    0.99812734082397,
                    0.9985434873075323,
                    0.9985434873075323,
                    0.9985434873075323,
                    0.9985434873075323,
                    0.9985434873075323,
                    0.9985434873075323,
                    0.9987515605493134,
                    0.9987515605493134,
                    0.9987515605493134
                  ]
                },
                {
                  "marker": {
                    "maxdisplayed": 10
                  },
                  "mode": "lines+markers",
                  "name": "Trial4",
                  "type": "scatter",
                  "x": [
                    0,
                    1,
                    2,
                    3,
                    4,
                    5,
                    6,
                    7,
                    8,
                    9,
                    10,
                    11,
                    12,
                    13,
                    14,
                    15,
                    16,
                    17,
                    18,
                    19,
                    20,
                    21,
                    22,
                    23,
                    24,
                    25,
                    26,
                    27,
                    28,
                    29,
                    30,
                    31,
                    32,
                    33,
                    34,
                    35,
                    36,
                    37,
                    38,
                    39,
                    40,
                    41,
                    42,
                    43,
                    44,
                    45,
                    46,
                    47,
                    48,
                    49,
                    50,
                    51,
                    52,
                    53,
                    54,
                    55,
                    56,
                    57,
                    58,
                    59,
                    60,
                    61,
                    62,
                    63,
                    64,
                    65,
                    66,
                    67,
                    68,
                    69,
                    70,
                    71,
                    72,
                    73,
                    74,
                    75,
                    76,
                    77,
                    78,
                    79,
                    80,
                    81,
                    82,
                    83,
                    84,
                    85,
                    86,
                    87,
                    88,
                    89,
                    90,
                    91,
                    92,
                    93,
                    94,
                    95,
                    96,
                    97,
                    98,
                    99
                  ],
                  "y": [
                    0.9710743801652892,
                    0.9729338842975207,
                    0.9694214876033058,
                    0.9693181818181819,
                    0.9724173553719008,
                    0.9733471074380166,
                    0.9737603305785124,
                    0.9735537190082645,
                    0.9725206611570248,
                    0.9725206611570248,
                    0.9723140495867768,
                    0.9723140495867768,
                    0.9861570247933884,
                    0.9878099173553719,
                    0.987603305785124,
                    0.9888429752066116,
                    0.9880165289256199,
                    0.9880165289256199,
                    0.9913223140495868,
                    0.9917355371900827,
                    0.9915289256198347,
                    0.9911157024793389,
                    0.990909090909091,
                    0.9902892561983471,
                    0.9900826446280991,
                    0.9898760330578512,
                    0.9911157024793389,
                    0.9907024793388429,
                    0.9902892561983471,
                    0.9898760330578512,
                    0.990909090909091,
                    0.9911157024793389,
                    0.990909090909091,
                    0.9915289256198347,
                    0.9913223140495868,
                    0.990495867768595,
                    0.9898760330578512,
                    0.9900826446280991,
                    0.9913223140495868,
                    0.9921487603305785,
                    0.9913223140495868,
                    0.9911157024793389,
                    0.9919421487603306,
                    0.9927685950413223,
                    0.9923553719008265,
                    0.9931818181818182,
                    0.9929752066115702,
                    0.9931818181818182,
                    0.993595041322314,
                    0.993595041322314,
                    0.993595041322314,
                    0.993595041322314,
                    0.993595041322314,
                    0.9933884297520661,
                    0.9929752066115702,
                    0.9927685950413223,
                    0.9929752066115702,
                    0.9931818181818182,
                    0.9929752066115702,
                    0.9927685950413223,
                    0.9925619834710744,
                    0.9925619834710744,
                    0.9923553719008265,
                    0.9921487603305785,
                    0.9921487603305785,
                    0.9919421487603306,
                    0.9917355371900827,
                    0.9915289256198347,
                    0.9913223140495868,
                    0.9911157024793389,
                    0.9917355371900827,
                    0.9921487603305785,
                    0.9921487603305785,
                    0.9919421487603306,
                    0.9919421487603306,
                    0.9923553719008265,
                    0.9919421487603306,
                    0.9917355371900827,
                    0.9917355371900827,
                    0.9921487603305785,
                    0.9919421487603306,
                    0.9917355371900827,
                    0.9917355371900827,
                    0.9919421487603306,
                    0.9915289256198347,
                    0.9913223140495868,
                    0.9915289256198347,
                    0.9915289256198347,
                    0.9915289256198347,
                    0.9913223140495868,
                    0.990909090909091,
                    0.9907024793388429,
                    0.9902892561983471,
                    0.9902892561983471,
                    0.9902892561983471,
                    0.9907024793388429,
                    0.9913223140495868,
                    0.9919421487603306,
                    0.9921487603305785,
                    0.9919421487603306
                  ]
                },
                {
                  "marker": {
                    "maxdisplayed": 10
                  },
                  "mode": "lines+markers",
                  "name": "Trial5",
                  "type": "scatter",
                  "x": [
                    0,
                    1,
                    2,
                    3,
                    4,
                    5,
                    6,
                    7,
                    8,
                    9,
                    10,
                    11,
                    12,
                    13,
                    14,
                    15,
                    16,
                    17,
                    18,
                    19,
                    20,
                    21,
                    22,
                    23,
                    24,
                    25,
                    26,
                    27,
                    28,
                    29,
                    30,
                    31,
                    32,
                    33,
                    34,
                    35,
                    36,
                    37,
                    38,
                    39,
                    40,
                    41,
                    42,
                    43,
                    44,
                    45,
                    46,
                    47,
                    48,
                    49,
                    50,
                    51,
                    52,
                    53,
                    54,
                    55,
                    56,
                    57,
                    58,
                    59,
                    60,
                    61,
                    62,
                    63,
                    64,
                    65,
                    66,
                    67,
                    68,
                    69,
                    70,
                    71,
                    72,
                    73,
                    74,
                    75,
                    76,
                    77,
                    78,
                    79,
                    80,
                    81,
                    82,
                    83,
                    84,
                    85,
                    86,
                    87,
                    88,
                    89,
                    90,
                    91,
                    92,
                    93,
                    94,
                    95,
                    96,
                    97,
                    98,
                    99
                  ],
                  "y": [
                    0.9682389937106918,
                    0.9818658280922432,
                    0.9832285115303984,
                    0.9819706498951782,
                    0.9788259958071279,
                    0.990880503144654,
                    0.9917190775681342,
                    0.9941299790356394,
                    0.9945492662473795,
                    0.9949685534591195,
                    0.9958071278825996,
                    0.9962264150943396,
                    0.9966457023060796,
                    0.9968553459119497,
                    0.9974842767295597,
                    0.9968553459119497,
                    0.9964360587002097,
                    0.9964360587002097,
                    0.9966457023060796,
                    0.9968553459119497,
                    0.9974842767295597,
                    0.9981132075471698,
                    0.9983228511530399,
                    0.9983228511530399,
                    0.9983228511530399,
                    0.9983228511530399,
                    0.9985324947589098,
                    0.9987421383647799,
                    0.9987421383647799,
                    0.9985324947589098,
                    0.9985324947589098,
                    0.9985324947589098,
                    0.9985324947589098,
                    0.9989517819706499,
                    0.9991614255765199,
                    0.9991614255765199,
                    0.9991614255765199,
                    0.9991614255765199,
                    0.9991614255765199,
                    0.9991614255765199,
                    0.9991614255765199,
                    0.9993710691823899,
                    0.9989517819706499,
                    0.9989517819706499,
                    0.9989517819706499,
                    0.9989517819706499,
                    0.9991614255765199,
                    0.9991614255765199,
                    0.9991614255765199,
                    0.9989517819706499,
                    0.9989517819706499,
                    0.9989517819706499,
                    0.9989517819706499,
                    0.9989517819706499,
                    0.9991614255765199,
                    0.9993710691823899,
                    0.9993710691823899,
                    0.9993710691823899,
                    0.9993710691823899,
                    0.9991614255765199,
                    0.9993710691823899,
                    0.9993710691823899,
                    0.9993710691823899,
                    0.9993710691823899,
                    0.9993710691823899,
                    0.9993710691823899,
                    0.9993710691823899,
                    0.9993710691823899,
                    0.9993710691823899,
                    0.9993710691823899,
                    0.9993710691823899,
                    0.9993710691823899,
                    0.9993710691823899,
                    0.9993710691823899,
                    0.9993710691823899,
                    0.9991614255765199,
                    0.9989517819706499,
                    0.9989517819706499,
                    0.9991614255765199,
                    0.9993710691823899,
                    0.9993710691823899,
                    0.9993710691823899,
                    0.9993710691823899,
                    0.9993710691823899,
                    0.99958071278826,
                    0.99958071278826,
                    0.99958071278826,
                    0.99958071278826,
                    0.99958071278826,
                    0.99958071278826,
                    0.9997903563941299,
                    0.9997903563941299,
                    0.9997903563941299,
                    0.99958071278826,
                    0.99958071278826,
                    0.99958071278826,
                    0.99958071278826,
                    0.9997903563941299,
                    0.99958071278826,
                    0.99958071278826
                  ]
                },
                {
                  "marker": {
                    "maxdisplayed": 10
                  },
                  "mode": "lines+markers",
                  "name": "Trial6",
                  "type": "scatter",
                  "x": [
                    0,
                    1,
                    2,
                    3,
                    4,
                    5,
                    6,
                    7,
                    8,
                    9,
                    10
                  ],
                  "y": [
                    0.937061403508772,
                    0.9438596491228071,
                    0.9685307017543859,
                    0.9671052631578947,
                    0.9805921052631579,
                    0.9850877192982456,
                    0.9838815789473684,
                    0.9867324561403509,
                    0.9868421052631579,
                    0.9846491228070176,
                    0.9861842105263158
                  ]
                },
                {
                  "marker": {
                    "maxdisplayed": 10
                  },
                  "mode": "lines+markers",
                  "name": "Trial7",
                  "type": "scatter",
                  "x": [
                    0,
                    1,
                    2,
                    3,
                    4,
                    5,
                    6,
                    7,
                    8,
                    9,
                    10
                  ],
                  "y": [
                    0.9564516129032258,
                    0.974516129032258,
                    0.9751612903225807,
                    0.9709677419354839,
                    0.9690322580645161,
                    0.9689247311827957,
                    0.9713978494623656,
                    0.9729032258064516,
                    0.9735483870967742,
                    0.9746236559139785,
                    0.9739784946236559
                  ]
                },
                {
                  "marker": {
                    "maxdisplayed": 10
                  },
                  "mode": "lines+markers",
                  "name": "Trial8",
                  "type": "scatter",
                  "x": [
                    0,
                    1,
                    2,
                    3,
                    4,
                    5,
                    6,
                    7,
                    8,
                    9,
                    10,
                    11,
                    12,
                    13,
                    14
                  ],
                  "y": [
                    0.9660303776683087,
                    0.9689039408866995,
                    0.9707512315270936,
                    0.9705459770114943,
                    0.9709564860426929,
                    0.9833743842364532,
                    0.9827586206896551,
                    0.9874794745484401,
                    0.9887110016420362,
                    0.9895320197044335,
                    0.9885057471264368,
                    0.9866584564860427,
                    0.9883004926108374,
                    0.9889162561576355,
                    0.9883004926108374
                  ]
                },
                {
                  "marker": {
                    "maxdisplayed": 10
                  },
                  "mode": "lines+markers",
                  "name": "Trial9",
                  "type": "scatter",
                  "x": [
                    0,
                    1,
                    2,
                    3,
                    4,
                    5,
                    6,
                    7,
                    8,
                    9,
                    10,
                    11,
                    12,
                    13,
                    14,
                    15,
                    16,
                    17,
                    18
                  ],
                  "y": [
                    0.9431444991789819,
                    0.9674671592775042,
                    0.9916871921182266,
                    0.9911740558292282,
                    0.9899425287356322,
                    0.9889162561576355,
                    0.9880952380952381,
                    0.9870689655172413,
                    0.9864532019704434,
                    0.9860426929392446,
                    0.9854269293924466,
                    0.9850164203612479,
                    0.9866584564860427,
                    0.9870689655172413,
                    0.9878899835796388,
                    0.986863711001642,
                    0.986863711001642,
                    0.986863711001642,
                    0.9866584564860427
                  ]
                },
                {
                  "marker": {
                    "maxdisplayed": 10
                  },
                  "mode": "lines+markers",
                  "name": "Trial10",
                  "type": "scatter",
                  "x": [
                    0,
                    1,
                    2,
                    3,
                    4,
                    5,
                    6,
                    7,
                    8,
                    9,
                    10,
                    11,
                    12,
                    13,
                    14,
                    15,
                    16,
                    17,
                    18,
                    19,
                    20,
                    21,
                    22,
                    23,
                    24,
                    25,
                    26,
                    27,
                    28
                  ],
                  "y": [
                    0.9515532544378699,
                    0.9765779092702169,
                    0.9738658777120316,
                    0.9776873767258383,
                    0.9875493096646942,
                    0.9885355029585798,
                    0.9927268244575936,
                    0.9924802761341223,
                    0.9919871794871795,
                    0.9932199211045365,
                    0.9932199211045365,
                    0.9942061143984221,
                    0.9944526627218935,
                    0.9939595660749507,
                    0.9934664694280079,
                    0.9924802761341223,
                    0.9922337278106509,
                    0.9912475345167653,
                    0.9914940828402367,
                    0.9912475345167653,
                    0.9907544378698225,
                    0.990507889546351,
                    0.9900147928994083,
                    0.9895216962524654,
                    0.9902613412228797,
                    0.9916173570019724,
                    0.992603550295858,
                    0.9930966469428008,
                    0.9928500986193294
                  ]
                },
                {
                  "marker": {
                    "maxdisplayed": 10
                  },
                  "mode": "lines+markers",
                  "name": "Trial11",
                  "type": "scatter",
                  "x": [
                    0,
                    1,
                    2,
                    3,
                    4,
                    5,
                    6,
                    7,
                    8,
                    9,
                    10
                  ],
                  "y": [
                    0.9044624746450304,
                    0.943002028397566,
                    0.9692697768762677,
                    0.9774847870182556,
                    0.9818458417849899,
                    0.981237322515213,
                    0.9797160243407708,
                    0.9807302231237323,
                    0.9795131845841785,
                    0.9817444219066938,
                    0.981947261663286
                  ]
                },
                {
                  "marker": {
                    "maxdisplayed": 10
                  },
                  "mode": "lines+markers",
                  "name": "Trial12",
                  "type": "scatter",
                  "x": [
                    0,
                    1,
                    2,
                    3,
                    4,
                    5,
                    6,
                    7,
                    8,
                    9,
                    10,
                    11,
                    12,
                    13,
                    14,
                    15,
                    16,
                    17,
                    18,
                    19,
                    20,
                    21,
                    22,
                    23,
                    24,
                    25,
                    26,
                    27,
                    28,
                    29,
                    30,
                    31,
                    32,
                    33,
                    34,
                    35,
                    36,
                    37,
                    38,
                    39,
                    40,
                    41,
                    42,
                    43,
                    44,
                    45,
                    46,
                    47,
                    48,
                    49,
                    50,
                    51,
                    52,
                    53,
                    54,
                    55,
                    56,
                    57,
                    58,
                    59,
                    60,
                    61,
                    62,
                    63,
                    64,
                    65,
                    66,
                    67,
                    68,
                    69,
                    70,
                    71,
                    72,
                    73,
                    74,
                    75,
                    76,
                    77,
                    78,
                    79,
                    80,
                    81,
                    82,
                    83,
                    84,
                    85,
                    86,
                    87,
                    88,
                    89,
                    90,
                    91,
                    92,
                    93,
                    94,
                    95,
                    96,
                    97,
                    98,
                    99
                  ],
                  "y": [
                    0.9467178175618073,
                    0.9854006820119352,
                    0.9854006820119352,
                    0.9859335038363172,
                    0.9909420289855072,
                    0.9952046035805626,
                    0.9969096334185849,
                    0.9969096334185849,
                    0.9969096334185849,
                    0.9970161977834612,
                    0.9974424552429667,
                    0.9978687127024722,
                    0.9972293265132139,
                    0.9984015345268542,
                    0.9973358908780904,
                    0.9981884057971014,
                    0.9978687127024722,
                    0.9985080988917306,
                    0.9980818414322251,
                    0.9978687127024722,
                    0.9985080988917306,
                    0.9985080988917306,
                    0.9989343563512362,
                    0.9987212276214834,
                    0.9989343563512362,
                    0.9991474850809889,
                    0.9991474850809889,
                    0.9991474850809889,
                    0.9993606138107417,
                    0.9993606138107417,
                    0.9993606138107417,
                    0.9993606138107417,
                    0.9993606138107417,
                    0.9993606138107417,
                    0.9993606138107417,
                    0.9993606138107417,
                    0.9993606138107417,
                    0.9993606138107417,
                    0.9991474850809889,
                    0.9991474850809889,
                    0.9991474850809889,
                    0.9993606138107417,
                    0.9993606138107417,
                    0.9991474850809889,
                    0.9991474850809889,
                    0.9991474850809889,
                    0.9991474850809889,
                    0.9993606138107417,
                    0.9991474850809889,
                    0.9989343563512362,
                    0.9991474850809889,
                    0.9993606138107417,
                    0.9993606138107417,
                    0.9993606138107417,
                    0.9993606138107417,
                    0.9993606138107417,
                    0.9993606138107417,
                    0.9991474850809889,
                    0.9991474850809889,
                    0.9989343563512362,
                    0.9991474850809889,
                    0.9991474850809889,
                    0.9989343563512362,
                    0.9991474850809889,
                    0.9993606138107417,
                    0.9993606138107417,
                    0.9991474850809889,
                    0.9991474850809889,
                    0.9989343563512362,
                    0.9991474850809889,
                    0.9991474850809889,
                    0.9989343563512362,
                    0.9989343563512362,
                    0.9989343563512362,
                    0.9989343563512362,
                    0.9989343563512362,
                    0.9989343563512362,
                    0.9989343563512362,
                    0.9989343563512362,
                    0.9989343563512362,
                    0.9987212276214834,
                    0.9987212276214834,
                    0.9987212276214834,
                    0.9987212276214834,
                    0.9987212276214834,
                    0.9987212276214834,
                    0.9987212276214834,
                    0.9987212276214834,
                    0.9987212276214834,
                    0.9987212276214834,
                    0.9987212276214834,
                    0.9987212276214834,
                    0.9987212276214834,
                    0.9987212276214834,
                    0.9987212276214834,
                    0.9987212276214834,
                    0.9987212276214834,
                    0.9989343563512362,
                    0.9989343563512362,
                    0.9989343563512362
                  ]
                },
                {
                  "marker": {
                    "maxdisplayed": 10
                  },
                  "mode": "lines+markers",
                  "name": "Trial13",
                  "type": "scatter",
                  "x": [
                    0,
                    1,
                    2,
                    3,
                    4,
                    5,
                    6,
                    7,
                    8,
                    9,
                    10
                  ],
                  "y": [
                    0.9495698924731183,
                    0.9704301075268817,
                    0.9721505376344086,
                    0.9690322580645161,
                    0.9710752688172043,
                    0.9697849462365591,
                    0.9762365591397849,
                    0.9775268817204301,
                    0.979247311827957,
                    0.9780645161290322,
                    0.9790322580645161
                  ]
                },
                {
                  "marker": {
                    "maxdisplayed": 10
                  },
                  "mode": "lines+markers",
                  "name": "Trial14",
                  "type": "scatter",
                  "x": [
                    0,
                    1,
                    2,
                    3,
                    4,
                    5,
                    6,
                    7,
                    8,
                    9,
                    10
                  ],
                  "y": [
                    0.9078313253012048,
                    0.9142570281124498,
                    0.9559236947791164,
                    0.9569277108433735,
                    0.9617469879518072,
                    0.981425702811245,
                    0.9812248995983935,
                    0.9794176706827309,
                    0.9837349397590361,
                    0.9843373493975903,
                    0.9847389558232932
                  ]
                },
                {
                  "marker": {
                    "maxdisplayed": 10
                  },
                  "mode": "lines+markers",
                  "name": "Trial15",
                  "type": "scatter",
                  "x": [
                    0,
                    1,
                    2,
                    3,
                    4,
                    5,
                    6,
                    7,
                    8,
                    9,
                    10
                  ],
                  "y": [
                    0.9658064516129032,
                    0.9743010752688172,
                    0.979247311827957,
                    0.9809677419354839,
                    0.9804301075268818,
                    0.9806451612903225,
                    0.9806451612903225,
                    0.9808602150537634,
                    0.9810752688172043,
                    0.9819354838709677,
                    0.9821505376344086
                  ]
                },
                {
                  "marker": {
                    "maxdisplayed": 10
                  },
                  "mode": "lines+markers",
                  "name": "Trial16",
                  "type": "scatter",
                  "x": [
                    0,
                    1,
                    2,
                    3,
                    4,
                    5,
                    6,
                    7,
                    8,
                    9,
                    10
                  ],
                  "y": [
                    0.8978858784893268,
                    0.9682881773399015,
                    0.9735221674876847,
                    0.9757799671592775,
                    0.9764983579638752,
                    0.9780377668308703,
                    0.9772167487684729,
                    0.9772167487684729,
                    0.9785509031198686,
                    0.9838875205254516,
                    0.9834770114942529
                  ]
                },
                {
                  "marker": {
                    "maxdisplayed": 10
                  },
                  "mode": "lines+markers",
                  "name": "Trial17",
                  "type": "scatter",
                  "x": [
                    0,
                    1,
                    2,
                    3,
                    4,
                    5,
                    6,
                    7,
                    8,
                    9,
                    10
                  ],
                  "y": [
                    0.972920892494929,
                    0.9621703853955376,
                    0.9609533468559838,
                    0.9663286004056795,
                    0.9675456389452333,
                    0.9667342799188641,
                    0.9689655172413794,
                    0.9697768762677484,
                    0.9699797160243407,
                    0.9807302231237323,
                    0.9809330628803246
                  ]
                },
                {
                  "marker": {
                    "maxdisplayed": 10
                  },
                  "mode": "lines+markers",
                  "name": "Trial18",
                  "type": "scatter",
                  "x": [
                    0,
                    1,
                    2,
                    3,
                    4,
                    5,
                    6,
                    7,
                    8,
                    9,
                    10,
                    11,
                    12,
                    13,
                    14,
                    15,
                    16,
                    17,
                    18,
                    19,
                    20,
                    21,
                    22,
                    23,
                    24,
                    25,
                    26,
                    27,
                    28,
                    29,
                    30,
                    31,
                    32,
                    33,
                    34,
                    35,
                    36,
                    37,
                    38,
                    39,
                    40,
                    41,
                    42,
                    43,
                    44,
                    45,
                    46,
                    47,
                    48,
                    49,
                    50,
                    51,
                    52,
                    53,
                    54,
                    55,
                    56,
                    57,
                    58,
                    59,
                    60,
                    61,
                    62,
                    63,
                    64,
                    65,
                    66,
                    67,
                    68,
                    69,
                    70,
                    71,
                    72,
                    73,
                    74,
                    75,
                    76,
                    77,
                    78,
                    79,
                    80,
                    81,
                    82,
                    83,
                    84,
                    85,
                    86,
                    87,
                    88,
                    89,
                    90,
                    91,
                    92,
                    93,
                    94,
                    95,
                    96,
                    97,
                    98,
                    99
                  ],
                  "y": [
                    0.9752141982864138,
                    0.990922072623419,
                    0.994594043247654,
                    0.9944920440636474,
                    0.9942880456956344,
                    0.993064055487556,
                    0.99265605875153,
                    0.9942880456956344,
                    0.996532027743778,
                    0.9971440228478172,
                    0.9971440228478172,
                    0.9971440228478172,
                    0.9969400244798041,
                    0.996532027743778,
                    0.9967360261117911,
                    0.9967360261117911,
                    0.9973480212158303,
                    0.9971440228478172,
                    0.9973480212158303,
                    0.9969400244798041,
                    0.9969400244798041,
                    0.9975520195838433,
                    0.9975520195838433,
                    0.9975520195838433,
                    0.9981640146878825,
                    0.9983680130558955,
                    0.9983680130558955,
                    0.9983680130558955,
                    0.9983680130558955,
                    0.9983680130558955,
                    0.9985720114239086,
                    0.9985720114239086,
                    0.9985720114239086,
                    0.9987760097919217,
                    0.9987760097919217,
                    0.9989800081599347,
                    0.9987760097919217,
                    0.9987760097919217,
                    0.9987760097919217,
                    0.9987760097919217,
                    0.9987760097919217,
                    0.9987760097919217,
                    0.9987760097919217,
                    0.9985720114239086,
                    0.9987760097919217,
                    0.9987760097919217,
                    0.9987760097919217,
                    0.9987760097919217,
                    0.9987760097919217,
                    0.9989800081599347,
                    0.9989800081599347,
                    0.9989800081599347,
                    0.9989800081599347,
                    0.9989800081599347,
                    0.9987760097919217,
                    0.9987760097919217,
                    0.9989800081599347,
                    0.9991840065279478,
                    0.9989800081599347,
                    0.9989800081599347,
                    0.9987760097919217,
                    0.9989800081599347,
                    0.9993880048959608,
                    0.9993880048959608,
                    0.9995920032639739,
                    0.9995920032639739,
                    0.9995920032639739,
                    0.9995920032639739,
                    0.9995920032639739,
                    0.9995920032639739,
                    0.9993880048959608,
                    0.9993880048959608,
                    0.9993880048959608,
                    0.9993880048959608,
                    0.9993880048959608,
                    0.9991840065279478,
                    0.9993880048959608,
                    0.9993880048959608,
                    0.9993880048959608,
                    0.9991840065279478,
                    0.9991840065279478,
                    0.9991840065279478,
                    0.9993880048959608,
                    0.9995920032639739,
                    0.9995920032639739,
                    0.9995920032639739,
                    0.9993880048959608,
                    0.9993880048959608,
                    0.9995920032639739,
                    0.9997960016319869,
                    0.9997960016319869,
                    0.9997960016319869,
                    0.9997960016319869,
                    0.9997960016319869,
                    0.9997960016319869,
                    0.9997960016319869,
                    0.9995920032639739,
                    0.9995920032639739,
                    0.9995920032639739,
                    0.9995920032639739
                  ]
                },
                {
                  "marker": {
                    "maxdisplayed": 10
                  },
                  "mode": "lines+markers",
                  "name": "Trial19",
                  "type": "scatter",
                  "x": [
                    0,
                    1,
                    2,
                    3,
                    4,
                    5,
                    6,
                    7,
                    8,
                    9,
                    10
                  ],
                  "y": [
                    0.921994884910486,
                    0.9650468883205456,
                    0.9719735720375107,
                    0.972612958226769,
                    0.9733589087809037,
                    0.9758098891730606,
                    0.9747442455242967,
                    0.9789002557544757,
                    0.9857203751065644,
                    0.9861466325660699,
                    0.9861466325660699
                  ]
                },
                {
                  "marker": {
                    "maxdisplayed": 10
                  },
                  "mode": "lines+markers",
                  "name": "Trial20",
                  "type": "scatter",
                  "x": [
                    0,
                    1,
                    2,
                    3,
                    4,
                    5,
                    6,
                    7,
                    8,
                    9,
                    10
                  ],
                  "y": [
                    0.8954431960049938,
                    0.9685809404910528,
                    0.961090303786933,
                    0.9744069912609239,
                    0.9710778193924261,
                    0.9735746982937994,
                    0.9784644194756554,
                    0.9842904702455264,
                    0.9849146899708697,
                    0.9836662505201831,
                    0.9827299209321682
                  ]
                },
                {
                  "marker": {
                    "maxdisplayed": 10
                  },
                  "mode": "lines+markers",
                  "name": "Trial21",
                  "type": "scatter",
                  "x": [
                    0,
                    1,
                    2,
                    3,
                    4,
                    5,
                    6,
                    7,
                    8,
                    9,
                    10
                  ],
                  "y": [
                    0.9438202247191011,
                    0.9769038701622972,
                    0.9847066167290887,
                    0.9863712026633374,
                    0.987411568872243,
                    0.9912609238451935,
                    0.9916770703287557,
                    0.9910528506034124,
                    0.990220557636288,
                    0.9910528506034124,
                    0.9907407407407407
                  ]
                },
                {
                  "marker": {
                    "maxdisplayed": 10
                  },
                  "mode": "lines+markers",
                  "name": "Trial22",
                  "type": "scatter",
                  "x": [
                    0,
                    1,
                    2,
                    3,
                    4,
                    5,
                    6,
                    7,
                    8,
                    9,
                    10
                  ],
                  "y": [
                    0.9283730158730159,
                    0.9423611111111111,
                    0.9543650793650794,
                    0.9709325396825397,
                    0.971031746031746,
                    0.966765873015873,
                    0.9671626984126984,
                    0.9732142857142857,
                    0.9709325396825397,
                    0.9703373015873016,
                    0.973015873015873
                  ]
                },
                {
                  "marker": {
                    "maxdisplayed": 10
                  },
                  "mode": "lines+markers",
                  "name": "Trial23",
                  "type": "scatter",
                  "x": [
                    0,
                    1,
                    2,
                    3,
                    4,
                    5,
                    6,
                    7,
                    8,
                    9,
                    10
                  ],
                  "y": [
                    0.9393081761006289,
                    0.9472746331236898,
                    0.9625786163522012,
                    0.9661425576519916,
                    0.9730607966457023,
                    0.9710691823899371,
                    0.9714884696016771,
                    0.9745283018867924,
                    0.9766247379454926,
                    0.9770440251572327,
                    0.9806079664570231
                  ]
                },
                {
                  "marker": {
                    "maxdisplayed": 10
                  },
                  "mode": "lines+markers",
                  "name": "Trial24",
                  "type": "scatter",
                  "x": [
                    0,
                    1,
                    2,
                    3,
                    4,
                    5,
                    6,
                    7,
                    8,
                    9,
                    10
                  ],
                  "y": [
                    0.9535080304311073,
                    0.9739010989010989,
                    0.9693575655114116,
                    0.9717878275570583,
                    0.9819315300084531,
                    0.9783389687235841,
                    0.9866863905325444,
                    0.9862637362637363,
                    0.9845731191885038,
                    0.981825866441251,
                    0.985207100591716
                  ]
                },
                {
                  "marker": {
                    "maxdisplayed": 10
                  },
                  "mode": "lines+markers",
                  "name": "Trial25",
                  "type": "scatter",
                  "x": [
                    0,
                    1,
                    2,
                    3,
                    4,
                    5,
                    6,
                    7,
                    8,
                    9,
                    10,
                    11,
                    12,
                    13,
                    14,
                    15,
                    16,
                    17,
                    18,
                    19,
                    20,
                    21,
                    22,
                    23,
                    24,
                    25,
                    26,
                    27,
                    28,
                    29,
                    30,
                    31,
                    32,
                    33,
                    34,
                    35,
                    36,
                    37,
                    38,
                    39,
                    40,
                    41,
                    42,
                    43,
                    44,
                    45,
                    46,
                    47,
                    48,
                    49,
                    50,
                    51,
                    52,
                    53,
                    54,
                    55,
                    56,
                    57,
                    58,
                    59,
                    60,
                    61,
                    62,
                    63,
                    64,
                    65,
                    66,
                    67,
                    68,
                    69,
                    70,
                    71,
                    72,
                    73,
                    74,
                    75,
                    76,
                    77,
                    78,
                    79,
                    80,
                    81,
                    82,
                    83,
                    84,
                    85,
                    86,
                    87,
                    88,
                    89,
                    90,
                    91,
                    92,
                    93,
                    94,
                    95,
                    96,
                    97,
                    98,
                    99
                  ],
                  "y": [
                    0.9107142857142857,
                    0.9692519019442096,
                    0.9756973795435334,
                    0.9950338123415047,
                    0.9937658495350803,
                    0.9946111580726965,
                    0.9943998309382924,
                    0.9937658495350803,
                    0.9956677937447168,
                    0.9952451394759088,
                    0.9939771766694844,
                    0.9939771766694844,
                    0.9966187658495351,
                    0.9959847844463229,
                    0.9970414201183432,
                    0.9968300929839391,
                    0.9970414201183432,
                    0.9968300929839391,
                    0.9970414201183432,
                    0.9968300929839391,
                    0.996407438715131,
                    0.9968300929839391,
                    0.9966187658495351,
                    0.9968300929839391,
                    0.9966187658495351,
                    0.9966187658495351,
                    0.9974640743871513,
                    0.9972527472527473,
                    0.9966187658495351,
                    0.9972527472527473,
                    0.9976754015215553,
                    0.9978867286559594,
                    0.9976754015215553,
                    0.9976754015215553,
                    0.9976754015215553,
                    0.9976754015215553,
                    0.9976754015215553,
                    0.9974640743871513,
                    0.9976754015215553,
                    0.9974640743871513,
                    0.9974640743871513,
                    0.9974640743871513,
                    0.9974640743871513,
                    0.9976754015215553,
                    0.9976754015215553,
                    0.9976754015215553,
                    0.9978867286559594,
                    0.9978867286559594,
                    0.9978867286559594,
                    0.9978867286559594,
                    0.9976754015215553,
                    0.9976754015215553,
                    0.9976754015215553,
                    0.9976754015215553,
                    0.9976754015215553,
                    0.9976754015215553,
                    0.9978867286559594,
                    0.9978867286559594,
                    0.9978867286559594,
                    0.9980980557903635,
                    0.9980980557903635,
                    0.9980980557903635,
                    0.9985207100591716,
                    0.9985207100591716,
                    0.9985207100591716,
                    0.9985207100591716,
                    0.9980980557903635,
                    0.9980980557903635,
                    0.9980980557903635,
                    0.9980980557903635,
                    0.9980980557903635,
                    0.9983093829247676,
                    0.9983093829247676,
                    0.9983093829247676,
                    0.9983093829247676,
                    0.9983093829247676,
                    0.9985207100591716,
                    0.9987320371935756,
                    0.9987320371935756,
                    0.9989433643279797,
                    0.9989433643279797,
                    0.9991546914623838,
                    0.9989433643279797,
                    0.9989433643279797,
                    0.9989433643279797,
                    0.9991546914623838,
                    0.9993660185967879,
                    0.9993660185967879,
                    0.9993660185967879,
                    0.9993660185967879,
                    0.9993660185967879,
                    0.9995773457311918,
                    0.9995773457311918,
                    0.9995773457311918,
                    0.9997886728655959,
                    0.9997886728655959,
                    0.9997886728655959,
                    0.9997886728655959,
                    0.9997886728655959,
                    0.9997886728655959
                  ]
                },
                {
                  "marker": {
                    "maxdisplayed": 10
                  },
                  "mode": "lines+markers",
                  "name": "Trial26",
                  "type": "scatter",
                  "x": [
                    0,
                    1,
                    2,
                    3,
                    4,
                    5,
                    6,
                    7,
                    8,
                    9,
                    10
                  ],
                  "y": [
                    0.9184738955823293,
                    0.9715863453815261,
                    0.9715863453815261,
                    0.9720883534136546,
                    0.9847389558232932,
                    0.9843373493975903,
                    0.9908634538152611,
                    0.9883534136546185,
                    0.988152610441767,
                    0.9879518072289156,
                    0.9879518072289156
                  ]
                },
                {
                  "marker": {
                    "maxdisplayed": 10
                  },
                  "mode": "lines+markers",
                  "name": "Trial27",
                  "type": "scatter",
                  "x": [
                    0,
                    1,
                    2,
                    3,
                    4,
                    5,
                    6,
                    7,
                    8,
                    9,
                    10
                  ],
                  "y": [
                    0.9136363636363637,
                    0.9701446280991736,
                    0.978099173553719,
                    0.9819214876033058,
                    0.9800619834710744,
                    0.981404958677686,
                    0.9803719008264463,
                    0.9805785123966942,
                    0.981198347107438,
                    0.9801652892561984,
                    0.9822314049586777
                  ]
                },
                {
                  "marker": {
                    "maxdisplayed": 10
                  },
                  "mode": "lines+markers",
                  "name": "Trial28",
                  "type": "scatter",
                  "x": [
                    0,
                    1,
                    2,
                    3,
                    4,
                    5,
                    6,
                    7,
                    8,
                    9,
                    10
                  ],
                  "y": [
                    0.925,
                    0.925,
                    0.9506198347107438,
                    0.9721074380165289,
                    0.971900826446281,
                    0.9744834710743802,
                    0.9732438016528926,
                    0.9821280991735537,
                    0.9841942148760331,
                    0.9858471074380165,
                    0.9864669421487603
                  ]
                },
                {
                  "marker": {
                    "maxdisplayed": 10
                  },
                  "mode": "lines+markers",
                  "name": "Trial29",
                  "type": "scatter",
                  "x": [
                    0,
                    1,
                    2,
                    3,
                    4,
                    5,
                    6,
                    7,
                    8,
                    9,
                    10
                  ],
                  "y": [
                    0.9108433734939759,
                    0.9392570281124498,
                    0.9352409638554217,
                    0.9662650602409638,
                    0.9633534136546185,
                    0.9629518072289157,
                    0.9559236947791164,
                    0.9643574297188755,
                    0.9659638554216867,
                    0.966566265060241,
                    0.9715863453815261
                  ]
                },
                {
                  "marker": {
                    "maxdisplayed": 10
                  },
                  "mode": "lines+markers",
                  "name": "Trial30",
                  "type": "scatter",
                  "x": [
                    0,
                    1,
                    2,
                    3,
                    4,
                    5,
                    6,
                    7,
                    8,
                    9,
                    10
                  ],
                  "y": [
                    0.9481897627965044,
                    0.9559925093632958,
                    0.958073241781107,
                    0.9756554307116105,
                    0.9808572617561382,
                    0.9841864336246359,
                    0.9857469829379941,
                    0.9865792759051186,
                    0.9858510195588848,
                    0.9856429463171036,
                    0.9886600083229297
                  ]
                },
                {
                  "marker": {
                    "maxdisplayed": 10
                  },
                  "mode": "lines+markers",
                  "name": "Trial31",
                  "type": "scatter",
                  "x": [
                    0,
                    1,
                    2,
                    3,
                    4,
                    5,
                    6,
                    7,
                    8,
                    9,
                    10
                  ],
                  "y": [
                    0.9292517006802721,
                    0.9671201814058957,
                    0.9688208616780045,
                    0.9781179138321996,
                    0.9777777777777777,
                    0.9781179138321996,
                    0.9789115646258504,
                    0.9811791383219954,
                    0.9821995464852608,
                    0.9815192743764173,
                    0.9786848072562359
                  ]
                },
                {
                  "marker": {
                    "maxdisplayed": 10
                  },
                  "mode": "lines+markers",
                  "name": "Trial32",
                  "type": "scatter",
                  "x": [
                    0,
                    1,
                    2,
                    3,
                    4,
                    5,
                    6,
                    7,
                    8,
                    9,
                    10,
                    11,
                    12,
                    13,
                    14,
                    15,
                    16,
                    17,
                    18,
                    19,
                    20,
                    21,
                    22,
                    23,
                    24,
                    25,
                    26,
                    27,
                    28,
                    29,
                    30,
                    31,
                    32,
                    33,
                    34,
                    35,
                    36,
                    37,
                    38,
                    39,
                    40,
                    41,
                    42,
                    43,
                    44,
                    45,
                    46,
                    47,
                    48,
                    49,
                    50,
                    51,
                    52,
                    53,
                    54,
                    55,
                    56,
                    57,
                    58,
                    59,
                    60,
                    61,
                    62,
                    63,
                    64,
                    65,
                    66,
                    67,
                    68,
                    69,
                    70,
                    71,
                    72,
                    73,
                    74,
                    75,
                    76,
                    77,
                    78,
                    79,
                    80,
                    81,
                    82,
                    83,
                    84,
                    85,
                    86,
                    87,
                    88,
                    89,
                    90,
                    91,
                    92,
                    93,
                    94,
                    95,
                    96,
                    97,
                    98,
                    99
                  ],
                  "y": [
                    0.9806818181818182,
                    0.9798553719008265,
                    0.9886363636363636,
                    0.993801652892562,
                    0.9958677685950413,
                    0.9962809917355372,
                    0.996900826446281,
                    0.9971074380165289,
                    0.9971074380165289,
                    0.9971074380165289,
                    0.996694214876033,
                    0.996900826446281,
                    0.9973140495867768,
                    0.9973140495867768,
                    0.9975206611570248,
                    0.9977272727272727,
                    0.9977272727272727,
                    0.9977272727272727,
                    0.9977272727272727,
                    0.9977272727272727,
                    0.9977272727272727,
                    0.9977272727272727,
                    0.9979338842975206,
                    0.9983471074380166,
                    0.9981404958677685,
                    0.9985537190082645,
                    0.9985537190082645,
                    0.9981404958677685,
                    0.9985537190082645,
                    0.9987603305785124,
                    0.9989669421487604,
                    0.9989669421487604,
                    0.9989669421487604,
                    0.9989669421487604,
                    0.9989669421487604,
                    0.9991735537190083,
                    0.9995867768595041,
                    0.9995867768595041,
                    0.9995867768595041,
                    0.9993801652892562,
                    0.9993801652892562,
                    0.9995867768595041,
                    0.9995867768595041,
                    0.9995867768595041,
                    0.9995867768595041,
                    0.9995867768595041,
                    0.9995867768595041,
                    0.9995867768595041,
                    0.9993801652892562,
                    0.9993801652892562,
                    0.9993801652892562,
                    0.9995867768595041,
                    0.9993801652892562,
                    0.9995867768595041,
                    0.9995867768595041,
                    0.9995867768595041,
                    0.9995867768595041,
                    0.9995867768595041,
                    0.9995867768595041,
                    0.9995867768595041,
                    0.9995867768595041,
                    0.9995867768595041,
                    0.9995867768595041,
                    0.9995867768595041,
                    0.9995867768595041,
                    0.9997933884297521,
                    0.9997933884297521,
                    0.9997933884297521,
                    1,
                    1,
                    1,
                    1,
                    0.9997933884297521,
                    0.9997933884297521,
                    0.9995867768595041,
                    0.9995867768595041,
                    0.9997933884297521,
                    0.9997933884297521,
                    0.9997933884297521,
                    0.9997933884297521,
                    1,
                    1,
                    1,
                    1,
                    1,
                    1,
                    1,
                    1,
                    1,
                    1,
                    1,
                    1,
                    1,
                    1,
                    1,
                    1,
                    1,
                    1,
                    1,
                    0.9997933884297521
                  ]
                },
                {
                  "marker": {
                    "maxdisplayed": 10
                  },
                  "mode": "lines+markers",
                  "name": "Trial33",
                  "type": "scatter",
                  "x": [
                    0,
                    1,
                    2,
                    3,
                    4,
                    5,
                    6,
                    7,
                    8,
                    9,
                    10
                  ],
                  "y": [
                    0.8843112775697045,
                    0.9166666666666666,
                    0.9596337910944652,
                    0.9691011235955056,
                    0.9713899292550978,
                    0.9703495630461922,
                    0.977632126508531,
                    0.9814814814814815,
                    0.9827299209321682,
                    0.9831460674157303,
                    0.985538909696213
                  ]
                },
                {
                  "marker": {
                    "maxdisplayed": 10
                  },
                  "mode": "lines+markers",
                  "name": "Trial34",
                  "type": "scatter",
                  "x": [
                    0,
                    1,
                    2,
                    3,
                    4,
                    5,
                    6,
                    7,
                    8,
                    9,
                    10
                  ],
                  "y": [
                    0.9551518883415435,
                    0.9494047619047619,
                    0.9613095238095238,
                    0.9771141215106732,
                    0.9789614121510674,
                    0.9789614121510674,
                    0.9802955665024631,
                    0.9822454844006568,
                    0.9851190476190477,
                    0.9854269293924466,
                    0.985632183908046
                  ]
                },
                {
                  "marker": {
                    "maxdisplayed": 10
                  },
                  "mode": "lines+markers",
                  "name": "Trial35",
                  "type": "scatter",
                  "x": [
                    0,
                    1,
                    2,
                    3,
                    4,
                    5,
                    6,
                    7,
                    8,
                    9,
                    10
                  ],
                  "y": [
                    0.9758064516129032,
                    0.9771007566706491,
                    0.9763042612504979,
                    0.9760055754679411,
                    0.9785941855834329,
                    0.9818797291915572,
                    0.9827757865392274,
                    0.9811827956989247,
                    0.9804858622062923,
                    0.9800876144962166,
                    0.9848665870171247
                  ]
                },
                {
                  "marker": {
                    "maxdisplayed": 10
                  },
                  "mode": "lines+markers",
                  "name": "Trial36",
                  "type": "scatter",
                  "x": [
                    0,
                    1,
                    2,
                    3,
                    4,
                    5,
                    6,
                    7,
                    8,
                    9,
                    10
                  ],
                  "y": [
                    0.8798701298701299,
                    0.9534632034632035,
                    0.9478551751279024,
                    0.9533648170011806,
                    0.9698937426210154,
                    0.9675324675324676,
                    0.9668437622983077,
                    0.9743211334120425,
                    0.9735340417158599,
                    0.9758953168044077,
                    0.9776662731208186
                  ]
                },
                {
                  "marker": {
                    "maxdisplayed": 10
                  },
                  "mode": "lines+markers",
                  "name": "Trial37",
                  "type": "scatter",
                  "x": [
                    0,
                    1,
                    2,
                    3,
                    4,
                    5,
                    6,
                    7,
                    8,
                    9,
                    10
                  ],
                  "y": [
                    0.9473922902494331,
                    0.968140589569161,
                    0.9742630385487528,
                    0.9735827664399093,
                    0.9749433106575963,
                    0.976077097505669,
                    0.9749433106575963,
                    0.9750566893424036,
                    0.9777777777777777,
                    0.977437641723356,
                    0.9770975056689343
                  ]
                },
                {
                  "marker": {
                    "maxdisplayed": 10
                  },
                  "mode": "lines+markers",
                  "name": "Trial38",
                  "type": "scatter",
                  "x": [
                    0,
                    1,
                    2,
                    3,
                    4,
                    5,
                    6,
                    7,
                    8,
                    9,
                    10
                  ],
                  "y": [
                    0.9473684210526315,
                    0.9595394736842106,
                    0.9657894736842105,
                    0.9657894736842105,
                    0.968640350877193,
                    0.9661184210526316,
                    0.9695175438596492,
                    0.9741228070175438,
                    0.9743421052631579,
                    0.9741228070175438,
                    0.9732456140350877
                  ]
                },
                {
                  "marker": {
                    "maxdisplayed": 10
                  },
                  "mode": "lines+markers",
                  "name": "Trial39",
                  "type": "scatter",
                  "x": [
                    0,
                    1,
                    2,
                    3,
                    4,
                    5,
                    6,
                    7,
                    8,
                    9,
                    10
                  ],
                  "y": [
                    0.9390466531440163,
                    0.9813387423935092,
                    0.9834685598377282,
                    0.9828600405679513,
                    0.9814401622718053,
                    0.9804259634888438,
                    0.9836713995943205,
                    0.9838742393509128,
                    0.9860040567951318,
                    0.9849898580121704,
                    0.9870182555780933
                  ]
                },
                {
                  "marker": {
                    "maxdisplayed": 10
                  },
                  "mode": "lines+markers",
                  "name": "Trial40",
                  "type": "scatter",
                  "x": [
                    0,
                    1,
                    2,
                    3,
                    4,
                    5,
                    6,
                    7,
                    8,
                    9,
                    10
                  ],
                  "y": [
                    0.9867920540997465,
                    0.9876373626373627,
                    0.9916525781910397,
                    0.9904902789518174,
                    0.9894336432797971,
                    0.9921808960270498,
                    0.989010989010989,
                    0.9883770076077768,
                    0.9883770076077768,
                    0.9884826711749789,
                    0.99270921386306
                  ]
                },
                {
                  "marker": {
                    "maxdisplayed": 10
                  },
                  "mode": "lines+markers",
                  "name": "Trial41",
                  "type": "scatter",
                  "x": [
                    0,
                    1,
                    2,
                    3,
                    4,
                    5,
                    6,
                    7,
                    8,
                    9,
                    10
                  ],
                  "y": [
                    0.9197314049586777,
                    0.9601239669421487,
                    0.9706611570247934,
                    0.9788223140495868,
                    0.9792355371900826,
                    0.9793388429752066,
                    0.981301652892562,
                    0.9820247933884297,
                    0.9824380165289256,
                    0.9834710743801653,
                    0.9856404958677686
                  ]
                },
                {
                  "marker": {
                    "maxdisplayed": 10
                  },
                  "mode": "lines+markers",
                  "name": "Trial42",
                  "type": "scatter",
                  "x": [
                    0,
                    1,
                    2,
                    3,
                    4,
                    5,
                    6,
                    7,
                    8,
                    9,
                    10
                  ],
                  "y": [
                    0.8976190476190476,
                    0.9478458049886621,
                    0.9517006802721089,
                    0.9487528344671202,
                    0.9603174603174603,
                    0.9599773242630385,
                    0.9717687074829932,
                    0.9740362811791383,
                    0.9729024943310658,
                    0.9773242630385488,
                    0.9780045351473923
                  ]
                },
                {
                  "marker": {
                    "maxdisplayed": 10
                  },
                  "mode": "lines+markers",
                  "name": "Trial43",
                  "type": "scatter",
                  "x": [
                    0,
                    1,
                    2,
                    3,
                    4,
                    5,
                    6,
                    7,
                    8,
                    9,
                    10
                  ],
                  "y": [
                    0.941156462585034,
                    0.9590702947845805,
                    0.9842403628117914,
                    0.9859410430839002,
                    0.986281179138322,
                    0.9873015873015873,
                    0.9866213151927438,
                    0.9884353741496599,
                    0.9891156462585035,
                    0.9895691609977324,
                    0.9884353741496599
                  ]
                },
                {
                  "marker": {
                    "maxdisplayed": 10
                  },
                  "mode": "lines+markers",
                  "name": "Trial44",
                  "type": "scatter",
                  "x": [
                    0,
                    1,
                    2,
                    3,
                    4,
                    5,
                    6,
                    7,
                    8,
                    9,
                    10
                  ],
                  "y": [
                    0.9232406992380099,
                    0.9805020170327208,
                    0.9796055580457194,
                    0.9796055580457194,
                    0.985992828328104,
                    0.986665172568355,
                    0.986665172568355,
                    0.9868892873151053,
                    0.9914836396234872,
                    0.9914836396234872,
                    0.9919318691169879
                  ]
                },
                {
                  "marker": {
                    "maxdisplayed": 10
                  },
                  "mode": "lines+markers",
                  "name": "Trial45",
                  "type": "scatter",
                  "x": [
                    0,
                    1,
                    2,
                    3,
                    4,
                    5,
                    6,
                    7,
                    8,
                    9,
                    10
                  ],
                  "y": [
                    0.9291862284820032,
                    0.9524647887323944,
                    0.9725156494522692,
                    0.9742762128325508,
                    0.9770148669796557,
                    0.9738849765258216,
                    0.9778951486697965,
                    0.9806338028169014,
                    0.9837636932707355,
                    0.9861111111111112,
                    0.9861111111111112
                  ]
                },
                {
                  "marker": {
                    "maxdisplayed": 10
                  },
                  "mode": "lines+markers",
                  "name": "Trial46",
                  "type": "scatter",
                  "x": [
                    0,
                    1,
                    2,
                    3,
                    4,
                    5,
                    6,
                    7,
                    8,
                    9,
                    10
                  ],
                  "y": [
                    0.9556603773584905,
                    0.9751572327044025,
                    0.9719077568134172,
                    0.9726415094339622,
                    0.9735849056603774,
                    0.9763102725366877,
                    0.9875262054507338,
                    0.9863731656184487,
                    0.9882599580712789,
                    0.989517819706499,
                    0.990356394129979
                  ]
                },
                {
                  "marker": {
                    "maxdisplayed": 10
                  },
                  "mode": "lines+markers",
                  "name": "Trial47",
                  "type": "scatter",
                  "x": [
                    0,
                    1,
                    2,
                    3,
                    4,
                    5,
                    6,
                    7,
                    8,
                    9,
                    10
                  ],
                  "y": [
                    0.9319214876033057,
                    0.934400826446281,
                    0.9793388429752066,
                    0.9815082644628099,
                    0.9815082644628099,
                    0.9815082644628099,
                    0.9870867768595041,
                    0.9891528925619835,
                    0.9862603305785124,
                    0.9878099173553719,
                    0.9908057851239669
                  ]
                },
                {
                  "marker": {
                    "maxdisplayed": 10
                  },
                  "mode": "lines+markers",
                  "name": "Trial48",
                  "type": "scatter",
                  "x": [
                    0,
                    1,
                    2,
                    3,
                    4,
                    5,
                    6,
                    7,
                    8,
                    9,
                    10
                  ],
                  "y": [
                    0.9535098522167488,
                    0.965004105090312,
                    0.9771141215106732,
                    0.9745484400656814,
                    0.9747536945812808,
                    0.9712643678160919,
                    0.9722906403940886,
                    0.9759852216748769,
                    0.9755747126436781,
                    0.9825533661740559,
                    0.9819376026272578
                  ]
                },
                {
                  "marker": {
                    "maxdisplayed": 10
                  },
                  "mode": "lines+markers",
                  "name": "Trial49",
                  "type": "scatter",
                  "x": [
                    0,
                    1,
                    2,
                    3,
                    4,
                    5,
                    6,
                    7,
                    8,
                    9,
                    10
                  ],
                  "y": [
                    0.9406814449917899,
                    0.9458128078817734,
                    0.9600779967159278,
                    0.959051724137931,
                    0.9763957307060755,
                    0.9763957307060755,
                    0.9786535303776683,
                    0.9783456486042693,
                    0.9791666666666666,
                    0.9789614121510674,
                    0.9792692939244664
                  ]
                },
                {
                  "marker": {
                    "maxdisplayed": 10
                  },
                  "mode": "lines+markers",
                  "name": "Trial50",
                  "type": "scatter",
                  "x": [
                    0,
                    1,
                    2,
                    3,
                    4,
                    5,
                    6,
                    7,
                    8,
                    9,
                    10
                  ],
                  "y": [
                    0.922654268808115,
                    0.9474852071005917,
                    0.9674556213017751,
                    0.9687235841081995,
                    0.9644970414201184,
                    0.9657650042265427,
                    0.9659763313609467,
                    0.9644970414201184,
                    0.9684065934065934,
                    0.9672442941673711,
                    0.9724218089602705
                  ]
                },
                {
                  "marker": {
                    "maxdisplayed": 10
                  },
                  "mode": "lines+markers",
                  "name": "Trial51",
                  "type": "scatter",
                  "x": [
                    0,
                    1,
                    2,
                    3,
                    4,
                    5,
                    6,
                    7,
                    8,
                    9,
                    10
                  ],
                  "y": [
                    0.9254926108374384,
                    0.9525862068965517,
                    0.9695197044334976,
                    0.9722906403940886,
                    0.9758825944170771,
                    0.9801929392446633,
                    0.9798850574712644,
                    0.979679802955665,
                    0.9798850574712644,
                    0.979679802955665,
                    0.9762931034482759
                  ]
                },
                {
                  "marker": {
                    "maxdisplayed": 10
                  },
                  "mode": "lines+markers",
                  "name": "Trial52",
                  "type": "scatter",
                  "x": [
                    0,
                    1,
                    2,
                    3,
                    4,
                    5,
                    6,
                    7,
                    8,
                    9,
                    10
                  ],
                  "y": [
                    0.914484126984127,
                    0.9696428571428571,
                    0.9726190476190476,
                    0.9731150793650793,
                    0.979563492063492,
                    0.979563492063492,
                    0.9798611111111111,
                    0.9789682539682539,
                    0.9807539682539682,
                    0.9825396825396825,
                    0.9809523809523809
                  ]
                },
                {
                  "marker": {
                    "maxdisplayed": 10
                  },
                  "mode": "lines+markers",
                  "name": "Trial53",
                  "type": "scatter",
                  "x": [
                    0,
                    1,
                    2,
                    3,
                    4,
                    5,
                    6,
                    7,
                    8,
                    9,
                    10
                  ],
                  "y": [
                    0.9226166328600406,
                    0.9290060851926978,
                    0.9300202839756593,
                    0.9778904665314402,
                    0.9780933062880325,
                    0.9803245436105477,
                    0.9809330628803246,
                    0.984685598377282,
                    0.984685598377282,
                    0.9891480730223123,
                    0.9914807302231238
                  ]
                },
                {
                  "marker": {
                    "maxdisplayed": 10
                  },
                  "mode": "lines+markers",
                  "name": "Trial54",
                  "type": "scatter",
                  "x": [
                    0,
                    1,
                    2,
                    3,
                    4,
                    5,
                    6,
                    7,
                    8,
                    9,
                    10
                  ],
                  "y": [
                    0.9033542976939203,
                    0.94916142557652,
                    0.9672955974842767,
                    0.969811320754717,
                    0.9776729559748427,
                    0.9781970649895179,
                    0.9773584905660377,
                    0.9770440251572327,
                    0.9764150943396226,
                    0.9745283018867924,
                    0.9749475890985325
                  ]
                },
                {
                  "marker": {
                    "maxdisplayed": 10
                  },
                  "mode": "lines+markers",
                  "name": "Trial55",
                  "type": "scatter",
                  "x": [
                    0,
                    1,
                    2,
                    3,
                    4,
                    5,
                    6,
                    7,
                    8,
                    9,
                    10,
                    11,
                    12,
                    13,
                    14,
                    15,
                    16,
                    17,
                    18,
                    19,
                    20,
                    21,
                    22,
                    23,
                    24,
                    25,
                    26,
                    27,
                    28,
                    29,
                    30,
                    31,
                    32,
                    33,
                    34,
                    35,
                    36,
                    37,
                    38,
                    39,
                    40,
                    41,
                    42,
                    43,
                    44,
                    45,
                    46,
                    47,
                    48,
                    49,
                    50,
                    51,
                    52,
                    53,
                    54,
                    55,
                    56,
                    57,
                    58,
                    59,
                    60,
                    61,
                    62,
                    63,
                    64,
                    65,
                    66,
                    67,
                    68,
                    69,
                    70,
                    71,
                    72,
                    73,
                    74,
                    75,
                    76,
                    77,
                    78,
                    79,
                    80,
                    81,
                    82,
                    83,
                    84,
                    85,
                    86,
                    87,
                    88,
                    89,
                    90,
                    91,
                    92,
                    93,
                    94,
                    95,
                    96,
                    97,
                    98,
                    99
                  ],
                  "y": [
                    0.9774090363854459,
                    0.9934026389444223,
                    0.9949020391843263,
                    0.9939024390243902,
                    0.9931027588964414,
                    0.9926029588164734,
                    0.995201919232307,
                    0.9948020791683326,
                    0.9956017592962815,
                    0.9960015993602559,
                    0.9962015193922431,
                    0.995201919232307,
                    0.9960015993602559,
                    0.9962015193922431,
                    0.9974010395841664,
                    0.9976009596161536,
                    0.998000799680128,
                    0.9986005597760895,
                    0.9982007197121151,
                    0.9988004798080767,
                    0.999000399840064,
                    0.999000399840064,
                    0.999000399840064,
                    0.999000399840064,
                    0.999000399840064,
                    0.999000399840064,
                    0.999000399840064,
                    0.999000399840064,
                    0.9992003198720512,
                    0.9992003198720512,
                    0.999000399840064,
                    0.999000399840064,
                    0.999000399840064,
                    0.9994002399040384,
                    0.9996001599360256,
                    0.9998000799680128,
                    0.9998000799680128,
                    0.9998000799680128,
                    0.9998000799680128,
                    1,
                    1,
                    1,
                    1,
                    1,
                    1,
                    1,
                    1,
                    1,
                    1,
                    1,
                    1,
                    1,
                    1,
                    1,
                    1,
                    1,
                    1,
                    1,
                    1,
                    1,
                    1,
                    1,
                    1,
                    1,
                    1,
                    1,
                    1,
                    1,
                    1,
                    1,
                    1,
                    1,
                    1,
                    1,
                    1,
                    1,
                    1,
                    1,
                    1,
                    1,
                    1,
                    1,
                    1,
                    1,
                    1,
                    1,
                    1,
                    1,
                    1,
                    1,
                    1,
                    1,
                    1,
                    1,
                    1,
                    1,
                    1,
                    1,
                    1,
                    1
                  ]
                },
                {
                  "marker": {
                    "maxdisplayed": 10
                  },
                  "mode": "lines+markers",
                  "name": "Trial56",
                  "type": "scatter",
                  "x": [
                    0,
                    1,
                    2,
                    3,
                    4,
                    5,
                    6,
                    7,
                    8,
                    9,
                    10
                  ],
                  "y": [
                    0.946551724137931,
                    0.9703853955375253,
                    0.9641987829614604,
                    0.9658215010141988,
                    0.9645030425963489,
                    0.9650101419878296,
                    0.9648073022312373,
                    0.9641987829614604,
                    0.9644016227180527,
                    0.9648073022312373,
                    0.9652129817444219
                  ]
                },
                {
                  "marker": {
                    "maxdisplayed": 10
                  },
                  "mode": "lines+markers",
                  "name": "Trial57",
                  "type": "scatter",
                  "x": [
                    0,
                    1,
                    2,
                    3,
                    4,
                    5,
                    6,
                    7,
                    8,
                    9,
                    10
                  ],
                  "y": [
                    0.9424939467312349,
                    0.9522800645682001,
                    0.9684221146085553,
                    0.9676150121065376,
                    0.9681194511702986,
                    0.966908797417272,
                    0.9664043583535109,
                    0.9709443099273608,
                    0.9739709443099274,
                    0.9739709443099274,
                    0.9729620661824052
                  ]
                },
                {
                  "marker": {
                    "maxdisplayed": 10
                  },
                  "mode": "lines+markers",
                  "name": "Trial58",
                  "type": "scatter",
                  "x": [
                    0,
                    1,
                    2,
                    3,
                    4,
                    5,
                    6,
                    7,
                    8,
                    9,
                    10
                  ],
                  "y": [
                    0.9278590425531915,
                    0.9759530141843972,
                    0.9732934397163121,
                    0.9725177304964538,
                    0.9750664893617021,
                    0.9740691489361702,
                    0.973404255319149,
                    0.9738475177304965,
                    0.973404255319149,
                    0.9738475177304965,
                    0.9738475177304965
                  ]
                },
                {
                  "marker": {
                    "maxdisplayed": 10
                  },
                  "mode": "lines+markers",
                  "name": "Trial59",
                  "type": "scatter",
                  "x": [
                    0,
                    1,
                    2,
                    3,
                    4,
                    5,
                    6,
                    7,
                    8,
                    9,
                    10
                  ],
                  "y": [
                    0.9678004535147392,
                    0.9726757369614513,
                    0.981859410430839,
                    0.9857142857142858,
                    0.9852607709750567,
                    0.9848072562358277,
                    0.9861678004535147,
                    0.9861678004535147,
                    0.9873015873015873,
                    0.9875283446712018,
                    0.990702947845805
                  ]
                },
                {
                  "marker": {
                    "maxdisplayed": 10
                  },
                  "mode": "lines+markers",
                  "name": "Trial60",
                  "type": "scatter",
                  "x": [
                    0,
                    1,
                    2,
                    3,
                    4,
                    5,
                    6,
                    7,
                    8,
                    9,
                    10
                  ],
                  "y": [
                    0.9157801418439716,
                    0.9657579787234043,
                    0.9657579787234043,
                    0.9808289007092199,
                    0.98260195035461,
                    0.9808289007092199,
                    0.9840425531914894,
                    0.985261524822695,
                    0.9863696808510638,
                    0.98614804964539,
                    0.987145390070922
                  ]
                },
                {
                  "marker": {
                    "maxdisplayed": 10
                  },
                  "mode": "lines+markers",
                  "name": "Trial61",
                  "type": "scatter",
                  "x": [
                    0,
                    1,
                    2,
                    3,
                    4,
                    5,
                    6,
                    7,
                    8,
                    9,
                    10
                  ],
                  "y": [
                    0.9480371900826446,
                    0.9553719008264463,
                    0.9859504132231405,
                    0.9894628099173554,
                    0.9901859504132231,
                    0.990599173553719,
                    0.9920454545454546,
                    0.9924586776859504,
                    0.9922520661157025,
                    0.9922520661157025,
                    0.9918388429752066
                  ]
                },
                {
                  "marker": {
                    "maxdisplayed": 10
                  },
                  "mode": "lines+markers",
                  "name": "Trial62",
                  "type": "scatter",
                  "x": [
                    0,
                    1,
                    2,
                    3,
                    4,
                    5,
                    6,
                    7,
                    8,
                    9,
                    10
                  ],
                  "y": [
                    0.9266625866993065,
                    0.9515503875968992,
                    0.952672378620971,
                    0.9593023255813954,
                    0.954406364749082,
                    0.95593635250918,
                    0.9560383516931864,
                    0.9567523459812322,
                    0.9589963280293757,
                    0.9632802937576499,
                    0.9645042839657283
                  ]
                },
                {
                  "marker": {
                    "maxdisplayed": 10
                  },
                  "mode": "lines+markers",
                  "name": "Trial63",
                  "type": "scatter",
                  "x": [
                    0,
                    1,
                    2,
                    3,
                    4,
                    5,
                    6,
                    7,
                    8,
                    9,
                    10
                  ],
                  "y": [
                    0.8628516624040921,
                    0.8628516624040921,
                    0.8864023870417732,
                    0.8864023870417732,
                    0.9245524296675192,
                    0.9397911338448423,
                    0.9402173913043478,
                    0.9408567774936062,
                    0.9507672634271099,
                    0.9559889173060528,
                    0.9574808184143222
                  ]
                },
                {
                  "marker": {
                    "maxdisplayed": 10
                  },
                  "mode": "lines+markers",
                  "name": "Trial64",
                  "type": "scatter",
                  "x": [
                    0,
                    1,
                    2,
                    3,
                    4,
                    5,
                    6,
                    7,
                    8,
                    9,
                    10
                  ],
                  "y": [
                    0.9499565783760313,
                    0.9407294832826748,
                    0.9681936604429006,
                    0.9755753365175858,
                    0.9750325662179765,
                    0.9730785931393834,
                    0.9756838905775076,
                    0.9780720798957881,
                    0.9783977420755536,
                    0.982957012592271,
                    0.9830655666521928
                  ]
                },
                {
                  "marker": {
                    "maxdisplayed": 10
                  },
                  "mode": "lines+markers",
                  "name": "Trial65",
                  "type": "scatter",
                  "x": [
                    0,
                    1,
                    2,
                    3,
                    4,
                    5,
                    6,
                    7,
                    8,
                    9,
                    10
                  ],
                  "y": [
                    0.9278559249786871,
                    0.9337169650468883,
                    0.9568414322250639,
                    0.9556692242114238,
                    0.9571611253196931,
                    0.9572676896845694,
                    0.9582267689684569,
                    0.9607843137254902,
                    0.9613171355498721,
                    0.961849957374254,
                    0.9676044330775788
                  ]
                },
                {
                  "marker": {
                    "maxdisplayed": 10
                  },
                  "mode": "lines+markers",
                  "name": "Trial66",
                  "type": "scatter",
                  "x": [
                    0,
                    1,
                    2,
                    3,
                    4,
                    5,
                    6,
                    7,
                    8,
                    9,
                    10
                  ],
                  "y": [
                    0.9057480980557904,
                    0.9442096365173288,
                    0.9382924767540152,
                    0.9502324598478444,
                    0.9584742180896028,
                    0.9635460693153001,
                    0.9654480135249366,
                    0.967138630600169,
                    0.967032967032967,
                    0.9684065934065934,
                    0.9679839391377852
                  ]
                },
                {
                  "marker": {
                    "maxdisplayed": 10
                  },
                  "mode": "lines+markers",
                  "name": "Trial67",
                  "type": "scatter",
                  "x": [
                    0,
                    1,
                    2,
                    3,
                    4,
                    5,
                    6,
                    7,
                    8,
                    9,
                    10
                  ],
                  "y": [
                    0.9491687979539642,
                    0.9770886615515771,
                    0.9804987212276215,
                    0.9841219096334186,
                    0.9881713554987213,
                    0.9894501278772379,
                    0.9909420289855072,
                    0.9903026427962489,
                    0.9892369991474851,
                    0.9892369991474851,
                    0.9877450980392157
                  ]
                },
                {
                  "marker": {
                    "maxdisplayed": 10
                  },
                  "mode": "lines+markers",
                  "name": "Trial68",
                  "type": "scatter",
                  "x": [
                    0,
                    1,
                    2,
                    3,
                    4,
                    5,
                    6,
                    7,
                    8,
                    9,
                    10
                  ],
                  "y": [
                    0.9512170385395537,
                    0.9627789046653144,
                    0.9727180527383367,
                    0.9814401622718053,
                    0.9831643002028397,
                    0.9851926977687627,
                    0.9849898580121704,
                    0.9864097363083164,
                    0.9847870182555781,
                    0.9851926977687627,
                    0.9859026369168357
                  ]
                },
                {
                  "marker": {
                    "maxdisplayed": 10
                  },
                  "mode": "lines+markers",
                  "name": "Trial69",
                  "type": "scatter",
                  "x": [
                    0,
                    1,
                    2,
                    3,
                    4,
                    5,
                    6,
                    7,
                    8,
                    9,
                    10,
                    11
                  ],
                  "y": [
                    0.973295701259227,
                    0.9804602692140686,
                    0.9887103777681285,
                    0.9907729049066435,
                    0.9924012158054711,
                    0.9916413373860182,
                    0.9919669995657837,
                    0.9937038645245332,
                    0.9928354320451585,
                    0.9945722970039079,
                    0.9941380807642206,
                    0.993920972644377
                  ]
                },
                {
                  "marker": {
                    "maxdisplayed": 10
                  },
                  "mode": "lines+markers",
                  "name": "Trial70",
                  "type": "scatter",
                  "x": [
                    0,
                    1,
                    2,
                    3,
                    4,
                    5,
                    6,
                    7,
                    8,
                    9,
                    10
                  ],
                  "y": [
                    0.8632190942472461,
                    0.8632190942472461,
                    0.8862709098327214,
                    0.8868829049367605,
                    0.9511423908608732,
                    0.9511423908608732,
                    0.954610363117095,
                    0.954610363117095,
                    0.9721542227662179,
                    0.9721542227662179,
                    0.9805181558547532
                  ]
                },
                {
                  "marker": {
                    "maxdisplayed": 10
                  },
                  "mode": "lines+markers",
                  "name": "Trial71",
                  "type": "scatter",
                  "x": [
                    0,
                    1,
                    2,
                    3,
                    4,
                    5,
                    6,
                    7,
                    8,
                    9,
                    10
                  ],
                  "y": [
                    0.932258064516129,
                    0.9453763440860216,
                    0.9475268817204301,
                    0.9475268817204301,
                    0.9527956989247311,
                    0.9550537634408602,
                    0.9721505376344086,
                    0.9733333333333334,
                    0.9740860215053764,
                    0.979247311827957,
                    0.9801075268817204
                  ]
                },
                {
                  "marker": {
                    "maxdisplayed": 10
                  },
                  "mode": "lines+markers",
                  "name": "Trial72",
                  "type": "scatter",
                  "x": [
                    0,
                    1,
                    2,
                    3,
                    4,
                    5,
                    6,
                    7,
                    8,
                    9,
                    10
                  ],
                  "y": [
                    0.8934408602150538,
                    0.9129032258064517,
                    0.9566666666666667,
                    0.9595698924731183,
                    0.9715053763440861,
                    0.9721505376344086,
                    0.9738709677419355,
                    0.9733333333333334,
                    0.9744086021505376,
                    0.9735483870967742,
                    0.9759139784946237
                  ]
                },
                {
                  "marker": {
                    "maxdisplayed": 10
                  },
                  "mode": "lines+markers",
                  "name": "Trial73",
                  "type": "scatter",
                  "x": [
                    0,
                    1,
                    2,
                    3,
                    4,
                    5,
                    6,
                    7,
                    8,
                    9,
                    10
                  ],
                  "y": [
                    0.9259377664109122,
                    0.9714407502131287,
                    0.9843350383631714,
                    0.9849744245524297,
                    0.9867860187553282,
                    0.9866794543904518,
                    0.9849744245524297,
                    0.985613810741688,
                    0.985613810741688,
                    0.9847612958226769,
                    0.9840153452685422
                  ]
                },
                {
                  "marker": {
                    "maxdisplayed": 10
                  },
                  "mode": "lines+markers",
                  "name": "Trial74",
                  "type": "scatter",
                  "x": [
                    0,
                    1,
                    2,
                    3,
                    4,
                    5,
                    6,
                    7,
                    8,
                    9,
                    10
                  ],
                  "y": [
                    0.944737954353339,
                    0.9760143702451395,
                    0.9732671174978867,
                    0.9796069315300084,
                    0.981825866441251,
                    0.9828825021132713,
                    0.9856297548605241,
                    0.9860524091293322,
                    0.9864750633981403,
                    0.9860524091293322,
                    0.9873203719357565
                  ]
                },
                {
                  "marker": {
                    "maxdisplayed": 10
                  },
                  "mode": "lines+markers",
                  "name": "Trial75",
                  "type": "scatter",
                  "x": [
                    0,
                    1,
                    2,
                    3,
                    4,
                    5,
                    6,
                    7,
                    8,
                    9,
                    10
                  ],
                  "y": [
                    0.9134615384615384,
                    0.9134615384615384,
                    0.9134615384615384,
                    0.9829881656804734,
                    0.9834108199492815,
                    0.9834108199492815,
                    0.9847844463229078,
                    0.9847844463229078,
                    0.989010989010989,
                    0.988799661876585,
                    0.9943998309382924
                  ]
                },
                {
                  "marker": {
                    "maxdisplayed": 10
                  },
                  "mode": "lines+markers",
                  "name": "Trial76",
                  "type": "scatter",
                  "x": [
                    0,
                    1,
                    2,
                    3,
                    4,
                    5,
                    6,
                    7,
                    8,
                    9,
                    10
                  ],
                  "y": [
                    0.930931855500821,
                    0.9844006568144499,
                    0.9864532019704434,
                    0.9906609195402298,
                    0.9905582922824302,
                    0.9895320197044335,
                    0.9907635467980296,
                    0.9906609195402298,
                    0.9911740558292282,
                    0.9903530377668309,
                    0.9893267651888341
                  ]
                },
                {
                  "marker": {
                    "maxdisplayed": 10
                  },
                  "mode": "lines+markers",
                  "name": "Trial77",
                  "type": "scatter",
                  "x": [
                    0,
                    1,
                    2,
                    3,
                    4,
                    5,
                    6,
                    7,
                    8,
                    9,
                    10
                  ],
                  "y": [
                    0.9491525423728814,
                    0.9548022598870056,
                    0.9766949152542372,
                    0.9806295399515739,
                    0.9826472962066183,
                    0.982546408393866,
                    0.9828490718321227,
                    0.9831517352703794,
                    0.9829499596448749,
                    0.9837570621468926,
                    0.9815375302663438
                  ]
                },
                {
                  "marker": {
                    "maxdisplayed": 10
                  },
                  "mode": "lines+markers",
                  "name": "Trial78",
                  "type": "scatter",
                  "x": [
                    0,
                    1,
                    2,
                    3,
                    4,
                    5,
                    6,
                    7,
                    8,
                    9,
                    10
                  ],
                  "y": [
                    0.9475877192982456,
                    0.968640350877193,
                    0.9759868421052632,
                    0.9779605263157894,
                    0.9777412280701754,
                    0.9790570175438597,
                    0.980701754385965,
                    0.9816885964912281,
                    0.9805921052631579,
                    0.981469298245614,
                    0.9803728070175438
                  ]
                },
                {
                  "marker": {
                    "maxdisplayed": 10
                  },
                  "mode": "lines+markers",
                  "name": "Trial79",
                  "type": "scatter",
                  "x": [
                    0,
                    1,
                    2,
                    3,
                    4,
                    5,
                    6,
                    7,
                    8,
                    9,
                    10,
                    11,
                    12
                  ],
                  "y": [
                    0.9698293799417395,
                    0.9900124843945068,
                    0.9860590928006658,
                    0.991156887224303,
                    0.9935497295047857,
                    0.9910528506034124,
                    0.9918851435705368,
                    0.9918851435705368,
                    0.9935497295047857,
                    0.9949022055763629,
                    0.9945900957136912,
                    0.9937578027465668,
                    0.9945900957136912
                  ]
                },
                {
                  "marker": {
                    "maxdisplayed": 10
                  },
                  "mode": "lines+markers",
                  "name": "Trial80",
                  "type": "scatter",
                  "x": [
                    0,
                    1,
                    2,
                    3,
                    4,
                    5,
                    6,
                    7,
                    8,
                    9,
                    10
                  ],
                  "y": [
                    0.9324051654560129,
                    0.937953995157385,
                    0.9487489911218725,
                    0.9548022598870056,
                    0.9656981436642453,
                    0.9671105730427765,
                    0.9691283292978208,
                    0.9699354317998385,
                    0.9695318805488297,
                    0.9693301049233253,
                    0.9705407586763519
                  ]
                },
                {
                  "marker": {
                    "maxdisplayed": 10
                  },
                  "mode": "lines+markers",
                  "name": "Trial81",
                  "type": "scatter",
                  "x": [
                    0,
                    1,
                    2,
                    3,
                    4,
                    5,
                    6,
                    7,
                    8,
                    9,
                    10,
                    11,
                    12
                  ],
                  "y": [
                    0.9809322033898306,
                    0.9750807102502018,
                    0.9953591606133979,
                    0.9941485068603713,
                    0.9928369652945924,
                    0.9933414043583535,
                    0.9939467312348669,
                    0.9939467312348669,
                    0.9953591606133979,
                    0.9953591606133979,
                    0.9953591606133979,
                    0.9959644874899112,
                    0.9959644874899112
                  ]
                },
                {
                  "marker": {
                    "maxdisplayed": 10
                  },
                  "mode": "lines+markers",
                  "name": "Trial82",
                  "type": "scatter",
                  "x": [
                    0,
                    1,
                    2,
                    3,
                    4,
                    5,
                    6,
                    7,
                    8,
                    9,
                    10,
                    11,
                    12,
                    13,
                    14,
                    15,
                    16,
                    17,
                    18,
                    19,
                    20,
                    21,
                    22,
                    23,
                    24,
                    25,
                    26,
                    27,
                    28,
                    29,
                    30,
                    31,
                    32,
                    33,
                    34,
                    35,
                    36,
                    37,
                    38,
                    39,
                    40,
                    41,
                    42,
                    43,
                    44,
                    45,
                    46,
                    47,
                    48,
                    49,
                    50,
                    51,
                    52,
                    53,
                    54,
                    55,
                    56,
                    57,
                    58,
                    59,
                    60,
                    61,
                    62,
                    63,
                    64,
                    65,
                    66,
                    67,
                    68,
                    69,
                    70,
                    71,
                    72,
                    73,
                    74,
                    75,
                    76,
                    77,
                    78,
                    79,
                    80,
                    81,
                    82,
                    83,
                    84,
                    85,
                    86,
                    87,
                    88,
                    89,
                    90,
                    91,
                    92,
                    93,
                    94,
                    95,
                    96,
                    97,
                    98,
                    99
                  ],
                  "y": [
                    0.9582809224318658,
                    0.9868972746331237,
                    0.9929769392033543,
                    0.9954926624737945,
                    0.9952830188679245,
                    0.9945492662473795,
                    0.9958071278825996,
                    0.9960167714884696,
                    0.9962264150943396,
                    0.9960167714884696,
                    0.9966457023060796,
                    0.9960167714884696,
                    0.9968553459119497,
                    0.9964360587002097,
                    0.9964360587002097,
                    0.9964360587002097,
                    0.9966457023060796,
                    0.9974842767295597,
                    0.9974842767295597,
                    0.9976939203354298,
                    0.9976939203354298,
                    0.9979035639412998,
                    0.9981132075471698,
                    0.9981132075471698,
                    0.9979035639412998,
                    0.9974842767295597,
                    0.9976939203354298,
                    0.9985324947589098,
                    0.9985324947589098,
                    0.9983228511530399,
                    0.9987421383647799,
                    0.9987421383647799,
                    0.9991614255765199,
                    0.9993710691823899,
                    0.99958071278826,
                    1,
                    1,
                    0.99958071278826,
                    0.9993710691823899,
                    0.99958071278826,
                    0.9997903563941299,
                    0.9997903563941299,
                    1,
                    0.9997903563941299,
                    0.99958071278826,
                    0.99958071278826,
                    0.9991614255765199,
                    0.9991614255765199,
                    0.9991614255765199,
                    0.9993710691823899,
                    0.9993710691823899,
                    0.9993710691823899,
                    0.9993710691823899,
                    0.99958071278826,
                    0.99958071278826,
                    0.9997903563941299,
                    1,
                    1,
                    1,
                    1,
                    1,
                    1,
                    1,
                    1,
                    0.9997903563941299,
                    0.9997903563941299,
                    0.9997903563941299,
                    0.9997903563941299,
                    0.9997903563941299,
                    0.9997903563941299,
                    1,
                    1,
                    1,
                    1,
                    0.9997903563941299,
                    0.9997903563941299,
                    0.9997903563941299,
                    0.9997903563941299,
                    0.9997903563941299,
                    0.9997903563941299,
                    1,
                    1,
                    1,
                    1,
                    1,
                    1,
                    1,
                    1,
                    1,
                    1,
                    1,
                    1,
                    1,
                    1,
                    1,
                    1,
                    1,
                    1,
                    1,
                    1
                  ]
                },
                {
                  "marker": {
                    "maxdisplayed": 10
                  },
                  "mode": "lines+markers",
                  "name": "Trial83",
                  "type": "scatter",
                  "x": [
                    0,
                    1,
                    2,
                    3,
                    4,
                    5,
                    6,
                    7,
                    8,
                    9,
                    10,
                    11,
                    12,
                    13,
                    14,
                    15,
                    16,
                    17,
                    18,
                    19,
                    20,
                    21,
                    22,
                    23,
                    24,
                    25,
                    26,
                    27,
                    28,
                    29,
                    30,
                    31,
                    32,
                    33,
                    34,
                    35,
                    36,
                    37,
                    38,
                    39,
                    40,
                    41,
                    42,
                    43,
                    44,
                    45,
                    46,
                    47,
                    48,
                    49,
                    50,
                    51,
                    52,
                    53,
                    54,
                    55,
                    56,
                    57,
                    58,
                    59,
                    60,
                    61,
                    62,
                    63,
                    64,
                    65,
                    66,
                    67,
                    68,
                    69,
                    70,
                    71,
                    72,
                    73,
                    74,
                    75,
                    76,
                    77,
                    78,
                    79,
                    80,
                    81,
                    82,
                    83,
                    84,
                    85,
                    86,
                    87,
                    88,
                    89,
                    90,
                    91,
                    92,
                    93,
                    94,
                    95,
                    96,
                    97,
                    98,
                    99
                  ],
                  "y": [
                    0.9916142557651991,
                    0.990251572327044,
                    0.9948637316561845,
                    0.9962264150943396,
                    0.9962264150943396,
                    0.9974842767295597,
                    0.9970649895178197,
                    0.9966457023060796,
                    0.9974842767295597,
                    0.9979035639412998,
                    0.9981132075471698,
                    0.9985324947589098,
                    0.9985324947589098,
                    0.9983228511530399,
                    0.9981132075471698,
                    0.9983228511530399,
                    0.9987421383647799,
                    0.9985324947589098,
                    0.9985324947589098,
                    0.9987421383647799,
                    0.9989517819706499,
                    0.9989517819706499,
                    0.9993710691823899,
                    0.9991614255765199,
                    0.99958071278826,
                    1,
                    0.9991614255765199,
                    0.99958071278826,
                    0.9997903563941299,
                    0.9997903563941299,
                    0.9997903563941299,
                    0.9997903563941299,
                    0.99958071278826,
                    0.99958071278826,
                    0.99958071278826,
                    0.99958071278826,
                    0.99958071278826,
                    0.99958071278826,
                    0.99958071278826,
                    0.9993710691823899,
                    0.9993710691823899,
                    0.9997903563941299,
                    0.99958071278826,
                    0.99958071278826,
                    0.9997903563941299,
                    1,
                    1,
                    1,
                    1,
                    1,
                    1,
                    1,
                    1,
                    1,
                    1,
                    1,
                    1,
                    1,
                    1,
                    1,
                    1,
                    1,
                    1,
                    1,
                    1,
                    1,
                    1,
                    1,
                    1,
                    1,
                    1,
                    1,
                    1,
                    1,
                    1,
                    1,
                    1,
                    1,
                    1,
                    1,
                    1,
                    1,
                    1,
                    1,
                    1,
                    1,
                    1,
                    1,
                    1,
                    1,
                    1,
                    1,
                    1,
                    1,
                    1,
                    1,
                    1,
                    1,
                    1,
                    1
                  ]
                },
                {
                  "marker": {
                    "maxdisplayed": 10
                  },
                  "mode": "lines+markers",
                  "name": "Trial84",
                  "type": "scatter",
                  "x": [
                    0,
                    1,
                    2,
                    3,
                    4,
                    5,
                    6,
                    7,
                    8,
                    9,
                    10
                  ],
                  "y": [
                    0.9641943734015346,
                    0.9775149190110827,
                    0.9762361466325661,
                    0.9766624040920716,
                    0.9774083546462063,
                    0.9797527706734868,
                    0.9813512361466326,
                    0.9860400682011935,
                    0.986999147485081,
                    0.9874254049445865,
                    0.9872122762148338
                  ]
                },
                {
                  "marker": {
                    "maxdisplayed": 10
                  },
                  "mode": "lines+markers",
                  "name": "Trial85",
                  "type": "scatter",
                  "x": [
                    0,
                    1,
                    2,
                    3,
                    4,
                    5,
                    6,
                    7,
                    8,
                    9,
                    10
                  ],
                  "y": [
                    0.9518849206349206,
                    0.9650793650793651,
                    0.9756944444444444,
                    0.9759920634920635,
                    0.9824404761904761,
                    0.9810515873015873,
                    0.9694444444444444,
                    0.9708333333333333,
                    0.9720238095238095,
                    0.973015873015873,
                    0.9732142857142857
                  ]
                },
                {
                  "marker": {
                    "maxdisplayed": 10
                  },
                  "mode": "lines+markers",
                  "name": "Trial86",
                  "type": "scatter",
                  "x": [
                    0,
                    1,
                    2,
                    3,
                    4,
                    5,
                    6,
                    7,
                    8,
                    9,
                    10
                  ],
                  "y": [
                    0.9291871921182266,
                    0.9498152709359606,
                    0.9706486042692939,
                    0.9742405582922824,
                    0.9733169129720853,
                    0.9768062397372742,
                    0.9716748768472906,
                    0.9778325123152709,
                    0.9759852216748769,
                    0.9770114942528736,
                    0.9766009852216748
                  ]
                },
                {
                  "marker": {
                    "maxdisplayed": 10
                  },
                  "mode": "lines+markers",
                  "name": "Trial87",
                  "type": "scatter",
                  "x": [
                    0,
                    1,
                    2,
                    3,
                    4,
                    5,
                    6,
                    7,
                    8,
                    9,
                    10,
                    11,
                    12,
                    13,
                    14,
                    15,
                    16,
                    17,
                    18,
                    19,
                    20,
                    21,
                    22,
                    23,
                    24
                  ],
                  "y": [
                    0.9629515599343186,
                    0.9828612479474549,
                    0.9894293924466339,
                    0.993431855500821,
                    0.9956896551724138,
                    0.9977422003284072,
                    0.9975369458128078,
                    0.9963054187192119,
                    0.9952791461412152,
                    0.9948686371100164,
                    0.9938423645320197,
                    0.9922003284072249,
                    0.9938423645320197,
                    0.9946633825944171,
                    0.9946633825944171,
                    0.9954844006568144,
                    0.9950738916256158,
                    0.9946633825944171,
                    0.9950738916256158,
                    0.9944581280788177,
                    0.9940476190476191,
                    0.9940476190476191,
                    0.9940476190476191,
                    0.9940476190476191,
                    0.9950738916256158
                  ]
                },
                {
                  "marker": {
                    "maxdisplayed": 10
                  },
                  "mode": "lines+markers",
                  "name": "Trial88",
                  "type": "scatter",
                  "x": [
                    0,
                    1,
                    2,
                    3,
                    4,
                    5,
                    6,
                    7,
                    8,
                    9,
                    10
                  ],
                  "y": [
                    0.8178004535147392,
                    0.8354875283446712,
                    0.8354875283446712,
                    0.9027210884353741,
                    0.9049886621315193,
                    0.9056689342403628,
                    0.9056689342403628,
                    0.9056689342403628,
                    0.9468253968253968,
                    0.9543083900226758,
                    0.95578231292517
                  ]
                },
                {
                  "marker": {
                    "maxdisplayed": 10
                  },
                  "mode": "lines+markers",
                  "name": "Trial89",
                  "type": "scatter",
                  "x": [
                    0,
                    1,
                    2,
                    3,
                    4,
                    5,
                    6,
                    7,
                    8,
                    9,
                    10
                  ],
                  "y": [
                    0.9295159121470192,
                    0.950022411474675,
                    0.9540564769161811,
                    0.9661586732406993,
                    0.9683998207082026,
                    0.9671671896010757,
                    0.9695203944419543,
                    0.9683998207082026,
                    0.9661586732406993,
                    0.9659345584939489,
                    0.9655983863738234
                  ]
                },
                {
                  "marker": {
                    "maxdisplayed": 10
                  },
                  "mode": "lines+markers",
                  "name": "Trial90",
                  "type": "scatter",
                  "x": [
                    0,
                    1,
                    2,
                    3,
                    4,
                    5,
                    6,
                    7,
                    8,
                    9,
                    10,
                    11,
                    12,
                    13,
                    14,
                    15,
                    16,
                    17,
                    18,
                    19,
                    20,
                    21,
                    22,
                    23,
                    24,
                    25,
                    26,
                    27,
                    28,
                    29,
                    30,
                    31,
                    32,
                    33,
                    34,
                    35,
                    36,
                    37,
                    38,
                    39,
                    40,
                    41,
                    42,
                    43,
                    44,
                    45,
                    46,
                    47,
                    48,
                    49,
                    50,
                    51,
                    52,
                    53,
                    54,
                    55,
                    56,
                    57,
                    58,
                    59,
                    60,
                    61,
                    62,
                    63,
                    64,
                    65,
                    66,
                    67,
                    68,
                    69,
                    70,
                    71,
                    72,
                    73,
                    74,
                    75,
                    76,
                    77,
                    78,
                    79,
                    80,
                    81,
                    82,
                    83,
                    84,
                    85,
                    86,
                    87,
                    88,
                    89,
                    90,
                    91,
                    92,
                    93,
                    94,
                    95,
                    96,
                    97,
                    98,
                    99
                  ],
                  "y": [
                    0.9875156054931336,
                    0.989284228048273,
                    0.9944860590928006,
                    0.9955264253017062,
                    0.9955264253017062,
                    0.9967748647523929,
                    0.9947981689554724,
                    0.9970869746150645,
                    0.9975031210986267,
                    0.9972950478568456,
                    0.9977111943404078,
                    0.9972950478568456,
                    0.9983354140657511,
                    0.9985434873075323,
                    0.9989596337910944,
                    0.9993757802746567,
                    0.9993757802746567,
                    0.9993757802746567,
                    0.9997919267582189,
                    0.9993757802746567,
                    0.9993757802746567,
                    0.9997919267582189,
                    0.9995838535164377,
                    0.9997919267582189,
                    1,
                    1,
                    1,
                    1,
                    1,
                    1,
                    1,
                    1,
                    1,
                    1,
                    1,
                    1,
                    1,
                    1,
                    1,
                    1,
                    1,
                    1,
                    1,
                    1,
                    1,
                    1,
                    1,
                    1,
                    1,
                    1,
                    1,
                    1,
                    1,
                    1,
                    1,
                    1,
                    1,
                    1,
                    1,
                    1,
                    1,
                    1,
                    1,
                    1,
                    1,
                    1,
                    1,
                    1,
                    1,
                    1,
                    1,
                    1,
                    1,
                    1,
                    1,
                    1,
                    1,
                    1,
                    1,
                    1,
                    1,
                    1,
                    1,
                    1,
                    1,
                    1,
                    1,
                    1,
                    1,
                    1,
                    1,
                    1,
                    1,
                    1,
                    1,
                    1,
                    1,
                    1,
                    1,
                    1
                  ]
                },
                {
                  "marker": {
                    "maxdisplayed": 10
                  },
                  "mode": "lines+markers",
                  "name": "Trial91",
                  "type": "scatter",
                  "x": [
                    0,
                    1,
                    2,
                    3,
                    4,
                    5,
                    6,
                    7,
                    8,
                    9,
                    10
                  ],
                  "y": [
                    0.9468390804597702,
                    0.9707512315270936,
                    0.9707512315270936,
                    0.9702380952380952,
                    0.9714696223316913,
                    0.9729064039408867,
                    0.972495894909688,
                    0.9730090311986864,
                    0.9738300492610837,
                    0.9740353037766831,
                    0.9747536945812808
                  ]
                },
                {
                  "marker": {
                    "maxdisplayed": 10
                  },
                  "mode": "lines+markers",
                  "name": "Trial92",
                  "type": "scatter",
                  "x": [
                    0,
                    1,
                    2,
                    3,
                    4,
                    5,
                    6,
                    7,
                    8,
                    9,
                    10
                  ],
                  "y": [
                    0.9574175824175825,
                    0.9673499577345731,
                    0.9761200338123415,
                    0.985207100591716,
                    0.9870033812341504,
                    0.9871090448013525,
                    0.9878486897717667,
                    0.9886939983093829,
                    0.989116652578191,
                    0.989222316145393,
                    0.9894336432797971
                  ]
                },
                {
                  "marker": {
                    "maxdisplayed": 10
                  },
                  "mode": "lines+markers",
                  "name": "Trial93",
                  "type": "scatter",
                  "x": [
                    0,
                    1,
                    2,
                    3,
                    4,
                    5,
                    6,
                    7,
                    8,
                    9,
                    10
                  ],
                  "y": [
                    0.9604821802935011,
                    0.9849056603773585,
                    0.989412997903564,
                    0.9885744234800838,
                    0.9867924528301887,
                    0.9872117400419287,
                    0.9865828092243186,
                    0.9857442348008386,
                    0.9872117400419287,
                    0.9865828092243186,
                    0.9861635220125786
                  ]
                },
                {
                  "marker": {
                    "maxdisplayed": 10
                  },
                  "mode": "lines+markers",
                  "name": "Trial94",
                  "type": "scatter",
                  "x": [
                    0,
                    1,
                    2,
                    3,
                    4,
                    5,
                    6,
                    7,
                    8,
                    9,
                    10
                  ],
                  "y": [
                    0.971797520661157,
                    0.9865702479338843,
                    0.9886363636363636,
                    0.9882231404958678,
                    0.9881198347107438,
                    0.9881198347107438,
                    0.9850206611570248,
                    0.987603305785124,
                    0.9863636363636363,
                    0.9896694214876033,
                    0.9896694214876033
                  ]
                },
                {
                  "marker": {
                    "maxdisplayed": 10
                  },
                  "mode": "lines+markers",
                  "name": "Trial95",
                  "type": "scatter",
                  "x": [
                    0,
                    1,
                    2,
                    3,
                    4,
                    5,
                    6,
                    7,
                    8,
                    9,
                    10
                  ],
                  "y": [
                    0.9712643678160919,
                    0.9706486042692939,
                    0.9744458128078818,
                    0.9740353037766831,
                    0.9753694581280788,
                    0.9746510673234812,
                    0.9742405582922824,
                    0.9841954022988506,
                    0.9833743842364532,
                    0.9864532019704434,
                    0.9864532019704434
                  ]
                },
                {
                  "marker": {
                    "maxdisplayed": 10
                  },
                  "mode": "lines+markers",
                  "name": "Trial96",
                  "type": "scatter",
                  "x": [
                    0,
                    1,
                    2,
                    3,
                    4,
                    5,
                    6,
                    7,
                    8,
                    9,
                    10
                  ],
                  "y": [
                    0.9827399044724273,
                    0.9903386886669562,
                    0.9895788102475033,
                    0.9905557967867998,
                    0.9921841076856275,
                    0.9932696482848459,
                    0.9945722970039079,
                    0.9945722970039079,
                    0.9956578376031263,
                    0.995223621363439,
                    0.9954407294832827
                  ]
                },
                {
                  "marker": {
                    "maxdisplayed": 10
                  },
                  "mode": "lines+markers",
                  "name": "Trial97",
                  "type": "scatter",
                  "x": [
                    0,
                    1,
                    2,
                    3,
                    4,
                    5,
                    6,
                    7,
                    8,
                    9,
                    10
                  ],
                  "y": [
                    0.952451394759087,
                    0.9636517328825022,
                    0.9676669484361792,
                    0.9739010989010989,
                    0.9784446322907862,
                    0.9796069315300084,
                    0.9827768385460693,
                    0.985207100591716,
                    0.9866863905325444,
                    0.9875316990701606,
                    0.9873203719357565
                  ]
                },
                {
                  "marker": {
                    "maxdisplayed": 10
                  },
                  "mode": "lines+markers",
                  "name": "Trial98",
                  "type": "scatter",
                  "x": [
                    0,
                    1,
                    2,
                    3,
                    4,
                    5,
                    6,
                    7,
                    8,
                    9,
                    10
                  ],
                  "y": [
                    0.9855021216407355,
                    0.9923385195662423,
                    0.9929278642149929,
                    0.9917491749174917,
                    0.9912776991984913,
                    0.9893917963224894,
                    0.9900990099009901,
                    0.9898632720414898,
                    0.9903347477604904,
                    0.9905704856199906,
                    0.991041961338991
                  ]
                },
                {
                  "marker": {
                    "maxdisplayed": 10
                  },
                  "mode": "lines+markers",
                  "name": "Trial99",
                  "type": "scatter",
                  "x": [
                    0,
                    1,
                    2,
                    3,
                    4,
                    5,
                    6,
                    7,
                    8,
                    9,
                    10
                  ],
                  "y": [
                    0.9597587719298246,
                    0.9661184210526316,
                    0.9809210526315789,
                    0.981359649122807,
                    0.9851973684210527,
                    0.9835526315789473,
                    0.981359649122807,
                    0.9800438596491228,
                    0.9853070175438596,
                    0.9850877192982456,
                    0.9864035087719298
                  ]
                }
              ],
              "layout": {
                "showlegend": false,
                "template": {
                  "data": {
                    "bar": [
                      {
                        "error_x": {
                          "color": "#2a3f5f"
                        },
                        "error_y": {
                          "color": "#2a3f5f"
                        },
                        "marker": {
                          "line": {
                            "color": "#E5ECF6",
                            "width": 0.5
                          },
                          "pattern": {
                            "fillmode": "overlay",
                            "size": 10,
                            "solidity": 0.2
                          }
                        },
                        "type": "bar"
                      }
                    ],
                    "barpolar": [
                      {
                        "marker": {
                          "line": {
                            "color": "#E5ECF6",
                            "width": 0.5
                          },
                          "pattern": {
                            "fillmode": "overlay",
                            "size": 10,
                            "solidity": 0.2
                          }
                        },
                        "type": "barpolar"
                      }
                    ],
                    "carpet": [
                      {
                        "aaxis": {
                          "endlinecolor": "#2a3f5f",
                          "gridcolor": "white",
                          "linecolor": "white",
                          "minorgridcolor": "white",
                          "startlinecolor": "#2a3f5f"
                        },
                        "baxis": {
                          "endlinecolor": "#2a3f5f",
                          "gridcolor": "white",
                          "linecolor": "white",
                          "minorgridcolor": "white",
                          "startlinecolor": "#2a3f5f"
                        },
                        "type": "carpet"
                      }
                    ],
                    "choropleth": [
                      {
                        "colorbar": {
                          "outlinewidth": 0,
                          "ticks": ""
                        },
                        "type": "choropleth"
                      }
                    ],
                    "contour": [
                      {
                        "colorbar": {
                          "outlinewidth": 0,
                          "ticks": ""
                        },
                        "colorscale": [
                          [
                            0,
                            "#0d0887"
                          ],
                          [
                            0.1111111111111111,
                            "#46039f"
                          ],
                          [
                            0.2222222222222222,
                            "#7201a8"
                          ],
                          [
                            0.3333333333333333,
                            "#9c179e"
                          ],
                          [
                            0.4444444444444444,
                            "#bd3786"
                          ],
                          [
                            0.5555555555555556,
                            "#d8576b"
                          ],
                          [
                            0.6666666666666666,
                            "#ed7953"
                          ],
                          [
                            0.7777777777777778,
                            "#fb9f3a"
                          ],
                          [
                            0.8888888888888888,
                            "#fdca26"
                          ],
                          [
                            1,
                            "#f0f921"
                          ]
                        ],
                        "type": "contour"
                      }
                    ],
                    "contourcarpet": [
                      {
                        "colorbar": {
                          "outlinewidth": 0,
                          "ticks": ""
                        },
                        "type": "contourcarpet"
                      }
                    ],
                    "heatmap": [
                      {
                        "colorbar": {
                          "outlinewidth": 0,
                          "ticks": ""
                        },
                        "colorscale": [
                          [
                            0,
                            "#0d0887"
                          ],
                          [
                            0.1111111111111111,
                            "#46039f"
                          ],
                          [
                            0.2222222222222222,
                            "#7201a8"
                          ],
                          [
                            0.3333333333333333,
                            "#9c179e"
                          ],
                          [
                            0.4444444444444444,
                            "#bd3786"
                          ],
                          [
                            0.5555555555555556,
                            "#d8576b"
                          ],
                          [
                            0.6666666666666666,
                            "#ed7953"
                          ],
                          [
                            0.7777777777777778,
                            "#fb9f3a"
                          ],
                          [
                            0.8888888888888888,
                            "#fdca26"
                          ],
                          [
                            1,
                            "#f0f921"
                          ]
                        ],
                        "type": "heatmap"
                      }
                    ],
                    "heatmapgl": [
                      {
                        "colorbar": {
                          "outlinewidth": 0,
                          "ticks": ""
                        },
                        "colorscale": [
                          [
                            0,
                            "#0d0887"
                          ],
                          [
                            0.1111111111111111,
                            "#46039f"
                          ],
                          [
                            0.2222222222222222,
                            "#7201a8"
                          ],
                          [
                            0.3333333333333333,
                            "#9c179e"
                          ],
                          [
                            0.4444444444444444,
                            "#bd3786"
                          ],
                          [
                            0.5555555555555556,
                            "#d8576b"
                          ],
                          [
                            0.6666666666666666,
                            "#ed7953"
                          ],
                          [
                            0.7777777777777778,
                            "#fb9f3a"
                          ],
                          [
                            0.8888888888888888,
                            "#fdca26"
                          ],
                          [
                            1,
                            "#f0f921"
                          ]
                        ],
                        "type": "heatmapgl"
                      }
                    ],
                    "histogram": [
                      {
                        "marker": {
                          "pattern": {
                            "fillmode": "overlay",
                            "size": 10,
                            "solidity": 0.2
                          }
                        },
                        "type": "histogram"
                      }
                    ],
                    "histogram2d": [
                      {
                        "colorbar": {
                          "outlinewidth": 0,
                          "ticks": ""
                        },
                        "colorscale": [
                          [
                            0,
                            "#0d0887"
                          ],
                          [
                            0.1111111111111111,
                            "#46039f"
                          ],
                          [
                            0.2222222222222222,
                            "#7201a8"
                          ],
                          [
                            0.3333333333333333,
                            "#9c179e"
                          ],
                          [
                            0.4444444444444444,
                            "#bd3786"
                          ],
                          [
                            0.5555555555555556,
                            "#d8576b"
                          ],
                          [
                            0.6666666666666666,
                            "#ed7953"
                          ],
                          [
                            0.7777777777777778,
                            "#fb9f3a"
                          ],
                          [
                            0.8888888888888888,
                            "#fdca26"
                          ],
                          [
                            1,
                            "#f0f921"
                          ]
                        ],
                        "type": "histogram2d"
                      }
                    ],
                    "histogram2dcontour": [
                      {
                        "colorbar": {
                          "outlinewidth": 0,
                          "ticks": ""
                        },
                        "colorscale": [
                          [
                            0,
                            "#0d0887"
                          ],
                          [
                            0.1111111111111111,
                            "#46039f"
                          ],
                          [
                            0.2222222222222222,
                            "#7201a8"
                          ],
                          [
                            0.3333333333333333,
                            "#9c179e"
                          ],
                          [
                            0.4444444444444444,
                            "#bd3786"
                          ],
                          [
                            0.5555555555555556,
                            "#d8576b"
                          ],
                          [
                            0.6666666666666666,
                            "#ed7953"
                          ],
                          [
                            0.7777777777777778,
                            "#fb9f3a"
                          ],
                          [
                            0.8888888888888888,
                            "#fdca26"
                          ],
                          [
                            1,
                            "#f0f921"
                          ]
                        ],
                        "type": "histogram2dcontour"
                      }
                    ],
                    "mesh3d": [
                      {
                        "colorbar": {
                          "outlinewidth": 0,
                          "ticks": ""
                        },
                        "type": "mesh3d"
                      }
                    ],
                    "parcoords": [
                      {
                        "line": {
                          "colorbar": {
                            "outlinewidth": 0,
                            "ticks": ""
                          }
                        },
                        "type": "parcoords"
                      }
                    ],
                    "pie": [
                      {
                        "automargin": true,
                        "type": "pie"
                      }
                    ],
                    "scatter": [
                      {
                        "fillpattern": {
                          "fillmode": "overlay",
                          "size": 10,
                          "solidity": 0.2
                        },
                        "type": "scatter"
                      }
                    ],
                    "scatter3d": [
                      {
                        "line": {
                          "colorbar": {
                            "outlinewidth": 0,
                            "ticks": ""
                          }
                        },
                        "marker": {
                          "colorbar": {
                            "outlinewidth": 0,
                            "ticks": ""
                          }
                        },
                        "type": "scatter3d"
                      }
                    ],
                    "scattercarpet": [
                      {
                        "marker": {
                          "colorbar": {
                            "outlinewidth": 0,
                            "ticks": ""
                          }
                        },
                        "type": "scattercarpet"
                      }
                    ],
                    "scattergeo": [
                      {
                        "marker": {
                          "colorbar": {
                            "outlinewidth": 0,
                            "ticks": ""
                          }
                        },
                        "type": "scattergeo"
                      }
                    ],
                    "scattergl": [
                      {
                        "marker": {
                          "colorbar": {
                            "outlinewidth": 0,
                            "ticks": ""
                          }
                        },
                        "type": "scattergl"
                      }
                    ],
                    "scattermapbox": [
                      {
                        "marker": {
                          "colorbar": {
                            "outlinewidth": 0,
                            "ticks": ""
                          }
                        },
                        "type": "scattermapbox"
                      }
                    ],
                    "scatterpolar": [
                      {
                        "marker": {
                          "colorbar": {
                            "outlinewidth": 0,
                            "ticks": ""
                          }
                        },
                        "type": "scatterpolar"
                      }
                    ],
                    "scatterpolargl": [
                      {
                        "marker": {
                          "colorbar": {
                            "outlinewidth": 0,
                            "ticks": ""
                          }
                        },
                        "type": "scatterpolargl"
                      }
                    ],
                    "scatterternary": [
                      {
                        "marker": {
                          "colorbar": {
                            "outlinewidth": 0,
                            "ticks": ""
                          }
                        },
                        "type": "scatterternary"
                      }
                    ],
                    "surface": [
                      {
                        "colorbar": {
                          "outlinewidth": 0,
                          "ticks": ""
                        },
                        "colorscale": [
                          [
                            0,
                            "#0d0887"
                          ],
                          [
                            0.1111111111111111,
                            "#46039f"
                          ],
                          [
                            0.2222222222222222,
                            "#7201a8"
                          ],
                          [
                            0.3333333333333333,
                            "#9c179e"
                          ],
                          [
                            0.4444444444444444,
                            "#bd3786"
                          ],
                          [
                            0.5555555555555556,
                            "#d8576b"
                          ],
                          [
                            0.6666666666666666,
                            "#ed7953"
                          ],
                          [
                            0.7777777777777778,
                            "#fb9f3a"
                          ],
                          [
                            0.8888888888888888,
                            "#fdca26"
                          ],
                          [
                            1,
                            "#f0f921"
                          ]
                        ],
                        "type": "surface"
                      }
                    ],
                    "table": [
                      {
                        "cells": {
                          "fill": {
                            "color": "#EBF0F8"
                          },
                          "line": {
                            "color": "white"
                          }
                        },
                        "header": {
                          "fill": {
                            "color": "#C8D4E3"
                          },
                          "line": {
                            "color": "white"
                          }
                        },
                        "type": "table"
                      }
                    ]
                  },
                  "layout": {
                    "annotationdefaults": {
                      "arrowcolor": "#2a3f5f",
                      "arrowhead": 0,
                      "arrowwidth": 1
                    },
                    "autotypenumbers": "strict",
                    "coloraxis": {
                      "colorbar": {
                        "outlinewidth": 0,
                        "ticks": ""
                      }
                    },
                    "colorscale": {
                      "diverging": [
                        [
                          0,
                          "#8e0152"
                        ],
                        [
                          0.1,
                          "#c51b7d"
                        ],
                        [
                          0.2,
                          "#de77ae"
                        ],
                        [
                          0.3,
                          "#f1b6da"
                        ],
                        [
                          0.4,
                          "#fde0ef"
                        ],
                        [
                          0.5,
                          "#f7f7f7"
                        ],
                        [
                          0.6,
                          "#e6f5d0"
                        ],
                        [
                          0.7,
                          "#b8e186"
                        ],
                        [
                          0.8,
                          "#7fbc41"
                        ],
                        [
                          0.9,
                          "#4d9221"
                        ],
                        [
                          1,
                          "#276419"
                        ]
                      ],
                      "sequential": [
                        [
                          0,
                          "#0d0887"
                        ],
                        [
                          0.1111111111111111,
                          "#46039f"
                        ],
                        [
                          0.2222222222222222,
                          "#7201a8"
                        ],
                        [
                          0.3333333333333333,
                          "#9c179e"
                        ],
                        [
                          0.4444444444444444,
                          "#bd3786"
                        ],
                        [
                          0.5555555555555556,
                          "#d8576b"
                        ],
                        [
                          0.6666666666666666,
                          "#ed7953"
                        ],
                        [
                          0.7777777777777778,
                          "#fb9f3a"
                        ],
                        [
                          0.8888888888888888,
                          "#fdca26"
                        ],
                        [
                          1,
                          "#f0f921"
                        ]
                      ],
                      "sequentialminus": [
                        [
                          0,
                          "#0d0887"
                        ],
                        [
                          0.1111111111111111,
                          "#46039f"
                        ],
                        [
                          0.2222222222222222,
                          "#7201a8"
                        ],
                        [
                          0.3333333333333333,
                          "#9c179e"
                        ],
                        [
                          0.4444444444444444,
                          "#bd3786"
                        ],
                        [
                          0.5555555555555556,
                          "#d8576b"
                        ],
                        [
                          0.6666666666666666,
                          "#ed7953"
                        ],
                        [
                          0.7777777777777778,
                          "#fb9f3a"
                        ],
                        [
                          0.8888888888888888,
                          "#fdca26"
                        ],
                        [
                          1,
                          "#f0f921"
                        ]
                      ]
                    },
                    "colorway": [
                      "#636efa",
                      "#EF553B",
                      "#00cc96",
                      "#ab63fa",
                      "#FFA15A",
                      "#19d3f3",
                      "#FF6692",
                      "#B6E880",
                      "#FF97FF",
                      "#FECB52"
                    ],
                    "font": {
                      "color": "#2a3f5f"
                    },
                    "geo": {
                      "bgcolor": "white",
                      "lakecolor": "white",
                      "landcolor": "#E5ECF6",
                      "showlakes": true,
                      "showland": true,
                      "subunitcolor": "white"
                    },
                    "hoverlabel": {
                      "align": "left"
                    },
                    "hovermode": "closest",
                    "mapbox": {
                      "style": "light"
                    },
                    "paper_bgcolor": "white",
                    "plot_bgcolor": "#E5ECF6",
                    "polar": {
                      "angularaxis": {
                        "gridcolor": "white",
                        "linecolor": "white",
                        "ticks": ""
                      },
                      "bgcolor": "#E5ECF6",
                      "radialaxis": {
                        "gridcolor": "white",
                        "linecolor": "white",
                        "ticks": ""
                      }
                    },
                    "scene": {
                      "xaxis": {
                        "backgroundcolor": "#E5ECF6",
                        "gridcolor": "white",
                        "gridwidth": 2,
                        "linecolor": "white",
                        "showbackground": true,
                        "ticks": "",
                        "zerolinecolor": "white"
                      },
                      "yaxis": {
                        "backgroundcolor": "#E5ECF6",
                        "gridcolor": "white",
                        "gridwidth": 2,
                        "linecolor": "white",
                        "showbackground": true,
                        "ticks": "",
                        "zerolinecolor": "white"
                      },
                      "zaxis": {
                        "backgroundcolor": "#E5ECF6",
                        "gridcolor": "white",
                        "gridwidth": 2,
                        "linecolor": "white",
                        "showbackground": true,
                        "ticks": "",
                        "zerolinecolor": "white"
                      }
                    },
                    "shapedefaults": {
                      "line": {
                        "color": "#2a3f5f"
                      }
                    },
                    "ternary": {
                      "aaxis": {
                        "gridcolor": "white",
                        "linecolor": "white",
                        "ticks": ""
                      },
                      "baxis": {
                        "gridcolor": "white",
                        "linecolor": "white",
                        "ticks": ""
                      },
                      "bgcolor": "#E5ECF6",
                      "caxis": {
                        "gridcolor": "white",
                        "linecolor": "white",
                        "ticks": ""
                      }
                    },
                    "title": {
                      "x": 0.05
                    },
                    "xaxis": {
                      "automargin": true,
                      "gridcolor": "white",
                      "linecolor": "white",
                      "ticks": "",
                      "title": {
                        "standoff": 15
                      },
                      "zerolinecolor": "white",
                      "zerolinewidth": 2
                    },
                    "yaxis": {
                      "automargin": true,
                      "gridcolor": "white",
                      "linecolor": "white",
                      "ticks": "",
                      "title": {
                        "standoff": 15
                      },
                      "zerolinecolor": "white",
                      "zerolinewidth": 2
                    }
                  }
                },
                "title": {
                  "text": "Intermediate Values Plot"
                },
                "xaxis": {
                  "title": {
                    "text": "Step"
                  }
                },
                "yaxis": {
                  "title": {
                    "text": "Intermediate Value"
                  }
                }
              }
            }
          },
          "metadata": {},
          "output_type": "display_data"
        }
      ],
      "source": [
        "plot_intermediate_values(study)"
      ]
    },
    {
      "cell_type": "markdown",
      "metadata": {},
      "source": [
        "Visualize high-dimensional parameter relationships. See :func:`~optuna.visualization.plot_parallel_coordinate` for the details.\n",
        "\n"
      ]
    },
    {
      "cell_type": "code",
      "execution_count": 7,
      "metadata": {
        "collapsed": false
      },
      "outputs": [
        {
          "data": {
            "application/vnd.plotly.v1+json": {
              "config": {
                "plotlyServerURL": "https://plot.ly"
              },
              "data": [
                {
                  "dimensions": [
                    {
                      "label": "Objective Value",
                      "range": [
                        0.958041958041958,
                        1
                      ],
                      "values": [
                        0.972027972027972,
                        0.972027972027972,
                        0.958041958041958,
                        0.9790209790209791,
                        0.958041958041958,
                        0.993006993006993,
                        0.986013986013986,
                        0.9790209790209791,
                        0.993006993006993,
                        0.986013986013986,
                        0.986013986013986,
                        0.972027972027972,
                        1,
                        0.993006993006993
                      ]
                    },
                    {
                      "label": "bagging_fraction",
                      "range": [
                        0.4348501673009197,
                        0.9733907188988407
                      ],
                      "values": [
                        0.6247240713084175,
                        0.759195090518222,
                        0.4348501673009197,
                        0.8248435466776274,
                        0.899465584480253,
                        0.5100427059120604,
                        0.9733907188988407,
                        0.5995200470737633,
                        0.4770792095519505,
                        0.5996977861150512,
                        0.5903343863841894,
                        0.6922588822682393,
                        0.6971856013290972,
                        0.7773548684322235
                      ]
                    },
                    {
                      "label": "bagging_freq",
                      "range": [
                        1,
                        7
                      ],
                      "values": [
                        7,
                        2,
                        7,
                        1,
                        2,
                        3,
                        1,
                        2,
                        3,
                        2,
                        1,
                        1,
                        1,
                        1
                      ]
                    },
                    {
                      "label": "min_child_samples",
                      "range": [
                        18,
                        98
                      ],
                      "values": [
                        75,
                        19,
                        62,
                        98,
                        22,
                        55,
                        98,
                        54,
                        70,
                        31,
                        39,
                        20,
                        18,
                        24
                      ]
                    }
                  ],
                  "labelangle": 30,
                  "labelside": "bottom",
                  "line": {
                    "color": [
                      0.972027972027972,
                      0.972027972027972,
                      0.958041958041958,
                      0.9790209790209791,
                      0.958041958041958,
                      0.993006993006993,
                      0.986013986013986,
                      0.9790209790209791,
                      0.993006993006993,
                      0.986013986013986,
                      0.986013986013986,
                      0.972027972027972,
                      1,
                      0.993006993006993
                    ],
                    "colorbar": {
                      "title": {
                        "text": "Objective Value"
                      }
                    },
                    "colorscale": [
                      [
                        0,
                        "rgb(247,251,255)"
                      ],
                      [
                        0.125,
                        "rgb(222,235,247)"
                      ],
                      [
                        0.25,
                        "rgb(198,219,239)"
                      ],
                      [
                        0.375,
                        "rgb(158,202,225)"
                      ],
                      [
                        0.5,
                        "rgb(107,174,214)"
                      ],
                      [
                        0.625,
                        "rgb(66,146,198)"
                      ],
                      [
                        0.75,
                        "rgb(33,113,181)"
                      ],
                      [
                        0.875,
                        "rgb(8,81,156)"
                      ],
                      [
                        1,
                        "rgb(8,48,107)"
                      ]
                    ],
                    "reversescale": false,
                    "showscale": true
                  },
                  "type": "parcoords"
                }
              ],
              "layout": {
                "template": {
                  "data": {
                    "bar": [
                      {
                        "error_x": {
                          "color": "#2a3f5f"
                        },
                        "error_y": {
                          "color": "#2a3f5f"
                        },
                        "marker": {
                          "line": {
                            "color": "#E5ECF6",
                            "width": 0.5
                          },
                          "pattern": {
                            "fillmode": "overlay",
                            "size": 10,
                            "solidity": 0.2
                          }
                        },
                        "type": "bar"
                      }
                    ],
                    "barpolar": [
                      {
                        "marker": {
                          "line": {
                            "color": "#E5ECF6",
                            "width": 0.5
                          },
                          "pattern": {
                            "fillmode": "overlay",
                            "size": 10,
                            "solidity": 0.2
                          }
                        },
                        "type": "barpolar"
                      }
                    ],
                    "carpet": [
                      {
                        "aaxis": {
                          "endlinecolor": "#2a3f5f",
                          "gridcolor": "white",
                          "linecolor": "white",
                          "minorgridcolor": "white",
                          "startlinecolor": "#2a3f5f"
                        },
                        "baxis": {
                          "endlinecolor": "#2a3f5f",
                          "gridcolor": "white",
                          "linecolor": "white",
                          "minorgridcolor": "white",
                          "startlinecolor": "#2a3f5f"
                        },
                        "type": "carpet"
                      }
                    ],
                    "choropleth": [
                      {
                        "colorbar": {
                          "outlinewidth": 0,
                          "ticks": ""
                        },
                        "type": "choropleth"
                      }
                    ],
                    "contour": [
                      {
                        "colorbar": {
                          "outlinewidth": 0,
                          "ticks": ""
                        },
                        "colorscale": [
                          [
                            0,
                            "#0d0887"
                          ],
                          [
                            0.1111111111111111,
                            "#46039f"
                          ],
                          [
                            0.2222222222222222,
                            "#7201a8"
                          ],
                          [
                            0.3333333333333333,
                            "#9c179e"
                          ],
                          [
                            0.4444444444444444,
                            "#bd3786"
                          ],
                          [
                            0.5555555555555556,
                            "#d8576b"
                          ],
                          [
                            0.6666666666666666,
                            "#ed7953"
                          ],
                          [
                            0.7777777777777778,
                            "#fb9f3a"
                          ],
                          [
                            0.8888888888888888,
                            "#fdca26"
                          ],
                          [
                            1,
                            "#f0f921"
                          ]
                        ],
                        "type": "contour"
                      }
                    ],
                    "contourcarpet": [
                      {
                        "colorbar": {
                          "outlinewidth": 0,
                          "ticks": ""
                        },
                        "type": "contourcarpet"
                      }
                    ],
                    "heatmap": [
                      {
                        "colorbar": {
                          "outlinewidth": 0,
                          "ticks": ""
                        },
                        "colorscale": [
                          [
                            0,
                            "#0d0887"
                          ],
                          [
                            0.1111111111111111,
                            "#46039f"
                          ],
                          [
                            0.2222222222222222,
                            "#7201a8"
                          ],
                          [
                            0.3333333333333333,
                            "#9c179e"
                          ],
                          [
                            0.4444444444444444,
                            "#bd3786"
                          ],
                          [
                            0.5555555555555556,
                            "#d8576b"
                          ],
                          [
                            0.6666666666666666,
                            "#ed7953"
                          ],
                          [
                            0.7777777777777778,
                            "#fb9f3a"
                          ],
                          [
                            0.8888888888888888,
                            "#fdca26"
                          ],
                          [
                            1,
                            "#f0f921"
                          ]
                        ],
                        "type": "heatmap"
                      }
                    ],
                    "heatmapgl": [
                      {
                        "colorbar": {
                          "outlinewidth": 0,
                          "ticks": ""
                        },
                        "colorscale": [
                          [
                            0,
                            "#0d0887"
                          ],
                          [
                            0.1111111111111111,
                            "#46039f"
                          ],
                          [
                            0.2222222222222222,
                            "#7201a8"
                          ],
                          [
                            0.3333333333333333,
                            "#9c179e"
                          ],
                          [
                            0.4444444444444444,
                            "#bd3786"
                          ],
                          [
                            0.5555555555555556,
                            "#d8576b"
                          ],
                          [
                            0.6666666666666666,
                            "#ed7953"
                          ],
                          [
                            0.7777777777777778,
                            "#fb9f3a"
                          ],
                          [
                            0.8888888888888888,
                            "#fdca26"
                          ],
                          [
                            1,
                            "#f0f921"
                          ]
                        ],
                        "type": "heatmapgl"
                      }
                    ],
                    "histogram": [
                      {
                        "marker": {
                          "pattern": {
                            "fillmode": "overlay",
                            "size": 10,
                            "solidity": 0.2
                          }
                        },
                        "type": "histogram"
                      }
                    ],
                    "histogram2d": [
                      {
                        "colorbar": {
                          "outlinewidth": 0,
                          "ticks": ""
                        },
                        "colorscale": [
                          [
                            0,
                            "#0d0887"
                          ],
                          [
                            0.1111111111111111,
                            "#46039f"
                          ],
                          [
                            0.2222222222222222,
                            "#7201a8"
                          ],
                          [
                            0.3333333333333333,
                            "#9c179e"
                          ],
                          [
                            0.4444444444444444,
                            "#bd3786"
                          ],
                          [
                            0.5555555555555556,
                            "#d8576b"
                          ],
                          [
                            0.6666666666666666,
                            "#ed7953"
                          ],
                          [
                            0.7777777777777778,
                            "#fb9f3a"
                          ],
                          [
                            0.8888888888888888,
                            "#fdca26"
                          ],
                          [
                            1,
                            "#f0f921"
                          ]
                        ],
                        "type": "histogram2d"
                      }
                    ],
                    "histogram2dcontour": [
                      {
                        "colorbar": {
                          "outlinewidth": 0,
                          "ticks": ""
                        },
                        "colorscale": [
                          [
                            0,
                            "#0d0887"
                          ],
                          [
                            0.1111111111111111,
                            "#46039f"
                          ],
                          [
                            0.2222222222222222,
                            "#7201a8"
                          ],
                          [
                            0.3333333333333333,
                            "#9c179e"
                          ],
                          [
                            0.4444444444444444,
                            "#bd3786"
                          ],
                          [
                            0.5555555555555556,
                            "#d8576b"
                          ],
                          [
                            0.6666666666666666,
                            "#ed7953"
                          ],
                          [
                            0.7777777777777778,
                            "#fb9f3a"
                          ],
                          [
                            0.8888888888888888,
                            "#fdca26"
                          ],
                          [
                            1,
                            "#f0f921"
                          ]
                        ],
                        "type": "histogram2dcontour"
                      }
                    ],
                    "mesh3d": [
                      {
                        "colorbar": {
                          "outlinewidth": 0,
                          "ticks": ""
                        },
                        "type": "mesh3d"
                      }
                    ],
                    "parcoords": [
                      {
                        "line": {
                          "colorbar": {
                            "outlinewidth": 0,
                            "ticks": ""
                          }
                        },
                        "type": "parcoords"
                      }
                    ],
                    "pie": [
                      {
                        "automargin": true,
                        "type": "pie"
                      }
                    ],
                    "scatter": [
                      {
                        "fillpattern": {
                          "fillmode": "overlay",
                          "size": 10,
                          "solidity": 0.2
                        },
                        "type": "scatter"
                      }
                    ],
                    "scatter3d": [
                      {
                        "line": {
                          "colorbar": {
                            "outlinewidth": 0,
                            "ticks": ""
                          }
                        },
                        "marker": {
                          "colorbar": {
                            "outlinewidth": 0,
                            "ticks": ""
                          }
                        },
                        "type": "scatter3d"
                      }
                    ],
                    "scattercarpet": [
                      {
                        "marker": {
                          "colorbar": {
                            "outlinewidth": 0,
                            "ticks": ""
                          }
                        },
                        "type": "scattercarpet"
                      }
                    ],
                    "scattergeo": [
                      {
                        "marker": {
                          "colorbar": {
                            "outlinewidth": 0,
                            "ticks": ""
                          }
                        },
                        "type": "scattergeo"
                      }
                    ],
                    "scattergl": [
                      {
                        "marker": {
                          "colorbar": {
                            "outlinewidth": 0,
                            "ticks": ""
                          }
                        },
                        "type": "scattergl"
                      }
                    ],
                    "scattermapbox": [
                      {
                        "marker": {
                          "colorbar": {
                            "outlinewidth": 0,
                            "ticks": ""
                          }
                        },
                        "type": "scattermapbox"
                      }
                    ],
                    "scatterpolar": [
                      {
                        "marker": {
                          "colorbar": {
                            "outlinewidth": 0,
                            "ticks": ""
                          }
                        },
                        "type": "scatterpolar"
                      }
                    ],
                    "scatterpolargl": [
                      {
                        "marker": {
                          "colorbar": {
                            "outlinewidth": 0,
                            "ticks": ""
                          }
                        },
                        "type": "scatterpolargl"
                      }
                    ],
                    "scatterternary": [
                      {
                        "marker": {
                          "colorbar": {
                            "outlinewidth": 0,
                            "ticks": ""
                          }
                        },
                        "type": "scatterternary"
                      }
                    ],
                    "surface": [
                      {
                        "colorbar": {
                          "outlinewidth": 0,
                          "ticks": ""
                        },
                        "colorscale": [
                          [
                            0,
                            "#0d0887"
                          ],
                          [
                            0.1111111111111111,
                            "#46039f"
                          ],
                          [
                            0.2222222222222222,
                            "#7201a8"
                          ],
                          [
                            0.3333333333333333,
                            "#9c179e"
                          ],
                          [
                            0.4444444444444444,
                            "#bd3786"
                          ],
                          [
                            0.5555555555555556,
                            "#d8576b"
                          ],
                          [
                            0.6666666666666666,
                            "#ed7953"
                          ],
                          [
                            0.7777777777777778,
                            "#fb9f3a"
                          ],
                          [
                            0.8888888888888888,
                            "#fdca26"
                          ],
                          [
                            1,
                            "#f0f921"
                          ]
                        ],
                        "type": "surface"
                      }
                    ],
                    "table": [
                      {
                        "cells": {
                          "fill": {
                            "color": "#EBF0F8"
                          },
                          "line": {
                            "color": "white"
                          }
                        },
                        "header": {
                          "fill": {
                            "color": "#C8D4E3"
                          },
                          "line": {
                            "color": "white"
                          }
                        },
                        "type": "table"
                      }
                    ]
                  },
                  "layout": {
                    "annotationdefaults": {
                      "arrowcolor": "#2a3f5f",
                      "arrowhead": 0,
                      "arrowwidth": 1
                    },
                    "autotypenumbers": "strict",
                    "coloraxis": {
                      "colorbar": {
                        "outlinewidth": 0,
                        "ticks": ""
                      }
                    },
                    "colorscale": {
                      "diverging": [
                        [
                          0,
                          "#8e0152"
                        ],
                        [
                          0.1,
                          "#c51b7d"
                        ],
                        [
                          0.2,
                          "#de77ae"
                        ],
                        [
                          0.3,
                          "#f1b6da"
                        ],
                        [
                          0.4,
                          "#fde0ef"
                        ],
                        [
                          0.5,
                          "#f7f7f7"
                        ],
                        [
                          0.6,
                          "#e6f5d0"
                        ],
                        [
                          0.7,
                          "#b8e186"
                        ],
                        [
                          0.8,
                          "#7fbc41"
                        ],
                        [
                          0.9,
                          "#4d9221"
                        ],
                        [
                          1,
                          "#276419"
                        ]
                      ],
                      "sequential": [
                        [
                          0,
                          "#0d0887"
                        ],
                        [
                          0.1111111111111111,
                          "#46039f"
                        ],
                        [
                          0.2222222222222222,
                          "#7201a8"
                        ],
                        [
                          0.3333333333333333,
                          "#9c179e"
                        ],
                        [
                          0.4444444444444444,
                          "#bd3786"
                        ],
                        [
                          0.5555555555555556,
                          "#d8576b"
                        ],
                        [
                          0.6666666666666666,
                          "#ed7953"
                        ],
                        [
                          0.7777777777777778,
                          "#fb9f3a"
                        ],
                        [
                          0.8888888888888888,
                          "#fdca26"
                        ],
                        [
                          1,
                          "#f0f921"
                        ]
                      ],
                      "sequentialminus": [
                        [
                          0,
                          "#0d0887"
                        ],
                        [
                          0.1111111111111111,
                          "#46039f"
                        ],
                        [
                          0.2222222222222222,
                          "#7201a8"
                        ],
                        [
                          0.3333333333333333,
                          "#9c179e"
                        ],
                        [
                          0.4444444444444444,
                          "#bd3786"
                        ],
                        [
                          0.5555555555555556,
                          "#d8576b"
                        ],
                        [
                          0.6666666666666666,
                          "#ed7953"
                        ],
                        [
                          0.7777777777777778,
                          "#fb9f3a"
                        ],
                        [
                          0.8888888888888888,
                          "#fdca26"
                        ],
                        [
                          1,
                          "#f0f921"
                        ]
                      ]
                    },
                    "colorway": [
                      "#636efa",
                      "#EF553B",
                      "#00cc96",
                      "#ab63fa",
                      "#FFA15A",
                      "#19d3f3",
                      "#FF6692",
                      "#B6E880",
                      "#FF97FF",
                      "#FECB52"
                    ],
                    "font": {
                      "color": "#2a3f5f"
                    },
                    "geo": {
                      "bgcolor": "white",
                      "lakecolor": "white",
                      "landcolor": "#E5ECF6",
                      "showlakes": true,
                      "showland": true,
                      "subunitcolor": "white"
                    },
                    "hoverlabel": {
                      "align": "left"
                    },
                    "hovermode": "closest",
                    "mapbox": {
                      "style": "light"
                    },
                    "paper_bgcolor": "white",
                    "plot_bgcolor": "#E5ECF6",
                    "polar": {
                      "angularaxis": {
                        "gridcolor": "white",
                        "linecolor": "white",
                        "ticks": ""
                      },
                      "bgcolor": "#E5ECF6",
                      "radialaxis": {
                        "gridcolor": "white",
                        "linecolor": "white",
                        "ticks": ""
                      }
                    },
                    "scene": {
                      "xaxis": {
                        "backgroundcolor": "#E5ECF6",
                        "gridcolor": "white",
                        "gridwidth": 2,
                        "linecolor": "white",
                        "showbackground": true,
                        "ticks": "",
                        "zerolinecolor": "white"
                      },
                      "yaxis": {
                        "backgroundcolor": "#E5ECF6",
                        "gridcolor": "white",
                        "gridwidth": 2,
                        "linecolor": "white",
                        "showbackground": true,
                        "ticks": "",
                        "zerolinecolor": "white"
                      },
                      "zaxis": {
                        "backgroundcolor": "#E5ECF6",
                        "gridcolor": "white",
                        "gridwidth": 2,
                        "linecolor": "white",
                        "showbackground": true,
                        "ticks": "",
                        "zerolinecolor": "white"
                      }
                    },
                    "shapedefaults": {
                      "line": {
                        "color": "#2a3f5f"
                      }
                    },
                    "ternary": {
                      "aaxis": {
                        "gridcolor": "white",
                        "linecolor": "white",
                        "ticks": ""
                      },
                      "baxis": {
                        "gridcolor": "white",
                        "linecolor": "white",
                        "ticks": ""
                      },
                      "bgcolor": "#E5ECF6",
                      "caxis": {
                        "gridcolor": "white",
                        "linecolor": "white",
                        "ticks": ""
                      }
                    },
                    "title": {
                      "x": 0.05
                    },
                    "xaxis": {
                      "automargin": true,
                      "gridcolor": "white",
                      "linecolor": "white",
                      "ticks": "",
                      "title": {
                        "standoff": 15
                      },
                      "zerolinecolor": "white",
                      "zerolinewidth": 2
                    },
                    "yaxis": {
                      "automargin": true,
                      "gridcolor": "white",
                      "linecolor": "white",
                      "ticks": "",
                      "title": {
                        "standoff": 15
                      },
                      "zerolinecolor": "white",
                      "zerolinewidth": 2
                    }
                  }
                },
                "title": {
                  "text": "Parallel Coordinate Plot"
                }
              }
            }
          },
          "metadata": {},
          "output_type": "display_data"
        }
      ],
      "source": [
        "plot_parallel_coordinate(study)"
      ]
    },
    {
      "cell_type": "markdown",
      "metadata": {},
      "source": [
        "Select parameters to visualize.\n",
        "\n"
      ]
    },
    {
      "cell_type": "code",
      "execution_count": 8,
      "metadata": {
        "collapsed": false
      },
      "outputs": [
        {
          "data": {
            "application/vnd.plotly.v1+json": {
              "config": {
                "plotlyServerURL": "https://plot.ly"
              },
              "data": [
                {
                  "dimensions": [
                    {
                      "label": "Objective Value",
                      "range": [
                        0.958041958041958,
                        1
                      ],
                      "values": [
                        0.972027972027972,
                        0.972027972027972,
                        0.958041958041958,
                        0.9790209790209791,
                        0.958041958041958,
                        0.993006993006993,
                        0.986013986013986,
                        0.9790209790209791,
                        0.993006993006993,
                        0.986013986013986,
                        0.986013986013986,
                        0.972027972027972,
                        1,
                        0.993006993006993
                      ]
                    },
                    {
                      "label": "bagging_fraction",
                      "range": [
                        0.4348501673009197,
                        0.9733907188988407
                      ],
                      "values": [
                        0.6247240713084175,
                        0.759195090518222,
                        0.4348501673009197,
                        0.8248435466776274,
                        0.899465584480253,
                        0.5100427059120604,
                        0.9733907188988407,
                        0.5995200470737633,
                        0.4770792095519505,
                        0.5996977861150512,
                        0.5903343863841894,
                        0.6922588822682393,
                        0.6971856013290972,
                        0.7773548684322235
                      ]
                    },
                    {
                      "label": "bagging_freq",
                      "range": [
                        1,
                        7
                      ],
                      "values": [
                        7,
                        2,
                        7,
                        1,
                        2,
                        3,
                        1,
                        2,
                        3,
                        2,
                        1,
                        1,
                        1,
                        1
                      ]
                    }
                  ],
                  "labelangle": 30,
                  "labelside": "bottom",
                  "line": {
                    "color": [
                      0.972027972027972,
                      0.972027972027972,
                      0.958041958041958,
                      0.9790209790209791,
                      0.958041958041958,
                      0.993006993006993,
                      0.986013986013986,
                      0.9790209790209791,
                      0.993006993006993,
                      0.986013986013986,
                      0.986013986013986,
                      0.972027972027972,
                      1,
                      0.993006993006993
                    ],
                    "colorbar": {
                      "title": {
                        "text": "Objective Value"
                      }
                    },
                    "colorscale": [
                      [
                        0,
                        "rgb(247,251,255)"
                      ],
                      [
                        0.125,
                        "rgb(222,235,247)"
                      ],
                      [
                        0.25,
                        "rgb(198,219,239)"
                      ],
                      [
                        0.375,
                        "rgb(158,202,225)"
                      ],
                      [
                        0.5,
                        "rgb(107,174,214)"
                      ],
                      [
                        0.625,
                        "rgb(66,146,198)"
                      ],
                      [
                        0.75,
                        "rgb(33,113,181)"
                      ],
                      [
                        0.875,
                        "rgb(8,81,156)"
                      ],
                      [
                        1,
                        "rgb(8,48,107)"
                      ]
                    ],
                    "reversescale": false,
                    "showscale": true
                  },
                  "type": "parcoords"
                }
              ],
              "layout": {
                "template": {
                  "data": {
                    "bar": [
                      {
                        "error_x": {
                          "color": "#2a3f5f"
                        },
                        "error_y": {
                          "color": "#2a3f5f"
                        },
                        "marker": {
                          "line": {
                            "color": "#E5ECF6",
                            "width": 0.5
                          },
                          "pattern": {
                            "fillmode": "overlay",
                            "size": 10,
                            "solidity": 0.2
                          }
                        },
                        "type": "bar"
                      }
                    ],
                    "barpolar": [
                      {
                        "marker": {
                          "line": {
                            "color": "#E5ECF6",
                            "width": 0.5
                          },
                          "pattern": {
                            "fillmode": "overlay",
                            "size": 10,
                            "solidity": 0.2
                          }
                        },
                        "type": "barpolar"
                      }
                    ],
                    "carpet": [
                      {
                        "aaxis": {
                          "endlinecolor": "#2a3f5f",
                          "gridcolor": "white",
                          "linecolor": "white",
                          "minorgridcolor": "white",
                          "startlinecolor": "#2a3f5f"
                        },
                        "baxis": {
                          "endlinecolor": "#2a3f5f",
                          "gridcolor": "white",
                          "linecolor": "white",
                          "minorgridcolor": "white",
                          "startlinecolor": "#2a3f5f"
                        },
                        "type": "carpet"
                      }
                    ],
                    "choropleth": [
                      {
                        "colorbar": {
                          "outlinewidth": 0,
                          "ticks": ""
                        },
                        "type": "choropleth"
                      }
                    ],
                    "contour": [
                      {
                        "colorbar": {
                          "outlinewidth": 0,
                          "ticks": ""
                        },
                        "colorscale": [
                          [
                            0,
                            "#0d0887"
                          ],
                          [
                            0.1111111111111111,
                            "#46039f"
                          ],
                          [
                            0.2222222222222222,
                            "#7201a8"
                          ],
                          [
                            0.3333333333333333,
                            "#9c179e"
                          ],
                          [
                            0.4444444444444444,
                            "#bd3786"
                          ],
                          [
                            0.5555555555555556,
                            "#d8576b"
                          ],
                          [
                            0.6666666666666666,
                            "#ed7953"
                          ],
                          [
                            0.7777777777777778,
                            "#fb9f3a"
                          ],
                          [
                            0.8888888888888888,
                            "#fdca26"
                          ],
                          [
                            1,
                            "#f0f921"
                          ]
                        ],
                        "type": "contour"
                      }
                    ],
                    "contourcarpet": [
                      {
                        "colorbar": {
                          "outlinewidth": 0,
                          "ticks": ""
                        },
                        "type": "contourcarpet"
                      }
                    ],
                    "heatmap": [
                      {
                        "colorbar": {
                          "outlinewidth": 0,
                          "ticks": ""
                        },
                        "colorscale": [
                          [
                            0,
                            "#0d0887"
                          ],
                          [
                            0.1111111111111111,
                            "#46039f"
                          ],
                          [
                            0.2222222222222222,
                            "#7201a8"
                          ],
                          [
                            0.3333333333333333,
                            "#9c179e"
                          ],
                          [
                            0.4444444444444444,
                            "#bd3786"
                          ],
                          [
                            0.5555555555555556,
                            "#d8576b"
                          ],
                          [
                            0.6666666666666666,
                            "#ed7953"
                          ],
                          [
                            0.7777777777777778,
                            "#fb9f3a"
                          ],
                          [
                            0.8888888888888888,
                            "#fdca26"
                          ],
                          [
                            1,
                            "#f0f921"
                          ]
                        ],
                        "type": "heatmap"
                      }
                    ],
                    "heatmapgl": [
                      {
                        "colorbar": {
                          "outlinewidth": 0,
                          "ticks": ""
                        },
                        "colorscale": [
                          [
                            0,
                            "#0d0887"
                          ],
                          [
                            0.1111111111111111,
                            "#46039f"
                          ],
                          [
                            0.2222222222222222,
                            "#7201a8"
                          ],
                          [
                            0.3333333333333333,
                            "#9c179e"
                          ],
                          [
                            0.4444444444444444,
                            "#bd3786"
                          ],
                          [
                            0.5555555555555556,
                            "#d8576b"
                          ],
                          [
                            0.6666666666666666,
                            "#ed7953"
                          ],
                          [
                            0.7777777777777778,
                            "#fb9f3a"
                          ],
                          [
                            0.8888888888888888,
                            "#fdca26"
                          ],
                          [
                            1,
                            "#f0f921"
                          ]
                        ],
                        "type": "heatmapgl"
                      }
                    ],
                    "histogram": [
                      {
                        "marker": {
                          "pattern": {
                            "fillmode": "overlay",
                            "size": 10,
                            "solidity": 0.2
                          }
                        },
                        "type": "histogram"
                      }
                    ],
                    "histogram2d": [
                      {
                        "colorbar": {
                          "outlinewidth": 0,
                          "ticks": ""
                        },
                        "colorscale": [
                          [
                            0,
                            "#0d0887"
                          ],
                          [
                            0.1111111111111111,
                            "#46039f"
                          ],
                          [
                            0.2222222222222222,
                            "#7201a8"
                          ],
                          [
                            0.3333333333333333,
                            "#9c179e"
                          ],
                          [
                            0.4444444444444444,
                            "#bd3786"
                          ],
                          [
                            0.5555555555555556,
                            "#d8576b"
                          ],
                          [
                            0.6666666666666666,
                            "#ed7953"
                          ],
                          [
                            0.7777777777777778,
                            "#fb9f3a"
                          ],
                          [
                            0.8888888888888888,
                            "#fdca26"
                          ],
                          [
                            1,
                            "#f0f921"
                          ]
                        ],
                        "type": "histogram2d"
                      }
                    ],
                    "histogram2dcontour": [
                      {
                        "colorbar": {
                          "outlinewidth": 0,
                          "ticks": ""
                        },
                        "colorscale": [
                          [
                            0,
                            "#0d0887"
                          ],
                          [
                            0.1111111111111111,
                            "#46039f"
                          ],
                          [
                            0.2222222222222222,
                            "#7201a8"
                          ],
                          [
                            0.3333333333333333,
                            "#9c179e"
                          ],
                          [
                            0.4444444444444444,
                            "#bd3786"
                          ],
                          [
                            0.5555555555555556,
                            "#d8576b"
                          ],
                          [
                            0.6666666666666666,
                            "#ed7953"
                          ],
                          [
                            0.7777777777777778,
                            "#fb9f3a"
                          ],
                          [
                            0.8888888888888888,
                            "#fdca26"
                          ],
                          [
                            1,
                            "#f0f921"
                          ]
                        ],
                        "type": "histogram2dcontour"
                      }
                    ],
                    "mesh3d": [
                      {
                        "colorbar": {
                          "outlinewidth": 0,
                          "ticks": ""
                        },
                        "type": "mesh3d"
                      }
                    ],
                    "parcoords": [
                      {
                        "line": {
                          "colorbar": {
                            "outlinewidth": 0,
                            "ticks": ""
                          }
                        },
                        "type": "parcoords"
                      }
                    ],
                    "pie": [
                      {
                        "automargin": true,
                        "type": "pie"
                      }
                    ],
                    "scatter": [
                      {
                        "fillpattern": {
                          "fillmode": "overlay",
                          "size": 10,
                          "solidity": 0.2
                        },
                        "type": "scatter"
                      }
                    ],
                    "scatter3d": [
                      {
                        "line": {
                          "colorbar": {
                            "outlinewidth": 0,
                            "ticks": ""
                          }
                        },
                        "marker": {
                          "colorbar": {
                            "outlinewidth": 0,
                            "ticks": ""
                          }
                        },
                        "type": "scatter3d"
                      }
                    ],
                    "scattercarpet": [
                      {
                        "marker": {
                          "colorbar": {
                            "outlinewidth": 0,
                            "ticks": ""
                          }
                        },
                        "type": "scattercarpet"
                      }
                    ],
                    "scattergeo": [
                      {
                        "marker": {
                          "colorbar": {
                            "outlinewidth": 0,
                            "ticks": ""
                          }
                        },
                        "type": "scattergeo"
                      }
                    ],
                    "scattergl": [
                      {
                        "marker": {
                          "colorbar": {
                            "outlinewidth": 0,
                            "ticks": ""
                          }
                        },
                        "type": "scattergl"
                      }
                    ],
                    "scattermapbox": [
                      {
                        "marker": {
                          "colorbar": {
                            "outlinewidth": 0,
                            "ticks": ""
                          }
                        },
                        "type": "scattermapbox"
                      }
                    ],
                    "scatterpolar": [
                      {
                        "marker": {
                          "colorbar": {
                            "outlinewidth": 0,
                            "ticks": ""
                          }
                        },
                        "type": "scatterpolar"
                      }
                    ],
                    "scatterpolargl": [
                      {
                        "marker": {
                          "colorbar": {
                            "outlinewidth": 0,
                            "ticks": ""
                          }
                        },
                        "type": "scatterpolargl"
                      }
                    ],
                    "scatterternary": [
                      {
                        "marker": {
                          "colorbar": {
                            "outlinewidth": 0,
                            "ticks": ""
                          }
                        },
                        "type": "scatterternary"
                      }
                    ],
                    "surface": [
                      {
                        "colorbar": {
                          "outlinewidth": 0,
                          "ticks": ""
                        },
                        "colorscale": [
                          [
                            0,
                            "#0d0887"
                          ],
                          [
                            0.1111111111111111,
                            "#46039f"
                          ],
                          [
                            0.2222222222222222,
                            "#7201a8"
                          ],
                          [
                            0.3333333333333333,
                            "#9c179e"
                          ],
                          [
                            0.4444444444444444,
                            "#bd3786"
                          ],
                          [
                            0.5555555555555556,
                            "#d8576b"
                          ],
                          [
                            0.6666666666666666,
                            "#ed7953"
                          ],
                          [
                            0.7777777777777778,
                            "#fb9f3a"
                          ],
                          [
                            0.8888888888888888,
                            "#fdca26"
                          ],
                          [
                            1,
                            "#f0f921"
                          ]
                        ],
                        "type": "surface"
                      }
                    ],
                    "table": [
                      {
                        "cells": {
                          "fill": {
                            "color": "#EBF0F8"
                          },
                          "line": {
                            "color": "white"
                          }
                        },
                        "header": {
                          "fill": {
                            "color": "#C8D4E3"
                          },
                          "line": {
                            "color": "white"
                          }
                        },
                        "type": "table"
                      }
                    ]
                  },
                  "layout": {
                    "annotationdefaults": {
                      "arrowcolor": "#2a3f5f",
                      "arrowhead": 0,
                      "arrowwidth": 1
                    },
                    "autotypenumbers": "strict",
                    "coloraxis": {
                      "colorbar": {
                        "outlinewidth": 0,
                        "ticks": ""
                      }
                    },
                    "colorscale": {
                      "diverging": [
                        [
                          0,
                          "#8e0152"
                        ],
                        [
                          0.1,
                          "#c51b7d"
                        ],
                        [
                          0.2,
                          "#de77ae"
                        ],
                        [
                          0.3,
                          "#f1b6da"
                        ],
                        [
                          0.4,
                          "#fde0ef"
                        ],
                        [
                          0.5,
                          "#f7f7f7"
                        ],
                        [
                          0.6,
                          "#e6f5d0"
                        ],
                        [
                          0.7,
                          "#b8e186"
                        ],
                        [
                          0.8,
                          "#7fbc41"
                        ],
                        [
                          0.9,
                          "#4d9221"
                        ],
                        [
                          1,
                          "#276419"
                        ]
                      ],
                      "sequential": [
                        [
                          0,
                          "#0d0887"
                        ],
                        [
                          0.1111111111111111,
                          "#46039f"
                        ],
                        [
                          0.2222222222222222,
                          "#7201a8"
                        ],
                        [
                          0.3333333333333333,
                          "#9c179e"
                        ],
                        [
                          0.4444444444444444,
                          "#bd3786"
                        ],
                        [
                          0.5555555555555556,
                          "#d8576b"
                        ],
                        [
                          0.6666666666666666,
                          "#ed7953"
                        ],
                        [
                          0.7777777777777778,
                          "#fb9f3a"
                        ],
                        [
                          0.8888888888888888,
                          "#fdca26"
                        ],
                        [
                          1,
                          "#f0f921"
                        ]
                      ],
                      "sequentialminus": [
                        [
                          0,
                          "#0d0887"
                        ],
                        [
                          0.1111111111111111,
                          "#46039f"
                        ],
                        [
                          0.2222222222222222,
                          "#7201a8"
                        ],
                        [
                          0.3333333333333333,
                          "#9c179e"
                        ],
                        [
                          0.4444444444444444,
                          "#bd3786"
                        ],
                        [
                          0.5555555555555556,
                          "#d8576b"
                        ],
                        [
                          0.6666666666666666,
                          "#ed7953"
                        ],
                        [
                          0.7777777777777778,
                          "#fb9f3a"
                        ],
                        [
                          0.8888888888888888,
                          "#fdca26"
                        ],
                        [
                          1,
                          "#f0f921"
                        ]
                      ]
                    },
                    "colorway": [
                      "#636efa",
                      "#EF553B",
                      "#00cc96",
                      "#ab63fa",
                      "#FFA15A",
                      "#19d3f3",
                      "#FF6692",
                      "#B6E880",
                      "#FF97FF",
                      "#FECB52"
                    ],
                    "font": {
                      "color": "#2a3f5f"
                    },
                    "geo": {
                      "bgcolor": "white",
                      "lakecolor": "white",
                      "landcolor": "#E5ECF6",
                      "showlakes": true,
                      "showland": true,
                      "subunitcolor": "white"
                    },
                    "hoverlabel": {
                      "align": "left"
                    },
                    "hovermode": "closest",
                    "mapbox": {
                      "style": "light"
                    },
                    "paper_bgcolor": "white",
                    "plot_bgcolor": "#E5ECF6",
                    "polar": {
                      "angularaxis": {
                        "gridcolor": "white",
                        "linecolor": "white",
                        "ticks": ""
                      },
                      "bgcolor": "#E5ECF6",
                      "radialaxis": {
                        "gridcolor": "white",
                        "linecolor": "white",
                        "ticks": ""
                      }
                    },
                    "scene": {
                      "xaxis": {
                        "backgroundcolor": "#E5ECF6",
                        "gridcolor": "white",
                        "gridwidth": 2,
                        "linecolor": "white",
                        "showbackground": true,
                        "ticks": "",
                        "zerolinecolor": "white"
                      },
                      "yaxis": {
                        "backgroundcolor": "#E5ECF6",
                        "gridcolor": "white",
                        "gridwidth": 2,
                        "linecolor": "white",
                        "showbackground": true,
                        "ticks": "",
                        "zerolinecolor": "white"
                      },
                      "zaxis": {
                        "backgroundcolor": "#E5ECF6",
                        "gridcolor": "white",
                        "gridwidth": 2,
                        "linecolor": "white",
                        "showbackground": true,
                        "ticks": "",
                        "zerolinecolor": "white"
                      }
                    },
                    "shapedefaults": {
                      "line": {
                        "color": "#2a3f5f"
                      }
                    },
                    "ternary": {
                      "aaxis": {
                        "gridcolor": "white",
                        "linecolor": "white",
                        "ticks": ""
                      },
                      "baxis": {
                        "gridcolor": "white",
                        "linecolor": "white",
                        "ticks": ""
                      },
                      "bgcolor": "#E5ECF6",
                      "caxis": {
                        "gridcolor": "white",
                        "linecolor": "white",
                        "ticks": ""
                      }
                    },
                    "title": {
                      "x": 0.05
                    },
                    "xaxis": {
                      "automargin": true,
                      "gridcolor": "white",
                      "linecolor": "white",
                      "ticks": "",
                      "title": {
                        "standoff": 15
                      },
                      "zerolinecolor": "white",
                      "zerolinewidth": 2
                    },
                    "yaxis": {
                      "automargin": true,
                      "gridcolor": "white",
                      "linecolor": "white",
                      "ticks": "",
                      "title": {
                        "standoff": 15
                      },
                      "zerolinecolor": "white",
                      "zerolinewidth": 2
                    }
                  }
                },
                "title": {
                  "text": "Parallel Coordinate Plot"
                }
              }
            }
          },
          "metadata": {},
          "output_type": "display_data"
        }
      ],
      "source": [
        "plot_parallel_coordinate(study, params=[\"bagging_freq\", \"bagging_fraction\"])"
      ]
    },
    {
      "cell_type": "markdown",
      "metadata": {},
      "source": [
        "Visualize hyperparameter relationships. See :func:`~optuna.visualization.plot_contour` for the details.\n",
        "\n"
      ]
    },
    {
      "cell_type": "code",
      "execution_count": 9,
      "metadata": {
        "collapsed": false
      },
      "outputs": [
        {
          "data": {
            "application/vnd.plotly.v1+json": {
              "config": {
                "plotlyServerURL": "https://plot.ly"
              },
              "data": [
                {
                  "type": "scatter",
                  "xaxis": "x",
                  "yaxis": "y"
                },
                {
                  "colorbar": {
                    "title": {
                      "text": "Objective Value"
                    }
                  },
                  "colorscale": [
                    [
                      0,
                      "rgb(247,251,255)"
                    ],
                    [
                      0.125,
                      "rgb(222,235,247)"
                    ],
                    [
                      0.25,
                      "rgb(198,219,239)"
                    ],
                    [
                      0.375,
                      "rgb(158,202,225)"
                    ],
                    [
                      0.5,
                      "rgb(107,174,214)"
                    ],
                    [
                      0.625,
                      "rgb(66,146,198)"
                    ],
                    [
                      0.75,
                      "rgb(33,113,181)"
                    ],
                    [
                      0.875,
                      "rgb(8,81,156)"
                    ],
                    [
                      1,
                      "rgb(8,48,107)"
                    ]
                  ],
                  "connectgaps": true,
                  "contours": {
                    "coloring": "heatmap"
                  },
                  "hoverinfo": "none",
                  "line": {
                    "smoothing": 1.3
                  },
                  "reversescale": false,
                  "showscale": true,
                  "type": "contour",
                  "x": [
                    0.4079231397210236,
                    0.4348501673009197,
                    0.4770792095519505,
                    0.5100427059120604,
                    0.5903343863841894,
                    0.5995200470737633,
                    0.5996977861150512,
                    0.6247240713084175,
                    0.6922588822682393,
                    0.6971856013290972,
                    0.759195090518222,
                    0.7773548684322235,
                    0.8248435466776274,
                    0.899465584480253,
                    0.9733907188988407,
                    1.0003177464787367
                  ],
                  "xaxis": "x4",
                  "y": [
                    0.7,
                    1,
                    2,
                    3,
                    7,
                    7.3
                  ],
                  "yaxis": "y4",
                  "z": [
                    [
                      null,
                      null,
                      null,
                      null,
                      null,
                      null,
                      null,
                      null,
                      null,
                      null,
                      null,
                      null,
                      null,
                      null,
                      null,
                      null
                    ],
                    [
                      null,
                      null,
                      null,
                      null,
                      0.986013986013986,
                      null,
                      null,
                      null,
                      0.972027972027972,
                      1,
                      null,
                      0.993006993006993,
                      0.9790209790209791,
                      null,
                      0.986013986013986,
                      null
                    ],
                    [
                      null,
                      null,
                      null,
                      null,
                      null,
                      0.9790209790209791,
                      0.986013986013986,
                      null,
                      null,
                      null,
                      0.972027972027972,
                      null,
                      null,
                      0.958041958041958,
                      null,
                      null
                    ],
                    [
                      null,
                      null,
                      0.993006993006993,
                      0.993006993006993,
                      null,
                      null,
                      null,
                      null,
                      null,
                      null,
                      null,
                      null,
                      null,
                      null,
                      null,
                      null
                    ],
                    [
                      null,
                      0.958041958041958,
                      null,
                      null,
                      null,
                      null,
                      null,
                      0.972027972027972,
                      null,
                      null,
                      null,
                      null,
                      null,
                      null,
                      null,
                      null
                    ],
                    [
                      null,
                      null,
                      null,
                      null,
                      null,
                      null,
                      null,
                      null,
                      null,
                      null,
                      null,
                      null,
                      null,
                      null,
                      null,
                      null
                    ]
                  ]
                },
                {
                  "marker": {
                    "color": "black",
                    "line": {
                      "color": "Grey",
                      "width": 2
                    }
                  },
                  "mode": "markers",
                  "showlegend": false,
                  "type": "scatter",
                  "x": [
                    0.6247240713084175,
                    0.759195090518222,
                    0.4348501673009197,
                    0.8248435466776274,
                    0.899465584480253,
                    0.5100427059120604,
                    0.9733907188988407,
                    0.5995200470737633,
                    0.4770792095519505,
                    0.5996977861150512,
                    0.5903343863841894,
                    0.6922588822682393,
                    0.6971856013290972,
                    0.7773548684322235
                  ],
                  "xaxis": "x4",
                  "y": [
                    7,
                    2,
                    7,
                    1,
                    2,
                    3,
                    1,
                    2,
                    3,
                    2,
                    1,
                    1,
                    1,
                    1
                  ],
                  "yaxis": "y4"
                },
                {
                  "colorbar": {
                    "title": {
                      "text": "Objective Value"
                    }
                  },
                  "colorscale": [
                    [
                      0,
                      "rgb(247,251,255)"
                    ],
                    [
                      0.125,
                      "rgb(222,235,247)"
                    ],
                    [
                      0.25,
                      "rgb(198,219,239)"
                    ],
                    [
                      0.375,
                      "rgb(158,202,225)"
                    ],
                    [
                      0.5,
                      "rgb(107,174,214)"
                    ],
                    [
                      0.625,
                      "rgb(66,146,198)"
                    ],
                    [
                      0.75,
                      "rgb(33,113,181)"
                    ],
                    [
                      0.875,
                      "rgb(8,81,156)"
                    ],
                    [
                      1,
                      "rgb(8,48,107)"
                    ]
                  ],
                  "connectgaps": true,
                  "contours": {
                    "coloring": "heatmap"
                  },
                  "hoverinfo": "none",
                  "line": {
                    "smoothing": 1.3
                  },
                  "reversescale": false,
                  "showscale": false,
                  "type": "contour",
                  "x": [
                    0.4079231397210236,
                    0.4348501673009197,
                    0.4770792095519505,
                    0.5100427059120604,
                    0.5903343863841894,
                    0.5995200470737633,
                    0.5996977861150512,
                    0.6247240713084175,
                    0.6922588822682393,
                    0.6971856013290972,
                    0.759195090518222,
                    0.7773548684322235,
                    0.8248435466776274,
                    0.899465584480253,
                    0.9733907188988407,
                    1.0003177464787367
                  ],
                  "xaxis": "x7",
                  "y": [
                    14,
                    18,
                    19,
                    20,
                    22,
                    24,
                    31,
                    39,
                    54,
                    55,
                    62,
                    70,
                    75,
                    98,
                    102
                  ],
                  "yaxis": "y7",
                  "z": [
                    [
                      null,
                      null,
                      null,
                      null,
                      null,
                      null,
                      null,
                      null,
                      null,
                      null,
                      null,
                      null,
                      null,
                      null,
                      null,
                      null
                    ],
                    [
                      null,
                      null,
                      null,
                      null,
                      null,
                      null,
                      null,
                      null,
                      null,
                      1,
                      null,
                      null,
                      null,
                      null,
                      null,
                      null
                    ],
                    [
                      null,
                      null,
                      null,
                      null,
                      null,
                      null,
                      null,
                      null,
                      null,
                      null,
                      0.972027972027972,
                      null,
                      null,
                      null,
                      null,
                      null
                    ],
                    [
                      null,
                      null,
                      null,
                      null,
                      null,
                      null,
                      null,
                      null,
                      0.972027972027972,
                      null,
                      null,
                      null,
                      null,
                      null,
                      null,
                      null
                    ],
                    [
                      null,
                      null,
                      null,
                      null,
                      null,
                      null,
                      null,
                      null,
                      null,
                      null,
                      null,
                      null,
                      null,
                      0.958041958041958,
                      null,
                      null
                    ],
                    [
                      null,
                      null,
                      null,
                      null,
                      null,
                      null,
                      null,
                      null,
                      null,
                      null,
                      null,
                      0.993006993006993,
                      null,
                      null,
                      null,
                      null
                    ],
                    [
                      null,
                      null,
                      null,
                      null,
                      null,
                      null,
                      0.986013986013986,
                      null,
                      null,
                      null,
                      null,
                      null,
                      null,
                      null,
                      null,
                      null
                    ],
                    [
                      null,
                      null,
                      null,
                      null,
                      0.986013986013986,
                      null,
                      null,
                      null,
                      null,
                      null,
                      null,
                      null,
                      null,
                      null,
                      null,
                      null
                    ],
                    [
                      null,
                      null,
                      null,
                      null,
                      null,
                      0.9790209790209791,
                      null,
                      null,
                      null,
                      null,
                      null,
                      null,
                      null,
                      null,
                      null,
                      null
                    ],
                    [
                      null,
                      null,
                      null,
                      0.993006993006993,
                      null,
                      null,
                      null,
                      null,
                      null,
                      null,
                      null,
                      null,
                      null,
                      null,
                      null,
                      null
                    ],
                    [
                      null,
                      0.958041958041958,
                      null,
                      null,
                      null,
                      null,
                      null,
                      null,
                      null,
                      null,
                      null,
                      null,
                      null,
                      null,
                      null,
                      null
                    ],
                    [
                      null,
                      null,
                      0.993006993006993,
                      null,
                      null,
                      null,
                      null,
                      null,
                      null,
                      null,
                      null,
                      null,
                      null,
                      null,
                      null,
                      null
                    ],
                    [
                      null,
                      null,
                      null,
                      null,
                      null,
                      null,
                      null,
                      0.972027972027972,
                      null,
                      null,
                      null,
                      null,
                      null,
                      null,
                      null,
                      null
                    ],
                    [
                      null,
                      null,
                      null,
                      null,
                      null,
                      null,
                      null,
                      null,
                      null,
                      null,
                      null,
                      null,
                      0.9790209790209791,
                      null,
                      0.986013986013986,
                      null
                    ],
                    [
                      null,
                      null,
                      null,
                      null,
                      null,
                      null,
                      null,
                      null,
                      null,
                      null,
                      null,
                      null,
                      null,
                      null,
                      null,
                      null
                    ]
                  ]
                },
                {
                  "marker": {
                    "color": "black",
                    "line": {
                      "color": "Grey",
                      "width": 2
                    }
                  },
                  "mode": "markers",
                  "showlegend": false,
                  "type": "scatter",
                  "x": [
                    0.6247240713084175,
                    0.759195090518222,
                    0.4348501673009197,
                    0.8248435466776274,
                    0.899465584480253,
                    0.5100427059120604,
                    0.9733907188988407,
                    0.5995200470737633,
                    0.4770792095519505,
                    0.5996977861150512,
                    0.5903343863841894,
                    0.6922588822682393,
                    0.6971856013290972,
                    0.7773548684322235
                  ],
                  "xaxis": "x7",
                  "y": [
                    75,
                    19,
                    62,
                    98,
                    22,
                    55,
                    98,
                    54,
                    70,
                    31,
                    39,
                    20,
                    18,
                    24
                  ],
                  "yaxis": "y7"
                },
                {
                  "colorbar": {
                    "title": {
                      "text": "Objective Value"
                    }
                  },
                  "colorscale": [
                    [
                      0,
                      "rgb(247,251,255)"
                    ],
                    [
                      0.125,
                      "rgb(222,235,247)"
                    ],
                    [
                      0.25,
                      "rgb(198,219,239)"
                    ],
                    [
                      0.375,
                      "rgb(158,202,225)"
                    ],
                    [
                      0.5,
                      "rgb(107,174,214)"
                    ],
                    [
                      0.625,
                      "rgb(66,146,198)"
                    ],
                    [
                      0.75,
                      "rgb(33,113,181)"
                    ],
                    [
                      0.875,
                      "rgb(8,81,156)"
                    ],
                    [
                      1,
                      "rgb(8,48,107)"
                    ]
                  ],
                  "connectgaps": true,
                  "contours": {
                    "coloring": "heatmap"
                  },
                  "hoverinfo": "none",
                  "line": {
                    "smoothing": 1.3
                  },
                  "reversescale": false,
                  "showscale": false,
                  "type": "contour",
                  "x": [
                    0.7,
                    1,
                    2,
                    3,
                    7,
                    7.3
                  ],
                  "xaxis": "x2",
                  "y": [
                    0.4079231397210236,
                    0.4348501673009197,
                    0.4770792095519505,
                    0.5100427059120604,
                    0.5903343863841894,
                    0.5995200470737633,
                    0.5996977861150512,
                    0.6247240713084175,
                    0.6922588822682393,
                    0.6971856013290972,
                    0.759195090518222,
                    0.7773548684322235,
                    0.8248435466776274,
                    0.899465584480253,
                    0.9733907188988407,
                    1.0003177464787367
                  ],
                  "yaxis": "y2",
                  "z": [
                    [
                      null,
                      null,
                      null,
                      null,
                      null,
                      null
                    ],
                    [
                      null,
                      null,
                      null,
                      null,
                      0.958041958041958,
                      null
                    ],
                    [
                      null,
                      null,
                      null,
                      0.993006993006993,
                      null,
                      null
                    ],
                    [
                      null,
                      null,
                      null,
                      0.993006993006993,
                      null,
                      null
                    ],
                    [
                      null,
                      0.986013986013986,
                      null,
                      null,
                      null,
                      null
                    ],
                    [
                      null,
                      null,
                      0.9790209790209791,
                      null,
                      null,
                      null
                    ],
                    [
                      null,
                      null,
                      0.986013986013986,
                      null,
                      null,
                      null
                    ],
                    [
                      null,
                      null,
                      null,
                      null,
                      0.972027972027972,
                      null
                    ],
                    [
                      null,
                      0.972027972027972,
                      null,
                      null,
                      null,
                      null
                    ],
                    [
                      null,
                      1,
                      null,
                      null,
                      null,
                      null
                    ],
                    [
                      null,
                      null,
                      0.972027972027972,
                      null,
                      null,
                      null
                    ],
                    [
                      null,
                      0.993006993006993,
                      null,
                      null,
                      null,
                      null
                    ],
                    [
                      null,
                      0.9790209790209791,
                      null,
                      null,
                      null,
                      null
                    ],
                    [
                      null,
                      null,
                      0.958041958041958,
                      null,
                      null,
                      null
                    ],
                    [
                      null,
                      0.986013986013986,
                      null,
                      null,
                      null,
                      null
                    ],
                    [
                      null,
                      null,
                      null,
                      null,
                      null,
                      null
                    ]
                  ]
                },
                {
                  "marker": {
                    "color": "black",
                    "line": {
                      "color": "Grey",
                      "width": 2
                    }
                  },
                  "mode": "markers",
                  "showlegend": false,
                  "type": "scatter",
                  "x": [
                    7,
                    2,
                    7,
                    1,
                    2,
                    3,
                    1,
                    2,
                    3,
                    2,
                    1,
                    1,
                    1,
                    1
                  ],
                  "xaxis": "x2",
                  "y": [
                    0.6247240713084175,
                    0.759195090518222,
                    0.4348501673009197,
                    0.8248435466776274,
                    0.899465584480253,
                    0.5100427059120604,
                    0.9733907188988407,
                    0.5995200470737633,
                    0.4770792095519505,
                    0.5996977861150512,
                    0.5903343863841894,
                    0.6922588822682393,
                    0.6971856013290972,
                    0.7773548684322235
                  ],
                  "yaxis": "y2"
                },
                {
                  "type": "scatter",
                  "xaxis": "x5",
                  "yaxis": "y5"
                },
                {
                  "colorbar": {
                    "title": {
                      "text": "Objective Value"
                    }
                  },
                  "colorscale": [
                    [
                      0,
                      "rgb(247,251,255)"
                    ],
                    [
                      0.125,
                      "rgb(222,235,247)"
                    ],
                    [
                      0.25,
                      "rgb(198,219,239)"
                    ],
                    [
                      0.375,
                      "rgb(158,202,225)"
                    ],
                    [
                      0.5,
                      "rgb(107,174,214)"
                    ],
                    [
                      0.625,
                      "rgb(66,146,198)"
                    ],
                    [
                      0.75,
                      "rgb(33,113,181)"
                    ],
                    [
                      0.875,
                      "rgb(8,81,156)"
                    ],
                    [
                      1,
                      "rgb(8,48,107)"
                    ]
                  ],
                  "connectgaps": true,
                  "contours": {
                    "coloring": "heatmap"
                  },
                  "hoverinfo": "none",
                  "line": {
                    "smoothing": 1.3
                  },
                  "reversescale": false,
                  "showscale": false,
                  "type": "contour",
                  "x": [
                    0.7,
                    1,
                    2,
                    3,
                    7,
                    7.3
                  ],
                  "xaxis": "x8",
                  "y": [
                    14,
                    18,
                    19,
                    20,
                    22,
                    24,
                    31,
                    39,
                    54,
                    55,
                    62,
                    70,
                    75,
                    98,
                    102
                  ],
                  "yaxis": "y8",
                  "z": [
                    [
                      null,
                      null,
                      null,
                      null,
                      null,
                      null
                    ],
                    [
                      null,
                      1,
                      null,
                      null,
                      null,
                      null
                    ],
                    [
                      null,
                      null,
                      0.972027972027972,
                      null,
                      null,
                      null
                    ],
                    [
                      null,
                      0.972027972027972,
                      null,
                      null,
                      null,
                      null
                    ],
                    [
                      null,
                      null,
                      0.958041958041958,
                      null,
                      null,
                      null
                    ],
                    [
                      null,
                      0.993006993006993,
                      null,
                      null,
                      null,
                      null
                    ],
                    [
                      null,
                      null,
                      0.986013986013986,
                      null,
                      null,
                      null
                    ],
                    [
                      null,
                      0.986013986013986,
                      null,
                      null,
                      null,
                      null
                    ],
                    [
                      null,
                      null,
                      0.9790209790209791,
                      null,
                      null,
                      null
                    ],
                    [
                      null,
                      null,
                      null,
                      0.993006993006993,
                      null,
                      null
                    ],
                    [
                      null,
                      null,
                      null,
                      null,
                      0.958041958041958,
                      null
                    ],
                    [
                      null,
                      null,
                      null,
                      0.993006993006993,
                      null,
                      null
                    ],
                    [
                      null,
                      null,
                      null,
                      null,
                      0.972027972027972,
                      null
                    ],
                    [
                      null,
                      0.986013986013986,
                      null,
                      null,
                      null,
                      null
                    ],
                    [
                      null,
                      null,
                      null,
                      null,
                      null,
                      null
                    ]
                  ]
                },
                {
                  "marker": {
                    "color": "black",
                    "line": {
                      "color": "Grey",
                      "width": 2
                    }
                  },
                  "mode": "markers",
                  "showlegend": false,
                  "type": "scatter",
                  "x": [
                    7,
                    2,
                    7,
                    1,
                    2,
                    3,
                    1,
                    2,
                    3,
                    2,
                    1,
                    1,
                    1,
                    1
                  ],
                  "xaxis": "x8",
                  "y": [
                    75,
                    19,
                    62,
                    98,
                    22,
                    55,
                    98,
                    54,
                    70,
                    31,
                    39,
                    20,
                    18,
                    24
                  ],
                  "yaxis": "y8"
                },
                {
                  "colorbar": {
                    "title": {
                      "text": "Objective Value"
                    }
                  },
                  "colorscale": [
                    [
                      0,
                      "rgb(247,251,255)"
                    ],
                    [
                      0.125,
                      "rgb(222,235,247)"
                    ],
                    [
                      0.25,
                      "rgb(198,219,239)"
                    ],
                    [
                      0.375,
                      "rgb(158,202,225)"
                    ],
                    [
                      0.5,
                      "rgb(107,174,214)"
                    ],
                    [
                      0.625,
                      "rgb(66,146,198)"
                    ],
                    [
                      0.75,
                      "rgb(33,113,181)"
                    ],
                    [
                      0.875,
                      "rgb(8,81,156)"
                    ],
                    [
                      1,
                      "rgb(8,48,107)"
                    ]
                  ],
                  "connectgaps": true,
                  "contours": {
                    "coloring": "heatmap"
                  },
                  "hoverinfo": "none",
                  "line": {
                    "smoothing": 1.3
                  },
                  "reversescale": false,
                  "showscale": false,
                  "type": "contour",
                  "x": [
                    14,
                    18,
                    19,
                    20,
                    22,
                    24,
                    31,
                    39,
                    54,
                    55,
                    62,
                    70,
                    75,
                    98,
                    102
                  ],
                  "xaxis": "x3",
                  "y": [
                    0.4079231397210236,
                    0.4348501673009197,
                    0.4770792095519505,
                    0.5100427059120604,
                    0.5903343863841894,
                    0.5995200470737633,
                    0.5996977861150512,
                    0.6247240713084175,
                    0.6922588822682393,
                    0.6971856013290972,
                    0.759195090518222,
                    0.7773548684322235,
                    0.8248435466776274,
                    0.899465584480253,
                    0.9733907188988407,
                    1.0003177464787367
                  ],
                  "yaxis": "y3",
                  "z": [
                    [
                      null,
                      null,
                      null,
                      null,
                      null,
                      null,
                      null,
                      null,
                      null,
                      null,
                      null,
                      null,
                      null,
                      null,
                      null
                    ],
                    [
                      null,
                      null,
                      null,
                      null,
                      null,
                      null,
                      null,
                      null,
                      null,
                      null,
                      0.958041958041958,
                      null,
                      null,
                      null,
                      null
                    ],
                    [
                      null,
                      null,
                      null,
                      null,
                      null,
                      null,
                      null,
                      null,
                      null,
                      null,
                      null,
                      0.993006993006993,
                      null,
                      null,
                      null
                    ],
                    [
                      null,
                      null,
                      null,
                      null,
                      null,
                      null,
                      null,
                      null,
                      null,
                      0.993006993006993,
                      null,
                      null,
                      null,
                      null,
                      null
                    ],
                    [
                      null,
                      null,
                      null,
                      null,
                      null,
                      null,
                      null,
                      0.986013986013986,
                      null,
                      null,
                      null,
                      null,
                      null,
                      null,
                      null
                    ],
                    [
                      null,
                      null,
                      null,
                      null,
                      null,
                      null,
                      null,
                      null,
                      0.9790209790209791,
                      null,
                      null,
                      null,
                      null,
                      null,
                      null
                    ],
                    [
                      null,
                      null,
                      null,
                      null,
                      null,
                      null,
                      0.986013986013986,
                      null,
                      null,
                      null,
                      null,
                      null,
                      null,
                      null,
                      null
                    ],
                    [
                      null,
                      null,
                      null,
                      null,
                      null,
                      null,
                      null,
                      null,
                      null,
                      null,
                      null,
                      null,
                      0.972027972027972,
                      null,
                      null
                    ],
                    [
                      null,
                      null,
                      null,
                      0.972027972027972,
                      null,
                      null,
                      null,
                      null,
                      null,
                      null,
                      null,
                      null,
                      null,
                      null,
                      null
                    ],
                    [
                      null,
                      1,
                      null,
                      null,
                      null,
                      null,
                      null,
                      null,
                      null,
                      null,
                      null,
                      null,
                      null,
                      null,
                      null
                    ],
                    [
                      null,
                      null,
                      0.972027972027972,
                      null,
                      null,
                      null,
                      null,
                      null,
                      null,
                      null,
                      null,
                      null,
                      null,
                      null,
                      null
                    ],
                    [
                      null,
                      null,
                      null,
                      null,
                      null,
                      0.993006993006993,
                      null,
                      null,
                      null,
                      null,
                      null,
                      null,
                      null,
                      null,
                      null
                    ],
                    [
                      null,
                      null,
                      null,
                      null,
                      null,
                      null,
                      null,
                      null,
                      null,
                      null,
                      null,
                      null,
                      null,
                      0.9790209790209791,
                      null
                    ],
                    [
                      null,
                      null,
                      null,
                      null,
                      0.958041958041958,
                      null,
                      null,
                      null,
                      null,
                      null,
                      null,
                      null,
                      null,
                      null,
                      null
                    ],
                    [
                      null,
                      null,
                      null,
                      null,
                      null,
                      null,
                      null,
                      null,
                      null,
                      null,
                      null,
                      null,
                      null,
                      0.986013986013986,
                      null
                    ],
                    [
                      null,
                      null,
                      null,
                      null,
                      null,
                      null,
                      null,
                      null,
                      null,
                      null,
                      null,
                      null,
                      null,
                      null,
                      null
                    ]
                  ]
                },
                {
                  "marker": {
                    "color": "black",
                    "line": {
                      "color": "Grey",
                      "width": 2
                    }
                  },
                  "mode": "markers",
                  "showlegend": false,
                  "type": "scatter",
                  "x": [
                    75,
                    19,
                    62,
                    98,
                    22,
                    55,
                    98,
                    54,
                    70,
                    31,
                    39,
                    20,
                    18,
                    24
                  ],
                  "xaxis": "x3",
                  "y": [
                    0.6247240713084175,
                    0.759195090518222,
                    0.4348501673009197,
                    0.8248435466776274,
                    0.899465584480253,
                    0.5100427059120604,
                    0.9733907188988407,
                    0.5995200470737633,
                    0.4770792095519505,
                    0.5996977861150512,
                    0.5903343863841894,
                    0.6922588822682393,
                    0.6971856013290972,
                    0.7773548684322235
                  ],
                  "yaxis": "y3"
                },
                {
                  "colorbar": {
                    "title": {
                      "text": "Objective Value"
                    }
                  },
                  "colorscale": [
                    [
                      0,
                      "rgb(247,251,255)"
                    ],
                    [
                      0.125,
                      "rgb(222,235,247)"
                    ],
                    [
                      0.25,
                      "rgb(198,219,239)"
                    ],
                    [
                      0.375,
                      "rgb(158,202,225)"
                    ],
                    [
                      0.5,
                      "rgb(107,174,214)"
                    ],
                    [
                      0.625,
                      "rgb(66,146,198)"
                    ],
                    [
                      0.75,
                      "rgb(33,113,181)"
                    ],
                    [
                      0.875,
                      "rgb(8,81,156)"
                    ],
                    [
                      1,
                      "rgb(8,48,107)"
                    ]
                  ],
                  "connectgaps": true,
                  "contours": {
                    "coloring": "heatmap"
                  },
                  "hoverinfo": "none",
                  "line": {
                    "smoothing": 1.3
                  },
                  "reversescale": false,
                  "showscale": false,
                  "type": "contour",
                  "x": [
                    14,
                    18,
                    19,
                    20,
                    22,
                    24,
                    31,
                    39,
                    54,
                    55,
                    62,
                    70,
                    75,
                    98,
                    102
                  ],
                  "xaxis": "x6",
                  "y": [
                    0.7,
                    1,
                    2,
                    3,
                    7,
                    7.3
                  ],
                  "yaxis": "y6",
                  "z": [
                    [
                      null,
                      null,
                      null,
                      null,
                      null,
                      null,
                      null,
                      null,
                      null,
                      null,
                      null,
                      null,
                      null,
                      null,
                      null
                    ],
                    [
                      null,
                      1,
                      null,
                      0.972027972027972,
                      null,
                      0.993006993006993,
                      null,
                      0.986013986013986,
                      null,
                      null,
                      null,
                      null,
                      null,
                      0.986013986013986,
                      null
                    ],
                    [
                      null,
                      null,
                      0.972027972027972,
                      null,
                      0.958041958041958,
                      null,
                      0.986013986013986,
                      null,
                      0.9790209790209791,
                      null,
                      null,
                      null,
                      null,
                      null,
                      null
                    ],
                    [
                      null,
                      null,
                      null,
                      null,
                      null,
                      null,
                      null,
                      null,
                      null,
                      0.993006993006993,
                      null,
                      0.993006993006993,
                      null,
                      null,
                      null
                    ],
                    [
                      null,
                      null,
                      null,
                      null,
                      null,
                      null,
                      null,
                      null,
                      null,
                      null,
                      0.958041958041958,
                      null,
                      0.972027972027972,
                      null,
                      null
                    ],
                    [
                      null,
                      null,
                      null,
                      null,
                      null,
                      null,
                      null,
                      null,
                      null,
                      null,
                      null,
                      null,
                      null,
                      null,
                      null
                    ]
                  ]
                },
                {
                  "marker": {
                    "color": "black",
                    "line": {
                      "color": "Grey",
                      "width": 2
                    }
                  },
                  "mode": "markers",
                  "showlegend": false,
                  "type": "scatter",
                  "x": [
                    75,
                    19,
                    62,
                    98,
                    22,
                    55,
                    98,
                    54,
                    70,
                    31,
                    39,
                    20,
                    18,
                    24
                  ],
                  "xaxis": "x6",
                  "y": [
                    7,
                    2,
                    7,
                    1,
                    2,
                    3,
                    1,
                    2,
                    3,
                    2,
                    1,
                    1,
                    1,
                    1
                  ],
                  "yaxis": "y6"
                },
                {
                  "type": "scatter",
                  "xaxis": "x9",
                  "yaxis": "y9"
                }
              ],
              "layout": {
                "template": {
                  "data": {
                    "bar": [
                      {
                        "error_x": {
                          "color": "#2a3f5f"
                        },
                        "error_y": {
                          "color": "#2a3f5f"
                        },
                        "marker": {
                          "line": {
                            "color": "#E5ECF6",
                            "width": 0.5
                          },
                          "pattern": {
                            "fillmode": "overlay",
                            "size": 10,
                            "solidity": 0.2
                          }
                        },
                        "type": "bar"
                      }
                    ],
                    "barpolar": [
                      {
                        "marker": {
                          "line": {
                            "color": "#E5ECF6",
                            "width": 0.5
                          },
                          "pattern": {
                            "fillmode": "overlay",
                            "size": 10,
                            "solidity": 0.2
                          }
                        },
                        "type": "barpolar"
                      }
                    ],
                    "carpet": [
                      {
                        "aaxis": {
                          "endlinecolor": "#2a3f5f",
                          "gridcolor": "white",
                          "linecolor": "white",
                          "minorgridcolor": "white",
                          "startlinecolor": "#2a3f5f"
                        },
                        "baxis": {
                          "endlinecolor": "#2a3f5f",
                          "gridcolor": "white",
                          "linecolor": "white",
                          "minorgridcolor": "white",
                          "startlinecolor": "#2a3f5f"
                        },
                        "type": "carpet"
                      }
                    ],
                    "choropleth": [
                      {
                        "colorbar": {
                          "outlinewidth": 0,
                          "ticks": ""
                        },
                        "type": "choropleth"
                      }
                    ],
                    "contour": [
                      {
                        "colorbar": {
                          "outlinewidth": 0,
                          "ticks": ""
                        },
                        "colorscale": [
                          [
                            0,
                            "#0d0887"
                          ],
                          [
                            0.1111111111111111,
                            "#46039f"
                          ],
                          [
                            0.2222222222222222,
                            "#7201a8"
                          ],
                          [
                            0.3333333333333333,
                            "#9c179e"
                          ],
                          [
                            0.4444444444444444,
                            "#bd3786"
                          ],
                          [
                            0.5555555555555556,
                            "#d8576b"
                          ],
                          [
                            0.6666666666666666,
                            "#ed7953"
                          ],
                          [
                            0.7777777777777778,
                            "#fb9f3a"
                          ],
                          [
                            0.8888888888888888,
                            "#fdca26"
                          ],
                          [
                            1,
                            "#f0f921"
                          ]
                        ],
                        "type": "contour"
                      }
                    ],
                    "contourcarpet": [
                      {
                        "colorbar": {
                          "outlinewidth": 0,
                          "ticks": ""
                        },
                        "type": "contourcarpet"
                      }
                    ],
                    "heatmap": [
                      {
                        "colorbar": {
                          "outlinewidth": 0,
                          "ticks": ""
                        },
                        "colorscale": [
                          [
                            0,
                            "#0d0887"
                          ],
                          [
                            0.1111111111111111,
                            "#46039f"
                          ],
                          [
                            0.2222222222222222,
                            "#7201a8"
                          ],
                          [
                            0.3333333333333333,
                            "#9c179e"
                          ],
                          [
                            0.4444444444444444,
                            "#bd3786"
                          ],
                          [
                            0.5555555555555556,
                            "#d8576b"
                          ],
                          [
                            0.6666666666666666,
                            "#ed7953"
                          ],
                          [
                            0.7777777777777778,
                            "#fb9f3a"
                          ],
                          [
                            0.8888888888888888,
                            "#fdca26"
                          ],
                          [
                            1,
                            "#f0f921"
                          ]
                        ],
                        "type": "heatmap"
                      }
                    ],
                    "heatmapgl": [
                      {
                        "colorbar": {
                          "outlinewidth": 0,
                          "ticks": ""
                        },
                        "colorscale": [
                          [
                            0,
                            "#0d0887"
                          ],
                          [
                            0.1111111111111111,
                            "#46039f"
                          ],
                          [
                            0.2222222222222222,
                            "#7201a8"
                          ],
                          [
                            0.3333333333333333,
                            "#9c179e"
                          ],
                          [
                            0.4444444444444444,
                            "#bd3786"
                          ],
                          [
                            0.5555555555555556,
                            "#d8576b"
                          ],
                          [
                            0.6666666666666666,
                            "#ed7953"
                          ],
                          [
                            0.7777777777777778,
                            "#fb9f3a"
                          ],
                          [
                            0.8888888888888888,
                            "#fdca26"
                          ],
                          [
                            1,
                            "#f0f921"
                          ]
                        ],
                        "type": "heatmapgl"
                      }
                    ],
                    "histogram": [
                      {
                        "marker": {
                          "pattern": {
                            "fillmode": "overlay",
                            "size": 10,
                            "solidity": 0.2
                          }
                        },
                        "type": "histogram"
                      }
                    ],
                    "histogram2d": [
                      {
                        "colorbar": {
                          "outlinewidth": 0,
                          "ticks": ""
                        },
                        "colorscale": [
                          [
                            0,
                            "#0d0887"
                          ],
                          [
                            0.1111111111111111,
                            "#46039f"
                          ],
                          [
                            0.2222222222222222,
                            "#7201a8"
                          ],
                          [
                            0.3333333333333333,
                            "#9c179e"
                          ],
                          [
                            0.4444444444444444,
                            "#bd3786"
                          ],
                          [
                            0.5555555555555556,
                            "#d8576b"
                          ],
                          [
                            0.6666666666666666,
                            "#ed7953"
                          ],
                          [
                            0.7777777777777778,
                            "#fb9f3a"
                          ],
                          [
                            0.8888888888888888,
                            "#fdca26"
                          ],
                          [
                            1,
                            "#f0f921"
                          ]
                        ],
                        "type": "histogram2d"
                      }
                    ],
                    "histogram2dcontour": [
                      {
                        "colorbar": {
                          "outlinewidth": 0,
                          "ticks": ""
                        },
                        "colorscale": [
                          [
                            0,
                            "#0d0887"
                          ],
                          [
                            0.1111111111111111,
                            "#46039f"
                          ],
                          [
                            0.2222222222222222,
                            "#7201a8"
                          ],
                          [
                            0.3333333333333333,
                            "#9c179e"
                          ],
                          [
                            0.4444444444444444,
                            "#bd3786"
                          ],
                          [
                            0.5555555555555556,
                            "#d8576b"
                          ],
                          [
                            0.6666666666666666,
                            "#ed7953"
                          ],
                          [
                            0.7777777777777778,
                            "#fb9f3a"
                          ],
                          [
                            0.8888888888888888,
                            "#fdca26"
                          ],
                          [
                            1,
                            "#f0f921"
                          ]
                        ],
                        "type": "histogram2dcontour"
                      }
                    ],
                    "mesh3d": [
                      {
                        "colorbar": {
                          "outlinewidth": 0,
                          "ticks": ""
                        },
                        "type": "mesh3d"
                      }
                    ],
                    "parcoords": [
                      {
                        "line": {
                          "colorbar": {
                            "outlinewidth": 0,
                            "ticks": ""
                          }
                        },
                        "type": "parcoords"
                      }
                    ],
                    "pie": [
                      {
                        "automargin": true,
                        "type": "pie"
                      }
                    ],
                    "scatter": [
                      {
                        "fillpattern": {
                          "fillmode": "overlay",
                          "size": 10,
                          "solidity": 0.2
                        },
                        "type": "scatter"
                      }
                    ],
                    "scatter3d": [
                      {
                        "line": {
                          "colorbar": {
                            "outlinewidth": 0,
                            "ticks": ""
                          }
                        },
                        "marker": {
                          "colorbar": {
                            "outlinewidth": 0,
                            "ticks": ""
                          }
                        },
                        "type": "scatter3d"
                      }
                    ],
                    "scattercarpet": [
                      {
                        "marker": {
                          "colorbar": {
                            "outlinewidth": 0,
                            "ticks": ""
                          }
                        },
                        "type": "scattercarpet"
                      }
                    ],
                    "scattergeo": [
                      {
                        "marker": {
                          "colorbar": {
                            "outlinewidth": 0,
                            "ticks": ""
                          }
                        },
                        "type": "scattergeo"
                      }
                    ],
                    "scattergl": [
                      {
                        "marker": {
                          "colorbar": {
                            "outlinewidth": 0,
                            "ticks": ""
                          }
                        },
                        "type": "scattergl"
                      }
                    ],
                    "scattermapbox": [
                      {
                        "marker": {
                          "colorbar": {
                            "outlinewidth": 0,
                            "ticks": ""
                          }
                        },
                        "type": "scattermapbox"
                      }
                    ],
                    "scatterpolar": [
                      {
                        "marker": {
                          "colorbar": {
                            "outlinewidth": 0,
                            "ticks": ""
                          }
                        },
                        "type": "scatterpolar"
                      }
                    ],
                    "scatterpolargl": [
                      {
                        "marker": {
                          "colorbar": {
                            "outlinewidth": 0,
                            "ticks": ""
                          }
                        },
                        "type": "scatterpolargl"
                      }
                    ],
                    "scatterternary": [
                      {
                        "marker": {
                          "colorbar": {
                            "outlinewidth": 0,
                            "ticks": ""
                          }
                        },
                        "type": "scatterternary"
                      }
                    ],
                    "surface": [
                      {
                        "colorbar": {
                          "outlinewidth": 0,
                          "ticks": ""
                        },
                        "colorscale": [
                          [
                            0,
                            "#0d0887"
                          ],
                          [
                            0.1111111111111111,
                            "#46039f"
                          ],
                          [
                            0.2222222222222222,
                            "#7201a8"
                          ],
                          [
                            0.3333333333333333,
                            "#9c179e"
                          ],
                          [
                            0.4444444444444444,
                            "#bd3786"
                          ],
                          [
                            0.5555555555555556,
                            "#d8576b"
                          ],
                          [
                            0.6666666666666666,
                            "#ed7953"
                          ],
                          [
                            0.7777777777777778,
                            "#fb9f3a"
                          ],
                          [
                            0.8888888888888888,
                            "#fdca26"
                          ],
                          [
                            1,
                            "#f0f921"
                          ]
                        ],
                        "type": "surface"
                      }
                    ],
                    "table": [
                      {
                        "cells": {
                          "fill": {
                            "color": "#EBF0F8"
                          },
                          "line": {
                            "color": "white"
                          }
                        },
                        "header": {
                          "fill": {
                            "color": "#C8D4E3"
                          },
                          "line": {
                            "color": "white"
                          }
                        },
                        "type": "table"
                      }
                    ]
                  },
                  "layout": {
                    "annotationdefaults": {
                      "arrowcolor": "#2a3f5f",
                      "arrowhead": 0,
                      "arrowwidth": 1
                    },
                    "autotypenumbers": "strict",
                    "coloraxis": {
                      "colorbar": {
                        "outlinewidth": 0,
                        "ticks": ""
                      }
                    },
                    "colorscale": {
                      "diverging": [
                        [
                          0,
                          "#8e0152"
                        ],
                        [
                          0.1,
                          "#c51b7d"
                        ],
                        [
                          0.2,
                          "#de77ae"
                        ],
                        [
                          0.3,
                          "#f1b6da"
                        ],
                        [
                          0.4,
                          "#fde0ef"
                        ],
                        [
                          0.5,
                          "#f7f7f7"
                        ],
                        [
                          0.6,
                          "#e6f5d0"
                        ],
                        [
                          0.7,
                          "#b8e186"
                        ],
                        [
                          0.8,
                          "#7fbc41"
                        ],
                        [
                          0.9,
                          "#4d9221"
                        ],
                        [
                          1,
                          "#276419"
                        ]
                      ],
                      "sequential": [
                        [
                          0,
                          "#0d0887"
                        ],
                        [
                          0.1111111111111111,
                          "#46039f"
                        ],
                        [
                          0.2222222222222222,
                          "#7201a8"
                        ],
                        [
                          0.3333333333333333,
                          "#9c179e"
                        ],
                        [
                          0.4444444444444444,
                          "#bd3786"
                        ],
                        [
                          0.5555555555555556,
                          "#d8576b"
                        ],
                        [
                          0.6666666666666666,
                          "#ed7953"
                        ],
                        [
                          0.7777777777777778,
                          "#fb9f3a"
                        ],
                        [
                          0.8888888888888888,
                          "#fdca26"
                        ],
                        [
                          1,
                          "#f0f921"
                        ]
                      ],
                      "sequentialminus": [
                        [
                          0,
                          "#0d0887"
                        ],
                        [
                          0.1111111111111111,
                          "#46039f"
                        ],
                        [
                          0.2222222222222222,
                          "#7201a8"
                        ],
                        [
                          0.3333333333333333,
                          "#9c179e"
                        ],
                        [
                          0.4444444444444444,
                          "#bd3786"
                        ],
                        [
                          0.5555555555555556,
                          "#d8576b"
                        ],
                        [
                          0.6666666666666666,
                          "#ed7953"
                        ],
                        [
                          0.7777777777777778,
                          "#fb9f3a"
                        ],
                        [
                          0.8888888888888888,
                          "#fdca26"
                        ],
                        [
                          1,
                          "#f0f921"
                        ]
                      ]
                    },
                    "colorway": [
                      "#636efa",
                      "#EF553B",
                      "#00cc96",
                      "#ab63fa",
                      "#FFA15A",
                      "#19d3f3",
                      "#FF6692",
                      "#B6E880",
                      "#FF97FF",
                      "#FECB52"
                    ],
                    "font": {
                      "color": "#2a3f5f"
                    },
                    "geo": {
                      "bgcolor": "white",
                      "lakecolor": "white",
                      "landcolor": "#E5ECF6",
                      "showlakes": true,
                      "showland": true,
                      "subunitcolor": "white"
                    },
                    "hoverlabel": {
                      "align": "left"
                    },
                    "hovermode": "closest",
                    "mapbox": {
                      "style": "light"
                    },
                    "paper_bgcolor": "white",
                    "plot_bgcolor": "#E5ECF6",
                    "polar": {
                      "angularaxis": {
                        "gridcolor": "white",
                        "linecolor": "white",
                        "ticks": ""
                      },
                      "bgcolor": "#E5ECF6",
                      "radialaxis": {
                        "gridcolor": "white",
                        "linecolor": "white",
                        "ticks": ""
                      }
                    },
                    "scene": {
                      "xaxis": {
                        "backgroundcolor": "#E5ECF6",
                        "gridcolor": "white",
                        "gridwidth": 2,
                        "linecolor": "white",
                        "showbackground": true,
                        "ticks": "",
                        "zerolinecolor": "white"
                      },
                      "yaxis": {
                        "backgroundcolor": "#E5ECF6",
                        "gridcolor": "white",
                        "gridwidth": 2,
                        "linecolor": "white",
                        "showbackground": true,
                        "ticks": "",
                        "zerolinecolor": "white"
                      },
                      "zaxis": {
                        "backgroundcolor": "#E5ECF6",
                        "gridcolor": "white",
                        "gridwidth": 2,
                        "linecolor": "white",
                        "showbackground": true,
                        "ticks": "",
                        "zerolinecolor": "white"
                      }
                    },
                    "shapedefaults": {
                      "line": {
                        "color": "#2a3f5f"
                      }
                    },
                    "ternary": {
                      "aaxis": {
                        "gridcolor": "white",
                        "linecolor": "white",
                        "ticks": ""
                      },
                      "baxis": {
                        "gridcolor": "white",
                        "linecolor": "white",
                        "ticks": ""
                      },
                      "bgcolor": "#E5ECF6",
                      "caxis": {
                        "gridcolor": "white",
                        "linecolor": "white",
                        "ticks": ""
                      }
                    },
                    "title": {
                      "x": 0.05
                    },
                    "xaxis": {
                      "automargin": true,
                      "gridcolor": "white",
                      "linecolor": "white",
                      "ticks": "",
                      "title": {
                        "standoff": 15
                      },
                      "zerolinecolor": "white",
                      "zerolinewidth": 2
                    },
                    "yaxis": {
                      "automargin": true,
                      "gridcolor": "white",
                      "linecolor": "white",
                      "ticks": "",
                      "title": {
                        "standoff": 15
                      },
                      "zerolinecolor": "white",
                      "zerolinewidth": 2
                    }
                  }
                },
                "title": {
                  "text": "Contour Plot"
                },
                "xaxis": {
                  "anchor": "y",
                  "domain": [
                    0,
                    0.2888888888888889
                  ],
                  "matches": "x7",
                  "range": [
                    0.4079231397210236,
                    1.0003177464787367
                  ],
                  "showticklabels": false
                },
                "xaxis2": {
                  "anchor": "y2",
                  "domain": [
                    0.35555555555555557,
                    0.6444444444444445
                  ],
                  "matches": "x8",
                  "range": [
                    0.7,
                    7.3
                  ],
                  "showticklabels": false
                },
                "xaxis3": {
                  "anchor": "y3",
                  "domain": [
                    0.7111111111111111,
                    1
                  ],
                  "matches": "x9",
                  "range": [
                    14,
                    102
                  ],
                  "showticklabels": false
                },
                "xaxis4": {
                  "anchor": "y4",
                  "domain": [
                    0,
                    0.2888888888888889
                  ],
                  "matches": "x7",
                  "range": [
                    0.4079231397210236,
                    1.0003177464787367
                  ],
                  "showticklabels": false
                },
                "xaxis5": {
                  "anchor": "y5",
                  "domain": [
                    0.35555555555555557,
                    0.6444444444444445
                  ],
                  "matches": "x8",
                  "range": [
                    0.7,
                    7.3
                  ],
                  "showticklabels": false
                },
                "xaxis6": {
                  "anchor": "y6",
                  "domain": [
                    0.7111111111111111,
                    1
                  ],
                  "matches": "x9",
                  "range": [
                    14,
                    102
                  ],
                  "showticklabels": false
                },
                "xaxis7": {
                  "anchor": "y7",
                  "domain": [
                    0,
                    0.2888888888888889
                  ],
                  "range": [
                    0.4079231397210236,
                    1.0003177464787367
                  ],
                  "title": {
                    "text": "bagging_fraction"
                  }
                },
                "xaxis8": {
                  "anchor": "y8",
                  "domain": [
                    0.35555555555555557,
                    0.6444444444444445
                  ],
                  "range": [
                    0.7,
                    7.3
                  ],
                  "title": {
                    "text": "bagging_freq"
                  }
                },
                "xaxis9": {
                  "anchor": "y9",
                  "domain": [
                    0.7111111111111111,
                    1
                  ],
                  "range": [
                    14,
                    102
                  ],
                  "title": {
                    "text": "min_child_samples"
                  }
                },
                "yaxis": {
                  "anchor": "x",
                  "domain": [
                    0.7333333333333333,
                    1
                  ],
                  "range": [
                    0.4079231397210236,
                    1.0003177464787367
                  ],
                  "title": {
                    "text": "bagging_fraction"
                  }
                },
                "yaxis2": {
                  "anchor": "x2",
                  "domain": [
                    0.7333333333333333,
                    1
                  ],
                  "matches": "y",
                  "range": [
                    0.4079231397210236,
                    1.0003177464787367
                  ],
                  "showticklabels": false
                },
                "yaxis3": {
                  "anchor": "x3",
                  "domain": [
                    0.7333333333333333,
                    1
                  ],
                  "matches": "y",
                  "range": [
                    0.4079231397210236,
                    1.0003177464787367
                  ],
                  "showticklabels": false
                },
                "yaxis4": {
                  "anchor": "x4",
                  "domain": [
                    0.36666666666666664,
                    0.6333333333333333
                  ],
                  "range": [
                    0.7,
                    7.3
                  ],
                  "title": {
                    "text": "bagging_freq"
                  }
                },
                "yaxis5": {
                  "anchor": "x5",
                  "domain": [
                    0.36666666666666664,
                    0.6333333333333333
                  ],
                  "matches": "y4",
                  "range": [
                    0.7,
                    7.3
                  ],
                  "showticklabels": false
                },
                "yaxis6": {
                  "anchor": "x6",
                  "domain": [
                    0.36666666666666664,
                    0.6333333333333333
                  ],
                  "matches": "y4",
                  "range": [
                    0.7,
                    7.3
                  ],
                  "showticklabels": false
                },
                "yaxis7": {
                  "anchor": "x7",
                  "domain": [
                    0,
                    0.26666666666666666
                  ],
                  "range": [
                    14,
                    102
                  ],
                  "title": {
                    "text": "min_child_samples"
                  }
                },
                "yaxis8": {
                  "anchor": "x8",
                  "domain": [
                    0,
                    0.26666666666666666
                  ],
                  "matches": "y7",
                  "range": [
                    14,
                    102
                  ],
                  "showticklabels": false
                },
                "yaxis9": {
                  "anchor": "x9",
                  "domain": [
                    0,
                    0.26666666666666666
                  ],
                  "matches": "y7",
                  "range": [
                    14,
                    102
                  ],
                  "showticklabels": false
                }
              }
            }
          },
          "metadata": {},
          "output_type": "display_data"
        }
      ],
      "source": [
        "plot_contour(study)"
      ]
    },
    {
      "cell_type": "markdown",
      "metadata": {},
      "source": [
        "Select parameters to visualize.\n",
        "\n"
      ]
    },
    {
      "cell_type": "code",
      "execution_count": 10,
      "metadata": {
        "collapsed": false
      },
      "outputs": [
        {
          "data": {
            "application/vnd.plotly.v1+json": {
              "config": {
                "plotlyServerURL": "https://plot.ly"
              },
              "data": [
                {
                  "colorbar": {
                    "title": {
                      "text": "Objective Value"
                    }
                  },
                  "colorscale": [
                    [
                      0,
                      "rgb(247,251,255)"
                    ],
                    [
                      0.125,
                      "rgb(222,235,247)"
                    ],
                    [
                      0.25,
                      "rgb(198,219,239)"
                    ],
                    [
                      0.375,
                      "rgb(158,202,225)"
                    ],
                    [
                      0.5,
                      "rgb(107,174,214)"
                    ],
                    [
                      0.625,
                      "rgb(66,146,198)"
                    ],
                    [
                      0.75,
                      "rgb(33,113,181)"
                    ],
                    [
                      0.875,
                      "rgb(8,81,156)"
                    ],
                    [
                      1,
                      "rgb(8,48,107)"
                    ]
                  ],
                  "connectgaps": true,
                  "contours": {
                    "coloring": "heatmap"
                  },
                  "hoverinfo": "none",
                  "line": {
                    "smoothing": 1.3
                  },
                  "reversescale": false,
                  "type": "contour",
                  "x": [
                    0.4079231397210236,
                    0.4348501673009197,
                    0.4770792095519505,
                    0.5100427059120604,
                    0.5903343863841894,
                    0.5995200470737633,
                    0.5996977861150512,
                    0.6247240713084175,
                    0.6922588822682393,
                    0.6971856013290972,
                    0.759195090518222,
                    0.7773548684322235,
                    0.8248435466776274,
                    0.899465584480253,
                    0.9733907188988407,
                    1.0003177464787367
                  ],
                  "y": [
                    0.7,
                    1,
                    2,
                    3,
                    7,
                    7.3
                  ],
                  "z": [
                    [
                      null,
                      null,
                      null,
                      null,
                      null,
                      null,
                      null,
                      null,
                      null,
                      null,
                      null,
                      null,
                      null,
                      null,
                      null,
                      null
                    ],
                    [
                      null,
                      null,
                      null,
                      null,
                      0.986013986013986,
                      null,
                      null,
                      null,
                      0.972027972027972,
                      1,
                      null,
                      0.993006993006993,
                      0.9790209790209791,
                      null,
                      0.986013986013986,
                      null
                    ],
                    [
                      null,
                      null,
                      null,
                      null,
                      null,
                      0.9790209790209791,
                      0.986013986013986,
                      null,
                      null,
                      null,
                      0.972027972027972,
                      null,
                      null,
                      0.958041958041958,
                      null,
                      null
                    ],
                    [
                      null,
                      null,
                      0.993006993006993,
                      0.993006993006993,
                      null,
                      null,
                      null,
                      null,
                      null,
                      null,
                      null,
                      null,
                      null,
                      null,
                      null,
                      null
                    ],
                    [
                      null,
                      0.958041958041958,
                      null,
                      null,
                      null,
                      null,
                      null,
                      0.972027972027972,
                      null,
                      null,
                      null,
                      null,
                      null,
                      null,
                      null,
                      null
                    ],
                    [
                      null,
                      null,
                      null,
                      null,
                      null,
                      null,
                      null,
                      null,
                      null,
                      null,
                      null,
                      null,
                      null,
                      null,
                      null,
                      null
                    ]
                  ]
                },
                {
                  "marker": {
                    "color": "black",
                    "line": {
                      "color": "Grey",
                      "width": 2
                    }
                  },
                  "mode": "markers",
                  "showlegend": false,
                  "type": "scatter",
                  "x": [
                    0.6247240713084175,
                    0.759195090518222,
                    0.4348501673009197,
                    0.8248435466776274,
                    0.899465584480253,
                    0.5100427059120604,
                    0.9733907188988407,
                    0.5995200470737633,
                    0.4770792095519505,
                    0.5996977861150512,
                    0.5903343863841894,
                    0.6922588822682393,
                    0.6971856013290972,
                    0.7773548684322235
                  ],
                  "y": [
                    7,
                    2,
                    7,
                    1,
                    2,
                    3,
                    1,
                    2,
                    3,
                    2,
                    1,
                    1,
                    1,
                    1
                  ]
                }
              ],
              "layout": {
                "template": {
                  "data": {
                    "bar": [
                      {
                        "error_x": {
                          "color": "#2a3f5f"
                        },
                        "error_y": {
                          "color": "#2a3f5f"
                        },
                        "marker": {
                          "line": {
                            "color": "#E5ECF6",
                            "width": 0.5
                          },
                          "pattern": {
                            "fillmode": "overlay",
                            "size": 10,
                            "solidity": 0.2
                          }
                        },
                        "type": "bar"
                      }
                    ],
                    "barpolar": [
                      {
                        "marker": {
                          "line": {
                            "color": "#E5ECF6",
                            "width": 0.5
                          },
                          "pattern": {
                            "fillmode": "overlay",
                            "size": 10,
                            "solidity": 0.2
                          }
                        },
                        "type": "barpolar"
                      }
                    ],
                    "carpet": [
                      {
                        "aaxis": {
                          "endlinecolor": "#2a3f5f",
                          "gridcolor": "white",
                          "linecolor": "white",
                          "minorgridcolor": "white",
                          "startlinecolor": "#2a3f5f"
                        },
                        "baxis": {
                          "endlinecolor": "#2a3f5f",
                          "gridcolor": "white",
                          "linecolor": "white",
                          "minorgridcolor": "white",
                          "startlinecolor": "#2a3f5f"
                        },
                        "type": "carpet"
                      }
                    ],
                    "choropleth": [
                      {
                        "colorbar": {
                          "outlinewidth": 0,
                          "ticks": ""
                        },
                        "type": "choropleth"
                      }
                    ],
                    "contour": [
                      {
                        "colorbar": {
                          "outlinewidth": 0,
                          "ticks": ""
                        },
                        "colorscale": [
                          [
                            0,
                            "#0d0887"
                          ],
                          [
                            0.1111111111111111,
                            "#46039f"
                          ],
                          [
                            0.2222222222222222,
                            "#7201a8"
                          ],
                          [
                            0.3333333333333333,
                            "#9c179e"
                          ],
                          [
                            0.4444444444444444,
                            "#bd3786"
                          ],
                          [
                            0.5555555555555556,
                            "#d8576b"
                          ],
                          [
                            0.6666666666666666,
                            "#ed7953"
                          ],
                          [
                            0.7777777777777778,
                            "#fb9f3a"
                          ],
                          [
                            0.8888888888888888,
                            "#fdca26"
                          ],
                          [
                            1,
                            "#f0f921"
                          ]
                        ],
                        "type": "contour"
                      }
                    ],
                    "contourcarpet": [
                      {
                        "colorbar": {
                          "outlinewidth": 0,
                          "ticks": ""
                        },
                        "type": "contourcarpet"
                      }
                    ],
                    "heatmap": [
                      {
                        "colorbar": {
                          "outlinewidth": 0,
                          "ticks": ""
                        },
                        "colorscale": [
                          [
                            0,
                            "#0d0887"
                          ],
                          [
                            0.1111111111111111,
                            "#46039f"
                          ],
                          [
                            0.2222222222222222,
                            "#7201a8"
                          ],
                          [
                            0.3333333333333333,
                            "#9c179e"
                          ],
                          [
                            0.4444444444444444,
                            "#bd3786"
                          ],
                          [
                            0.5555555555555556,
                            "#d8576b"
                          ],
                          [
                            0.6666666666666666,
                            "#ed7953"
                          ],
                          [
                            0.7777777777777778,
                            "#fb9f3a"
                          ],
                          [
                            0.8888888888888888,
                            "#fdca26"
                          ],
                          [
                            1,
                            "#f0f921"
                          ]
                        ],
                        "type": "heatmap"
                      }
                    ],
                    "heatmapgl": [
                      {
                        "colorbar": {
                          "outlinewidth": 0,
                          "ticks": ""
                        },
                        "colorscale": [
                          [
                            0,
                            "#0d0887"
                          ],
                          [
                            0.1111111111111111,
                            "#46039f"
                          ],
                          [
                            0.2222222222222222,
                            "#7201a8"
                          ],
                          [
                            0.3333333333333333,
                            "#9c179e"
                          ],
                          [
                            0.4444444444444444,
                            "#bd3786"
                          ],
                          [
                            0.5555555555555556,
                            "#d8576b"
                          ],
                          [
                            0.6666666666666666,
                            "#ed7953"
                          ],
                          [
                            0.7777777777777778,
                            "#fb9f3a"
                          ],
                          [
                            0.8888888888888888,
                            "#fdca26"
                          ],
                          [
                            1,
                            "#f0f921"
                          ]
                        ],
                        "type": "heatmapgl"
                      }
                    ],
                    "histogram": [
                      {
                        "marker": {
                          "pattern": {
                            "fillmode": "overlay",
                            "size": 10,
                            "solidity": 0.2
                          }
                        },
                        "type": "histogram"
                      }
                    ],
                    "histogram2d": [
                      {
                        "colorbar": {
                          "outlinewidth": 0,
                          "ticks": ""
                        },
                        "colorscale": [
                          [
                            0,
                            "#0d0887"
                          ],
                          [
                            0.1111111111111111,
                            "#46039f"
                          ],
                          [
                            0.2222222222222222,
                            "#7201a8"
                          ],
                          [
                            0.3333333333333333,
                            "#9c179e"
                          ],
                          [
                            0.4444444444444444,
                            "#bd3786"
                          ],
                          [
                            0.5555555555555556,
                            "#d8576b"
                          ],
                          [
                            0.6666666666666666,
                            "#ed7953"
                          ],
                          [
                            0.7777777777777778,
                            "#fb9f3a"
                          ],
                          [
                            0.8888888888888888,
                            "#fdca26"
                          ],
                          [
                            1,
                            "#f0f921"
                          ]
                        ],
                        "type": "histogram2d"
                      }
                    ],
                    "histogram2dcontour": [
                      {
                        "colorbar": {
                          "outlinewidth": 0,
                          "ticks": ""
                        },
                        "colorscale": [
                          [
                            0,
                            "#0d0887"
                          ],
                          [
                            0.1111111111111111,
                            "#46039f"
                          ],
                          [
                            0.2222222222222222,
                            "#7201a8"
                          ],
                          [
                            0.3333333333333333,
                            "#9c179e"
                          ],
                          [
                            0.4444444444444444,
                            "#bd3786"
                          ],
                          [
                            0.5555555555555556,
                            "#d8576b"
                          ],
                          [
                            0.6666666666666666,
                            "#ed7953"
                          ],
                          [
                            0.7777777777777778,
                            "#fb9f3a"
                          ],
                          [
                            0.8888888888888888,
                            "#fdca26"
                          ],
                          [
                            1,
                            "#f0f921"
                          ]
                        ],
                        "type": "histogram2dcontour"
                      }
                    ],
                    "mesh3d": [
                      {
                        "colorbar": {
                          "outlinewidth": 0,
                          "ticks": ""
                        },
                        "type": "mesh3d"
                      }
                    ],
                    "parcoords": [
                      {
                        "line": {
                          "colorbar": {
                            "outlinewidth": 0,
                            "ticks": ""
                          }
                        },
                        "type": "parcoords"
                      }
                    ],
                    "pie": [
                      {
                        "automargin": true,
                        "type": "pie"
                      }
                    ],
                    "scatter": [
                      {
                        "fillpattern": {
                          "fillmode": "overlay",
                          "size": 10,
                          "solidity": 0.2
                        },
                        "type": "scatter"
                      }
                    ],
                    "scatter3d": [
                      {
                        "line": {
                          "colorbar": {
                            "outlinewidth": 0,
                            "ticks": ""
                          }
                        },
                        "marker": {
                          "colorbar": {
                            "outlinewidth": 0,
                            "ticks": ""
                          }
                        },
                        "type": "scatter3d"
                      }
                    ],
                    "scattercarpet": [
                      {
                        "marker": {
                          "colorbar": {
                            "outlinewidth": 0,
                            "ticks": ""
                          }
                        },
                        "type": "scattercarpet"
                      }
                    ],
                    "scattergeo": [
                      {
                        "marker": {
                          "colorbar": {
                            "outlinewidth": 0,
                            "ticks": ""
                          }
                        },
                        "type": "scattergeo"
                      }
                    ],
                    "scattergl": [
                      {
                        "marker": {
                          "colorbar": {
                            "outlinewidth": 0,
                            "ticks": ""
                          }
                        },
                        "type": "scattergl"
                      }
                    ],
                    "scattermapbox": [
                      {
                        "marker": {
                          "colorbar": {
                            "outlinewidth": 0,
                            "ticks": ""
                          }
                        },
                        "type": "scattermapbox"
                      }
                    ],
                    "scatterpolar": [
                      {
                        "marker": {
                          "colorbar": {
                            "outlinewidth": 0,
                            "ticks": ""
                          }
                        },
                        "type": "scatterpolar"
                      }
                    ],
                    "scatterpolargl": [
                      {
                        "marker": {
                          "colorbar": {
                            "outlinewidth": 0,
                            "ticks": ""
                          }
                        },
                        "type": "scatterpolargl"
                      }
                    ],
                    "scatterternary": [
                      {
                        "marker": {
                          "colorbar": {
                            "outlinewidth": 0,
                            "ticks": ""
                          }
                        },
                        "type": "scatterternary"
                      }
                    ],
                    "surface": [
                      {
                        "colorbar": {
                          "outlinewidth": 0,
                          "ticks": ""
                        },
                        "colorscale": [
                          [
                            0,
                            "#0d0887"
                          ],
                          [
                            0.1111111111111111,
                            "#46039f"
                          ],
                          [
                            0.2222222222222222,
                            "#7201a8"
                          ],
                          [
                            0.3333333333333333,
                            "#9c179e"
                          ],
                          [
                            0.4444444444444444,
                            "#bd3786"
                          ],
                          [
                            0.5555555555555556,
                            "#d8576b"
                          ],
                          [
                            0.6666666666666666,
                            "#ed7953"
                          ],
                          [
                            0.7777777777777778,
                            "#fb9f3a"
                          ],
                          [
                            0.8888888888888888,
                            "#fdca26"
                          ],
                          [
                            1,
                            "#f0f921"
                          ]
                        ],
                        "type": "surface"
                      }
                    ],
                    "table": [
                      {
                        "cells": {
                          "fill": {
                            "color": "#EBF0F8"
                          },
                          "line": {
                            "color": "white"
                          }
                        },
                        "header": {
                          "fill": {
                            "color": "#C8D4E3"
                          },
                          "line": {
                            "color": "white"
                          }
                        },
                        "type": "table"
                      }
                    ]
                  },
                  "layout": {
                    "annotationdefaults": {
                      "arrowcolor": "#2a3f5f",
                      "arrowhead": 0,
                      "arrowwidth": 1
                    },
                    "autotypenumbers": "strict",
                    "coloraxis": {
                      "colorbar": {
                        "outlinewidth": 0,
                        "ticks": ""
                      }
                    },
                    "colorscale": {
                      "diverging": [
                        [
                          0,
                          "#8e0152"
                        ],
                        [
                          0.1,
                          "#c51b7d"
                        ],
                        [
                          0.2,
                          "#de77ae"
                        ],
                        [
                          0.3,
                          "#f1b6da"
                        ],
                        [
                          0.4,
                          "#fde0ef"
                        ],
                        [
                          0.5,
                          "#f7f7f7"
                        ],
                        [
                          0.6,
                          "#e6f5d0"
                        ],
                        [
                          0.7,
                          "#b8e186"
                        ],
                        [
                          0.8,
                          "#7fbc41"
                        ],
                        [
                          0.9,
                          "#4d9221"
                        ],
                        [
                          1,
                          "#276419"
                        ]
                      ],
                      "sequential": [
                        [
                          0,
                          "#0d0887"
                        ],
                        [
                          0.1111111111111111,
                          "#46039f"
                        ],
                        [
                          0.2222222222222222,
                          "#7201a8"
                        ],
                        [
                          0.3333333333333333,
                          "#9c179e"
                        ],
                        [
                          0.4444444444444444,
                          "#bd3786"
                        ],
                        [
                          0.5555555555555556,
                          "#d8576b"
                        ],
                        [
                          0.6666666666666666,
                          "#ed7953"
                        ],
                        [
                          0.7777777777777778,
                          "#fb9f3a"
                        ],
                        [
                          0.8888888888888888,
                          "#fdca26"
                        ],
                        [
                          1,
                          "#f0f921"
                        ]
                      ],
                      "sequentialminus": [
                        [
                          0,
                          "#0d0887"
                        ],
                        [
                          0.1111111111111111,
                          "#46039f"
                        ],
                        [
                          0.2222222222222222,
                          "#7201a8"
                        ],
                        [
                          0.3333333333333333,
                          "#9c179e"
                        ],
                        [
                          0.4444444444444444,
                          "#bd3786"
                        ],
                        [
                          0.5555555555555556,
                          "#d8576b"
                        ],
                        [
                          0.6666666666666666,
                          "#ed7953"
                        ],
                        [
                          0.7777777777777778,
                          "#fb9f3a"
                        ],
                        [
                          0.8888888888888888,
                          "#fdca26"
                        ],
                        [
                          1,
                          "#f0f921"
                        ]
                      ]
                    },
                    "colorway": [
                      "#636efa",
                      "#EF553B",
                      "#00cc96",
                      "#ab63fa",
                      "#FFA15A",
                      "#19d3f3",
                      "#FF6692",
                      "#B6E880",
                      "#FF97FF",
                      "#FECB52"
                    ],
                    "font": {
                      "color": "#2a3f5f"
                    },
                    "geo": {
                      "bgcolor": "white",
                      "lakecolor": "white",
                      "landcolor": "#E5ECF6",
                      "showlakes": true,
                      "showland": true,
                      "subunitcolor": "white"
                    },
                    "hoverlabel": {
                      "align": "left"
                    },
                    "hovermode": "closest",
                    "mapbox": {
                      "style": "light"
                    },
                    "paper_bgcolor": "white",
                    "plot_bgcolor": "#E5ECF6",
                    "polar": {
                      "angularaxis": {
                        "gridcolor": "white",
                        "linecolor": "white",
                        "ticks": ""
                      },
                      "bgcolor": "#E5ECF6",
                      "radialaxis": {
                        "gridcolor": "white",
                        "linecolor": "white",
                        "ticks": ""
                      }
                    },
                    "scene": {
                      "xaxis": {
                        "backgroundcolor": "#E5ECF6",
                        "gridcolor": "white",
                        "gridwidth": 2,
                        "linecolor": "white",
                        "showbackground": true,
                        "ticks": "",
                        "zerolinecolor": "white"
                      },
                      "yaxis": {
                        "backgroundcolor": "#E5ECF6",
                        "gridcolor": "white",
                        "gridwidth": 2,
                        "linecolor": "white",
                        "showbackground": true,
                        "ticks": "",
                        "zerolinecolor": "white"
                      },
                      "zaxis": {
                        "backgroundcolor": "#E5ECF6",
                        "gridcolor": "white",
                        "gridwidth": 2,
                        "linecolor": "white",
                        "showbackground": true,
                        "ticks": "",
                        "zerolinecolor": "white"
                      }
                    },
                    "shapedefaults": {
                      "line": {
                        "color": "#2a3f5f"
                      }
                    },
                    "ternary": {
                      "aaxis": {
                        "gridcolor": "white",
                        "linecolor": "white",
                        "ticks": ""
                      },
                      "baxis": {
                        "gridcolor": "white",
                        "linecolor": "white",
                        "ticks": ""
                      },
                      "bgcolor": "#E5ECF6",
                      "caxis": {
                        "gridcolor": "white",
                        "linecolor": "white",
                        "ticks": ""
                      }
                    },
                    "title": {
                      "x": 0.05
                    },
                    "xaxis": {
                      "automargin": true,
                      "gridcolor": "white",
                      "linecolor": "white",
                      "ticks": "",
                      "title": {
                        "standoff": 15
                      },
                      "zerolinecolor": "white",
                      "zerolinewidth": 2
                    },
                    "yaxis": {
                      "automargin": true,
                      "gridcolor": "white",
                      "linecolor": "white",
                      "ticks": "",
                      "title": {
                        "standoff": 15
                      },
                      "zerolinecolor": "white",
                      "zerolinewidth": 2
                    }
                  }
                },
                "title": {
                  "text": "Contour Plot"
                },
                "xaxis": {
                  "range": [
                    0.4079231397210236,
                    1.0003177464787367
                  ],
                  "title": {
                    "text": "bagging_fraction"
                  }
                },
                "yaxis": {
                  "range": [
                    0.7,
                    7.3
                  ],
                  "title": {
                    "text": "bagging_freq"
                  }
                }
              }
            }
          },
          "metadata": {},
          "output_type": "display_data"
        }
      ],
      "source": [
        "plot_contour(study, params=[\"bagging_freq\", \"bagging_fraction\"])"
      ]
    },
    {
      "cell_type": "markdown",
      "metadata": {},
      "source": [
        "Visualize individual hyperparameters as slice plot. See :func:`~optuna.visualization.plot_slice` for the details.\n",
        "\n"
      ]
    },
    {
      "cell_type": "code",
      "execution_count": 11,
      "metadata": {
        "collapsed": false
      },
      "outputs": [
        {
          "data": {
            "application/vnd.plotly.v1+json": {
              "config": {
                "plotlyServerURL": "https://plot.ly"
              },
              "data": [
                {
                  "marker": {
                    "color": [
                      0,
                      1,
                      2,
                      3,
                      4,
                      5,
                      12,
                      18,
                      25,
                      32,
                      55,
                      82,
                      83,
                      90
                    ],
                    "colorbar": {
                      "title": {
                        "text": "Trial"
                      },
                      "x": 1,
                      "xpad": 40
                    },
                    "colorscale": [
                      [
                        0,
                        "rgb(247,251,255)"
                      ],
                      [
                        0.125,
                        "rgb(222,235,247)"
                      ],
                      [
                        0.25,
                        "rgb(198,219,239)"
                      ],
                      [
                        0.375,
                        "rgb(158,202,225)"
                      ],
                      [
                        0.5,
                        "rgb(107,174,214)"
                      ],
                      [
                        0.625,
                        "rgb(66,146,198)"
                      ],
                      [
                        0.75,
                        "rgb(33,113,181)"
                      ],
                      [
                        0.875,
                        "rgb(8,81,156)"
                      ],
                      [
                        1,
                        "rgb(8,48,107)"
                      ]
                    ],
                    "line": {
                      "color": "Grey",
                      "width": 0.5
                    },
                    "showscale": true
                  },
                  "mode": "markers",
                  "showlegend": false,
                  "type": "scatter",
                  "x": [
                    0.6247240713084175,
                    0.759195090518222,
                    0.4348501673009197,
                    0.8248435466776274,
                    0.899465584480253,
                    0.5100427059120604,
                    0.9733907188988407,
                    0.5995200470737633,
                    0.4770792095519505,
                    0.5996977861150512,
                    0.5903343863841894,
                    0.6922588822682393,
                    0.6971856013290972,
                    0.7773548684322235
                  ],
                  "xaxis": "x",
                  "y": [
                    0.972027972027972,
                    0.972027972027972,
                    0.958041958041958,
                    0.9790209790209791,
                    0.958041958041958,
                    0.993006993006993,
                    0.986013986013986,
                    0.9790209790209791,
                    0.993006993006993,
                    0.986013986013986,
                    0.986013986013986,
                    0.972027972027972,
                    1,
                    0.993006993006993
                  ],
                  "yaxis": "y"
                },
                {
                  "marker": {
                    "color": [
                      0,
                      1,
                      2,
                      3,
                      4,
                      5,
                      12,
                      18,
                      25,
                      32,
                      55,
                      82,
                      83,
                      90
                    ],
                    "colorbar": {
                      "title": {
                        "text": "Trial"
                      },
                      "x": 1,
                      "xpad": 40
                    },
                    "colorscale": [
                      [
                        0,
                        "rgb(247,251,255)"
                      ],
                      [
                        0.125,
                        "rgb(222,235,247)"
                      ],
                      [
                        0.25,
                        "rgb(198,219,239)"
                      ],
                      [
                        0.375,
                        "rgb(158,202,225)"
                      ],
                      [
                        0.5,
                        "rgb(107,174,214)"
                      ],
                      [
                        0.625,
                        "rgb(66,146,198)"
                      ],
                      [
                        0.75,
                        "rgb(33,113,181)"
                      ],
                      [
                        0.875,
                        "rgb(8,81,156)"
                      ],
                      [
                        1,
                        "rgb(8,48,107)"
                      ]
                    ],
                    "line": {
                      "color": "Grey",
                      "width": 0.5
                    },
                    "showscale": false
                  },
                  "mode": "markers",
                  "showlegend": false,
                  "type": "scatter",
                  "x": [
                    7,
                    2,
                    7,
                    1,
                    2,
                    3,
                    1,
                    2,
                    3,
                    2,
                    1,
                    1,
                    1,
                    1
                  ],
                  "xaxis": "x2",
                  "y": [
                    0.972027972027972,
                    0.972027972027972,
                    0.958041958041958,
                    0.9790209790209791,
                    0.958041958041958,
                    0.993006993006993,
                    0.986013986013986,
                    0.9790209790209791,
                    0.993006993006993,
                    0.986013986013986,
                    0.986013986013986,
                    0.972027972027972,
                    1,
                    0.993006993006993
                  ],
                  "yaxis": "y2"
                },
                {
                  "marker": {
                    "color": [
                      0,
                      1,
                      2,
                      3,
                      4,
                      5,
                      12,
                      18,
                      25,
                      32,
                      55,
                      82,
                      83,
                      90
                    ],
                    "colorbar": {
                      "title": {
                        "text": "Trial"
                      },
                      "x": 1,
                      "xpad": 40
                    },
                    "colorscale": [
                      [
                        0,
                        "rgb(247,251,255)"
                      ],
                      [
                        0.125,
                        "rgb(222,235,247)"
                      ],
                      [
                        0.25,
                        "rgb(198,219,239)"
                      ],
                      [
                        0.375,
                        "rgb(158,202,225)"
                      ],
                      [
                        0.5,
                        "rgb(107,174,214)"
                      ],
                      [
                        0.625,
                        "rgb(66,146,198)"
                      ],
                      [
                        0.75,
                        "rgb(33,113,181)"
                      ],
                      [
                        0.875,
                        "rgb(8,81,156)"
                      ],
                      [
                        1,
                        "rgb(8,48,107)"
                      ]
                    ],
                    "line": {
                      "color": "Grey",
                      "width": 0.5
                    },
                    "showscale": false
                  },
                  "mode": "markers",
                  "showlegend": false,
                  "type": "scatter",
                  "x": [
                    75,
                    19,
                    62,
                    98,
                    22,
                    55,
                    98,
                    54,
                    70,
                    31,
                    39,
                    20,
                    18,
                    24
                  ],
                  "xaxis": "x3",
                  "y": [
                    0.972027972027972,
                    0.972027972027972,
                    0.958041958041958,
                    0.9790209790209791,
                    0.958041958041958,
                    0.993006993006993,
                    0.986013986013986,
                    0.9790209790209791,
                    0.993006993006993,
                    0.986013986013986,
                    0.986013986013986,
                    0.972027972027972,
                    1,
                    0.993006993006993
                  ],
                  "yaxis": "y3"
                }
              ],
              "layout": {
                "template": {
                  "data": {
                    "bar": [
                      {
                        "error_x": {
                          "color": "#2a3f5f"
                        },
                        "error_y": {
                          "color": "#2a3f5f"
                        },
                        "marker": {
                          "line": {
                            "color": "#E5ECF6",
                            "width": 0.5
                          },
                          "pattern": {
                            "fillmode": "overlay",
                            "size": 10,
                            "solidity": 0.2
                          }
                        },
                        "type": "bar"
                      }
                    ],
                    "barpolar": [
                      {
                        "marker": {
                          "line": {
                            "color": "#E5ECF6",
                            "width": 0.5
                          },
                          "pattern": {
                            "fillmode": "overlay",
                            "size": 10,
                            "solidity": 0.2
                          }
                        },
                        "type": "barpolar"
                      }
                    ],
                    "carpet": [
                      {
                        "aaxis": {
                          "endlinecolor": "#2a3f5f",
                          "gridcolor": "white",
                          "linecolor": "white",
                          "minorgridcolor": "white",
                          "startlinecolor": "#2a3f5f"
                        },
                        "baxis": {
                          "endlinecolor": "#2a3f5f",
                          "gridcolor": "white",
                          "linecolor": "white",
                          "minorgridcolor": "white",
                          "startlinecolor": "#2a3f5f"
                        },
                        "type": "carpet"
                      }
                    ],
                    "choropleth": [
                      {
                        "colorbar": {
                          "outlinewidth": 0,
                          "ticks": ""
                        },
                        "type": "choropleth"
                      }
                    ],
                    "contour": [
                      {
                        "colorbar": {
                          "outlinewidth": 0,
                          "ticks": ""
                        },
                        "colorscale": [
                          [
                            0,
                            "#0d0887"
                          ],
                          [
                            0.1111111111111111,
                            "#46039f"
                          ],
                          [
                            0.2222222222222222,
                            "#7201a8"
                          ],
                          [
                            0.3333333333333333,
                            "#9c179e"
                          ],
                          [
                            0.4444444444444444,
                            "#bd3786"
                          ],
                          [
                            0.5555555555555556,
                            "#d8576b"
                          ],
                          [
                            0.6666666666666666,
                            "#ed7953"
                          ],
                          [
                            0.7777777777777778,
                            "#fb9f3a"
                          ],
                          [
                            0.8888888888888888,
                            "#fdca26"
                          ],
                          [
                            1,
                            "#f0f921"
                          ]
                        ],
                        "type": "contour"
                      }
                    ],
                    "contourcarpet": [
                      {
                        "colorbar": {
                          "outlinewidth": 0,
                          "ticks": ""
                        },
                        "type": "contourcarpet"
                      }
                    ],
                    "heatmap": [
                      {
                        "colorbar": {
                          "outlinewidth": 0,
                          "ticks": ""
                        },
                        "colorscale": [
                          [
                            0,
                            "#0d0887"
                          ],
                          [
                            0.1111111111111111,
                            "#46039f"
                          ],
                          [
                            0.2222222222222222,
                            "#7201a8"
                          ],
                          [
                            0.3333333333333333,
                            "#9c179e"
                          ],
                          [
                            0.4444444444444444,
                            "#bd3786"
                          ],
                          [
                            0.5555555555555556,
                            "#d8576b"
                          ],
                          [
                            0.6666666666666666,
                            "#ed7953"
                          ],
                          [
                            0.7777777777777778,
                            "#fb9f3a"
                          ],
                          [
                            0.8888888888888888,
                            "#fdca26"
                          ],
                          [
                            1,
                            "#f0f921"
                          ]
                        ],
                        "type": "heatmap"
                      }
                    ],
                    "heatmapgl": [
                      {
                        "colorbar": {
                          "outlinewidth": 0,
                          "ticks": ""
                        },
                        "colorscale": [
                          [
                            0,
                            "#0d0887"
                          ],
                          [
                            0.1111111111111111,
                            "#46039f"
                          ],
                          [
                            0.2222222222222222,
                            "#7201a8"
                          ],
                          [
                            0.3333333333333333,
                            "#9c179e"
                          ],
                          [
                            0.4444444444444444,
                            "#bd3786"
                          ],
                          [
                            0.5555555555555556,
                            "#d8576b"
                          ],
                          [
                            0.6666666666666666,
                            "#ed7953"
                          ],
                          [
                            0.7777777777777778,
                            "#fb9f3a"
                          ],
                          [
                            0.8888888888888888,
                            "#fdca26"
                          ],
                          [
                            1,
                            "#f0f921"
                          ]
                        ],
                        "type": "heatmapgl"
                      }
                    ],
                    "histogram": [
                      {
                        "marker": {
                          "pattern": {
                            "fillmode": "overlay",
                            "size": 10,
                            "solidity": 0.2
                          }
                        },
                        "type": "histogram"
                      }
                    ],
                    "histogram2d": [
                      {
                        "colorbar": {
                          "outlinewidth": 0,
                          "ticks": ""
                        },
                        "colorscale": [
                          [
                            0,
                            "#0d0887"
                          ],
                          [
                            0.1111111111111111,
                            "#46039f"
                          ],
                          [
                            0.2222222222222222,
                            "#7201a8"
                          ],
                          [
                            0.3333333333333333,
                            "#9c179e"
                          ],
                          [
                            0.4444444444444444,
                            "#bd3786"
                          ],
                          [
                            0.5555555555555556,
                            "#d8576b"
                          ],
                          [
                            0.6666666666666666,
                            "#ed7953"
                          ],
                          [
                            0.7777777777777778,
                            "#fb9f3a"
                          ],
                          [
                            0.8888888888888888,
                            "#fdca26"
                          ],
                          [
                            1,
                            "#f0f921"
                          ]
                        ],
                        "type": "histogram2d"
                      }
                    ],
                    "histogram2dcontour": [
                      {
                        "colorbar": {
                          "outlinewidth": 0,
                          "ticks": ""
                        },
                        "colorscale": [
                          [
                            0,
                            "#0d0887"
                          ],
                          [
                            0.1111111111111111,
                            "#46039f"
                          ],
                          [
                            0.2222222222222222,
                            "#7201a8"
                          ],
                          [
                            0.3333333333333333,
                            "#9c179e"
                          ],
                          [
                            0.4444444444444444,
                            "#bd3786"
                          ],
                          [
                            0.5555555555555556,
                            "#d8576b"
                          ],
                          [
                            0.6666666666666666,
                            "#ed7953"
                          ],
                          [
                            0.7777777777777778,
                            "#fb9f3a"
                          ],
                          [
                            0.8888888888888888,
                            "#fdca26"
                          ],
                          [
                            1,
                            "#f0f921"
                          ]
                        ],
                        "type": "histogram2dcontour"
                      }
                    ],
                    "mesh3d": [
                      {
                        "colorbar": {
                          "outlinewidth": 0,
                          "ticks": ""
                        },
                        "type": "mesh3d"
                      }
                    ],
                    "parcoords": [
                      {
                        "line": {
                          "colorbar": {
                            "outlinewidth": 0,
                            "ticks": ""
                          }
                        },
                        "type": "parcoords"
                      }
                    ],
                    "pie": [
                      {
                        "automargin": true,
                        "type": "pie"
                      }
                    ],
                    "scatter": [
                      {
                        "fillpattern": {
                          "fillmode": "overlay",
                          "size": 10,
                          "solidity": 0.2
                        },
                        "type": "scatter"
                      }
                    ],
                    "scatter3d": [
                      {
                        "line": {
                          "colorbar": {
                            "outlinewidth": 0,
                            "ticks": ""
                          }
                        },
                        "marker": {
                          "colorbar": {
                            "outlinewidth": 0,
                            "ticks": ""
                          }
                        },
                        "type": "scatter3d"
                      }
                    ],
                    "scattercarpet": [
                      {
                        "marker": {
                          "colorbar": {
                            "outlinewidth": 0,
                            "ticks": ""
                          }
                        },
                        "type": "scattercarpet"
                      }
                    ],
                    "scattergeo": [
                      {
                        "marker": {
                          "colorbar": {
                            "outlinewidth": 0,
                            "ticks": ""
                          }
                        },
                        "type": "scattergeo"
                      }
                    ],
                    "scattergl": [
                      {
                        "marker": {
                          "colorbar": {
                            "outlinewidth": 0,
                            "ticks": ""
                          }
                        },
                        "type": "scattergl"
                      }
                    ],
                    "scattermapbox": [
                      {
                        "marker": {
                          "colorbar": {
                            "outlinewidth": 0,
                            "ticks": ""
                          }
                        },
                        "type": "scattermapbox"
                      }
                    ],
                    "scatterpolar": [
                      {
                        "marker": {
                          "colorbar": {
                            "outlinewidth": 0,
                            "ticks": ""
                          }
                        },
                        "type": "scatterpolar"
                      }
                    ],
                    "scatterpolargl": [
                      {
                        "marker": {
                          "colorbar": {
                            "outlinewidth": 0,
                            "ticks": ""
                          }
                        },
                        "type": "scatterpolargl"
                      }
                    ],
                    "scatterternary": [
                      {
                        "marker": {
                          "colorbar": {
                            "outlinewidth": 0,
                            "ticks": ""
                          }
                        },
                        "type": "scatterternary"
                      }
                    ],
                    "surface": [
                      {
                        "colorbar": {
                          "outlinewidth": 0,
                          "ticks": ""
                        },
                        "colorscale": [
                          [
                            0,
                            "#0d0887"
                          ],
                          [
                            0.1111111111111111,
                            "#46039f"
                          ],
                          [
                            0.2222222222222222,
                            "#7201a8"
                          ],
                          [
                            0.3333333333333333,
                            "#9c179e"
                          ],
                          [
                            0.4444444444444444,
                            "#bd3786"
                          ],
                          [
                            0.5555555555555556,
                            "#d8576b"
                          ],
                          [
                            0.6666666666666666,
                            "#ed7953"
                          ],
                          [
                            0.7777777777777778,
                            "#fb9f3a"
                          ],
                          [
                            0.8888888888888888,
                            "#fdca26"
                          ],
                          [
                            1,
                            "#f0f921"
                          ]
                        ],
                        "type": "surface"
                      }
                    ],
                    "table": [
                      {
                        "cells": {
                          "fill": {
                            "color": "#EBF0F8"
                          },
                          "line": {
                            "color": "white"
                          }
                        },
                        "header": {
                          "fill": {
                            "color": "#C8D4E3"
                          },
                          "line": {
                            "color": "white"
                          }
                        },
                        "type": "table"
                      }
                    ]
                  },
                  "layout": {
                    "annotationdefaults": {
                      "arrowcolor": "#2a3f5f",
                      "arrowhead": 0,
                      "arrowwidth": 1
                    },
                    "autotypenumbers": "strict",
                    "coloraxis": {
                      "colorbar": {
                        "outlinewidth": 0,
                        "ticks": ""
                      }
                    },
                    "colorscale": {
                      "diverging": [
                        [
                          0,
                          "#8e0152"
                        ],
                        [
                          0.1,
                          "#c51b7d"
                        ],
                        [
                          0.2,
                          "#de77ae"
                        ],
                        [
                          0.3,
                          "#f1b6da"
                        ],
                        [
                          0.4,
                          "#fde0ef"
                        ],
                        [
                          0.5,
                          "#f7f7f7"
                        ],
                        [
                          0.6,
                          "#e6f5d0"
                        ],
                        [
                          0.7,
                          "#b8e186"
                        ],
                        [
                          0.8,
                          "#7fbc41"
                        ],
                        [
                          0.9,
                          "#4d9221"
                        ],
                        [
                          1,
                          "#276419"
                        ]
                      ],
                      "sequential": [
                        [
                          0,
                          "#0d0887"
                        ],
                        [
                          0.1111111111111111,
                          "#46039f"
                        ],
                        [
                          0.2222222222222222,
                          "#7201a8"
                        ],
                        [
                          0.3333333333333333,
                          "#9c179e"
                        ],
                        [
                          0.4444444444444444,
                          "#bd3786"
                        ],
                        [
                          0.5555555555555556,
                          "#d8576b"
                        ],
                        [
                          0.6666666666666666,
                          "#ed7953"
                        ],
                        [
                          0.7777777777777778,
                          "#fb9f3a"
                        ],
                        [
                          0.8888888888888888,
                          "#fdca26"
                        ],
                        [
                          1,
                          "#f0f921"
                        ]
                      ],
                      "sequentialminus": [
                        [
                          0,
                          "#0d0887"
                        ],
                        [
                          0.1111111111111111,
                          "#46039f"
                        ],
                        [
                          0.2222222222222222,
                          "#7201a8"
                        ],
                        [
                          0.3333333333333333,
                          "#9c179e"
                        ],
                        [
                          0.4444444444444444,
                          "#bd3786"
                        ],
                        [
                          0.5555555555555556,
                          "#d8576b"
                        ],
                        [
                          0.6666666666666666,
                          "#ed7953"
                        ],
                        [
                          0.7777777777777778,
                          "#fb9f3a"
                        ],
                        [
                          0.8888888888888888,
                          "#fdca26"
                        ],
                        [
                          1,
                          "#f0f921"
                        ]
                      ]
                    },
                    "colorway": [
                      "#636efa",
                      "#EF553B",
                      "#00cc96",
                      "#ab63fa",
                      "#FFA15A",
                      "#19d3f3",
                      "#FF6692",
                      "#B6E880",
                      "#FF97FF",
                      "#FECB52"
                    ],
                    "font": {
                      "color": "#2a3f5f"
                    },
                    "geo": {
                      "bgcolor": "white",
                      "lakecolor": "white",
                      "landcolor": "#E5ECF6",
                      "showlakes": true,
                      "showland": true,
                      "subunitcolor": "white"
                    },
                    "hoverlabel": {
                      "align": "left"
                    },
                    "hovermode": "closest",
                    "mapbox": {
                      "style": "light"
                    },
                    "paper_bgcolor": "white",
                    "plot_bgcolor": "#E5ECF6",
                    "polar": {
                      "angularaxis": {
                        "gridcolor": "white",
                        "linecolor": "white",
                        "ticks": ""
                      },
                      "bgcolor": "#E5ECF6",
                      "radialaxis": {
                        "gridcolor": "white",
                        "linecolor": "white",
                        "ticks": ""
                      }
                    },
                    "scene": {
                      "xaxis": {
                        "backgroundcolor": "#E5ECF6",
                        "gridcolor": "white",
                        "gridwidth": 2,
                        "linecolor": "white",
                        "showbackground": true,
                        "ticks": "",
                        "zerolinecolor": "white"
                      },
                      "yaxis": {
                        "backgroundcolor": "#E5ECF6",
                        "gridcolor": "white",
                        "gridwidth": 2,
                        "linecolor": "white",
                        "showbackground": true,
                        "ticks": "",
                        "zerolinecolor": "white"
                      },
                      "zaxis": {
                        "backgroundcolor": "#E5ECF6",
                        "gridcolor": "white",
                        "gridwidth": 2,
                        "linecolor": "white",
                        "showbackground": true,
                        "ticks": "",
                        "zerolinecolor": "white"
                      }
                    },
                    "shapedefaults": {
                      "line": {
                        "color": "#2a3f5f"
                      }
                    },
                    "ternary": {
                      "aaxis": {
                        "gridcolor": "white",
                        "linecolor": "white",
                        "ticks": ""
                      },
                      "baxis": {
                        "gridcolor": "white",
                        "linecolor": "white",
                        "ticks": ""
                      },
                      "bgcolor": "#E5ECF6",
                      "caxis": {
                        "gridcolor": "white",
                        "linecolor": "white",
                        "ticks": ""
                      }
                    },
                    "title": {
                      "x": 0.05
                    },
                    "xaxis": {
                      "automargin": true,
                      "gridcolor": "white",
                      "linecolor": "white",
                      "ticks": "",
                      "title": {
                        "standoff": 15
                      },
                      "zerolinecolor": "white",
                      "zerolinewidth": 2
                    },
                    "yaxis": {
                      "automargin": true,
                      "gridcolor": "white",
                      "linecolor": "white",
                      "ticks": "",
                      "title": {
                        "standoff": 15
                      },
                      "zerolinecolor": "white",
                      "zerolinewidth": 2
                    }
                  }
                },
                "title": {
                  "text": "Slice Plot"
                },
                "xaxis": {
                  "anchor": "y",
                  "domain": [
                    0,
                    0.2888888888888889
                  ],
                  "title": {
                    "text": "bagging_fraction"
                  }
                },
                "xaxis2": {
                  "anchor": "y2",
                  "domain": [
                    0.35555555555555557,
                    0.6444444444444445
                  ],
                  "title": {
                    "text": "bagging_freq"
                  }
                },
                "xaxis3": {
                  "anchor": "y3",
                  "domain": [
                    0.7111111111111111,
                    1
                  ],
                  "title": {
                    "text": "min_child_samples"
                  }
                },
                "yaxis": {
                  "anchor": "x",
                  "domain": [
                    0,
                    1
                  ],
                  "title": {
                    "text": "Objective Value"
                  }
                },
                "yaxis2": {
                  "anchor": "x2",
                  "domain": [
                    0,
                    1
                  ],
                  "matches": "y",
                  "showticklabels": false
                },
                "yaxis3": {
                  "anchor": "x3",
                  "domain": [
                    0,
                    1
                  ],
                  "matches": "y",
                  "showticklabels": false
                }
              }
            }
          },
          "metadata": {},
          "output_type": "display_data"
        }
      ],
      "source": [
        "plot_slice(study)"
      ]
    },
    {
      "cell_type": "markdown",
      "metadata": {},
      "source": [
        "Select parameters to visualize.\n",
        "\n"
      ]
    },
    {
      "cell_type": "code",
      "execution_count": 12,
      "metadata": {
        "collapsed": false
      },
      "outputs": [
        {
          "data": {
            "application/vnd.plotly.v1+json": {
              "config": {
                "plotlyServerURL": "https://plot.ly"
              },
              "data": [
                {
                  "marker": {
                    "color": [
                      0,
                      1,
                      2,
                      3,
                      4,
                      5,
                      12,
                      18,
                      25,
                      32,
                      55,
                      82,
                      83,
                      90
                    ],
                    "colorbar": {
                      "title": {
                        "text": "Trial"
                      },
                      "x": 1,
                      "xpad": 40
                    },
                    "colorscale": [
                      [
                        0,
                        "rgb(247,251,255)"
                      ],
                      [
                        0.125,
                        "rgb(222,235,247)"
                      ],
                      [
                        0.25,
                        "rgb(198,219,239)"
                      ],
                      [
                        0.375,
                        "rgb(158,202,225)"
                      ],
                      [
                        0.5,
                        "rgb(107,174,214)"
                      ],
                      [
                        0.625,
                        "rgb(66,146,198)"
                      ],
                      [
                        0.75,
                        "rgb(33,113,181)"
                      ],
                      [
                        0.875,
                        "rgb(8,81,156)"
                      ],
                      [
                        1,
                        "rgb(8,48,107)"
                      ]
                    ],
                    "line": {
                      "color": "Grey",
                      "width": 0.5
                    },
                    "showscale": true
                  },
                  "mode": "markers",
                  "showlegend": false,
                  "type": "scatter",
                  "x": [
                    0.6247240713084175,
                    0.759195090518222,
                    0.4348501673009197,
                    0.8248435466776274,
                    0.899465584480253,
                    0.5100427059120604,
                    0.9733907188988407,
                    0.5995200470737633,
                    0.4770792095519505,
                    0.5996977861150512,
                    0.5903343863841894,
                    0.6922588822682393,
                    0.6971856013290972,
                    0.7773548684322235
                  ],
                  "xaxis": "x",
                  "y": [
                    0.972027972027972,
                    0.972027972027972,
                    0.958041958041958,
                    0.9790209790209791,
                    0.958041958041958,
                    0.993006993006993,
                    0.986013986013986,
                    0.9790209790209791,
                    0.993006993006993,
                    0.986013986013986,
                    0.986013986013986,
                    0.972027972027972,
                    1,
                    0.993006993006993
                  ],
                  "yaxis": "y"
                },
                {
                  "marker": {
                    "color": [
                      0,
                      1,
                      2,
                      3,
                      4,
                      5,
                      12,
                      18,
                      25,
                      32,
                      55,
                      82,
                      83,
                      90
                    ],
                    "colorbar": {
                      "title": {
                        "text": "Trial"
                      },
                      "x": 1,
                      "xpad": 40
                    },
                    "colorscale": [
                      [
                        0,
                        "rgb(247,251,255)"
                      ],
                      [
                        0.125,
                        "rgb(222,235,247)"
                      ],
                      [
                        0.25,
                        "rgb(198,219,239)"
                      ],
                      [
                        0.375,
                        "rgb(158,202,225)"
                      ],
                      [
                        0.5,
                        "rgb(107,174,214)"
                      ],
                      [
                        0.625,
                        "rgb(66,146,198)"
                      ],
                      [
                        0.75,
                        "rgb(33,113,181)"
                      ],
                      [
                        0.875,
                        "rgb(8,81,156)"
                      ],
                      [
                        1,
                        "rgb(8,48,107)"
                      ]
                    ],
                    "line": {
                      "color": "Grey",
                      "width": 0.5
                    },
                    "showscale": false
                  },
                  "mode": "markers",
                  "showlegend": false,
                  "type": "scatter",
                  "x": [
                    7,
                    2,
                    7,
                    1,
                    2,
                    3,
                    1,
                    2,
                    3,
                    2,
                    1,
                    1,
                    1,
                    1
                  ],
                  "xaxis": "x2",
                  "y": [
                    0.972027972027972,
                    0.972027972027972,
                    0.958041958041958,
                    0.9790209790209791,
                    0.958041958041958,
                    0.993006993006993,
                    0.986013986013986,
                    0.9790209790209791,
                    0.993006993006993,
                    0.986013986013986,
                    0.986013986013986,
                    0.972027972027972,
                    1,
                    0.993006993006993
                  ],
                  "yaxis": "y2"
                }
              ],
              "layout": {
                "template": {
                  "data": {
                    "bar": [
                      {
                        "error_x": {
                          "color": "#2a3f5f"
                        },
                        "error_y": {
                          "color": "#2a3f5f"
                        },
                        "marker": {
                          "line": {
                            "color": "#E5ECF6",
                            "width": 0.5
                          },
                          "pattern": {
                            "fillmode": "overlay",
                            "size": 10,
                            "solidity": 0.2
                          }
                        },
                        "type": "bar"
                      }
                    ],
                    "barpolar": [
                      {
                        "marker": {
                          "line": {
                            "color": "#E5ECF6",
                            "width": 0.5
                          },
                          "pattern": {
                            "fillmode": "overlay",
                            "size": 10,
                            "solidity": 0.2
                          }
                        },
                        "type": "barpolar"
                      }
                    ],
                    "carpet": [
                      {
                        "aaxis": {
                          "endlinecolor": "#2a3f5f",
                          "gridcolor": "white",
                          "linecolor": "white",
                          "minorgridcolor": "white",
                          "startlinecolor": "#2a3f5f"
                        },
                        "baxis": {
                          "endlinecolor": "#2a3f5f",
                          "gridcolor": "white",
                          "linecolor": "white",
                          "minorgridcolor": "white",
                          "startlinecolor": "#2a3f5f"
                        },
                        "type": "carpet"
                      }
                    ],
                    "choropleth": [
                      {
                        "colorbar": {
                          "outlinewidth": 0,
                          "ticks": ""
                        },
                        "type": "choropleth"
                      }
                    ],
                    "contour": [
                      {
                        "colorbar": {
                          "outlinewidth": 0,
                          "ticks": ""
                        },
                        "colorscale": [
                          [
                            0,
                            "#0d0887"
                          ],
                          [
                            0.1111111111111111,
                            "#46039f"
                          ],
                          [
                            0.2222222222222222,
                            "#7201a8"
                          ],
                          [
                            0.3333333333333333,
                            "#9c179e"
                          ],
                          [
                            0.4444444444444444,
                            "#bd3786"
                          ],
                          [
                            0.5555555555555556,
                            "#d8576b"
                          ],
                          [
                            0.6666666666666666,
                            "#ed7953"
                          ],
                          [
                            0.7777777777777778,
                            "#fb9f3a"
                          ],
                          [
                            0.8888888888888888,
                            "#fdca26"
                          ],
                          [
                            1,
                            "#f0f921"
                          ]
                        ],
                        "type": "contour"
                      }
                    ],
                    "contourcarpet": [
                      {
                        "colorbar": {
                          "outlinewidth": 0,
                          "ticks": ""
                        },
                        "type": "contourcarpet"
                      }
                    ],
                    "heatmap": [
                      {
                        "colorbar": {
                          "outlinewidth": 0,
                          "ticks": ""
                        },
                        "colorscale": [
                          [
                            0,
                            "#0d0887"
                          ],
                          [
                            0.1111111111111111,
                            "#46039f"
                          ],
                          [
                            0.2222222222222222,
                            "#7201a8"
                          ],
                          [
                            0.3333333333333333,
                            "#9c179e"
                          ],
                          [
                            0.4444444444444444,
                            "#bd3786"
                          ],
                          [
                            0.5555555555555556,
                            "#d8576b"
                          ],
                          [
                            0.6666666666666666,
                            "#ed7953"
                          ],
                          [
                            0.7777777777777778,
                            "#fb9f3a"
                          ],
                          [
                            0.8888888888888888,
                            "#fdca26"
                          ],
                          [
                            1,
                            "#f0f921"
                          ]
                        ],
                        "type": "heatmap"
                      }
                    ],
                    "heatmapgl": [
                      {
                        "colorbar": {
                          "outlinewidth": 0,
                          "ticks": ""
                        },
                        "colorscale": [
                          [
                            0,
                            "#0d0887"
                          ],
                          [
                            0.1111111111111111,
                            "#46039f"
                          ],
                          [
                            0.2222222222222222,
                            "#7201a8"
                          ],
                          [
                            0.3333333333333333,
                            "#9c179e"
                          ],
                          [
                            0.4444444444444444,
                            "#bd3786"
                          ],
                          [
                            0.5555555555555556,
                            "#d8576b"
                          ],
                          [
                            0.6666666666666666,
                            "#ed7953"
                          ],
                          [
                            0.7777777777777778,
                            "#fb9f3a"
                          ],
                          [
                            0.8888888888888888,
                            "#fdca26"
                          ],
                          [
                            1,
                            "#f0f921"
                          ]
                        ],
                        "type": "heatmapgl"
                      }
                    ],
                    "histogram": [
                      {
                        "marker": {
                          "pattern": {
                            "fillmode": "overlay",
                            "size": 10,
                            "solidity": 0.2
                          }
                        },
                        "type": "histogram"
                      }
                    ],
                    "histogram2d": [
                      {
                        "colorbar": {
                          "outlinewidth": 0,
                          "ticks": ""
                        },
                        "colorscale": [
                          [
                            0,
                            "#0d0887"
                          ],
                          [
                            0.1111111111111111,
                            "#46039f"
                          ],
                          [
                            0.2222222222222222,
                            "#7201a8"
                          ],
                          [
                            0.3333333333333333,
                            "#9c179e"
                          ],
                          [
                            0.4444444444444444,
                            "#bd3786"
                          ],
                          [
                            0.5555555555555556,
                            "#d8576b"
                          ],
                          [
                            0.6666666666666666,
                            "#ed7953"
                          ],
                          [
                            0.7777777777777778,
                            "#fb9f3a"
                          ],
                          [
                            0.8888888888888888,
                            "#fdca26"
                          ],
                          [
                            1,
                            "#f0f921"
                          ]
                        ],
                        "type": "histogram2d"
                      }
                    ],
                    "histogram2dcontour": [
                      {
                        "colorbar": {
                          "outlinewidth": 0,
                          "ticks": ""
                        },
                        "colorscale": [
                          [
                            0,
                            "#0d0887"
                          ],
                          [
                            0.1111111111111111,
                            "#46039f"
                          ],
                          [
                            0.2222222222222222,
                            "#7201a8"
                          ],
                          [
                            0.3333333333333333,
                            "#9c179e"
                          ],
                          [
                            0.4444444444444444,
                            "#bd3786"
                          ],
                          [
                            0.5555555555555556,
                            "#d8576b"
                          ],
                          [
                            0.6666666666666666,
                            "#ed7953"
                          ],
                          [
                            0.7777777777777778,
                            "#fb9f3a"
                          ],
                          [
                            0.8888888888888888,
                            "#fdca26"
                          ],
                          [
                            1,
                            "#f0f921"
                          ]
                        ],
                        "type": "histogram2dcontour"
                      }
                    ],
                    "mesh3d": [
                      {
                        "colorbar": {
                          "outlinewidth": 0,
                          "ticks": ""
                        },
                        "type": "mesh3d"
                      }
                    ],
                    "parcoords": [
                      {
                        "line": {
                          "colorbar": {
                            "outlinewidth": 0,
                            "ticks": ""
                          }
                        },
                        "type": "parcoords"
                      }
                    ],
                    "pie": [
                      {
                        "automargin": true,
                        "type": "pie"
                      }
                    ],
                    "scatter": [
                      {
                        "fillpattern": {
                          "fillmode": "overlay",
                          "size": 10,
                          "solidity": 0.2
                        },
                        "type": "scatter"
                      }
                    ],
                    "scatter3d": [
                      {
                        "line": {
                          "colorbar": {
                            "outlinewidth": 0,
                            "ticks": ""
                          }
                        },
                        "marker": {
                          "colorbar": {
                            "outlinewidth": 0,
                            "ticks": ""
                          }
                        },
                        "type": "scatter3d"
                      }
                    ],
                    "scattercarpet": [
                      {
                        "marker": {
                          "colorbar": {
                            "outlinewidth": 0,
                            "ticks": ""
                          }
                        },
                        "type": "scattercarpet"
                      }
                    ],
                    "scattergeo": [
                      {
                        "marker": {
                          "colorbar": {
                            "outlinewidth": 0,
                            "ticks": ""
                          }
                        },
                        "type": "scattergeo"
                      }
                    ],
                    "scattergl": [
                      {
                        "marker": {
                          "colorbar": {
                            "outlinewidth": 0,
                            "ticks": ""
                          }
                        },
                        "type": "scattergl"
                      }
                    ],
                    "scattermapbox": [
                      {
                        "marker": {
                          "colorbar": {
                            "outlinewidth": 0,
                            "ticks": ""
                          }
                        },
                        "type": "scattermapbox"
                      }
                    ],
                    "scatterpolar": [
                      {
                        "marker": {
                          "colorbar": {
                            "outlinewidth": 0,
                            "ticks": ""
                          }
                        },
                        "type": "scatterpolar"
                      }
                    ],
                    "scatterpolargl": [
                      {
                        "marker": {
                          "colorbar": {
                            "outlinewidth": 0,
                            "ticks": ""
                          }
                        },
                        "type": "scatterpolargl"
                      }
                    ],
                    "scatterternary": [
                      {
                        "marker": {
                          "colorbar": {
                            "outlinewidth": 0,
                            "ticks": ""
                          }
                        },
                        "type": "scatterternary"
                      }
                    ],
                    "surface": [
                      {
                        "colorbar": {
                          "outlinewidth": 0,
                          "ticks": ""
                        },
                        "colorscale": [
                          [
                            0,
                            "#0d0887"
                          ],
                          [
                            0.1111111111111111,
                            "#46039f"
                          ],
                          [
                            0.2222222222222222,
                            "#7201a8"
                          ],
                          [
                            0.3333333333333333,
                            "#9c179e"
                          ],
                          [
                            0.4444444444444444,
                            "#bd3786"
                          ],
                          [
                            0.5555555555555556,
                            "#d8576b"
                          ],
                          [
                            0.6666666666666666,
                            "#ed7953"
                          ],
                          [
                            0.7777777777777778,
                            "#fb9f3a"
                          ],
                          [
                            0.8888888888888888,
                            "#fdca26"
                          ],
                          [
                            1,
                            "#f0f921"
                          ]
                        ],
                        "type": "surface"
                      }
                    ],
                    "table": [
                      {
                        "cells": {
                          "fill": {
                            "color": "#EBF0F8"
                          },
                          "line": {
                            "color": "white"
                          }
                        },
                        "header": {
                          "fill": {
                            "color": "#C8D4E3"
                          },
                          "line": {
                            "color": "white"
                          }
                        },
                        "type": "table"
                      }
                    ]
                  },
                  "layout": {
                    "annotationdefaults": {
                      "arrowcolor": "#2a3f5f",
                      "arrowhead": 0,
                      "arrowwidth": 1
                    },
                    "autotypenumbers": "strict",
                    "coloraxis": {
                      "colorbar": {
                        "outlinewidth": 0,
                        "ticks": ""
                      }
                    },
                    "colorscale": {
                      "diverging": [
                        [
                          0,
                          "#8e0152"
                        ],
                        [
                          0.1,
                          "#c51b7d"
                        ],
                        [
                          0.2,
                          "#de77ae"
                        ],
                        [
                          0.3,
                          "#f1b6da"
                        ],
                        [
                          0.4,
                          "#fde0ef"
                        ],
                        [
                          0.5,
                          "#f7f7f7"
                        ],
                        [
                          0.6,
                          "#e6f5d0"
                        ],
                        [
                          0.7,
                          "#b8e186"
                        ],
                        [
                          0.8,
                          "#7fbc41"
                        ],
                        [
                          0.9,
                          "#4d9221"
                        ],
                        [
                          1,
                          "#276419"
                        ]
                      ],
                      "sequential": [
                        [
                          0,
                          "#0d0887"
                        ],
                        [
                          0.1111111111111111,
                          "#46039f"
                        ],
                        [
                          0.2222222222222222,
                          "#7201a8"
                        ],
                        [
                          0.3333333333333333,
                          "#9c179e"
                        ],
                        [
                          0.4444444444444444,
                          "#bd3786"
                        ],
                        [
                          0.5555555555555556,
                          "#d8576b"
                        ],
                        [
                          0.6666666666666666,
                          "#ed7953"
                        ],
                        [
                          0.7777777777777778,
                          "#fb9f3a"
                        ],
                        [
                          0.8888888888888888,
                          "#fdca26"
                        ],
                        [
                          1,
                          "#f0f921"
                        ]
                      ],
                      "sequentialminus": [
                        [
                          0,
                          "#0d0887"
                        ],
                        [
                          0.1111111111111111,
                          "#46039f"
                        ],
                        [
                          0.2222222222222222,
                          "#7201a8"
                        ],
                        [
                          0.3333333333333333,
                          "#9c179e"
                        ],
                        [
                          0.4444444444444444,
                          "#bd3786"
                        ],
                        [
                          0.5555555555555556,
                          "#d8576b"
                        ],
                        [
                          0.6666666666666666,
                          "#ed7953"
                        ],
                        [
                          0.7777777777777778,
                          "#fb9f3a"
                        ],
                        [
                          0.8888888888888888,
                          "#fdca26"
                        ],
                        [
                          1,
                          "#f0f921"
                        ]
                      ]
                    },
                    "colorway": [
                      "#636efa",
                      "#EF553B",
                      "#00cc96",
                      "#ab63fa",
                      "#FFA15A",
                      "#19d3f3",
                      "#FF6692",
                      "#B6E880",
                      "#FF97FF",
                      "#FECB52"
                    ],
                    "font": {
                      "color": "#2a3f5f"
                    },
                    "geo": {
                      "bgcolor": "white",
                      "lakecolor": "white",
                      "landcolor": "#E5ECF6",
                      "showlakes": true,
                      "showland": true,
                      "subunitcolor": "white"
                    },
                    "hoverlabel": {
                      "align": "left"
                    },
                    "hovermode": "closest",
                    "mapbox": {
                      "style": "light"
                    },
                    "paper_bgcolor": "white",
                    "plot_bgcolor": "#E5ECF6",
                    "polar": {
                      "angularaxis": {
                        "gridcolor": "white",
                        "linecolor": "white",
                        "ticks": ""
                      },
                      "bgcolor": "#E5ECF6",
                      "radialaxis": {
                        "gridcolor": "white",
                        "linecolor": "white",
                        "ticks": ""
                      }
                    },
                    "scene": {
                      "xaxis": {
                        "backgroundcolor": "#E5ECF6",
                        "gridcolor": "white",
                        "gridwidth": 2,
                        "linecolor": "white",
                        "showbackground": true,
                        "ticks": "",
                        "zerolinecolor": "white"
                      },
                      "yaxis": {
                        "backgroundcolor": "#E5ECF6",
                        "gridcolor": "white",
                        "gridwidth": 2,
                        "linecolor": "white",
                        "showbackground": true,
                        "ticks": "",
                        "zerolinecolor": "white"
                      },
                      "zaxis": {
                        "backgroundcolor": "#E5ECF6",
                        "gridcolor": "white",
                        "gridwidth": 2,
                        "linecolor": "white",
                        "showbackground": true,
                        "ticks": "",
                        "zerolinecolor": "white"
                      }
                    },
                    "shapedefaults": {
                      "line": {
                        "color": "#2a3f5f"
                      }
                    },
                    "ternary": {
                      "aaxis": {
                        "gridcolor": "white",
                        "linecolor": "white",
                        "ticks": ""
                      },
                      "baxis": {
                        "gridcolor": "white",
                        "linecolor": "white",
                        "ticks": ""
                      },
                      "bgcolor": "#E5ECF6",
                      "caxis": {
                        "gridcolor": "white",
                        "linecolor": "white",
                        "ticks": ""
                      }
                    },
                    "title": {
                      "x": 0.05
                    },
                    "xaxis": {
                      "automargin": true,
                      "gridcolor": "white",
                      "linecolor": "white",
                      "ticks": "",
                      "title": {
                        "standoff": 15
                      },
                      "zerolinecolor": "white",
                      "zerolinewidth": 2
                    },
                    "yaxis": {
                      "automargin": true,
                      "gridcolor": "white",
                      "linecolor": "white",
                      "ticks": "",
                      "title": {
                        "standoff": 15
                      },
                      "zerolinecolor": "white",
                      "zerolinewidth": 2
                    }
                  }
                },
                "title": {
                  "text": "Slice Plot"
                },
                "xaxis": {
                  "anchor": "y",
                  "domain": [
                    0,
                    0.45
                  ],
                  "title": {
                    "text": "bagging_fraction"
                  }
                },
                "xaxis2": {
                  "anchor": "y2",
                  "domain": [
                    0.55,
                    1
                  ],
                  "title": {
                    "text": "bagging_freq"
                  }
                },
                "yaxis": {
                  "anchor": "x",
                  "domain": [
                    0,
                    1
                  ],
                  "title": {
                    "text": "Objective Value"
                  }
                },
                "yaxis2": {
                  "anchor": "x2",
                  "domain": [
                    0,
                    1
                  ],
                  "matches": "y",
                  "showticklabels": false
                }
              }
            }
          },
          "metadata": {},
          "output_type": "display_data"
        }
      ],
      "source": [
        "plot_slice(study, params=[\"bagging_freq\", \"bagging_fraction\"])"
      ]
    },
    {
      "cell_type": "markdown",
      "metadata": {},
      "source": [
        "Visualize parameter importances. See :func:`~optuna.visualization.plot_param_importances` for the details.\n",
        "\n"
      ]
    },
    {
      "cell_type": "code",
      "execution_count": 13,
      "metadata": {
        "collapsed": false
      },
      "outputs": [
        {
          "data": {
            "application/vnd.plotly.v1+json": {
              "config": {
                "plotlyServerURL": "https://plot.ly"
              },
              "data": [
                {
                  "cliponaxis": false,
                  "hovertemplate": [
                    "bagging_freq (IntDistribution): 0.30013351282668527<extra></extra>",
                    "min_child_samples (IntDistribution): 0.33205626295090124<extra></extra>",
                    "bagging_fraction (FloatDistribution): 0.36781022422241355<extra></extra>"
                  ],
                  "marker": {
                    "color": "rgb(66,146,198)"
                  },
                  "orientation": "h",
                  "text": [
                    "0.30",
                    "0.33",
                    "0.37"
                  ],
                  "textposition": "outside",
                  "type": "bar",
                  "x": [
                    0.30013351282668527,
                    0.33205626295090124,
                    0.36781022422241355
                  ],
                  "y": [
                    "bagging_freq",
                    "min_child_samples",
                    "bagging_fraction"
                  ]
                }
              ],
              "layout": {
                "showlegend": false,
                "template": {
                  "data": {
                    "bar": [
                      {
                        "error_x": {
                          "color": "#2a3f5f"
                        },
                        "error_y": {
                          "color": "#2a3f5f"
                        },
                        "marker": {
                          "line": {
                            "color": "#E5ECF6",
                            "width": 0.5
                          },
                          "pattern": {
                            "fillmode": "overlay",
                            "size": 10,
                            "solidity": 0.2
                          }
                        },
                        "type": "bar"
                      }
                    ],
                    "barpolar": [
                      {
                        "marker": {
                          "line": {
                            "color": "#E5ECF6",
                            "width": 0.5
                          },
                          "pattern": {
                            "fillmode": "overlay",
                            "size": 10,
                            "solidity": 0.2
                          }
                        },
                        "type": "barpolar"
                      }
                    ],
                    "carpet": [
                      {
                        "aaxis": {
                          "endlinecolor": "#2a3f5f",
                          "gridcolor": "white",
                          "linecolor": "white",
                          "minorgridcolor": "white",
                          "startlinecolor": "#2a3f5f"
                        },
                        "baxis": {
                          "endlinecolor": "#2a3f5f",
                          "gridcolor": "white",
                          "linecolor": "white",
                          "minorgridcolor": "white",
                          "startlinecolor": "#2a3f5f"
                        },
                        "type": "carpet"
                      }
                    ],
                    "choropleth": [
                      {
                        "colorbar": {
                          "outlinewidth": 0,
                          "ticks": ""
                        },
                        "type": "choropleth"
                      }
                    ],
                    "contour": [
                      {
                        "colorbar": {
                          "outlinewidth": 0,
                          "ticks": ""
                        },
                        "colorscale": [
                          [
                            0,
                            "#0d0887"
                          ],
                          [
                            0.1111111111111111,
                            "#46039f"
                          ],
                          [
                            0.2222222222222222,
                            "#7201a8"
                          ],
                          [
                            0.3333333333333333,
                            "#9c179e"
                          ],
                          [
                            0.4444444444444444,
                            "#bd3786"
                          ],
                          [
                            0.5555555555555556,
                            "#d8576b"
                          ],
                          [
                            0.6666666666666666,
                            "#ed7953"
                          ],
                          [
                            0.7777777777777778,
                            "#fb9f3a"
                          ],
                          [
                            0.8888888888888888,
                            "#fdca26"
                          ],
                          [
                            1,
                            "#f0f921"
                          ]
                        ],
                        "type": "contour"
                      }
                    ],
                    "contourcarpet": [
                      {
                        "colorbar": {
                          "outlinewidth": 0,
                          "ticks": ""
                        },
                        "type": "contourcarpet"
                      }
                    ],
                    "heatmap": [
                      {
                        "colorbar": {
                          "outlinewidth": 0,
                          "ticks": ""
                        },
                        "colorscale": [
                          [
                            0,
                            "#0d0887"
                          ],
                          [
                            0.1111111111111111,
                            "#46039f"
                          ],
                          [
                            0.2222222222222222,
                            "#7201a8"
                          ],
                          [
                            0.3333333333333333,
                            "#9c179e"
                          ],
                          [
                            0.4444444444444444,
                            "#bd3786"
                          ],
                          [
                            0.5555555555555556,
                            "#d8576b"
                          ],
                          [
                            0.6666666666666666,
                            "#ed7953"
                          ],
                          [
                            0.7777777777777778,
                            "#fb9f3a"
                          ],
                          [
                            0.8888888888888888,
                            "#fdca26"
                          ],
                          [
                            1,
                            "#f0f921"
                          ]
                        ],
                        "type": "heatmap"
                      }
                    ],
                    "heatmapgl": [
                      {
                        "colorbar": {
                          "outlinewidth": 0,
                          "ticks": ""
                        },
                        "colorscale": [
                          [
                            0,
                            "#0d0887"
                          ],
                          [
                            0.1111111111111111,
                            "#46039f"
                          ],
                          [
                            0.2222222222222222,
                            "#7201a8"
                          ],
                          [
                            0.3333333333333333,
                            "#9c179e"
                          ],
                          [
                            0.4444444444444444,
                            "#bd3786"
                          ],
                          [
                            0.5555555555555556,
                            "#d8576b"
                          ],
                          [
                            0.6666666666666666,
                            "#ed7953"
                          ],
                          [
                            0.7777777777777778,
                            "#fb9f3a"
                          ],
                          [
                            0.8888888888888888,
                            "#fdca26"
                          ],
                          [
                            1,
                            "#f0f921"
                          ]
                        ],
                        "type": "heatmapgl"
                      }
                    ],
                    "histogram": [
                      {
                        "marker": {
                          "pattern": {
                            "fillmode": "overlay",
                            "size": 10,
                            "solidity": 0.2
                          }
                        },
                        "type": "histogram"
                      }
                    ],
                    "histogram2d": [
                      {
                        "colorbar": {
                          "outlinewidth": 0,
                          "ticks": ""
                        },
                        "colorscale": [
                          [
                            0,
                            "#0d0887"
                          ],
                          [
                            0.1111111111111111,
                            "#46039f"
                          ],
                          [
                            0.2222222222222222,
                            "#7201a8"
                          ],
                          [
                            0.3333333333333333,
                            "#9c179e"
                          ],
                          [
                            0.4444444444444444,
                            "#bd3786"
                          ],
                          [
                            0.5555555555555556,
                            "#d8576b"
                          ],
                          [
                            0.6666666666666666,
                            "#ed7953"
                          ],
                          [
                            0.7777777777777778,
                            "#fb9f3a"
                          ],
                          [
                            0.8888888888888888,
                            "#fdca26"
                          ],
                          [
                            1,
                            "#f0f921"
                          ]
                        ],
                        "type": "histogram2d"
                      }
                    ],
                    "histogram2dcontour": [
                      {
                        "colorbar": {
                          "outlinewidth": 0,
                          "ticks": ""
                        },
                        "colorscale": [
                          [
                            0,
                            "#0d0887"
                          ],
                          [
                            0.1111111111111111,
                            "#46039f"
                          ],
                          [
                            0.2222222222222222,
                            "#7201a8"
                          ],
                          [
                            0.3333333333333333,
                            "#9c179e"
                          ],
                          [
                            0.4444444444444444,
                            "#bd3786"
                          ],
                          [
                            0.5555555555555556,
                            "#d8576b"
                          ],
                          [
                            0.6666666666666666,
                            "#ed7953"
                          ],
                          [
                            0.7777777777777778,
                            "#fb9f3a"
                          ],
                          [
                            0.8888888888888888,
                            "#fdca26"
                          ],
                          [
                            1,
                            "#f0f921"
                          ]
                        ],
                        "type": "histogram2dcontour"
                      }
                    ],
                    "mesh3d": [
                      {
                        "colorbar": {
                          "outlinewidth": 0,
                          "ticks": ""
                        },
                        "type": "mesh3d"
                      }
                    ],
                    "parcoords": [
                      {
                        "line": {
                          "colorbar": {
                            "outlinewidth": 0,
                            "ticks": ""
                          }
                        },
                        "type": "parcoords"
                      }
                    ],
                    "pie": [
                      {
                        "automargin": true,
                        "type": "pie"
                      }
                    ],
                    "scatter": [
                      {
                        "fillpattern": {
                          "fillmode": "overlay",
                          "size": 10,
                          "solidity": 0.2
                        },
                        "type": "scatter"
                      }
                    ],
                    "scatter3d": [
                      {
                        "line": {
                          "colorbar": {
                            "outlinewidth": 0,
                            "ticks": ""
                          }
                        },
                        "marker": {
                          "colorbar": {
                            "outlinewidth": 0,
                            "ticks": ""
                          }
                        },
                        "type": "scatter3d"
                      }
                    ],
                    "scattercarpet": [
                      {
                        "marker": {
                          "colorbar": {
                            "outlinewidth": 0,
                            "ticks": ""
                          }
                        },
                        "type": "scattercarpet"
                      }
                    ],
                    "scattergeo": [
                      {
                        "marker": {
                          "colorbar": {
                            "outlinewidth": 0,
                            "ticks": ""
                          }
                        },
                        "type": "scattergeo"
                      }
                    ],
                    "scattergl": [
                      {
                        "marker": {
                          "colorbar": {
                            "outlinewidth": 0,
                            "ticks": ""
                          }
                        },
                        "type": "scattergl"
                      }
                    ],
                    "scattermapbox": [
                      {
                        "marker": {
                          "colorbar": {
                            "outlinewidth": 0,
                            "ticks": ""
                          }
                        },
                        "type": "scattermapbox"
                      }
                    ],
                    "scatterpolar": [
                      {
                        "marker": {
                          "colorbar": {
                            "outlinewidth": 0,
                            "ticks": ""
                          }
                        },
                        "type": "scatterpolar"
                      }
                    ],
                    "scatterpolargl": [
                      {
                        "marker": {
                          "colorbar": {
                            "outlinewidth": 0,
                            "ticks": ""
                          }
                        },
                        "type": "scatterpolargl"
                      }
                    ],
                    "scatterternary": [
                      {
                        "marker": {
                          "colorbar": {
                            "outlinewidth": 0,
                            "ticks": ""
                          }
                        },
                        "type": "scatterternary"
                      }
                    ],
                    "surface": [
                      {
                        "colorbar": {
                          "outlinewidth": 0,
                          "ticks": ""
                        },
                        "colorscale": [
                          [
                            0,
                            "#0d0887"
                          ],
                          [
                            0.1111111111111111,
                            "#46039f"
                          ],
                          [
                            0.2222222222222222,
                            "#7201a8"
                          ],
                          [
                            0.3333333333333333,
                            "#9c179e"
                          ],
                          [
                            0.4444444444444444,
                            "#bd3786"
                          ],
                          [
                            0.5555555555555556,
                            "#d8576b"
                          ],
                          [
                            0.6666666666666666,
                            "#ed7953"
                          ],
                          [
                            0.7777777777777778,
                            "#fb9f3a"
                          ],
                          [
                            0.8888888888888888,
                            "#fdca26"
                          ],
                          [
                            1,
                            "#f0f921"
                          ]
                        ],
                        "type": "surface"
                      }
                    ],
                    "table": [
                      {
                        "cells": {
                          "fill": {
                            "color": "#EBF0F8"
                          },
                          "line": {
                            "color": "white"
                          }
                        },
                        "header": {
                          "fill": {
                            "color": "#C8D4E3"
                          },
                          "line": {
                            "color": "white"
                          }
                        },
                        "type": "table"
                      }
                    ]
                  },
                  "layout": {
                    "annotationdefaults": {
                      "arrowcolor": "#2a3f5f",
                      "arrowhead": 0,
                      "arrowwidth": 1
                    },
                    "autotypenumbers": "strict",
                    "coloraxis": {
                      "colorbar": {
                        "outlinewidth": 0,
                        "ticks": ""
                      }
                    },
                    "colorscale": {
                      "diverging": [
                        [
                          0,
                          "#8e0152"
                        ],
                        [
                          0.1,
                          "#c51b7d"
                        ],
                        [
                          0.2,
                          "#de77ae"
                        ],
                        [
                          0.3,
                          "#f1b6da"
                        ],
                        [
                          0.4,
                          "#fde0ef"
                        ],
                        [
                          0.5,
                          "#f7f7f7"
                        ],
                        [
                          0.6,
                          "#e6f5d0"
                        ],
                        [
                          0.7,
                          "#b8e186"
                        ],
                        [
                          0.8,
                          "#7fbc41"
                        ],
                        [
                          0.9,
                          "#4d9221"
                        ],
                        [
                          1,
                          "#276419"
                        ]
                      ],
                      "sequential": [
                        [
                          0,
                          "#0d0887"
                        ],
                        [
                          0.1111111111111111,
                          "#46039f"
                        ],
                        [
                          0.2222222222222222,
                          "#7201a8"
                        ],
                        [
                          0.3333333333333333,
                          "#9c179e"
                        ],
                        [
                          0.4444444444444444,
                          "#bd3786"
                        ],
                        [
                          0.5555555555555556,
                          "#d8576b"
                        ],
                        [
                          0.6666666666666666,
                          "#ed7953"
                        ],
                        [
                          0.7777777777777778,
                          "#fb9f3a"
                        ],
                        [
                          0.8888888888888888,
                          "#fdca26"
                        ],
                        [
                          1,
                          "#f0f921"
                        ]
                      ],
                      "sequentialminus": [
                        [
                          0,
                          "#0d0887"
                        ],
                        [
                          0.1111111111111111,
                          "#46039f"
                        ],
                        [
                          0.2222222222222222,
                          "#7201a8"
                        ],
                        [
                          0.3333333333333333,
                          "#9c179e"
                        ],
                        [
                          0.4444444444444444,
                          "#bd3786"
                        ],
                        [
                          0.5555555555555556,
                          "#d8576b"
                        ],
                        [
                          0.6666666666666666,
                          "#ed7953"
                        ],
                        [
                          0.7777777777777778,
                          "#fb9f3a"
                        ],
                        [
                          0.8888888888888888,
                          "#fdca26"
                        ],
                        [
                          1,
                          "#f0f921"
                        ]
                      ]
                    },
                    "colorway": [
                      "#636efa",
                      "#EF553B",
                      "#00cc96",
                      "#ab63fa",
                      "#FFA15A",
                      "#19d3f3",
                      "#FF6692",
                      "#B6E880",
                      "#FF97FF",
                      "#FECB52"
                    ],
                    "font": {
                      "color": "#2a3f5f"
                    },
                    "geo": {
                      "bgcolor": "white",
                      "lakecolor": "white",
                      "landcolor": "#E5ECF6",
                      "showlakes": true,
                      "showland": true,
                      "subunitcolor": "white"
                    },
                    "hoverlabel": {
                      "align": "left"
                    },
                    "hovermode": "closest",
                    "mapbox": {
                      "style": "light"
                    },
                    "paper_bgcolor": "white",
                    "plot_bgcolor": "#E5ECF6",
                    "polar": {
                      "angularaxis": {
                        "gridcolor": "white",
                        "linecolor": "white",
                        "ticks": ""
                      },
                      "bgcolor": "#E5ECF6",
                      "radialaxis": {
                        "gridcolor": "white",
                        "linecolor": "white",
                        "ticks": ""
                      }
                    },
                    "scene": {
                      "xaxis": {
                        "backgroundcolor": "#E5ECF6",
                        "gridcolor": "white",
                        "gridwidth": 2,
                        "linecolor": "white",
                        "showbackground": true,
                        "ticks": "",
                        "zerolinecolor": "white"
                      },
                      "yaxis": {
                        "backgroundcolor": "#E5ECF6",
                        "gridcolor": "white",
                        "gridwidth": 2,
                        "linecolor": "white",
                        "showbackground": true,
                        "ticks": "",
                        "zerolinecolor": "white"
                      },
                      "zaxis": {
                        "backgroundcolor": "#E5ECF6",
                        "gridcolor": "white",
                        "gridwidth": 2,
                        "linecolor": "white",
                        "showbackground": true,
                        "ticks": "",
                        "zerolinecolor": "white"
                      }
                    },
                    "shapedefaults": {
                      "line": {
                        "color": "#2a3f5f"
                      }
                    },
                    "ternary": {
                      "aaxis": {
                        "gridcolor": "white",
                        "linecolor": "white",
                        "ticks": ""
                      },
                      "baxis": {
                        "gridcolor": "white",
                        "linecolor": "white",
                        "ticks": ""
                      },
                      "bgcolor": "#E5ECF6",
                      "caxis": {
                        "gridcolor": "white",
                        "linecolor": "white",
                        "ticks": ""
                      }
                    },
                    "title": {
                      "x": 0.05
                    },
                    "xaxis": {
                      "automargin": true,
                      "gridcolor": "white",
                      "linecolor": "white",
                      "ticks": "",
                      "title": {
                        "standoff": 15
                      },
                      "zerolinecolor": "white",
                      "zerolinewidth": 2
                    },
                    "yaxis": {
                      "automargin": true,
                      "gridcolor": "white",
                      "linecolor": "white",
                      "ticks": "",
                      "title": {
                        "standoff": 15
                      },
                      "zerolinecolor": "white",
                      "zerolinewidth": 2
                    }
                  }
                },
                "title": {
                  "text": "Hyperparameter Importances"
                },
                "xaxis": {
                  "title": {
                    "text": "Importance for Objective Value"
                  }
                },
                "yaxis": {
                  "title": {
                    "text": "Hyperparameter"
                  }
                }
              }
            }
          },
          "metadata": {},
          "output_type": "display_data"
        }
      ],
      "source": [
        "plot_param_importances(study)"
      ]
    },
    {
      "cell_type": "markdown",
      "metadata": {},
      "source": [
        "Learn which hyperparameters are affecting the trial duration with hyperparameter importance.\n",
        "\n"
      ]
    },
    {
      "cell_type": "code",
      "execution_count": 14,
      "metadata": {
        "collapsed": false
      },
      "outputs": [
        {
          "data": {
            "application/vnd.plotly.v1+json": {
              "config": {
                "plotlyServerURL": "https://plot.ly"
              },
              "data": [
                {
                  "cliponaxis": false,
                  "hovertemplate": [
                    "bagging_freq (IntDistribution): 0.026156960941900873<extra></extra>",
                    "bagging_fraction (FloatDistribution): 0.050454707451626515<extra></extra>",
                    "min_child_samples (IntDistribution): 0.9233883316064726<extra></extra>"
                  ],
                  "marker": {
                    "color": "rgb(66,146,198)"
                  },
                  "orientation": "h",
                  "text": [
                    "0.03",
                    "0.05",
                    "0.92"
                  ],
                  "textposition": "outside",
                  "type": "bar",
                  "x": [
                    0.026156960941900873,
                    0.050454707451626515,
                    0.9233883316064726
                  ],
                  "y": [
                    "bagging_freq",
                    "bagging_fraction",
                    "min_child_samples"
                  ]
                }
              ],
              "layout": {
                "showlegend": false,
                "template": {
                  "data": {
                    "bar": [
                      {
                        "error_x": {
                          "color": "#2a3f5f"
                        },
                        "error_y": {
                          "color": "#2a3f5f"
                        },
                        "marker": {
                          "line": {
                            "color": "#E5ECF6",
                            "width": 0.5
                          },
                          "pattern": {
                            "fillmode": "overlay",
                            "size": 10,
                            "solidity": 0.2
                          }
                        },
                        "type": "bar"
                      }
                    ],
                    "barpolar": [
                      {
                        "marker": {
                          "line": {
                            "color": "#E5ECF6",
                            "width": 0.5
                          },
                          "pattern": {
                            "fillmode": "overlay",
                            "size": 10,
                            "solidity": 0.2
                          }
                        },
                        "type": "barpolar"
                      }
                    ],
                    "carpet": [
                      {
                        "aaxis": {
                          "endlinecolor": "#2a3f5f",
                          "gridcolor": "white",
                          "linecolor": "white",
                          "minorgridcolor": "white",
                          "startlinecolor": "#2a3f5f"
                        },
                        "baxis": {
                          "endlinecolor": "#2a3f5f",
                          "gridcolor": "white",
                          "linecolor": "white",
                          "minorgridcolor": "white",
                          "startlinecolor": "#2a3f5f"
                        },
                        "type": "carpet"
                      }
                    ],
                    "choropleth": [
                      {
                        "colorbar": {
                          "outlinewidth": 0,
                          "ticks": ""
                        },
                        "type": "choropleth"
                      }
                    ],
                    "contour": [
                      {
                        "colorbar": {
                          "outlinewidth": 0,
                          "ticks": ""
                        },
                        "colorscale": [
                          [
                            0,
                            "#0d0887"
                          ],
                          [
                            0.1111111111111111,
                            "#46039f"
                          ],
                          [
                            0.2222222222222222,
                            "#7201a8"
                          ],
                          [
                            0.3333333333333333,
                            "#9c179e"
                          ],
                          [
                            0.4444444444444444,
                            "#bd3786"
                          ],
                          [
                            0.5555555555555556,
                            "#d8576b"
                          ],
                          [
                            0.6666666666666666,
                            "#ed7953"
                          ],
                          [
                            0.7777777777777778,
                            "#fb9f3a"
                          ],
                          [
                            0.8888888888888888,
                            "#fdca26"
                          ],
                          [
                            1,
                            "#f0f921"
                          ]
                        ],
                        "type": "contour"
                      }
                    ],
                    "contourcarpet": [
                      {
                        "colorbar": {
                          "outlinewidth": 0,
                          "ticks": ""
                        },
                        "type": "contourcarpet"
                      }
                    ],
                    "heatmap": [
                      {
                        "colorbar": {
                          "outlinewidth": 0,
                          "ticks": ""
                        },
                        "colorscale": [
                          [
                            0,
                            "#0d0887"
                          ],
                          [
                            0.1111111111111111,
                            "#46039f"
                          ],
                          [
                            0.2222222222222222,
                            "#7201a8"
                          ],
                          [
                            0.3333333333333333,
                            "#9c179e"
                          ],
                          [
                            0.4444444444444444,
                            "#bd3786"
                          ],
                          [
                            0.5555555555555556,
                            "#d8576b"
                          ],
                          [
                            0.6666666666666666,
                            "#ed7953"
                          ],
                          [
                            0.7777777777777778,
                            "#fb9f3a"
                          ],
                          [
                            0.8888888888888888,
                            "#fdca26"
                          ],
                          [
                            1,
                            "#f0f921"
                          ]
                        ],
                        "type": "heatmap"
                      }
                    ],
                    "heatmapgl": [
                      {
                        "colorbar": {
                          "outlinewidth": 0,
                          "ticks": ""
                        },
                        "colorscale": [
                          [
                            0,
                            "#0d0887"
                          ],
                          [
                            0.1111111111111111,
                            "#46039f"
                          ],
                          [
                            0.2222222222222222,
                            "#7201a8"
                          ],
                          [
                            0.3333333333333333,
                            "#9c179e"
                          ],
                          [
                            0.4444444444444444,
                            "#bd3786"
                          ],
                          [
                            0.5555555555555556,
                            "#d8576b"
                          ],
                          [
                            0.6666666666666666,
                            "#ed7953"
                          ],
                          [
                            0.7777777777777778,
                            "#fb9f3a"
                          ],
                          [
                            0.8888888888888888,
                            "#fdca26"
                          ],
                          [
                            1,
                            "#f0f921"
                          ]
                        ],
                        "type": "heatmapgl"
                      }
                    ],
                    "histogram": [
                      {
                        "marker": {
                          "pattern": {
                            "fillmode": "overlay",
                            "size": 10,
                            "solidity": 0.2
                          }
                        },
                        "type": "histogram"
                      }
                    ],
                    "histogram2d": [
                      {
                        "colorbar": {
                          "outlinewidth": 0,
                          "ticks": ""
                        },
                        "colorscale": [
                          [
                            0,
                            "#0d0887"
                          ],
                          [
                            0.1111111111111111,
                            "#46039f"
                          ],
                          [
                            0.2222222222222222,
                            "#7201a8"
                          ],
                          [
                            0.3333333333333333,
                            "#9c179e"
                          ],
                          [
                            0.4444444444444444,
                            "#bd3786"
                          ],
                          [
                            0.5555555555555556,
                            "#d8576b"
                          ],
                          [
                            0.6666666666666666,
                            "#ed7953"
                          ],
                          [
                            0.7777777777777778,
                            "#fb9f3a"
                          ],
                          [
                            0.8888888888888888,
                            "#fdca26"
                          ],
                          [
                            1,
                            "#f0f921"
                          ]
                        ],
                        "type": "histogram2d"
                      }
                    ],
                    "histogram2dcontour": [
                      {
                        "colorbar": {
                          "outlinewidth": 0,
                          "ticks": ""
                        },
                        "colorscale": [
                          [
                            0,
                            "#0d0887"
                          ],
                          [
                            0.1111111111111111,
                            "#46039f"
                          ],
                          [
                            0.2222222222222222,
                            "#7201a8"
                          ],
                          [
                            0.3333333333333333,
                            "#9c179e"
                          ],
                          [
                            0.4444444444444444,
                            "#bd3786"
                          ],
                          [
                            0.5555555555555556,
                            "#d8576b"
                          ],
                          [
                            0.6666666666666666,
                            "#ed7953"
                          ],
                          [
                            0.7777777777777778,
                            "#fb9f3a"
                          ],
                          [
                            0.8888888888888888,
                            "#fdca26"
                          ],
                          [
                            1,
                            "#f0f921"
                          ]
                        ],
                        "type": "histogram2dcontour"
                      }
                    ],
                    "mesh3d": [
                      {
                        "colorbar": {
                          "outlinewidth": 0,
                          "ticks": ""
                        },
                        "type": "mesh3d"
                      }
                    ],
                    "parcoords": [
                      {
                        "line": {
                          "colorbar": {
                            "outlinewidth": 0,
                            "ticks": ""
                          }
                        },
                        "type": "parcoords"
                      }
                    ],
                    "pie": [
                      {
                        "automargin": true,
                        "type": "pie"
                      }
                    ],
                    "scatter": [
                      {
                        "fillpattern": {
                          "fillmode": "overlay",
                          "size": 10,
                          "solidity": 0.2
                        },
                        "type": "scatter"
                      }
                    ],
                    "scatter3d": [
                      {
                        "line": {
                          "colorbar": {
                            "outlinewidth": 0,
                            "ticks": ""
                          }
                        },
                        "marker": {
                          "colorbar": {
                            "outlinewidth": 0,
                            "ticks": ""
                          }
                        },
                        "type": "scatter3d"
                      }
                    ],
                    "scattercarpet": [
                      {
                        "marker": {
                          "colorbar": {
                            "outlinewidth": 0,
                            "ticks": ""
                          }
                        },
                        "type": "scattercarpet"
                      }
                    ],
                    "scattergeo": [
                      {
                        "marker": {
                          "colorbar": {
                            "outlinewidth": 0,
                            "ticks": ""
                          }
                        },
                        "type": "scattergeo"
                      }
                    ],
                    "scattergl": [
                      {
                        "marker": {
                          "colorbar": {
                            "outlinewidth": 0,
                            "ticks": ""
                          }
                        },
                        "type": "scattergl"
                      }
                    ],
                    "scattermapbox": [
                      {
                        "marker": {
                          "colorbar": {
                            "outlinewidth": 0,
                            "ticks": ""
                          }
                        },
                        "type": "scattermapbox"
                      }
                    ],
                    "scatterpolar": [
                      {
                        "marker": {
                          "colorbar": {
                            "outlinewidth": 0,
                            "ticks": ""
                          }
                        },
                        "type": "scatterpolar"
                      }
                    ],
                    "scatterpolargl": [
                      {
                        "marker": {
                          "colorbar": {
                            "outlinewidth": 0,
                            "ticks": ""
                          }
                        },
                        "type": "scatterpolargl"
                      }
                    ],
                    "scatterternary": [
                      {
                        "marker": {
                          "colorbar": {
                            "outlinewidth": 0,
                            "ticks": ""
                          }
                        },
                        "type": "scatterternary"
                      }
                    ],
                    "surface": [
                      {
                        "colorbar": {
                          "outlinewidth": 0,
                          "ticks": ""
                        },
                        "colorscale": [
                          [
                            0,
                            "#0d0887"
                          ],
                          [
                            0.1111111111111111,
                            "#46039f"
                          ],
                          [
                            0.2222222222222222,
                            "#7201a8"
                          ],
                          [
                            0.3333333333333333,
                            "#9c179e"
                          ],
                          [
                            0.4444444444444444,
                            "#bd3786"
                          ],
                          [
                            0.5555555555555556,
                            "#d8576b"
                          ],
                          [
                            0.6666666666666666,
                            "#ed7953"
                          ],
                          [
                            0.7777777777777778,
                            "#fb9f3a"
                          ],
                          [
                            0.8888888888888888,
                            "#fdca26"
                          ],
                          [
                            1,
                            "#f0f921"
                          ]
                        ],
                        "type": "surface"
                      }
                    ],
                    "table": [
                      {
                        "cells": {
                          "fill": {
                            "color": "#EBF0F8"
                          },
                          "line": {
                            "color": "white"
                          }
                        },
                        "header": {
                          "fill": {
                            "color": "#C8D4E3"
                          },
                          "line": {
                            "color": "white"
                          }
                        },
                        "type": "table"
                      }
                    ]
                  },
                  "layout": {
                    "annotationdefaults": {
                      "arrowcolor": "#2a3f5f",
                      "arrowhead": 0,
                      "arrowwidth": 1
                    },
                    "autotypenumbers": "strict",
                    "coloraxis": {
                      "colorbar": {
                        "outlinewidth": 0,
                        "ticks": ""
                      }
                    },
                    "colorscale": {
                      "diverging": [
                        [
                          0,
                          "#8e0152"
                        ],
                        [
                          0.1,
                          "#c51b7d"
                        ],
                        [
                          0.2,
                          "#de77ae"
                        ],
                        [
                          0.3,
                          "#f1b6da"
                        ],
                        [
                          0.4,
                          "#fde0ef"
                        ],
                        [
                          0.5,
                          "#f7f7f7"
                        ],
                        [
                          0.6,
                          "#e6f5d0"
                        ],
                        [
                          0.7,
                          "#b8e186"
                        ],
                        [
                          0.8,
                          "#7fbc41"
                        ],
                        [
                          0.9,
                          "#4d9221"
                        ],
                        [
                          1,
                          "#276419"
                        ]
                      ],
                      "sequential": [
                        [
                          0,
                          "#0d0887"
                        ],
                        [
                          0.1111111111111111,
                          "#46039f"
                        ],
                        [
                          0.2222222222222222,
                          "#7201a8"
                        ],
                        [
                          0.3333333333333333,
                          "#9c179e"
                        ],
                        [
                          0.4444444444444444,
                          "#bd3786"
                        ],
                        [
                          0.5555555555555556,
                          "#d8576b"
                        ],
                        [
                          0.6666666666666666,
                          "#ed7953"
                        ],
                        [
                          0.7777777777777778,
                          "#fb9f3a"
                        ],
                        [
                          0.8888888888888888,
                          "#fdca26"
                        ],
                        [
                          1,
                          "#f0f921"
                        ]
                      ],
                      "sequentialminus": [
                        [
                          0,
                          "#0d0887"
                        ],
                        [
                          0.1111111111111111,
                          "#46039f"
                        ],
                        [
                          0.2222222222222222,
                          "#7201a8"
                        ],
                        [
                          0.3333333333333333,
                          "#9c179e"
                        ],
                        [
                          0.4444444444444444,
                          "#bd3786"
                        ],
                        [
                          0.5555555555555556,
                          "#d8576b"
                        ],
                        [
                          0.6666666666666666,
                          "#ed7953"
                        ],
                        [
                          0.7777777777777778,
                          "#fb9f3a"
                        ],
                        [
                          0.8888888888888888,
                          "#fdca26"
                        ],
                        [
                          1,
                          "#f0f921"
                        ]
                      ]
                    },
                    "colorway": [
                      "#636efa",
                      "#EF553B",
                      "#00cc96",
                      "#ab63fa",
                      "#FFA15A",
                      "#19d3f3",
                      "#FF6692",
                      "#B6E880",
                      "#FF97FF",
                      "#FECB52"
                    ],
                    "font": {
                      "color": "#2a3f5f"
                    },
                    "geo": {
                      "bgcolor": "white",
                      "lakecolor": "white",
                      "landcolor": "#E5ECF6",
                      "showlakes": true,
                      "showland": true,
                      "subunitcolor": "white"
                    },
                    "hoverlabel": {
                      "align": "left"
                    },
                    "hovermode": "closest",
                    "mapbox": {
                      "style": "light"
                    },
                    "paper_bgcolor": "white",
                    "plot_bgcolor": "#E5ECF6",
                    "polar": {
                      "angularaxis": {
                        "gridcolor": "white",
                        "linecolor": "white",
                        "ticks": ""
                      },
                      "bgcolor": "#E5ECF6",
                      "radialaxis": {
                        "gridcolor": "white",
                        "linecolor": "white",
                        "ticks": ""
                      }
                    },
                    "scene": {
                      "xaxis": {
                        "backgroundcolor": "#E5ECF6",
                        "gridcolor": "white",
                        "gridwidth": 2,
                        "linecolor": "white",
                        "showbackground": true,
                        "ticks": "",
                        "zerolinecolor": "white"
                      },
                      "yaxis": {
                        "backgroundcolor": "#E5ECF6",
                        "gridcolor": "white",
                        "gridwidth": 2,
                        "linecolor": "white",
                        "showbackground": true,
                        "ticks": "",
                        "zerolinecolor": "white"
                      },
                      "zaxis": {
                        "backgroundcolor": "#E5ECF6",
                        "gridcolor": "white",
                        "gridwidth": 2,
                        "linecolor": "white",
                        "showbackground": true,
                        "ticks": "",
                        "zerolinecolor": "white"
                      }
                    },
                    "shapedefaults": {
                      "line": {
                        "color": "#2a3f5f"
                      }
                    },
                    "ternary": {
                      "aaxis": {
                        "gridcolor": "white",
                        "linecolor": "white",
                        "ticks": ""
                      },
                      "baxis": {
                        "gridcolor": "white",
                        "linecolor": "white",
                        "ticks": ""
                      },
                      "bgcolor": "#E5ECF6",
                      "caxis": {
                        "gridcolor": "white",
                        "linecolor": "white",
                        "ticks": ""
                      }
                    },
                    "title": {
                      "x": 0.05
                    },
                    "xaxis": {
                      "automargin": true,
                      "gridcolor": "white",
                      "linecolor": "white",
                      "ticks": "",
                      "title": {
                        "standoff": 15
                      },
                      "zerolinecolor": "white",
                      "zerolinewidth": 2
                    },
                    "yaxis": {
                      "automargin": true,
                      "gridcolor": "white",
                      "linecolor": "white",
                      "ticks": "",
                      "title": {
                        "standoff": 15
                      },
                      "zerolinecolor": "white",
                      "zerolinewidth": 2
                    }
                  }
                },
                "title": {
                  "text": "Hyperparameter Importances"
                },
                "xaxis": {
                  "title": {
                    "text": "Importance for duration"
                  }
                },
                "yaxis": {
                  "title": {
                    "text": "Hyperparameter"
                  }
                }
              }
            }
          },
          "metadata": {},
          "output_type": "display_data"
        }
      ],
      "source": [
        "optuna.visualization.plot_param_importances(\n",
        "    study, target=lambda t: t.duration.total_seconds(), target_name=\"duration\"\n",
        ")"
      ]
    },
    {
      "cell_type": "markdown",
      "metadata": {},
      "source": [
        "Visualize empirical distribution function. See :func:`~optuna.visualization.plot_edf` for the details.\n",
        "\n"
      ]
    },
    {
      "cell_type": "code",
      "execution_count": 15,
      "metadata": {
        "collapsed": false
      },
      "outputs": [
        {
          "data": {
            "application/vnd.plotly.v1+json": {
              "config": {
                "plotlyServerURL": "https://plot.ly"
              },
              "data": [
                {
                  "mode": "lines",
                  "name": "no-name-e7493cd4-6d2c-4cb1-ae00-26f99cb767b4",
                  "type": "scatter",
                  "x": [
                    0.958041958041958,
                    0.9584657766475948,
                    0.9588895952532316,
                    0.9593134138588684,
                    0.9597372324645052,
                    0.9601610510701419,
                    0.9605848696757787,
                    0.9610086882814155,
                    0.9614325068870523,
                    0.9618563254926891,
                    0.9622801440983259,
                    0.9627039627039626,
                    0.9631277813095994,
                    0.9635515999152363,
                    0.9639754185208731,
                    0.9643992371265099,
                    0.9648230557321467,
                    0.9652468743377834,
                    0.9656706929434202,
                    0.966094511549057,
                    0.9665183301546938,
                    0.9669421487603306,
                    0.9673659673659674,
                    0.9677897859716041,
                    0.9682136045772409,
                    0.9686374231828777,
                    0.9690612417885145,
                    0.9694850603941513,
                    0.9699088789997881,
                    0.9703326976054248,
                    0.9707565162110616,
                    0.9711803348166984,
                    0.9716041534223352,
                    0.972027972027972,
                    0.9724517906336088,
                    0.9728756092392455,
                    0.9732994278448823,
                    0.9737232464505192,
                    0.974147065056156,
                    0.9745708836617928,
                    0.9749947022674296,
                    0.9754185208730664,
                    0.9758423394787031,
                    0.9762661580843399,
                    0.9766899766899767,
                    0.9771137952956135,
                    0.9775376139012503,
                    0.977961432506887,
                    0.9783852511125238,
                    0.9788090697181606,
                    0.9792328883237974,
                    0.9796567069294342,
                    0.980080525535071,
                    0.9805043441407078,
                    0.9809281627463445,
                    0.9813519813519813,
                    0.9817757999576181,
                    0.9821996185632549,
                    0.9826234371688917,
                    0.9830472557745285,
                    0.9834710743801652,
                    0.983894892985802,
                    0.9843187115914389,
                    0.9847425301970757,
                    0.9851663488027125,
                    0.9855901674083493,
                    0.986013986013986,
                    0.9864378046196228,
                    0.9868616232252596,
                    0.9872854418308964,
                    0.9877092604365332,
                    0.98813307904217,
                    0.9885568976478067,
                    0.9889807162534435,
                    0.9894045348590803,
                    0.9898283534647171,
                    0.9902521720703539,
                    0.9906759906759907,
                    0.9910998092816274,
                    0.9915236278872642,
                    0.991947446492901,
                    0.9923712650985378,
                    0.9927950837041746,
                    0.9932189023098114,
                    0.9936427209154481,
                    0.9940665395210849,
                    0.9944903581267217,
                    0.9949141767323586,
                    0.9953379953379954,
                    0.9957618139436322,
                    0.996185632549269,
                    0.9966094511549057,
                    0.9970332697605425,
                    0.9974570883661793,
                    0.9978809069718161,
                    0.9983047255774529,
                    0.9987285441830897,
                    0.9991523627887264,
                    0.9995761813943632,
                    1
                  ],
                  "y": [
                    0.14285714285714285,
                    0.14285714285714285,
                    0.14285714285714285,
                    0.14285714285714285,
                    0.14285714285714285,
                    0.14285714285714285,
                    0.14285714285714285,
                    0.14285714285714285,
                    0.14285714285714285,
                    0.14285714285714285,
                    0.14285714285714285,
                    0.14285714285714285,
                    0.14285714285714285,
                    0.14285714285714285,
                    0.14285714285714285,
                    0.14285714285714285,
                    0.14285714285714285,
                    0.14285714285714285,
                    0.14285714285714285,
                    0.14285714285714285,
                    0.14285714285714285,
                    0.14285714285714285,
                    0.14285714285714285,
                    0.14285714285714285,
                    0.14285714285714285,
                    0.14285714285714285,
                    0.14285714285714285,
                    0.14285714285714285,
                    0.14285714285714285,
                    0.14285714285714285,
                    0.14285714285714285,
                    0.14285714285714285,
                    0.14285714285714285,
                    0.35714285714285715,
                    0.35714285714285715,
                    0.35714285714285715,
                    0.35714285714285715,
                    0.35714285714285715,
                    0.35714285714285715,
                    0.35714285714285715,
                    0.35714285714285715,
                    0.35714285714285715,
                    0.35714285714285715,
                    0.35714285714285715,
                    0.35714285714285715,
                    0.35714285714285715,
                    0.35714285714285715,
                    0.35714285714285715,
                    0.35714285714285715,
                    0.35714285714285715,
                    0.5,
                    0.5,
                    0.5,
                    0.5,
                    0.5,
                    0.5,
                    0.5,
                    0.5,
                    0.5,
                    0.5,
                    0.5,
                    0.5,
                    0.5,
                    0.5,
                    0.5,
                    0.5,
                    0.7142857142857143,
                    0.7142857142857143,
                    0.7142857142857143,
                    0.7142857142857143,
                    0.7142857142857143,
                    0.7142857142857143,
                    0.7142857142857143,
                    0.7142857142857143,
                    0.7142857142857143,
                    0.7142857142857143,
                    0.7142857142857143,
                    0.7142857142857143,
                    0.7142857142857143,
                    0.7142857142857143,
                    0.7142857142857143,
                    0.7142857142857143,
                    0.7142857142857143,
                    0.9285714285714286,
                    0.9285714285714286,
                    0.9285714285714286,
                    0.9285714285714286,
                    0.9285714285714286,
                    0.9285714285714286,
                    0.9285714285714286,
                    0.9285714285714286,
                    0.9285714285714286,
                    0.9285714285714286,
                    0.9285714285714286,
                    0.9285714285714286,
                    0.9285714285714286,
                    0.9285714285714286,
                    0.9285714285714286,
                    0.9285714285714286,
                    1
                  ]
                }
              ],
              "layout": {
                "template": {
                  "data": {
                    "bar": [
                      {
                        "error_x": {
                          "color": "#2a3f5f"
                        },
                        "error_y": {
                          "color": "#2a3f5f"
                        },
                        "marker": {
                          "line": {
                            "color": "#E5ECF6",
                            "width": 0.5
                          },
                          "pattern": {
                            "fillmode": "overlay",
                            "size": 10,
                            "solidity": 0.2
                          }
                        },
                        "type": "bar"
                      }
                    ],
                    "barpolar": [
                      {
                        "marker": {
                          "line": {
                            "color": "#E5ECF6",
                            "width": 0.5
                          },
                          "pattern": {
                            "fillmode": "overlay",
                            "size": 10,
                            "solidity": 0.2
                          }
                        },
                        "type": "barpolar"
                      }
                    ],
                    "carpet": [
                      {
                        "aaxis": {
                          "endlinecolor": "#2a3f5f",
                          "gridcolor": "white",
                          "linecolor": "white",
                          "minorgridcolor": "white",
                          "startlinecolor": "#2a3f5f"
                        },
                        "baxis": {
                          "endlinecolor": "#2a3f5f",
                          "gridcolor": "white",
                          "linecolor": "white",
                          "minorgridcolor": "white",
                          "startlinecolor": "#2a3f5f"
                        },
                        "type": "carpet"
                      }
                    ],
                    "choropleth": [
                      {
                        "colorbar": {
                          "outlinewidth": 0,
                          "ticks": ""
                        },
                        "type": "choropleth"
                      }
                    ],
                    "contour": [
                      {
                        "colorbar": {
                          "outlinewidth": 0,
                          "ticks": ""
                        },
                        "colorscale": [
                          [
                            0,
                            "#0d0887"
                          ],
                          [
                            0.1111111111111111,
                            "#46039f"
                          ],
                          [
                            0.2222222222222222,
                            "#7201a8"
                          ],
                          [
                            0.3333333333333333,
                            "#9c179e"
                          ],
                          [
                            0.4444444444444444,
                            "#bd3786"
                          ],
                          [
                            0.5555555555555556,
                            "#d8576b"
                          ],
                          [
                            0.6666666666666666,
                            "#ed7953"
                          ],
                          [
                            0.7777777777777778,
                            "#fb9f3a"
                          ],
                          [
                            0.8888888888888888,
                            "#fdca26"
                          ],
                          [
                            1,
                            "#f0f921"
                          ]
                        ],
                        "type": "contour"
                      }
                    ],
                    "contourcarpet": [
                      {
                        "colorbar": {
                          "outlinewidth": 0,
                          "ticks": ""
                        },
                        "type": "contourcarpet"
                      }
                    ],
                    "heatmap": [
                      {
                        "colorbar": {
                          "outlinewidth": 0,
                          "ticks": ""
                        },
                        "colorscale": [
                          [
                            0,
                            "#0d0887"
                          ],
                          [
                            0.1111111111111111,
                            "#46039f"
                          ],
                          [
                            0.2222222222222222,
                            "#7201a8"
                          ],
                          [
                            0.3333333333333333,
                            "#9c179e"
                          ],
                          [
                            0.4444444444444444,
                            "#bd3786"
                          ],
                          [
                            0.5555555555555556,
                            "#d8576b"
                          ],
                          [
                            0.6666666666666666,
                            "#ed7953"
                          ],
                          [
                            0.7777777777777778,
                            "#fb9f3a"
                          ],
                          [
                            0.8888888888888888,
                            "#fdca26"
                          ],
                          [
                            1,
                            "#f0f921"
                          ]
                        ],
                        "type": "heatmap"
                      }
                    ],
                    "heatmapgl": [
                      {
                        "colorbar": {
                          "outlinewidth": 0,
                          "ticks": ""
                        },
                        "colorscale": [
                          [
                            0,
                            "#0d0887"
                          ],
                          [
                            0.1111111111111111,
                            "#46039f"
                          ],
                          [
                            0.2222222222222222,
                            "#7201a8"
                          ],
                          [
                            0.3333333333333333,
                            "#9c179e"
                          ],
                          [
                            0.4444444444444444,
                            "#bd3786"
                          ],
                          [
                            0.5555555555555556,
                            "#d8576b"
                          ],
                          [
                            0.6666666666666666,
                            "#ed7953"
                          ],
                          [
                            0.7777777777777778,
                            "#fb9f3a"
                          ],
                          [
                            0.8888888888888888,
                            "#fdca26"
                          ],
                          [
                            1,
                            "#f0f921"
                          ]
                        ],
                        "type": "heatmapgl"
                      }
                    ],
                    "histogram": [
                      {
                        "marker": {
                          "pattern": {
                            "fillmode": "overlay",
                            "size": 10,
                            "solidity": 0.2
                          }
                        },
                        "type": "histogram"
                      }
                    ],
                    "histogram2d": [
                      {
                        "colorbar": {
                          "outlinewidth": 0,
                          "ticks": ""
                        },
                        "colorscale": [
                          [
                            0,
                            "#0d0887"
                          ],
                          [
                            0.1111111111111111,
                            "#46039f"
                          ],
                          [
                            0.2222222222222222,
                            "#7201a8"
                          ],
                          [
                            0.3333333333333333,
                            "#9c179e"
                          ],
                          [
                            0.4444444444444444,
                            "#bd3786"
                          ],
                          [
                            0.5555555555555556,
                            "#d8576b"
                          ],
                          [
                            0.6666666666666666,
                            "#ed7953"
                          ],
                          [
                            0.7777777777777778,
                            "#fb9f3a"
                          ],
                          [
                            0.8888888888888888,
                            "#fdca26"
                          ],
                          [
                            1,
                            "#f0f921"
                          ]
                        ],
                        "type": "histogram2d"
                      }
                    ],
                    "histogram2dcontour": [
                      {
                        "colorbar": {
                          "outlinewidth": 0,
                          "ticks": ""
                        },
                        "colorscale": [
                          [
                            0,
                            "#0d0887"
                          ],
                          [
                            0.1111111111111111,
                            "#46039f"
                          ],
                          [
                            0.2222222222222222,
                            "#7201a8"
                          ],
                          [
                            0.3333333333333333,
                            "#9c179e"
                          ],
                          [
                            0.4444444444444444,
                            "#bd3786"
                          ],
                          [
                            0.5555555555555556,
                            "#d8576b"
                          ],
                          [
                            0.6666666666666666,
                            "#ed7953"
                          ],
                          [
                            0.7777777777777778,
                            "#fb9f3a"
                          ],
                          [
                            0.8888888888888888,
                            "#fdca26"
                          ],
                          [
                            1,
                            "#f0f921"
                          ]
                        ],
                        "type": "histogram2dcontour"
                      }
                    ],
                    "mesh3d": [
                      {
                        "colorbar": {
                          "outlinewidth": 0,
                          "ticks": ""
                        },
                        "type": "mesh3d"
                      }
                    ],
                    "parcoords": [
                      {
                        "line": {
                          "colorbar": {
                            "outlinewidth": 0,
                            "ticks": ""
                          }
                        },
                        "type": "parcoords"
                      }
                    ],
                    "pie": [
                      {
                        "automargin": true,
                        "type": "pie"
                      }
                    ],
                    "scatter": [
                      {
                        "fillpattern": {
                          "fillmode": "overlay",
                          "size": 10,
                          "solidity": 0.2
                        },
                        "type": "scatter"
                      }
                    ],
                    "scatter3d": [
                      {
                        "line": {
                          "colorbar": {
                            "outlinewidth": 0,
                            "ticks": ""
                          }
                        },
                        "marker": {
                          "colorbar": {
                            "outlinewidth": 0,
                            "ticks": ""
                          }
                        },
                        "type": "scatter3d"
                      }
                    ],
                    "scattercarpet": [
                      {
                        "marker": {
                          "colorbar": {
                            "outlinewidth": 0,
                            "ticks": ""
                          }
                        },
                        "type": "scattercarpet"
                      }
                    ],
                    "scattergeo": [
                      {
                        "marker": {
                          "colorbar": {
                            "outlinewidth": 0,
                            "ticks": ""
                          }
                        },
                        "type": "scattergeo"
                      }
                    ],
                    "scattergl": [
                      {
                        "marker": {
                          "colorbar": {
                            "outlinewidth": 0,
                            "ticks": ""
                          }
                        },
                        "type": "scattergl"
                      }
                    ],
                    "scattermapbox": [
                      {
                        "marker": {
                          "colorbar": {
                            "outlinewidth": 0,
                            "ticks": ""
                          }
                        },
                        "type": "scattermapbox"
                      }
                    ],
                    "scatterpolar": [
                      {
                        "marker": {
                          "colorbar": {
                            "outlinewidth": 0,
                            "ticks": ""
                          }
                        },
                        "type": "scatterpolar"
                      }
                    ],
                    "scatterpolargl": [
                      {
                        "marker": {
                          "colorbar": {
                            "outlinewidth": 0,
                            "ticks": ""
                          }
                        },
                        "type": "scatterpolargl"
                      }
                    ],
                    "scatterternary": [
                      {
                        "marker": {
                          "colorbar": {
                            "outlinewidth": 0,
                            "ticks": ""
                          }
                        },
                        "type": "scatterternary"
                      }
                    ],
                    "surface": [
                      {
                        "colorbar": {
                          "outlinewidth": 0,
                          "ticks": ""
                        },
                        "colorscale": [
                          [
                            0,
                            "#0d0887"
                          ],
                          [
                            0.1111111111111111,
                            "#46039f"
                          ],
                          [
                            0.2222222222222222,
                            "#7201a8"
                          ],
                          [
                            0.3333333333333333,
                            "#9c179e"
                          ],
                          [
                            0.4444444444444444,
                            "#bd3786"
                          ],
                          [
                            0.5555555555555556,
                            "#d8576b"
                          ],
                          [
                            0.6666666666666666,
                            "#ed7953"
                          ],
                          [
                            0.7777777777777778,
                            "#fb9f3a"
                          ],
                          [
                            0.8888888888888888,
                            "#fdca26"
                          ],
                          [
                            1,
                            "#f0f921"
                          ]
                        ],
                        "type": "surface"
                      }
                    ],
                    "table": [
                      {
                        "cells": {
                          "fill": {
                            "color": "#EBF0F8"
                          },
                          "line": {
                            "color": "white"
                          }
                        },
                        "header": {
                          "fill": {
                            "color": "#C8D4E3"
                          },
                          "line": {
                            "color": "white"
                          }
                        },
                        "type": "table"
                      }
                    ]
                  },
                  "layout": {
                    "annotationdefaults": {
                      "arrowcolor": "#2a3f5f",
                      "arrowhead": 0,
                      "arrowwidth": 1
                    },
                    "autotypenumbers": "strict",
                    "coloraxis": {
                      "colorbar": {
                        "outlinewidth": 0,
                        "ticks": ""
                      }
                    },
                    "colorscale": {
                      "diverging": [
                        [
                          0,
                          "#8e0152"
                        ],
                        [
                          0.1,
                          "#c51b7d"
                        ],
                        [
                          0.2,
                          "#de77ae"
                        ],
                        [
                          0.3,
                          "#f1b6da"
                        ],
                        [
                          0.4,
                          "#fde0ef"
                        ],
                        [
                          0.5,
                          "#f7f7f7"
                        ],
                        [
                          0.6,
                          "#e6f5d0"
                        ],
                        [
                          0.7,
                          "#b8e186"
                        ],
                        [
                          0.8,
                          "#7fbc41"
                        ],
                        [
                          0.9,
                          "#4d9221"
                        ],
                        [
                          1,
                          "#276419"
                        ]
                      ],
                      "sequential": [
                        [
                          0,
                          "#0d0887"
                        ],
                        [
                          0.1111111111111111,
                          "#46039f"
                        ],
                        [
                          0.2222222222222222,
                          "#7201a8"
                        ],
                        [
                          0.3333333333333333,
                          "#9c179e"
                        ],
                        [
                          0.4444444444444444,
                          "#bd3786"
                        ],
                        [
                          0.5555555555555556,
                          "#d8576b"
                        ],
                        [
                          0.6666666666666666,
                          "#ed7953"
                        ],
                        [
                          0.7777777777777778,
                          "#fb9f3a"
                        ],
                        [
                          0.8888888888888888,
                          "#fdca26"
                        ],
                        [
                          1,
                          "#f0f921"
                        ]
                      ],
                      "sequentialminus": [
                        [
                          0,
                          "#0d0887"
                        ],
                        [
                          0.1111111111111111,
                          "#46039f"
                        ],
                        [
                          0.2222222222222222,
                          "#7201a8"
                        ],
                        [
                          0.3333333333333333,
                          "#9c179e"
                        ],
                        [
                          0.4444444444444444,
                          "#bd3786"
                        ],
                        [
                          0.5555555555555556,
                          "#d8576b"
                        ],
                        [
                          0.6666666666666666,
                          "#ed7953"
                        ],
                        [
                          0.7777777777777778,
                          "#fb9f3a"
                        ],
                        [
                          0.8888888888888888,
                          "#fdca26"
                        ],
                        [
                          1,
                          "#f0f921"
                        ]
                      ]
                    },
                    "colorway": [
                      "#636efa",
                      "#EF553B",
                      "#00cc96",
                      "#ab63fa",
                      "#FFA15A",
                      "#19d3f3",
                      "#FF6692",
                      "#B6E880",
                      "#FF97FF",
                      "#FECB52"
                    ],
                    "font": {
                      "color": "#2a3f5f"
                    },
                    "geo": {
                      "bgcolor": "white",
                      "lakecolor": "white",
                      "landcolor": "#E5ECF6",
                      "showlakes": true,
                      "showland": true,
                      "subunitcolor": "white"
                    },
                    "hoverlabel": {
                      "align": "left"
                    },
                    "hovermode": "closest",
                    "mapbox": {
                      "style": "light"
                    },
                    "paper_bgcolor": "white",
                    "plot_bgcolor": "#E5ECF6",
                    "polar": {
                      "angularaxis": {
                        "gridcolor": "white",
                        "linecolor": "white",
                        "ticks": ""
                      },
                      "bgcolor": "#E5ECF6",
                      "radialaxis": {
                        "gridcolor": "white",
                        "linecolor": "white",
                        "ticks": ""
                      }
                    },
                    "scene": {
                      "xaxis": {
                        "backgroundcolor": "#E5ECF6",
                        "gridcolor": "white",
                        "gridwidth": 2,
                        "linecolor": "white",
                        "showbackground": true,
                        "ticks": "",
                        "zerolinecolor": "white"
                      },
                      "yaxis": {
                        "backgroundcolor": "#E5ECF6",
                        "gridcolor": "white",
                        "gridwidth": 2,
                        "linecolor": "white",
                        "showbackground": true,
                        "ticks": "",
                        "zerolinecolor": "white"
                      },
                      "zaxis": {
                        "backgroundcolor": "#E5ECF6",
                        "gridcolor": "white",
                        "gridwidth": 2,
                        "linecolor": "white",
                        "showbackground": true,
                        "ticks": "",
                        "zerolinecolor": "white"
                      }
                    },
                    "shapedefaults": {
                      "line": {
                        "color": "#2a3f5f"
                      }
                    },
                    "ternary": {
                      "aaxis": {
                        "gridcolor": "white",
                        "linecolor": "white",
                        "ticks": ""
                      },
                      "baxis": {
                        "gridcolor": "white",
                        "linecolor": "white",
                        "ticks": ""
                      },
                      "bgcolor": "#E5ECF6",
                      "caxis": {
                        "gridcolor": "white",
                        "linecolor": "white",
                        "ticks": ""
                      }
                    },
                    "title": {
                      "x": 0.05
                    },
                    "xaxis": {
                      "automargin": true,
                      "gridcolor": "white",
                      "linecolor": "white",
                      "ticks": "",
                      "title": {
                        "standoff": 15
                      },
                      "zerolinecolor": "white",
                      "zerolinewidth": 2
                    },
                    "yaxis": {
                      "automargin": true,
                      "gridcolor": "white",
                      "linecolor": "white",
                      "ticks": "",
                      "title": {
                        "standoff": 15
                      },
                      "zerolinecolor": "white",
                      "zerolinewidth": 2
                    }
                  }
                },
                "title": {
                  "text": "Empirical Distribution Function Plot"
                },
                "xaxis": {
                  "title": {
                    "text": "Objective Value"
                  }
                },
                "yaxis": {
                  "range": [
                    0,
                    1
                  ],
                  "title": {
                    "text": "Cumulative Probability"
                  }
                }
              }
            }
          },
          "metadata": {},
          "output_type": "display_data"
        }
      ],
      "source": [
        "plot_edf(study)"
      ]
    }
  ],
  "metadata": {
    "kernelspec": {
      "display_name": "Python 3.9.13 ('base')",
      "language": "python",
      "name": "python3"
    },
    "language_info": {
      "codemirror_mode": {
        "name": "ipython",
        "version": 3
      },
      "file_extension": ".py",
      "mimetype": "text/x-python",
      "name": "python",
      "nbconvert_exporter": "python",
      "pygments_lexer": "ipython3",
      "version": "3.9.13"
    },
    "vscode": {
      "interpreter": {
        "hash": "34cd7c78411e28399e4de8eeefd5f70c22472795dece7d63a5362eac4c8c7767"
      }
    }
  },
  "nbformat": 4,
  "nbformat_minor": 0
}
